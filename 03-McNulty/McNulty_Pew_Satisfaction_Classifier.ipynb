{
 "cells": [
  {
   "cell_type": "code",
   "execution_count": 1,
   "metadata": {
    "collapsed": true
   },
   "outputs": [],
   "source": [
    "import pandas as pd\n",
    "import numpy as np\n",
    "import zipfile\n",
    "import requests\n",
    "import re\n",
    "from copy import deepcopy\n",
    "from collections import defaultdict\n",
    "from savReaderWriter import SavReader\n",
    "from savReaderWriter import SavHeaderReader"
   ]
  },
  {
   "cell_type": "code",
   "execution_count": 2,
   "metadata": {
    "collapsed": true
   },
   "outputs": [],
   "source": [
    "import matplotlib.pyplot as plt\n",
    "import plotly.plotly as py\n",
    "import plotly.figure_factory as ff\n",
    "from plotly.graph_objs import *\n",
    "import time\n",
    "%matplotlib inline"
   ]
  },
  {
   "cell_type": "code",
   "execution_count": 3,
   "metadata": {
    "collapsed": true
   },
   "outputs": [],
   "source": [
    "from sklearn.tree import export_graphviz"
   ]
  },
  {
   "cell_type": "code",
   "execution_count": 4,
   "metadata": {
    "collapsed": true
   },
   "outputs": [],
   "source": [
    "from sklearn.model_selection import KFold,cross_val_score,cross_val_predict,GridSearchCV"
   ]
  },
  {
   "cell_type": "code",
   "execution_count": 213,
   "metadata": {
    "collapsed": true
   },
   "outputs": [],
   "source": [
    "from sklearn.metrics import confusion_matrix,roc_curve"
   ]
  },
  {
   "cell_type": "code",
   "execution_count": 6,
   "metadata": {
    "collapsed": true
   },
   "outputs": [],
   "source": [
    "from sklearn.neighbors import KNeighborsClassifier\n",
    "from sklearn.tree import DecisionTreeClassifier\n",
    "from sklearn.svm import LinearSVC\n",
    "from sklearn.svm import SVC\n",
    "from sklearn.ensemble import RandomForestClassifier\n",
    "from sklearn.linear_model import LogisticRegression\n",
    "\n",
    "from sklearn.dummy import DummyClassifier"
   ]
  },
  {
   "cell_type": "code",
   "execution_count": 7,
   "metadata": {
    "collapsed": true
   },
   "outputs": [],
   "source": [
    "# Initializing a list of colors for plotting later on\n",
    "colors_for_plots = ['firebrick','darkgreen','blue','mediumvioletred','darkorchid','black','orangered','dodgerblue','darkolivegreen','magenta']\n",
    "colors_for_plots_2 = ['indianred','mediumseagreen','royalblue','violet','plum','dimgray','darkorange','lightskyblue','olivedrab','hotpink']"
   ]
  },
  {
   "cell_type": "markdown",
   "metadata": {},
   "source": [
    "The raw data can be found on the [PEW Website](http://www.pewglobal.org/2014/06/05/spring-2014-survey-data/)"
   ]
  },
  {
   "cell_type": "code",
   "execution_count": 8,
   "metadata": {
    "collapsed": true
   },
   "outputs": [],
   "source": [
    "#extractin the zip file and convertin the .sav file into a pandas dataframe\n",
    "pew_zip_path = '/home/farhaan/Downloads/pew-global-14-questions.zip'\n",
    "zf = zipfile.ZipFile(pew_zip_path)\n",
    "zf.extract('Pew Research Global Attitudes Spring 2014 Dataset for web.sav',path='/home/farhaan/ds/metis/metisgh/Test_box/03_Rough_folder/')\n",
    "\n",
    "df_raw= pd.DataFrame(list(SavReader('/home/farhaan/ds/metis/metisgh/Test_box/03_Rough_folder/Pew Research Global Attitudes Spring 2014 Dataset for web.sav')))"
   ]
  },
  {
   "cell_type": "code",
   "execution_count": 9,
   "metadata": {
    "collapsed": true
   },
   "outputs": [],
   "source": [
    "#pickling file for future use\n",
    "#df_raw.to_pickle('/home/farhaan/ds/metis/metisgh/Test_box/03_Rough_folder/raw_data_df.p')"
   ]
  },
  {
   "cell_type": "code",
   "execution_count": 10,
   "metadata": {
    "scrolled": true
   },
   "outputs": [
    {
     "name": "stdout",
     "output_type": "stream",
     "text": [
      "<class 'pandas.core.frame.DataFrame'>\n",
      "RangeIndex: 48643 entries, 0 to 48642\n",
      "Columns: 1150 entries, 0 to 1149\n",
      "dtypes: float64(1087), object(63)\n",
      "memory usage: 426.8+ MB\n"
     ]
    }
   ],
   "source": [
    "#Have a HUGE dataset with 1150 columns and 48643 original entries\n",
    "df_raw.info()"
   ]
  },
  {
   "cell_type": "code",
   "execution_count": 11,
   "metadata": {},
   "outputs": [
    {
     "data": {
      "text/html": [
       "<div>\n",
       "<style>\n",
       "    .dataframe thead tr:only-child th {\n",
       "        text-align: right;\n",
       "    }\n",
       "\n",
       "    .dataframe thead th {\n",
       "        text-align: left;\n",
       "    }\n",
       "\n",
       "    .dataframe tbody tr th {\n",
       "        vertical-align: top;\n",
       "    }\n",
       "</style>\n",
       "<table border=\"1\" class=\"dataframe\">\n",
       "  <thead>\n",
       "    <tr style=\"text-align: right;\">\n",
       "      <th></th>\n",
       "      <th>0</th>\n",
       "      <th>1</th>\n",
       "      <th>2</th>\n",
       "      <th>3</th>\n",
       "      <th>4</th>\n",
       "      <th>5</th>\n",
       "      <th>6</th>\n",
       "      <th>7</th>\n",
       "      <th>8</th>\n",
       "      <th>9</th>\n",
       "      <th>...</th>\n",
       "      <th>1140</th>\n",
       "      <th>1141</th>\n",
       "      <th>1142</th>\n",
       "      <th>1143</th>\n",
       "      <th>1144</th>\n",
       "      <th>1145</th>\n",
       "      <th>1146</th>\n",
       "      <th>1147</th>\n",
       "      <th>1148</th>\n",
       "      <th>1149</th>\n",
       "    </tr>\n",
       "  </thead>\n",
       "  <tbody>\n",
       "    <tr>\n",
       "      <th>8645</th>\n",
       "      <td>108702.0</td>\n",
       "      <td>41.0</td>\n",
       "      <td>1.0</td>\n",
       "      <td>6.0</td>\n",
       "      <td>NaN</td>\n",
       "      <td>6.0</td>\n",
       "      <td>6.0</td>\n",
       "      <td>6.0</td>\n",
       "      <td>6.0</td>\n",
       "      <td>5.0</td>\n",
       "      <td>...</td>\n",
       "      <td>NaN</td>\n",
       "      <td>NaN</td>\n",
       "      <td>b''</td>\n",
       "      <td>NaN</td>\n",
       "      <td>NaN</td>\n",
       "      <td>NaN</td>\n",
       "      <td>NaN</td>\n",
       "      <td>0.789568</td>\n",
       "      <td>43010.0</td>\n",
       "      <td>41003.0</td>\n",
       "    </tr>\n",
       "    <tr>\n",
       "      <th>34311</th>\n",
       "      <td>134401.0</td>\n",
       "      <td>38.0</td>\n",
       "      <td>1.0</td>\n",
       "      <td>6.0</td>\n",
       "      <td>NaN</td>\n",
       "      <td>7.0</td>\n",
       "      <td>9.0</td>\n",
       "      <td>6.0</td>\n",
       "      <td>8.0</td>\n",
       "      <td>9.0</td>\n",
       "      <td>...</td>\n",
       "      <td>NaN</td>\n",
       "      <td>NaN</td>\n",
       "      <td>b''</td>\n",
       "      <td>NaN</td>\n",
       "      <td>NaN</td>\n",
       "      <td>NaN</td>\n",
       "      <td>NaN</td>\n",
       "      <td>0.926104</td>\n",
       "      <td>38092.0</td>\n",
       "      <td>38027.0</td>\n",
       "    </tr>\n",
       "    <tr>\n",
       "      <th>45487</th>\n",
       "      <td>145577.0</td>\n",
       "      <td>44.0</td>\n",
       "      <td>2.0</td>\n",
       "      <td>6.0</td>\n",
       "      <td>NaN</td>\n",
       "      <td>9.0</td>\n",
       "      <td>6.0</td>\n",
       "      <td>7.0</td>\n",
       "      <td>9.0</td>\n",
       "      <td>7.0</td>\n",
       "      <td>...</td>\n",
       "      <td>NaN</td>\n",
       "      <td>NaN</td>\n",
       "      <td>b''</td>\n",
       "      <td>NaN</td>\n",
       "      <td>NaN</td>\n",
       "      <td>NaN</td>\n",
       "      <td>NaN</td>\n",
       "      <td>1.000000</td>\n",
       "      <td>44111.0</td>\n",
       "      <td>44016.0</td>\n",
       "    </tr>\n",
       "    <tr>\n",
       "      <th>36111</th>\n",
       "      <td>136201.0</td>\n",
       "      <td>39.0</td>\n",
       "      <td>1.0</td>\n",
       "      <td>5.0</td>\n",
       "      <td>NaN</td>\n",
       "      <td>3.0</td>\n",
       "      <td>6.0</td>\n",
       "      <td>3.0</td>\n",
       "      <td>6.0</td>\n",
       "      <td>8.0</td>\n",
       "      <td>...</td>\n",
       "      <td>NaN</td>\n",
       "      <td>NaN</td>\n",
       "      <td>b''</td>\n",
       "      <td>NaN</td>\n",
       "      <td>NaN</td>\n",
       "      <td>NaN</td>\n",
       "      <td>NaN</td>\n",
       "      <td>1.313379</td>\n",
       "      <td>39045.0</td>\n",
       "      <td>39031.0</td>\n",
       "    </tr>\n",
       "    <tr>\n",
       "      <th>24243</th>\n",
       "      <td>124333.0</td>\n",
       "      <td>20.0</td>\n",
       "      <td>1.0</td>\n",
       "      <td>NaN</td>\n",
       "      <td>NaN</td>\n",
       "      <td>9.0</td>\n",
       "      <td>1.0</td>\n",
       "      <td>NaN</td>\n",
       "      <td>10.0</td>\n",
       "      <td>8.0</td>\n",
       "      <td>...</td>\n",
       "      <td>NaN</td>\n",
       "      <td>NaN</td>\n",
       "      <td>b''</td>\n",
       "      <td>NaN</td>\n",
       "      <td>NaN</td>\n",
       "      <td>NaN</td>\n",
       "      <td>NaN</td>\n",
       "      <td>0.884615</td>\n",
       "      <td>20011.0</td>\n",
       "      <td>20001.0</td>\n",
       "    </tr>\n",
       "  </tbody>\n",
       "</table>\n",
       "<p>5 rows × 1150 columns</p>\n",
       "</div>"
      ],
      "text/plain": [
       "           0     1     2     3     4     5     6     7     8     9     \\\n",
       "8645   108702.0  41.0   1.0   6.0   NaN   6.0   6.0   6.0   6.0   5.0   \n",
       "34311  134401.0  38.0   1.0   6.0   NaN   7.0   9.0   6.0   8.0   9.0   \n",
       "45487  145577.0  44.0   2.0   6.0   NaN   9.0   6.0   7.0   9.0   7.0   \n",
       "36111  136201.0  39.0   1.0   5.0   NaN   3.0   6.0   3.0   6.0   8.0   \n",
       "24243  124333.0  20.0   1.0   NaN   NaN   9.0   1.0   NaN  10.0   8.0   \n",
       "\n",
       "        ...     1140  1141  1142  1143  1144  1145  1146      1147     1148  \\\n",
       "8645    ...      NaN   NaN   b''   NaN   NaN   NaN   NaN  0.789568  43010.0   \n",
       "34311   ...      NaN   NaN   b''   NaN   NaN   NaN   NaN  0.926104  38092.0   \n",
       "45487   ...      NaN   NaN   b''   NaN   NaN   NaN   NaN  1.000000  44111.0   \n",
       "36111   ...      NaN   NaN   b''   NaN   NaN   NaN   NaN  1.313379  39045.0   \n",
       "24243   ...      NaN   NaN   b''   NaN   NaN   NaN   NaN  0.884615  20011.0   \n",
       "\n",
       "          1149  \n",
       "8645   41003.0  \n",
       "34311  38027.0  \n",
       "45487  44016.0  \n",
       "36111  39031.0  \n",
       "24243  20001.0  \n",
       "\n",
       "[5 rows x 1150 columns]"
      ]
     },
     "execution_count": 11,
     "metadata": {},
     "output_type": "execute_result"
    }
   ],
   "source": [
    "# The original column names are of no use to us since we have no idea\n",
    "# what it condains if it just have a column index value as the label\n",
    "df_raw.sample(5)"
   ]
  },
  {
   "cell_type": "code",
   "execution_count": 12,
   "metadata": {},
   "outputs": [
    {
     "name": "stdout",
     "output_type": "stream",
     "text": [
      "{b'PSRAID': b'PSRAI ID', b'COUNTRY': b'Country', b'Q1': b'Q1. To begin, how would you describe your day today\\xe2\\x80\\x94has it been a typical day, a particularly good day, or a particularly bad day? ', b'Q2A': b\"Q2A. Here is the 'ladder of life' The top of the ladder represents the best possible life for you; and the bottom, the worst possible life for you.  On which step of the ladder do you feel you personally stand at the present time?\", b'Q2B': b'Q2B. Imagine a ladder with steps numbered from 0 at the bottom to 10 at the top.  The top represents the best possible life for you; the bottom, the worst possible life.  On which step do you feel you personally stand at present time?', b'Q3A': b'Q3A. On which step would you say you stood five years ago?  ', b'Q3B': b'Q3B. Just your best guess, on which step do you think you will stand in the future, say five years from now?', b'Q4A': b'Q4A. On a scale of 0 to 10 how satisfied are you with each of the following items, where 0 means you are very dissatisfied and 10 means you are very satisfied-your present standard of living?', b'Q4B': b'Q4B. On a scale of 0 to 10 how satisfied are you with each of the following items, where 0 means you are very dissatisfied and 10 means you are very satisfied-your family life?', b'Q4C': b'Q4C. On a scale of 0 to 10 how satisfied are you with each of the following items, where 0 means you are very dissatisfied and 10 means you are very satisfied-your health?', b'Q4D': b'Q4D. On a scale of 0 to 10 how satisfied are you with each of the following items, where 0 means you are very dissatisfied and 10 means you are very satisfied-your social life?', b'Q4E': b'Q4E. On a scale of 0 to 10 how satisfied are you with each of the following items, where 0 means you are very dissatisfied and 10 means you are very satisfied-your present job?', b'Q4F': b'Q4F. On a scale of 0 to 10 how satisfied are you with each of the following items, where 0 means you are very dissatisfied and 10 means you are very satisfied-your religious life?', b'Q4G': b'Q4G. On a scale of 0 to 10 how satisfied are you with each of the following items, where 0 means you are very dissatisfied and 10 means you are very satisfied-the safety of your neighborhood?', b'Q4H': b'Q4H. On a scale of 0 to 10 how satisfied are you with each of the following items, where 0 means you are very dissatisfied and 10 means you are very satisfied-the quality of schools where you live?', b'Q5': b'Q5. Overall, are you satisfied or dissatisfied with the way things are going in our country today? ', b'UKR1': b'UKR1. In your opinion, was it a good thing or a bad thing that Victor Yanukovych was removed from office?', b'Q6': b'Q6. Now turning to the world situation, here is a list of five dangers in the world today.  In your opinion, which one of these poses the greatest threat to the world?', b'Q7': b'Q7. And which of these poses the second greatest threat to the world?  ', b'Q8': b'Q8. And now thinking about the future, overall, today are you optimistic or pessimistic about the future of the country?', b'Q9': b'Q9. Now thinking about our economic situation, how would you describe the current economic situation in (survey country) \\xe2\\x80\\x93 is it very good, somewhat good, somewhat bad or very bad?  ', b'Q10': b'Q10. And over the next 12 months do you expect the economic situation in our country to improve a lot, improve a little, remain the same, worsen a little or worsen a lot?', b'Q11': b'Q11. When children today in (survey country) grow up, do you think they will be better off or worse off financially than their parents? ', b'Q12': b'Q12. What would you recommend to a young person in our country today who wants a good life \\xe2\\x80\\x93 should they move to another country, or stay in (survey country)?', b'Q13A': b'Q13A. Please tell me whether you completely agree, mostly agree, mostly disagree or completely disagree with the following statements-Most people are better off in a free market economy, even though some people are rich and some are poor.', b'Q13B': b'Q13B. Please tell me whether you completely agree, mostly agree, mostly disagree or completely disagree with the following statements-Success in life is pretty much determined by forces outside our control.', b'Q14A': b'Q14A. Some people say the following things are important to them. On a scale of 0 to 10, how important is each thing to you personally, where 0 means not important at all and 10 means very important? To have a fulfilling job.', b'Q14B': b'Q14B. On a scale of 0 to 10, how important is each thing to you personally, where 0 means not important at all and 10 means very important? To be able to travel.', b'Q14C': b'Q14C. On a scale of 0 to 10, how important is each thing to you personally, where 0 means not important at all and 10 means very important? To have internet access.', b'Q14D': b'Q14D. On a scale of 0 to 10, how important is each thing to you personally, where 0 means not important at all and 10 means very important? To own a cell phone.', b'Q14E': b'Q14E. On a scale of 0 to 10, how important is each thing to you personally, where 0 means not important at all and 10 means very important? To have free time for yourself.', b'Q14F': b'Q14F. On a scale of 0 to 10, how important is each thing to you personally, where 0 means not important at all and 10 means very important? To help other people who are in need.', b'Q14G': b'Q14G. On a scale of 0 to 10, how important is each thing to you personally, where 0 means not important at all and 10 means very important? To own your own home.', b'Q14H': b'Q14H. On a scale of 0 to 10, how important is each thing to you personally, where 0 means not important at all and 10 means very important? To have a good education for your children.', b'Q14I': b'Q14I. On a scale of 0 to 10, how important is each thing to you personally, where 0 means not important at all and 10 means very important? To own your own car.', b'Q14J': b'Q14J. On a scale of 0 to 10, how important is each thing to you personally, where 0 means not important at all and 10 means very important? To have money for old age.', b'Q14K': b'Q14K. On a scale of 0 to 10, how important is each thing to you personally, where 0 means not important at all and 10 means very important? To have good health.', b'Q14L': b'Q14L. On a scale of 0 to 10, how important is each thing to you personally, where 0 means not important at all and 10 means very important? To be safe from crime.', b'Q15A': b'Q15A. Please tell me if you have a very favorable, somewhat favorable, somewhat unfavorable or very unfavorable opinion of the United States?', b'Q15B': b'Q15B. Please tell me if you have a very favorable, somewhat favorable, somewhat unfavorable or very unfavorable opinion of China?', b'Q15C': b'Q15C. Please tell me if you have a very favorable, somewhat favorable, somewhat unfavorable or very unfavorable opinion of Iran?', b'Q15D': b'Q15D. Please tell me if you have a very favorable, somewhat favorable, somewhat unfavorable or very unfavorable opinion of Brazil?', b'Q15E': b'Q15E. Please tell me if you have a very favorable, somewhat favorable, somewhat unfavorable or very unfavorable opinion of Russia?', b'Q15F': b'Q15F. Please tell me if you have a very favorable, somewhat favorable, somewhat unfavorable or very unfavorable opinion of the European Union?', b'Q15G': b'Q15G. Please tell me if you have a very favorable, somewhat favorable, somewhat unfavorable or very unfavorable opinion of NATO, that is, North Atlantic Treaty Organization?', b'Q15H': b'Q15H. Please tell me if you have a very favorable, somewhat favorable, somewhat unfavorable or very unfavorable opinion of India?', b'Q15I': b'Q15I. Please tell me if you have a very favorable, somewhat favorable, somewhat unfavorable or very unfavorable opinion of Pakistan?', b'Q15J': b'Q15J. Please tell me if you have a very favorable, somewhat favorable, somewhat unfavorable or very unfavorable opinion of Japan?', b'Q15K': b'Q15K. Please tell me if you have a very favorable, somewhat favorable, somewhat unfavorable or very unfavorable opinion of the European Central Bank?', b'Q15L': b'Q15L. Please tell me if you have a very favorable, somewhat favorable, somewhat unfavorable or very unfavorable opinion of the European Parliament?', b'Q15M': b'Q15M. Please tell me if you have a very favorable, somewhat favorable, somewhat unfavorable or very unfavorable opinion of the European Commission?', b'Q15N': b'Q15N. Please tell me if you have a very favorable, somewhat favorable, somewhat unfavorable or very unfavorable opinion of Hamas?', b'Q15O': b'Q15O. Please tell me if you have a very favorable, somewhat favorable, somewhat unfavorable or very unfavorable opinion of Hezbollah?', b'Q15P': b'Q15P. Please tell me if you have a very favorable, somewhat favorable, somewhat unfavorable or very unfavorable opinion of al Qaeda?', b'Q15Q': b'Q15Q. Please tell me if you have a very favorable, somewhat favorable, somewhat unfavorable or very unfavorable opinion of Boko Haram?', b'Q15R': b'Q15R. Please tell me if you have a very favorable, somewhat favorable, somewhat unfavorable or very unfavorable opinion of Germany?', b'Q15S': b'Q15S. Please tell me if you have a very favorable, somewhat favorable, somewhat unfavorable or very unfavorable opinion of Ukraine?', b'Q15T': b'Q15T. Please tell me if you have a very favorable, somewhat favorable, somewhat unfavorable or very unfavorable opinion of Cuba?', b'Q16': b'Q16. Which statement comes closer to your own views, even if neither is exactly right? (Survey country) is as respected around the world as it should be OR (survey country) should be more respected around the world than it is?', b'Q17': b'Q17. In your opinion, now that Zine el-Abidine Ben Ali is not in power, is Tunisia better off or worse off?', b'Q18': b'Q18. To deal with Europe\\xe2\\x80\\x99s economic problems, would you favor or oppose giving more decision-making power to the European Union?', b'Q19': b'Q19. And which of these three statements is closest to your own opinion\\xe2\\x80\\xa6?', b'Q20': b'Q20. How do you feel about our country becoming a member of the EU?  Do you strongly favor, favor, oppose or strongly oppose our country becoming a member of the EU?', b'UKR2': b'UKR2. Which statement comes closer to your view. Ukraine should accept econ. aid from Western nations, even if our govt must agree to reduce spending/social benefits OR Ukraine should reject aid that requires reduced spending/benefits.', b'RUS1A': b'RUS1A. Please tell me whether you completely agree, mostly agree, mostly disagree or completely disagree with the following statements. There are parts of neighboring countries that really belong to us.', b'RUS1B': b'RUS1B. Please tell me whether you completely agree, mostly agree, mostly disagree or completely disagree with the following statements. It is a great misfortune that the Soviet Union no longer exists.', b'Q21A': b'Q21A. Now I am going to read you a list of things that may be problems in our country. As I read each one, please tell me if you think it is a very big problem, a moderately big problem, a small problem or not a problem at all. Crime', b'Q21UKRA2': b'Q21UKRa2. As I read each one, please tell me if you think it is a very big problem, a moderately big problem, a small problem or not a problem at all. Conflict between different nationalities', b'Q21B': b'Q21B. As I read each one, please tell me if you think it is a very big problem, a moderately big problem, a small problem or not a problem at all. Corrupt political leaders', b'Q21BCHI': b'Q21BCHI. As I read each one, please tell me if you think it is a very big problem, a moderately big problem, a small problem or not a problem at all. Corrupt officials', b'Q21C': b'Q21C. As I read each one, please tell me if you think it is a very big problem, a moderately big problem, a small problem or not a problem at all. Poor quality schools', b'Q21D': b'Q21D. As I read each one, please tell me if you think it is a very big problem, a moderately big problem, a small problem or not a problem at all. People leaving our country for jobs in other countries', b'Q21E': b'Q21E. As I read each one, please tell me if you think it is a very big problem, a moderately big problem, a small problem or not a problem at all. Air pollution', b'Q21F': b'Q21F. As I read each one, please tell me if you think it is a very big problem, a moderately big problem, a small problem or not a problem at all. Water pollution', b'Q21G': b'Q21G. As I read each one, please tell me if you think it is a very big problem, a moderately big problem, a small problem or not a problem at all. Safety of food', b'Q21H': b'Q21H. As I read each one, please tell me if you think it is a very big problem, a moderately big problem, a small problem or not a problem at all. Health care', b'Q21I': b'Q21I. As I read each one, please tell me if you think it is a very big problem, a moderately big problem, a small problem or not a problem at all. Traffic', b'Q21J': b'Q21J. As I read each one, please tell me if you think it is a very big problem, a moderately big problem, a small problem or not a problem at all. Electricity shortages', b'Q21K': b'Q21K. As I read each one, please tell me if you think it is a very big problem, a moderately big problem, a small problem or not a problem at all. Public transportation', b'Q21L': b'Q21L. As I read each one, please tell me if you think it is a very big problem, a moderately big problem, a small problem or not a problem at all. The situation in Afghanistan', b'Q21M': b'Q21M. As I read each one, please tell me if you think it is a very big problem, a moderately big problem, a small problem or not a problem at all. Drug cartel-related violence', b'Q21N': b'Q21N. As I read each one, please tell me if you think it is a very big problem, a moderately big problem, a small problem or not a problem at all. Indian influence in Afghanistan', b'Q21O': b'Q21O. As I read each one, please tell me if you think it is a very big problem, a moderately big problem, a small problem or not a problem at all. Tensions between Sunnis and Shia', b'Q21P': b'Q21P. As I read each one, please tell me if you think it is a very big problem, a moderately big problem, a small problem or not a problem at all. Corrupt police officers', b'Q21Q': b'Q21Q. As I read each one, please tell me if you think it is a very big problem, a moderately big problem, a small problem or not a problem at all. Lack of political leadership', b'Q22A': b'Q22A. Now I\\xe2\\x80\\x99d like to ask you about some political parties. Please tell me if you have a very favorable, somewhat favorable, somewhat unfavorable, or very unfavorable opinion of the PRI?', b'Q22B': b'Q22B. Now I\\xe2\\x80\\x99d like to ask you about some political parties. Please tell me if you have a very favorable, somewhat favorable, somewhat unfavorable, or very unfavorable opinion of the PAN?', b'Q22C': b'Q22C. Now I\\xe2\\x80\\x99d like to ask you about some political parties. Please tell me if you have a very favorable, somewhat favorable, somewhat unfavorable, or very unfavorable opinion of the PRD?', b'Q23A': b'Q23A. Do you think rising prices is a very big problem, a moderately big problem, a small problem or not a problem at all in our country. ', b'Q23B': b'Q23B. Do you think a lack of employment opportunities is a very big problem, a moderately big problem, a small problem or not a problem at all in our country. ', b'Q23C': b'Q23C. Do you think the gap between the rich and the poor is a very big problem, a moderately big problem, a small problem or not a problem at all in our country. ', b'Q23D': b'Q23D. Do you think public debt is a very big problem, a moderately big problem, a small problem or not a problem at all in our country. ', b'Q24': b'Q24. Which one of these issues is the most important for the government to address first \\xe2\\x80\\x93 rising prices, a lack of employment opportunities, the gap between the rich and the poor or public debt?', b'Q25': b'Q25. Do you think the Bolsa Familia program has been a good thing or a bad thing for Brazil?', b'Q27': b'Q27. What do you think about the growing trade and business ties between (survey country) and other countries \\xe2\\x80\\x93 do you think it is a very good thing, somewhat good, somewhat bad or a very bad thing for our country?', b'Q28': b'Q28. Does trade with other countries lead to an increase in the wages of (survey nationality) workers, a decrease in wages, or does it not make a difference?', b'Q29': b'Q29. Does trade with other countries lead to job creation in (survey country), job losses, or does it not make a difference?', b'Q30': b'Q30. Does trade with other countries lead to an increase in the price of products sold in (survey country), a decrease in prices, or does it not make a difference?', b'Q31': b'Q31. In your opinion, when foreign companies buy (survey nationality) companies, does this have a very good, somewhat good, somewhat bad, or a very bad impact on our country?', b'Q32': b'Q32. In your opinion, when foreign companies build new factories in (survey country), does this have a very good, somewhat good, somewhat bad, or a very bad impact on our country?', b'Q33': b'Q33.  Today, which ONE of the following do you think is the world\\xe2\\x80\\x99s leading economic power?', b'Q34': b'Q34.  Which comes closest to your view \\xe2\\x80\\x93 China will eventually replace the U.S. as the world\\xe2\\x80\\x99s leading superpower; China has already replaced the U.S. as the world\\xe2\\x80\\x99s leading superpower; or China will never replace the U.S.?', b'Q35': b'Q35. Which of the following statements comes closest to your view\\xe2\\x80\\xa6 ', b'Q36': b'Q36. In the long run, do you think that (survey country\\xe2\\x80\\x99s) overall economy has been strengthened or weakened by the economic integration of Europe? ', b'Q37A': b\"Q37A. I'd like you to rate some different groups of people in (survey country) according to how you feel about them. Please tell me whether your opinion is very favorable, mostly favorable, mostly unfavorable or very unfavorable. Jews\", b'Q37B': b'Q37B. Please tell me whether your opinion is very favorable, mostly favorable, mostly unfavorable or very unfavorable. Roma [Gypsies or Roma in United Kingdom]', b'Q37C': b'Q37C. Please tell me whether your opinion is very favorable, mostly favorable, mostly unfavorable or very unfavorable. Muslims', b'Q37UKRA': b'Q37UKRa. For each group, please tell me whether your opinion is very favorable, mostly favorable, mostly unfavorable or very unfavorable? Russians.', b'Q37UKRB': b'Q37UKRb. For each group, please tell me whether your opinion is very favorable, mostly favorable, mostly unfavorable or very unfavorable? Jews.', b'Q37UKRC': b'Q37UKRc. For each group, please tell me whether your opinion is very favorable, mostly favorable, mostly unfavorable or very unfavorable? Ukrainians.', b'Q37UKRD': b'Q37UKRd. For each group, please tell me whether your opinion is very favorable, mostly favorable, mostly unfavorable or very unfavorable? Tatars.', b'Q38A': b'Q38A. Please tell me what kind of influence the group is having on the way things are going in (survey country). Is the influence of our national government very good, somewhat good, somewhat bad or very bad in (survey country)?', b'Q38AUKR': b'Q38AUKR. Please tell me what kind of influence the group is having on the way things are going in Ukraine. Is the influence of the current government in Kiev very good, somewhat good, somewhat bad or very bad in Ukraine?', b'Q38ACRI': b'Q38ACRI. Please tell me what kind of influence the group is having on the way things are going in Crimea. Is the influence of the current government in Simferopol very good, somewhat good, somewhat bad or very bad in Crimea?', b'Q38BUKR': b'Q38bUKR. Is the influence of Acting President Oleksandr Turchynov  very good, somewhat good, somewhat bad or very bad?', b'Q38BCRI': b'Q38bCRI. Is the influence of Prime Minister Sergiy Aksyonov very good, somewhat good, somewhat bad or very bad?', b'Q38B': b'Q38B. Is the influence of the Prime Minister/President very good, somewhat good, somewhat bad or very bad?', b'Q38BPAL': b'Q38BPAL. Is the influence of Ismael Hanaia very good, somewhat good, somewhat bad or very bad?', b'Q38BATUN': b'Q38BaTun. Is the influence of the Assembl\\xc3\\xa9e nationale constituante very good, somewhat good, somewhat bad or very bad?', b'Q38BBTUN': b'Q38BbTun. Is the influence of Prime Minister Mehdi Jomaa very good, somewhat good, somewhat bad or very bad?', b'Q38C': b'Q38C.Is the influence of the military very good, somewhat good, somewhat bad or very bad?', b'Q38D': b'Q38D. Is the influence of the media - such as television, radio, newspapers and magazines very good, somewhat good, somewhat bad or very bad?', b'Q38E': b'Q38E. Is the influence of religious leaders very good, somewhat good, somewhat bad or very bad?', b'Q38F': b'Q38F.  Is the influence of the court system very good, somewhat good, somewhat bad or very bad?', b'Q38G': b'Q38G. Is the influence of civil servants very good, somewhat good, somewhat bad or very bad?', b'Q38H': b'Q38H.  Is the influence of corporations very good, somewhat good, somewhat bad or very bad?', b'Q38I': b'Q38I. Is the influence of banks and other major financial institutions very good, somewhat good, somewhat bad or very bad?', b'Q38J': b'Q38J.  Is the influence of the police very good, somewhat good, somewhat bad or very bad?', b'Q38JUKR1': b'Q38jUKR1. Please tell me what kind of influence the group is having on the way things are going in Ukraine. Is the influence of the forces of right sector  very good, somewhat good, somewhat bad or very bad?', b'Q38JUKR2': b'Q38jUKR2. Please tell me what kind of influence the group is having on the way things are going in Ukraine. Is the influence of the self-defense forces very good, somewhat good, somewhat bad or very bad?', b'Q38K': b'Q38K.  Is the influence of the Central Security Forces very good, somewhat good, somewhat bad or very bad?', b'Q38L': b'Q38L.  Is the influence of the local police very good, somewhat good, somewhat bad or very bad?', b'Q38M': b'Q38M.  Is the influence of trade unions very good, somewhat good, somewhat bad or very bad?', b'Q38N': b'Q38N.  Is the influence of the Congress very good, somewhat good, somewhat bad or very bad?', b'Q38O': b'Q38O.  Is the influence of El pueblo very good, somewhat good, somewhat bad or very bad?', b'Q38P': b'Q38P. Is the influence of El Movimiento Estudiantil very good, somewhat good, somewhat bad or very bad?', b'Q38Q': b'Q38Q.  Is the influence of Colectivos very good, somewhat good, somewhat bad or very bad?', b'Q38R': b'Q38R.  Is the influence of La Opocision very good, somewhat good, somewhat bad or very bad?', b'Q38S': b'Q38S.  Is the influence of El PSUV very good, somewhat good, somewhat bad or very bad?', b'Q38T': b'Q38T.  Is the influence of El presidente de la Asamble Nacional Diosdado Cabello very good, somewhat good, somewhat bad or very bad?', b'Q39': b'Q39. How concerned, if at all, are you about Islamic extremism in our country these days? Are you very concerned, somewhat concerned, not too concerned or not at all concerned about Islamic extremism in our country these days?', b'Q40': b'Q40. Which comes closer to your view \\xe2\\x80\\x93 laws in our country should strictly follow teachings of the Quran, laws should follow the values/principles of Islam but not strictly follow the Quran OR laws should not be influenced by the Quran?', b'Q41A': b'Q41A. How much confidence you have in each leader to do the right thing regarding world affairs\\xe2\\x80\\x93a lot of confidence, some confidence, not too much confidence, or no confidence at all. U.S. President Barack Obama', b'Q41B': b'Q41B. How much confidence you have in each leader to do the right thing regarding world affairs\\xe2\\x80\\x93a lot of confidence, some confidence, not too much confidence, or no confidence at all. Russian President Vladimir Putin', b'Q41C': b'Q41C. How much confidence you have in each leader to do the right thing regarding world affairs\\xe2\\x80\\x93a lot of confidence, some confidence, not too much confidence, or no confidence at all. German Chancellor Angela Merkel', b'Q41D': b'Q41D. How much confidence you have in each leader to do the right thing regarding world affairs\\xe2\\x80\\x93a lot of confidence, some confidence, not too much confidence, or no confidence at all. Chinese President Xi Jinping', b'Q41E': b'Q41E. How much confidence you have in each leader to do the right thing regarding world affairs\\xe2\\x80\\x93a lot of confidence, some confidence, not too much confidence, or no confidence at all. Japanese Prime Minister Shinzo Abe', b'Q41F': b'Q41F. How much confidence you have in each leader to do the right thing regarding world affairs\\xe2\\x80\\x93a lot of confidence, some confidence, not too much confidence, or no confidence at all. Rahul Gandhi', b'Q41G': b'Q41G. How much confidence you have in each leader to do the right thing regarding world affairs\\xe2\\x80\\x93a lot of confidence, some confidence, not too much confidence, or no confidence at all. Narendra Modi', b'UKR4A': b'UKR4A. And what about the following countries or organizations, how would you rate the kind of influence they are having on the way things are going in [Ukraine/Crimea]? Russia.', b'UKR4B': b'UKR4B. And what about the following countries or organizations, how would you rate the kind of influence they are having on the way things are going in [Ukraine/Crimea]? The United States.', b'UKR4C': b'UKR4C. And what about the following countries or organizations, how would you rate the kind of influence they are having on the way things are going in [Ukraine/Crimea]? European Union.', b'UKR4D': b'UKR4D. And what about the following countries or organizations, how would you rate the kind of influence they are having on the way things are going in [Ukraine/Crimea]? The United Nations.', b'Q42A': b'Q42A. Now I\\xe2\\x80\\x99d like to ask your views about some additional political leaders. Please tell me if you have a very favorable, somewhat favorable, somewhat unfavorable, or very unfavorable opinion of Andr\\xc3\\xa9s Manuel L\\xc3\\xb3pez Obrador?', b'Q42B': b'Q42B. Now I\\xe2\\x80\\x99d like to ask your views about some additional political leaders. Please tell me if you have a very favorable, somewhat favorable, somewhat unfavorable, or very unfavorable opinion of Enrique Pe\\xc3\\xb1a Nieto?', b'Q42C': b'Q42C. Now I\\xe2\\x80\\x99d like to ask your views about some additional political leaders. Please tell me if you have a very favorable, somewhat favorable, somewhat unfavorable, or very unfavorable opinion of Josefina V\\xc3\\xa1zquez Mota?', b'Q42D': b'Q42D. Now I\\xe2\\x80\\x99d like to ask your views about some additional political leaders. Please tell me if you have a very favorable, somewhat favorable, somewhat unfavorable, or very unfavorable opinion of Marcelo Ebrard?', b'Q42E': b'Q42E. Now I\\xe2\\x80\\x99d like to ask your views about some additional political leaders. Please tell me if you have a very favorable, somewhat favorable, somewhat unfavorable, or very unfavorable opinion of Elba Esther Gordillo?', b'Q42F': b'Q42F. Now I\\xe2\\x80\\x99d like to ask your views about some additional political leaders. Please tell me if you have a very favorable, somewhat favorable, somewhat unfavorable, or very unfavorable opinion of Carlos Romero Deschamps?', b'Q43A': b'Q43A. Please tell me if you approve or disapprove of the way President Pe\\xc3\\xb1a Nieto is handling each of the following areas. The economy.', b'Q43B': b'Q43B. Please tell me if you approve or disapprove of the way President Pe\\xc3\\xb1a Nieto is handling each of the following areas. Fighting organized crime and drug traffickers.', b'Q43C': b'Q43C. Please tell me if you approve or disapprove of the way President Pe\\xc3\\xb1a Nieto is handling each of the following areas. Fighting corruption.', b'Q43D': b'Q43D. Please tell me if you approve or disapprove of the way President Pe\\xc3\\xb1a Nieto is handling each of the following areas. Education', b'Q44': b'Q44. Do you support or oppose allowing companies from other countries to invest in Pemex?   ', b'Q45A': b'Q45A. Now I\\xe2\\x80\\x99d like to ask your views about some additional political leaders. Please tell me if you have a very favorable, somewhat favorable, somewhat unfavorable, or very unfavorable opinion of Turkish Prime Minister Tayyip Erdogan?', b'Q45B': b'Q45B. Please tell me if you have a very favorable, somewhat favorable, somewhat unfavorable, or very unfavorable opinion of Syrian President Bashar al-Assad?', b'Q45C': b'Q45C. Please tell me if you have a very favorable, somewhat favorable, somewhat unfavorable, or very unfavorable opinion of Iranian President Hassan Rouhani?', b'Q46A': b'Q46A. And thinking about some political leaders and organizations in our country, please tell me if you have a very favorable, somewhat favorable, somewhat unfavorable, or very unfavorable opinion of Nawaz Sharif?', b'Q46B': b'Q46B. Please tell me if you have a very favorable, somewhat favorable, somewhat unfavorable, or very unfavorable opinion of al Qaeda?', b'Q46C': b'Q46C. Please tell me if you have a very favorable, somewhat favorable, somewhat unfavorable, or very unfavorable opinion of Asif Ali Zardari?', b'Q46D': b'Q46D. Please tell me if you have a very favorable, somewhat favorable, somewhat unfavorable, or very unfavorable opinion of the Taliban ?', b'Q46E': b'Q46E. Please tell me if you have a very favorable, somewhat favorable, somewhat unfavorable, or very unfavorable opinion of Iftikhar Muhammad Chaudhry?', b'Q46F': b'Q46F. Please tell me if you have a very favorable, somewhat favorable, somewhat unfavorable, or very unfavorable opinion of Imran Khan?', b'Q46G': b'Q46G. Please tell me if you have a very favorable, somewhat favorable, somewhat unfavorable, or very unfavorable opinion of Chief of Army Staff Gen. R. Sharif?', b'Q46H': b'Q46H. Please tell me if you have a very favorable, somewhat favorable, somewhat unfavorable, or very unfavorable opinion of Malala Yousafzai?', b'Q46I': b'Q46I. Please tell me if you have a very favorable, somewhat favorable, somewhat unfavorable, or very unfavorable opinion of Mamnoon Hussain?', b'Q47A': b'Q47A. And thinking about some political leaders and organizations in our country, please tell me if you have a very favorable, somewhat favorable, somewhat unfavorable, or very unfavorable opinion of Muhammad Morsi?', b'Q47B': b'Q47B. And thinking about some political leaders and organizations in our country, please tell me if you have a very favorable, somewhat favorable, somewhat unfavorable, or very unfavorable opinion of Mohamed ElBaradei?', b'Q47C': b'Q47C. And thinking about some political leaders and organizations in our country, please tell me if you have a very favorable, somewhat favorable, somewhat unfavorable, or very unfavorable opinion of Abdel Moneim Aboul Fotouh?', b'Q47D': b'Q47D. And thinking about some political leaders and organizations in our country, please tell me if you have a very favorable, somewhat favorable, somewhat unfavorable, or very unfavorable opinion of Hamdeen Sabahi?', b'Q47E': b'Q47E. And thinking about some political leaders and organizations in our country, please tell me if you have a very favorable, somewhat favorable, somewhat unfavorable, or very unfavorable opinion of The Muslim Brotherhood?', b'Q47F': b'Q47F. And thinking about some political leaders and organizations in our country, please tell me if you have a very favorable, somewhat favorable, somewhat unfavorable, or very unfavorable opinion of The al-Nour Party?', b'Q47G': b'Q47G. And thinking about some political leaders and organizations in our country, please tell me if you have a very favorable, somewhat favorable, somewhat unfavorable, or very unfavorable opinion of April 6th Movement?', b'Q47H': b'Q47H. And thinking about some political leaders and organizations in our country, please tell me if you have a very favorable, somewhat favorable, somewhat unfavorable, or very unfavorable opinion of Hosni Mubarak?', b'Q47I': b'Q47I. And thinking about some political leaders and organizations in our country, please tell me if you have a very favorable, somewhat favorable, somewhat unfavorable, or very unfavorable opinion of Abdel Fattah el-Sisi?', b'Q47J': b'Q47J. And thinking about some political leaders and organizations in our country, please tell me if you have a very favorable, somewhat favorable, somewhat unfavorable, or very unfavorable opinion of Tamarod Alliance?', b'Q48A': b'Q48A. And thinking about some political leaders and organizations in our country, please tell me if you have a very favorable, somewhat favorable, somewhat unfavorable, or very unfavorable opinion of Rached Ghannouchi?', b'Q48B': b'Q48B. Please tell me if you have a very favorable, somewhat favorable, somewhat unfavorable, or very unfavorable opinion of Mustapha Ben Jaafar?', b'Q48C': b'Q48C. Please tell me if you have a very favorable, somewhat favorable, somewhat unfavorable, or very unfavorable opinion of Moncef Marzouki?', b'Q48D': b'Q48D. Please tell me if you have a very favorable, somewhat favorable, somewhat unfavorable, or very unfavorable opinion of Maya Jribi?', b'Q48E': b'Q48E. Please tell me if you have a very favorable, somewhat favorable, somewhat unfavorable, or very unfavorable opinion of Hamadi Jebali?', b'Q48F': b'Q48F. Please tell me if you have a very favorable, somewhat favorable, somewhat unfavorable, or very unfavorable opinion of Hachmi Hamdi?', b'Q48G': b'Q48G. Please tell me if you have a very favorable, somewhat favorable, somewhat unfavorable, or very unfavorable opinion of Beji Caid Essebsi?', b'Q48H': b'Q48H. Please tell me if you have a very favorable, somewhat favorable, somewhat unfavorable, or very unfavorable opinion of Ennahdha Party?', b'Q48I': b'Q48I. Please tell me if you have a very favorable, somewhat favorable, somewhat unfavorable, or very unfavorable opinion of Republican Party?', b'Q48J': b'Q48J. Please tell me if you have a very favorable, somewhat favorable, somewhat unfavorable, or very unfavorable opinion of Ettakatol (FDTL)?', b'Q48K': b'Q48K. Please tell me if you have a very favorable, somewhat favorable, somewhat unfavorable, or very unfavorable opinion of Congress Party for the Republic (CPR)?', b'Q48L': b'Q48L. Please tell me if you have a very favorable, somewhat favorable, somewhat unfavorable, or very unfavorable opinion of Union G\\xc3\\xa9n\\xc3\\xa9rale Tunisienne du Travail (UGTT)?', b'Q48M': b'Q48M. And thinking about some political leaders and organizations in our country, please tell me if you have a very favorable, somewhat favorable, somewhat unfavorable, or very unfavorable opinion of Mahdi jomaa?', b'Q49A': b'Q49A. Now I\\xe2\\x80\\x99d like to ask your views about some additional political leaders in our country. Please tell me if you have a very favorable, somewhat favorable, somewhat unfavorable, or very unfavorable opinion of Dilma Rousseff?', b'Q49B': b'Q49B. Please tell me if you have a very favorable, somewhat favorable, somewhat unfavorable, or very unfavorable opinion of Eduardo Campos?', b'Q49C': b'Q49C. Please tell me if you have a very favorable, somewhat favorable, somewhat unfavorable, or very unfavorable opinion of A\\xc3\\xa9cio Neves?', b'Q49D': b'Q49D. Please tell me if you have a very favorable, somewhat favorable, somewhat unfavorable, or very unfavorable opinion of Marina Silva?', b'Q49E': b'Q49E. Please tell me if you have a very favorable, somewhat favorable, somewhat unfavorable, or very unfavorable opinion of Luiz In\\xc3\\xa1cio Lula da Silva?', b'Q49F': b'Q49F. Please tell me if you have a very favorable, somewhat favorable, somewhat unfavorable, or very unfavorable opinion of Fernando Henrique Cardoso?', b'Q49G': b'Q49G. Please tell me if you have a very favorable, somewhat favorable, somewhat unfavorable, or very unfavorable opinion of Joaquim Barbosa?', b'Q50A': b'Q50A. Do you approve or disapprove of the way President Dilma Rousseff is handling each of the following areas. The economy.', b'Q50B': b'Q50B. Do you approve or disapprove of the way President Dilma Rousseff is handling each of the following areas. Preparations for the World Cup.', b'Q50C': b'Q50C. Do you approve or disapprove of the way President Dilma Rousseff is handling each of the following areas. Crime.', b'Q50D': b'Q50D. Do you approve or disapprove of the way President Dilma Rousseff is handling each of the following areas. Corruption.', b'Q50E': b'Q50E. Do you approve or disapprove of the way President Dilma Rousseff is handling each of the following areas. Poverty.', b'Q50F': b'Q50F. Do you approve or disapprove of the way President Dilma Rousseff is handling each of the following areas. Education.', b'Q50G': b'Q50G. Do you approve or disapprove of the way President Dilma Rousseff is handling each of the following areas. Health care.', b'Q50H': b'Q50H. Do you approve or disapprove of the way President Dilma Rousseff is handling each of the following areas. Public transportation', b'Q50I': b'Q50I. Do you approve or disapprove of the way President Dilma Rousseff is handling each of the following areas. Foreign policy.', b'Q51A': b'Q51A. Now I\\xe2\\x80\\x99d like to ask your views about some leaders and organizations in our country. Please tell me if you have a very favorable, somewhat favorable, somewhat unfavorable, or very unfavorable opinion of Tayyip Erdogan?', b'Q51B': b'Q51B. Please tell me if you have a very favorable, somewhat favorable, somewhat unfavorable, or very unfavorable opinion of Abdullah G\\xc3\\xbcl?', b'Q51C': b'Q51C. Please tell me if you have a very favorable, somewhat favorable, somewhat unfavorable, or very unfavorable opinion of Ahmet Davutoglu?', b'Q51D': b'Q51D. Please tell me if you have a very favorable, somewhat favorable, somewhat unfavorable, or very unfavorable opinion of Kemal Kili\\xc3\\xa7daroglu?', b'Q51E': b'Q51E. Please tell me if you have a very favorable, somewhat favorable, somewhat unfavorable, or very unfavorable opinion of Devlet Bah\\xc3\\xa7eli?', b'Q51F': b'Q51F. Please tell me if you have a very favorable, somewhat favorable, somewhat unfavorable, or very unfavorable opinion of Selahattin Demirta??', b'Q51G': b'Q51G. Please tell me if you have a very favorable, somewhat favorable, somewhat unfavorable, or very unfavorable opinion of Fethullah G\\xc3\\xbclen?', b'Q51H': b'Q51H. Please tell me if you have a very favorable, somewhat favorable, somewhat unfavorable, or very unfavorable opinion of Adalet ve Kalkinma Partisi (AKP)?', b'Q51I': b'Q51I. Please tell me if you have a very favorable, somewhat favorable, somewhat unfavorable, or very unfavorable opinion of Cumhuriyet Halk Partisi (CHP)?', b'Q52A': b'Q52A. Do you approve or disapprove of the way Prime Minister Tayyip Erdogan is handling each of the following areas. The economy.', b'Q52B': b'Q52B. Do you approve or disapprove of the way Prime Minister Tayyip Erdogan is handling each of the following areas. Crime.', b'Q52C': b'Q52C. Do you approve or disapprove of the way Prime Minister Tayyip Erdogan is handling each of the following areas. Personal freedoms.', b'Q52D': b'Q52D. Do you approve or disapprove of the way Prime Minister Tayyip Erdogan is handling each of the following areas. Corruption.', b'Q52E': b'Q52E. Do you approve or disapprove of the way Prime Minister Tayyip Erdogan is handling each of the following areas. The situation in Syria.', b'Q53': b'Q53. Do you approve or disapprove of the way Prime Minister Tayyip Erdogan handled the anti-government protests, such as those in Gezi Park?', b'Q54A': b'Q54A. Now I\\xe2\\x80\\x99d like to ask your views about some leaders and organizations in our country. Please tell me if you have a very favorable, somewhat favorable, somewhat unfavorable, or very unfavorable opinion of Viktor Yanukovych?', b'Q54B': b'Q54B. Please tell me if you have a very favorable, somewhat favorable, somewhat unfavorable, or very unfavorable opinion of Yulia Tymoshenko?', b'Q54C': b'Q54C. Please tell me if you have a very favorable, somewhat favorable, somewhat unfavorable, or very unfavorable opinion of Sergei Aksyonov?', b'Q54D': b'Q54D. Please tell me if you have a very favorable, somewhat favorable, somewhat unfavorable, or very unfavorable opinion of Vitali Klitschko?', b'Q54E': b'Q54E. Please tell me if you have a very favorable, somewhat favorable, somewhat unfavorable, or very unfavorable opinion of Oleksandr Turchynov?', b'Q54F': b'Q54F. Please tell me if you have a very favorable, somewhat favorable, somewhat unfavorable, or very unfavorable opinion of Oleg Tyagnibok?', b'Q54G': b'Q54G. Please tell me if you have a very favorable, somewhat favorable, somewhat unfavorable, or very unfavorable opinion of Mykhaylo Dobkin?', b'Q54H': b'Q54H. Please tell me if you have a very favorable, somewhat favorable, somewhat unfavorable, or very unfavorable opinion of Aresniy Yatsenyuk?', b'Q54I': b'Q54I. Please tell me if you have a very favorable, somewhat favorable, somewhat unfavorable, or very unfavorable opinion of Petro Poroshenko?', b'Q54J': b'Q54J. Please tell me if you have a very favorable, somewhat favorable, somewhat unfavorable, or very unfavorable opinion of Party of Regions?', b'Q54K': b'Q54K. Please tell me if you have a very favorable, somewhat favorable, somewhat unfavorable, or very unfavorable opinion of Batkivshchyna?', b'Q54L': b'Q54L. Please tell me if you have a very favorable, somewhat favorable, somewhat unfavorable, or very unfavorable opinion of Ukrainian Democratic Alliance for Reform (UDAR)?', b'Q54M': b'Q54M. Please tell me if you have a very favorable, somewhat favorable, somewhat unfavorable, or very unfavorable opinion of Communist Party of Ukraine?', b'Q54N': b'Q54N. Please tell me if you have a very favorable, somewhat favorable, somewhat unfavorable, or very unfavorable opinion of Svoboda?', b'Q54O': b'Q54O. Please tell me if you have a very favorable, somewhat favorable, somewhat unfavorable, or very unfavorable opinion of Pravy Sektor?', b'UKR5': b'UKR5. In your opinion, how likely is it that the May 25th elections in Ukraine will be fair?', b'UKR6': b'UKR6. Which is more important for Ukraine \\xe2\\x80\\x93 to have strong ties with the European Union or to have strong ties with Russia?', b'Q57A': b'Q57A. Now I\\xe2\\x80\\x99d like to ask your views about some leaders and organizations in our country. Please tell me if you have a very favorable, somewhat favorable, somewhat unfavorable, or very unfavorable opinion of Susilo Bambang Yudhoyono?', b'Q57B': b'Q57B. Please tell me if you have a very favorable, somewhat favorable, somewhat unfavorable, or very unfavorable opinion of Joko \\xe2\\x80\\x9cJokowi\\xe2\\x80\\x9d Widodo?', b'Q57C': b'Q57C. Please tell me if you have a very favorable, somewhat favorable, somewhat unfavorable, or very unfavorable opinion of Prabowo Subianto?', b'Q57D': b'Q57D. Please tell me if you have a very favorable, somewhat favorable, somewhat unfavorable, or very unfavorable opinion of Aburizal Bakrie?', b'Q57E': b'Q57E. Please tell me if you have a very favorable, somewhat favorable, somewhat unfavorable, or very unfavorable opinion of Megawati Sukarnoputri?', b'Q57F': b'Q57F. Please tell me if you have a very favorable, somewhat favorable, somewhat unfavorable, or very unfavorable opinion of Indonesian Democratic Party-Struggle (PDI-P)?', b'Q57G': b'Q57G. Please tell me if you have a very favorable, somewhat favorable, somewhat unfavorable, or very unfavorable opinion of Party of the Functional Groups (Golkar)?', b'Q57H': b'Q57H. Please tell me if you have a very favorable, somewhat favorable, somewhat unfavorable, or very unfavorable opinion of Democratic Party (PD)?', b'Q57I': b'Q57I. Please tell me if you have a very favorable, somewhat favorable, somewhat unfavorable, or very unfavorable opinion of Great Indonesia Movement Party (Gerindra)?', b'Q57J': b'Q57J. Please tell me if you have a very favorable, somewhat favorable, somewhat unfavorable, or very unfavorable opinion of Dino Patti Djalal?', b'Q58A': b'Q58A. Do you approve or disapprove of the way President Susilo Bambang Yudhoyono is handling each of the following areas. The economy.', b'Q58B': b'Q58B. Do you approve or disapprove of the way President Susilo Bambang Yudhoyono is handling each of the following areas. Crime.', b'Q58C': b'Q58C. Do you approve or disapprove of the way President Susilo Bambang Yudhoyono is handling each of the following areas. Corruption.', b'Q58D': b'Q58D. Do you approve or disapprove of the way President Susilo Bambang Yudhoyono is handling each of the following areas. Terrorism.', b'Q58E': b'Q58E. Do you approve or disapprove of the way President Susilo Bambang Yudhoyono is handling each of the following areas. Foreign policy.', b'Q60': b'Q60. Do you approve or disapprove of the way Prime Minister Yingluck Shinawatra is handling the anti-government protests, such as those in Bangkok? ', b'Q61A': b'Q61A. Do you think the European Union is inefficient?', b'Q61B': b'Q61B. Do you think the European Union promotes peace?', b'Q61C': b'Q61C. Do you think the European Union understands the needs of (survey nationality) citizens?', b'Q61D': b'Q61D. Do you think the European Union promotes prosperity?', b'Q61E': b'Q61E. Do you think the European Union is intrusive?', b'Q61F': b'Q61F. Do you think the European Union is a world power?', b'Q62A': b'Q62A. Please tell me whether the FIRST statement or the SECOND statement comes closer to your own views \\xe2\\x80\\x94 even if neither is exactly right. My voice counts in the European Union [OR] My voice DOES NOT count in the European Union.', b'Q62B': b'Q62B. Please tell me whether the FIRST statement or the SECOND statement comes closer to your own views \\xe2\\x80\\x94 even if neither is exactly right. My voice counts in my country [OR] My voice DOES NOT count in my country.', b'Q63': b'Q63.  Do you approve or disapprove of the United States conducting missile strikes from pilotless aircraft called drones to target extremists in countries such as Pakistan, Yemen and Somalia?', b'Q65': b'Q65. From what you know, do people from our country who move to the U.S. have a better life there, a worse life there, or is life neither better nor worse there?', b'Q66A': b'Q66A. On a scale of 0 to 10, in your opinion, how important is it to have a good education to get ahead in life, where 0 means not important at all and 10 means very important?', b'Q66B': b'Q66B. On a scale of 0 to 10, in your opinion, how important is it to work hard to get ahead in life, where 0 means not important at all and 10 means very important?', b'Q66C': b'Q66C. On a scale of 0 to 10, in your opinion, how important is it to know the right people to get ahead in life, where 0 means not important at all and 10 means very important?', b'Q66D': b'Q66D. On a scale of 0 to 10, in your opinion, how important is it to give bribes to get ahead in life, where 0 means not important at all and 10 means very important?', b'Q66E': b'Q66E. On a scale of 0 to 10, in your opinion, how important is it to be a male to get ahead in life, where 0 means not important at all and 10 means very important?', b'Q66F': b'Q66F. On a scale of 0 to 10, in your opinion, how important is it to belong to a wealthy family to get ahead in life, where 0 means not important at all and 10 means very important?', b'Q66G': b'Q66G. On a scale of 0 to 10, in your opinion, how important is it to be lucky to get ahead in life, where 0 means not important at all and 10 means very important?', b'Q67': b'Q67. Do you use the internet, at least occasionally?', b'Q68': b'Q68. Do you own a cell phone?', b'Q69': b'Q69. Some cell phones are called \\xe2\\x80\\x9csmartphones\\xe2\\x80\\x9d because they can access the internet and apps. Is your cell phone a smartphone, such as an iPhone, a Blackberry (INSERT COUNTRY SPECIFIC EXAMPLES;)?', b'Q70': b'Q70. Overall, how often do you use the internet \\xe2\\x80\\x93 several times a day, once a day, at least once a week, or less often?', b'Q71A': b'Q71A. In the past 12 months, have you used the Internet to do any of the following things? Buy a product online.', b'Q71B': b'Q71B. In the past 12 months, have you used the Internet to do any of the following things? Get news and information about politics.', b'Q71C': b'Q71C. In the past 12 months, have you used the Internet to do any of the following things? Make or receive payments.', b'Q71D': b'Q71D. In the past 12 months, have you used the Internet to do any of the following things? Get information about health and medicine for you or your family.', b'Q71E': b'Q71E. In the past 12 months, have you used the Internet to do any of the following things? Look for or apply for a job.', b'Q71F': b'Q71F.In the past 12 months, have you used the Internet to do any of the following things? Stay in touch with family and friends.', b'Q71G': b'Q71G. In the past 12 months, have you used the Internet to do any of the following things? Get information about government or public services.', b'Q71H': b'Q71H. In the past 12 months, have you used the Internet to do any of the following things? Take an online class or take an online course that leads to a certificate.', b'Q72': b'Q72. Do you ever use online social networking sites like Facebook, Twitter (INSERT COUNTRY SPECIFIC EXAMPLES)?', b'Q72A': b'Q72A.  What is the main social media site you use?', b'Q73A': b'Q73A. And do you ever use social networking sites like Facebook, Twitter (INSERT COUNTRY SPECIFIC EXAMPLES) to share your views about religion or not?', b'Q73B': b'Q73B. And do you ever use social networking sites like Facebook, Twitter (INSERT COUNTRY SPECIFIC EXAMPLES) to share your views about politics or not?', b'Q73C': b'Q73C. And do you ever use social networking sites like Facebook, Twitter (INSERT COUNTRY SPECIFIC EXAMPLES) to share your views about music and movies or not?', b'Q73D': b'Q73D. And do you ever use social networking sites like Facebook, Twitter (INSERT COUNTRY SPECIFIC EXAMPLES) to share your views about sports or not?', b'Q73E': b'Q73E. And do you ever use social networking sites like Facebook, Twitter (INSERT COUNTRY SPECIFIC EXAMPLES) to share your views about products you use or not?', b'Q74A': b'Q74A. In the past 12 months, have you used your cell phone to do any of the following things? Send text messages.', b'Q74B': b'Q74B. In the past 12 months, have you used your cell phone to do any of the following things? Take pictures or video.', b'Q74C': b'Q74C. In the past 12 months, have you used your cell phone to do any of the following things? Get news and information about politics.', b'Q74D': b'Q74D. In the past 12 months, have you used your cell phone to do any of the following things? Access a social networking site.', b'Q74E': b'Q74E. In the past 12 months, have you used your cell phone to do any of the following things? Get consumer information such as prices or availability of products.', b'Q74F': b'Q74F. In the past 12 months, have you used your cell phone to do any of the following things? Get information about health and medicine for you or your family.', b'Q74G': b'Q74G. In the past 12 months, have you used your cell phone to do any of the following things? Make or receive payments.', b'Q74H': b'Q74H. In the past 12 months, have you used your cell phone to do any of the following things? Look for or apply for a job.', b'Q75A': b'Q75A. In general, what kind of influence has the increasing use of the Internet in our country had on each of the following. Has the increasing use of the Internet had a good influence, a bad influence, or no influence at all? Morality.', b'Q75B': b'Q75B. Has the increasing use of the Internet had a good influence, a bad influence, or no influence at all? Politics.', b'Q75C': b'Q75C. Has the increasing use of the Internet had a good influence, a bad influence, or no influence at all? The economy.', b'Q75D': b'Q75D. Has the increasing use of the Internet had a good influence, a bad influence, or no influence at all? Education.', b'Q75E': b'Q75E. Has the increasing use of the Internet had a good influence, a bad influence, or no influence at all? Personal relationships.', b'Q76A': b'Q76A. How important is it to you to live in a country where you can openly say what you think and can criticize the (state or government)?  Is it very important, somewhat important, not too important or not important at all?', b'Q76B': b'Q76B. How important is it to you to live in a country where honest elections are held regularly with a choice of at least two political parties?  Is it very important, somewhat important, not too important or not important at all?', b'Q76C': b'Q76C. How important is it to you to live in a country where there is a judicial system that treats everyone in the same way?  Is it very important, somewhat important, not too important or not important at all?', b'Q76D': b'Q76D. How important is it to you to live in a country where the military is under the control of civilian leaders?  Is it very important, somewhat important, not too important or not important at all?', b'Q76E': b'Q76E. How important is it to you to live in a country where the media can report the news without (state or government) censorship?  Is it very important, somewhat important, not too important or not important at all?', b'Q76F': b'Q76F. How important is it to you to live in a country where you can practice your religion freely?  Is it very important, somewhat important, not too important or not important at all?', b'Q76G': b'Q76G. How important is it to you to live in a country where there is economic prosperity?  Is it very important, somewhat important, not too important or not important at all?', b'Q76H': b'Q76H. How important is it to you to live in a country where you have access to the internet without (state or government) censorship or interference?  Is it very important, somewhat important, not too important or not important at all?', b'Q76I': b'Q76I. How important is it to you to live in a country where people can hold peaceful protests against the government?  Is it very important, somewhat important, not too important or not important at all?', b'QTUR1A': b'QTUR1A. I am going to read you the same list.  Does you can openly say what you think and can criticize the (state or government) describe our country very well, somewhat well, not too well or not well at all?', b'QTUR1B': b'QTUR1B. Does honest elections are held regularly with a choice of at least two political parties describe our country very well, somewhat well, not too well or not well at all?', b'QTUR1C': b'QTUR1C. Does there is a judicial system that treats everyone in the same way describe our country very well, somewhat well, not too well or not well at all?', b'QTUR1D': b'QTUR1D. Does the military is under the control of civilian leaders describe our country very well, somewhat well, not too well or not well at all?', b'QTUR1E': b'QTUR1E. Does the media can report the news without (state or government) censorship describe our country very well, somewhat well, not too well or not well at all?', b'QTUR1F': b'QTUR1F. Does you can practice your religion freely describe our country very well, somewhat well, not too well or not well at all?', b'QTUR1G': b'QTUR1G. Does there is economic prosperity describe our country very well, somewhat well, not too well or not well at all?', b'QTUR1H': b'QTUR1H. Does you have access to the internet without (state or government) censorship or interference describe our country very well, somewhat well, not too well or not well at all?', b'QTUR1I': b'QTUR1I. Does people can hold peaceful protests against the government describe our country very well, somewhat well, not too well or not well at all?', b'QET1': b\"QET1. Some feel that we should rely on a democratic form of government to solve our country's problems. Others feel that we should rely on a leader with a strong hand to solve our country's problems. Which comes closer to your opinion?\", b'QET2': b'QET2. If you had to choose between a good democracy or a strong economy, which would you say is more important?', b'Q77': b'Q77.  In your opinion, which one of the following is the most important reason for the gap between the rich and the poor in our country today?', b'Q77B': b'Q77B.   What would do more to reduce the gap between the rich and the poor? High taxes on the wealthy/corporations to fund programs that help the poor OR Low taxes on the wealthy/corporations to encourage investment and economic growth?', b'QRELARG': b'QRELARG. What is your current religion, if any?', b'QRELARGA': b'QRELARGa. (RECORD RESPONSE) ', b'QRELARGB': b'QRELARGb. Just so I understand correctly, would you describe yourself as a follower of the Christian faith, or not?', b'QRELBAN': b'QRELBAN. What is your current religion, if any?', b'QRELBANA': b'QRELBANa. RECORD RESPONSE', b'QRELBANB': b'QRELBANb. Just so I understand correctly, would you describe yourself as a Muslim or not?', b'QRELBRA': b'QRELBRA. What is your present religion, if any? Are you....', b'QRELBRAB': b'QRELBRAb. Just so I understand correctly, would you describe yourself as [READ LIST]?', b'QRELBRI': b'QRELBRI. What is your current religion, if any?', b'QRELBRIA': b'QRELBRIa.', b'QRELBRIB': b'QRELBRIb.  Just so I understand correctly, would you describe yourself as a Christian, or not?', b'QRELCHL': b'QRELCHL. What is your current religion, if any?', b'QRELCHLA': b'QRELCHLa. (RECORD RESPONSE) ', b'QRELCHLB': b'QRELCHLb. Just so I understand correctly, would you describe yourself as a follower of the Christian faith, or not? ', b'QRELCHI': b'QRELCHI.What is your current religion, if any? ', b'QRELCHIA': b'QRELCHIa. Other', b'QRELCOL': b'QRELCOL. What is your current religion, if any?', b'QRELCOLA': b'QRELCOLa. (RECORD RESPONSE) ', b'QRELCOLB': b'QRELCOLb. Just so I understand correctly, would you describe yourself as a follower of the Christian faith, or not? ', b'QRELEGY': b'QRELEGY. What is your current religion, if any?', b'QRELEGYA': b'QRELEGYa. (RECORD RESPONSE) ', b'QRELEGYB': b'QRELEGYB. Just so I understand correctly, would you describe yourself as a Muslim, a Christian, or as neither one?', b'QRELESA': b'QRELESA.  What is your current religion, if any?', b'QRELESAA': b'QRELESAa.', b'QRELESAB': b'QRELESAb.  Just so I understand correctly, would you describe yourself as a follower of the Christian faith, or not?', b'QRELFRA': b'QRELFRA.  What is your current religion, if any?', b'QRELFRAA': b'QRELFRAa Other Specify', b'QRELFRAB': b'QRELFRAb.  Just so I understand correctly, would you describe yourself as a Christian or not?', b'QRELGER': b'QRELGER.  What is your current religion, if any?', b'QRELGERA': b'QRELGERa', b'QRELGERB': b'QRELGERb.  Just so I understand correctly, would you describe yourself as a Christian or not?', b'QRELGHA': b'QRELGHA. What is your current religion, if any?', b'QRELGHAA': b'QRELGHAA. Other', b'QRELGHAB': b'QRELGHB. Just so I understand correctly, would you describe yourself as a Christian, a Muslim, or as neither one? ', b'QRELGRE': b'QRELGRE.  What is your current religion, if any?', b'QRELGREA': b'QRELGREa. (RECORD RESPONSE) ', b'QRELGREB': b'QRELGREb.  Just so I understand correctly, would you describe yourself as a Christian or not? ', b'QRELIND': b'QRELIND. What is your current religion, if any?', b'QRELINDB': b'QRELINDb. Just so I understand correctly, would you describe yourself as a Hindu, a Muslim, or as neither one?', b'QRELINDO': b'QRELINDO. What is your current religion?', b'QRELINDOB': b'QRELINDOb. And would you describe yourself as a muslim, a christian, or as neither one?', b'QRELISR': b'QRELISR. What is your current religion, if any?', b'QRELISRA': b'QRELISRa. RECORD RESPONSE', b'QRELISRB': b'QRELISRb. Just so I understand correctly, would you describe yourself as Jewish, Muslim, Christian, or as none of these?', b'QRELISRC': b'QRELISRc. How would you define yourself religiously?', b'QRELITA': b'QRELITA. What is your current religion, if any?', b'QRELIITAA': b'QRELITAa. Other Specify', b'QRELITAB': b'QRELITAb.  Just so I understand correctly, would you describe yourself as a Christian or not? ', b'QRELJPN': b'QRELJPN. What is your current religion, if any?', b'QRELJPNA': b'QRELJPNa. (RECORD RESPONSE) ', b'QRELJPNB': b'QRELJPNb. Just so I understand correctly, would you describe yourself as a Buddhist or not?', b'QRELJOR': b'QRELJOR. What is your current religion, if any?', b'QRELJORA': b'QRELJORA. RECORD RESPONSE IF RESPONDED \"SOMETHING ELSE\"', b'QRELJORB': b'QRELJORB. Just so I understand correctly, would you describe yourself as a Muslim or not?', b'QRELKEN': b'QRELKEN. What is your current religion, if any?', b'QRELKENA': b'QRELKENA. Other Specify', b'QRELKENB': b'QRELKENB. Just so I understand correctly, would you describe yourself as a Christian, a Muslim, or as neither one? ', b'QRELLEB': b'QRELEB. What is your present religion, if any? Are you', b'QRELLEBA': b'QRELLEBA. RECORD RESPONSE IF RESPONDED SOMETHING ELSE (QRELEGY = 7)', b'QRELLEBB': b'QRELLEBB. Just so I understand correctly, would you describe yourself as', b'QRELMAL': b'QRELMAL. Religion', b'QRELMALA': b'QRELMALa. Religion - something else', b'QRELMALB': b'QRELMALb. Would you describe yourself as a Muslim', b'QRELMEX': b'QRELMEX. What is your current religion, if any?', b'QRELMEXA': b'QRELMEXa. (RECORD RESPONSE) ', b'QRELMEXB': b'QRELMEXb.  Just so I understand correctly, would you describe yourself as a follower of the Christian faith, or not? ', b'QRELNIC': b'QRELNIC. What is your current religion, if any?', b'QRELNICA': b'QRELNICa. (RECORD RESPONSE)', b'QRELNICB': b'QRELNICb. Just so I understand correctly, would you describe yourself as a follower of the Christian faith, or not?', b'QRELNIG': b'QRELNIG: What is your current religion, if any?', b'QRELNIGA': b'QRELNIGa:Specify other Religion', b'QRELNIGB': b'QRELNIGb: Just so I understand correctly, would you describe yourself as a Christian, a Muslim, or as neither one? ', b'QRELPAK': b'QRELPAK. What is your current religion, if any?', b'QRELPAKA': b'QRELPAKA. What is your current religion, if any? Other', b'QRELPAKB': b'QRELPAKB. Just so I understand correctly, would you describe yourself as a Muslim or not?', b'QRELPAL': b'QRELPAL. What is your current religion, if any?', b'QRELPALA': b'QRELPALa. (RECORD RESPONSE) ', b'QRELPALB': b'QRELPALb. Just so I understand correctly, would you describe yourself as Muslim, Christian, Jewish, or as none of these?', b'QRELPER': b'QRELPER. What is your current religion, if any?', b'QRELPERA': b'QRELPERa. RECORD RESPONSE IF RESPONDED \\xe2\\x80\\x9cSOMETHING ELSE\\xe2\\x80\\x9d', b'QRELPERB': b'QRELPERb. Just so I understand correctly, would you describe yourself as a follower of the Christian faith, or not?', b'QRELPHI': b'QRELPHI. What is your current religion, if any? ', b'QRELPHIA': b'QRELPHIa. Record response', b'QRELPHIB': b'QRELPHIb. Just so I understand correctly, would you describe yourself as a Christian or not?', b'QRELPOL': b'QRELPOL. What is your current religion, if any? ', b'QRELPOLA': b'QRELPOLa. (RECORD RESPONSE) ', b'QRELPOLB': b'QRELPOLb.  Just so I understand correctly, would you describe yourself as a Christian or not? ', b'QRELRUS': b'QRELRUS What is your current religion, if any?  ', b'QRELRUSA': b'QRELRUSA Other Specify', b'QRELRUSB': b'QRELRUSB Just so I understand correctly, would you describe yourself as a Christian, a Muslim, or as neither one?  ', b'QRELSEN': b'QRELSEN What is your current religion ?', b'QRELSENA': b'QRELSENa Any other religious identities expressed by the respondent', b'QRELSENB': b'QRELSENb Just so I understand correctly, would you describe yourself as a Muslim, a Christian, or as neither one? ', b'QRELRSA': b'QRELRSA. What is your current religion, if any?', b'QRELRSAa': b'QRELRSAa. (RECORD RESPONSE) ', b'QRELRSAb': b'QRELRSAb. Just so I understand correctly, would you describe yourself as a Christian or not?', b'QRELSKOR': b'QRELSKOR. What is your current religion, if any?', b'QRELSKORA': b'QRELSKORa. Other religions', b'QRELSKORB': b'QRELSKORb. Just so I understand correctly, would you describe yourself as a Buddhist, a Christian, or as neither one?', b'QRELSPA': b'QRELSPA. What is your current religion, if any?', b'QRELSPAA': b'QRELSPAa. (RECORD RESPONSE) ', b'QRELSPAB': b'QRELSPAb.  Just so I understand correctly, would you describe yourself as a Christian or not? ', b'QRELTAN': b'QRELTAN. What is your current religion, if any? ', b'QRELTANA': b'QRELTAN. What is your current religion, if any?  [Other (specify)]', b'QRELTANB': b'QRELTANb. Just so I understand correctly, would you describe yourself as a Christian, a Muslim, or as neither one? ', b'QRELTHA': b'QRELTHA  What is your current religion, if any?', b'QRELTUN': b'QRELTUN. What is your current religion, if any?', b'QRELTUNB': b'QRELTUNb. Just so I understand correctly, would you describe yourself as a Muslim or not?', b'QRELTUR': b'QRELTUR. What is your present religion, if any?', b'QRELTURA': b'QRELTURa. RECORD RESPONSE', b'QRELTURB': b'QRELTURb. Just so I understand correctly, would you describe yourself as a Muslim or not?', b'QRELUGA': b'QRELUGA: What is your current religion, if any? ', b'QRELUGAA': b'QRELUGA: What is your current religion, if any?  [Other (specify)]', b'QRELUGAB': b'QRELUGAb.Just so I understand correctly, would you describe yourself as a Christian, a Muslim, or as neither one? ', b'RELIG': b'RELIG What is your present religion, if any? Are you Protestant, Roman Catholic, Mormon, Orthodox such as Greek or Russian Orthodox, Jewish, Muslim, Buddhist, Hindu, atheist, agnostic, something else, or nothing in particular?', b'QRELUSA': b'QRELUSa (RECORD RESPONSE) for SOMETHING ELSE', b'CHR': b'CHR  Do you think of yourself as a Christian or not?', b'BORN': b\"BORN Would you describe yourself as a 'born again' or evangelical Christian, or not?\", b'QRELUKR': b'QRELUKR. What is your present religion, if any?', b'QRELUKRB': b'QRELUKRb. Would you describe yourself as Christian?', b'QRELVEN': b'QRELVEN. What is your current religion, if any?', b'QRELVENB': b'QRELVENb. Just so I understand correctly, would you describe yourself as ...', b'QRELVIE': b'QRELVIE. What is your current religion, if any?', b'QRELVIEA': b'QRELVIEa. Other', b'QRELVIEB': b'QRELVIEb.Just so I understand correctly, would you describe yourself as a Buddhist, a Christian, or as neither one? ', b'Q78': b'Q78. Is your overall opinion of Pope Francis very favorable, somewhat favorable, somewhat unfavorable, or very unfavorable?', b'Q79': b'Q79. Which one of the following statements comes closest to your opinion about educating children?', b'Q80': b'Q80. How much of a role do you think Islam plays in the political life of our country \\xe2\\x80\\x93 a very large role, a fairly large role, a fairly small role, or a very small role?', b'Q81': b'Q81. In your opinion \\xe2\\x80\\x93 is this good or bad for our country?', b'Q82': b'Q82. Do you think we should keep the Euro as our currency or return to the (Franc/Mark/Peseta/Lira/Drachma)?', b'Q83': b'Q83. If a vote were held today on Britain\\xe2\\x80\\x99s membership in the European Union, would you vote for Britain to remain in the European Union or for Britain to leave the European Union?', b'Q83B': b'Q83B. In your opinion, has the European Union provided too much financial assistance to EU countries that have experienced major financial problems, not enough assistance, or about the right amount?', b'Q84': b'Q84. In your opinion, should we allow more immigrants to move to our country, fewer immigrants, or about the same as we do now?', b'Q85A': b'Q85A. Tell me whether FIRST statement or SECOND statement comes closer to your views. Immigrants today make our country stronger because of their work/talents [OR] Immigrants today are a burden because they take jobs/social benefits.', b'Q85B': b'Q85B. Tell me whether FIRST statement or SECOND statement comes closer to your views. Immigrants in our country today are more to blame for crime than other groups [OR] Immigrants today are no more to blame for crime than other groups.', b'Q85C': b'Q85C. Tell me whether FIRST statement or SECOND statement comes closer to your views. Immigrants today want to adopt (survey nationality) customs/way of life [OR] Immigrants today want to be distinct from (survey nationality) society.', b'RUS2': b'RUS2. Should subjects of Russia be allowed to secede if they want to leave?', b'Q90': b'Q90.  How satisfied are you with the way the political system is working in this country? Are you very satisfied, somewhat satisfied, somewhat dissatisfied, or very dissatisfied?', b'Q91A': b'Q91A. Have you done this in the past year, done this in the more distant past, have not done this but might do it, or have not done this and would never do it. Attended a political campaign event or speech', b'Q91B': b'Q91B. Have you done this in the past year, done this in the more distant past, have not done this but might do it, or have not done this and would never do it. Participated in an organized protest of any kind.', b'Q91C': b'Q91C. Have you done this in the past year, done this in the more distant past, have not done this but might do it, or have not done this and would never do it. Been an active member of a political organization.', b'Q91D': b'Q91D. Have you done this in the past year, done this in the more distant past, have not done this but might do it, or have not done this and would never do it. Phoned a live radio or TV show to express an opinion.', b'Q91E': b'Q91E. Have you done this in the past year, done this in the more distant past, have not done this but might do it, or have not done this and would never do it. Voted in an election.', b'Q91F': b'Q91F. Have you done this in the past year, done this in the more distant past, have not done this but might do it, or have not done this and would never do it. Participated in labor strikes.', b'Q91G': b'Q91G. Have you done this in the past year, done this in the more distant past, have not done this but might do it, or have not done this and would never do it. Posted links to political stories or articles for others to read ONLINE.', b'Q91H': b'Q91H. Have you done this in the past year, done this in the more distant past, have not done this but might do it, or have not done this and would never do it. Posted your own thoughts or comments on political or social issues ONLINE.', b'Q91I': b'Q91I. Have you done this in the past year, done this in the more distant past, have not done this but might do it, or have not done this and would never do it. Contacted a government official.', b'Q91J': b'Q91J. Have you done this in the past year, done this in the more distant past, have not done this but might do it, or have not done this and would never do it. Signed a petition about a political or social issue.', b'Q92I': b'Q92I.  You mentioned that you have contacted a government official in the past. Have you ever taken this action ONLINE, such as through email or social networking sites?', b'Q92J': b'Q92J.  You mentioned that you have signed a petition about a political or social issue in the past. Have you ever taken this action ONLINE, such as through email or social networking sites?', b'Q93A': b'Q93A. How effective is it to attend a political campaign event or speech-very effective, somewhat effective, not too effective, or not at all effective?', b'Q93B': b'Q93B. How effective is it to participate in an organized protest of any kind-very effective, somewhat effective, not too effective, or not at all effective?', b'Q93C': b'Q93C. How effective is it to be an active member of a political organization-very effective, somewhat effective, not too effective, or not at all effective?', b'Q93D': b'Q93D. How effective is it to phone a live radio or TV show to express an opinion-very effective, somewhat effective, not too effective, or not at all effective?', b'Q93E': b'Q93E. How effective is it to vote in an election-very effective, somewhat effective, not too effective, or not at all effective?', b'Q93F': b'Q93F. How effective is it to participate in labor strikes-very effective, somewhat effective, not too effective, or not at all effective?', b'Q93G': b'Q93G. How effective is it to post links to political stories or articles for others to read ONLINE-very effective, somewhat effective, not too effective, or not at all effective?', b'Q93H': b'Q93H. How effective is it to post your own thoughts or comments on political or social issues ONLINE-very effective, somewhat effective, not too effective, or not at all effective?', b'Q93I': b'Q93I. How effective is it to contact a government official-very effective, somewhat effective, not too effective, or not at all effective?', b'Q93J': b'Q93J. How effective is it to sign a petition about a political or social issue-very effective, somewhat effective, not too effective, or not at all effective?', b'Q94': b'Q94.  Which statement comes closer to your own views \\xe2\\x80\\x94 even if neither is exactly right. Most government officials care what people like me think [OR] Most government officials DO NOT care what people like me think.', b'Q95A': b'Q95A. In your opinion, do higher income people have too much influence in our political system [UKRAINE ONLY: the political system in Ukraine/Crimea], not enough influence, or about the right amount?', b'Q95B': b'Q95B. In your opinion, do middle income people have too much influence in our political system [UKRAINE ONLY: the political system in Ukraine/Crimea], not enough influence, or about the right amount?', b'Q95C': b'Q95C. In your opinion, do lower income people have too much influence in our political system [UKRAINE ONLY: the political system in Ukraine/Crimea], not enough influence, or about the right amount?', b'RUS3': b'RUS3 Please tell me whether you completely agree, mostly agree, mostly disagree or completely disagree with the following statement-It is sometimes necessary to use military force to maintain order in the world.', b'Q96A_1': b'Q96A. What countries can (survey country) most rely on as dependable allies in the future?', b'Q96A_1OTH': b'Q96a. Other specify', b'Q96A_2': b'Q96A. What countries can (survey country) most rely on as dependable allies in the future?', b'Q96A_2OTH': b'Q96a. Other specify', b'Q96A_3': b'Q96A. What countries can (survey country) most rely on as dependable allies in the future?', b'Q96A_3OTH': b'Q96a. Other specify', b'Q96B_1': b'Q96B. What countries or groups pose the greatest threat to (survey country) in the future?', b'Q96B_1OTH': b'Q96b. Other specify', b'Q96B_2': b'Q96B. What countries or groups pose the greatest threat to (survey country) in the future?', b'Q96B_2OTH': b'Q96b. Other specify', b'Q96B_3': b'Q96B. What countries or groups pose the greatest threat to (survey country) in the future?', b'Q96B_3OTH': b'Q96b. Other specify', b'Q98': b'Q98. The U.S. plans to remove most of its troops from Afghanistan in 2014. Do you think this is a good thing or a bad thing for Pakistan?', b'Q100': b'Q100. Some think suicide bombing/other violence against civilians are justified to defend Islam. Others believe it is never justified. Do you feel that this is often justified, sometimes justified, rarely justified, or never justified?', b'Q101': b'Q101. Do you think a way can be found for Israel and an independent Palestinian state to coexist peacefully with each other, or not?', b'Q104A': b\"Q104A. Thinking about (survey country's) future, how important is it that anyone can openly criticize the government. Is it very important, somewhat important, not too important or not important at all?\", b'Q104B': b'Q104B. And how important is it that honest elections are held regularly with a choice of at least two political parties?', b'Q104C': b'Q104C. And how important is it that there is a judicial system that treats everyone in the same way?', b'Q104D': b'Q104D. And how important is it that the military is under the control of civilian leaders?', b'Q104E': b'Q104E. And how important is it that Copts and other religious minorities can practice their religion freely?', b'Q104F': b'Q104F. And how important is it that religious parties are allowed to be part of the government?', b'Q104G': b'Q104G. And how important is it that economic conditions improve?', b'Q104H': b'Q104H. And how important is it that women have the same rights as men?', b'Q104I': b'Q104I. And how important is it that law and order be maintained?', b'Q104J': b'Q104J. And how important is it that the media can report the news without (state/government) censorship?', b'Q104K': b'Q104K. And how important is it that people can hold peaceful protests against the government?', b'Q105': b'Q105 Overall, do you think the current government is doing too much, too little, or the right amount to ensure that women have the same rights as men?', b'Q106': b'Q106. Which is more important to you (READ)?', b'Q107': b\"Q107. Do you think the Egyptian government respects the personal freedoms of its people, or don't you think so?\", b'Q108': b'Q108. Overall do you think that China\\xe2\\x80\\x99s growing economy is a good thing or a bad thing for our country?', b'Q109A': b\"Q109A. Do you think the government of China respects the personal freedoms of its people, or don't you think so?\", b'Q109B': b\"Q109B. Do you think the government of the United States respects the personal freedoms of its people, or don't you think so?\", b'Q109C': b\"Q109C. Do you think the government of France respects the personal freedoms of its people, or don't you think so?\", b'Q109D': b\"Q109D. Do you think the government of Russia respects the personal freedoms of its people, or don't you think so?\", b'Q109E': b\"Q109E. Do you think the government of Ukraine respects the personal freedoms of its people, or don't you think so?\", b'Q110': b'Q110 How concerned are you, if at all, that territorial disputes between China and neighboring countries could lead to a military conflict? Are you very concerned, somewhat concerned, not too concerned, or not at all concerned?', b'Q111A': b'Q111A. In your opinion, is it acceptable or unacceptable for the American government to monitor communications from individuals suspected of terrorist activities?', b'Q111B': b'Q111B. In your opinion, is it acceptable or unacceptable for the American government to monitor communications from American citizens?', b'Q111C': b'Q111C. In your opinion, is it acceptable or unacceptable for the American government to monitor communications from (survey nationality) citizens?', b'Q111D': b'Q111D. In your opinion, is it acceptable or unacceptable for the American government to monitor communications from (survey nationality) leaders?', b'Q111CUS': b'Q111CUS. In your opinion, is it acceptable or unacceptable for the American government to monitor communications from citizens of other countries?', b'Q111DUS': b'Q111DUS. In your opinion, is it acceptable or unacceptable for the American government to monitor communications from leaders of other countries?', b'Q112': b'Q112. Do you think Syrian President Bashar al-Assad should step down or not?', b'Q114': b'Q114. Do you support or oppose Western countries sending arms and military supplies to anti-government groups in Syria?', b'Q115': b'Q115. Do you support or oppose Arab countries sending arms and military supplies to anti-government groups in Syria?', b'Q115B': b'Q115B. How concerned are you, if at all, that al Qaeda or other extremist groups could take control of Syria?', b'Q116A': b'Q116A. How serious of a threat is the Taliban to our country? Is it a very serious threat, a somewhat serious threat, a minor threat or not a threat at all?', b'Q116B': b'Q116B. How serious of a threat is India to our country? Is it a very serious threat, a somewhat serious threat, a minor threat or not a threat at all?', b'Q116C': b'Q116C. How serious of a threat is al Qaeda to our country? Is it a very serious threat, a somewhat serious threat, a minor threat or not a threat at all?', b'Q117': b'Q117. Of all of these threats I have named, which of these is the greatest threat to our country?', b'Q118A': b'Q118A. For each of the following statements about the missile strikes from pilotless aircraft called drones, please tell me whether you agree or disagree. -- They are necessary to defend Pakistan from extremist groups', b'Q118B': b'Q118B. For each of the following statements about the missile strikes from pilotless aircraft called drones, please tell me whether you agree or disagree. -- They kill too many innocent people', b'Q118C': b'Q118C. For each of the following statements about the missile strikes from pilotless aircraft called drones, please tell me whether you agree or disagree. -- They are being done without the approval of the Pakistani government', b'Q119': b'Q119. In your opinion, is the Pakistani government making progress in the fight against extremist groups, losing ground, or are things about the same as they have been in the past?', b'Q120': b'Q120. If at this moment, you had the means and opportunity to go to live in the United States, would you go?', b'Q121': b'Q121. And would you be inclined to go work and live in the U.S. without authorization?', b'Q122': b'Q122. Do you support or oppose using the Mexican army to fight drug traffickers?', b'Q123': b'Q123. Do you think that the Mexican government is making progress in its campaign against the drug traffickers, losing ground, or are things about the same as they have been in the past?', b'Q124': b'Q124. In your opinion, which country will win the World Cup?', b'Q125': b'Q125. In your opinion, will the World Cup help Brazil\\xe2\\x80\\x99s image around the world, hurt Brazil\\xe2\\x80\\x99s image around the world, or will the World Cup have no impact on Brazil\\xe2\\x80\\x99s image?', b'Q126': b'Q126. Which comes closer to your views? Hosting the World Cup is good for Brazil-it will create jobs/help the economy OR Hosting the World Cup is bad-spending money that should be used for schools/health care/other public services.', b'Q127': b'Q127. In general, were the protests a good thing for Brazil because they brought attention to important issues OR were the protests a bad thing for Brazil because it damaged Brazil\\xe2\\x80\\x99s image around the world?', b'Q128A': b'Q128A. In general, do you strongly support, somewhat support, somewhat oppose, or strongly oppose the anti-government protests, such as those in Bangkok?', b'Q128B': b'Q128B. In general, did you strongly support, somewhat support, somewhat oppose, or strongly oppose the anti-government protests, such as those in Gezi Park?', b'Q128C': b'Q128C. In general, did you strongly favor, somewhat favor, somewhat oppose, or strongly oppose the anti-government protests that took place late last year and early this year in Independence Square in Kiev?', b'Q129A': b'Q129A. Have you gotten news and information about the anti-government protests from radio?', b'Q129B': b'Q129B. Have you gotten news and information about the anti-government protests from national TV?', b'Q129C': b'Q129C. Have you gotten news and information about the anti-government protests from satellite or international TV?', b'Q129D': b'Q129D. Have you gotten news and information about the anti-government protests from newspapers?', b'Q129E': b'Q129E. Have you gotten news and information about the anti-government protests from social networking sites, like Facebook, Twitter [INSERT COUNTRY SPECIFIC EXAMPLES]?', b'Q129F': b'Q129F. Have you gotten news and information about the anti-government protests from online news groups, blogs or photo sites?', b'Q130UKRA': b'Q130UKRA. Did you get news and information about the anti-government protests from radio?', b'Q130UKRB': b'Q130UKRB. Did you get news and information about the anti-government protests from TV?', b'Q130UKRC': b'Q130UKRC. Did you get news and information about the anti-government protests from newspapers?', b'Q130UKRD': b'Q130UKRD. Did you get news and information about the anti-government protests from social networking sites, like Facebook, Twitter, Odnoklassniki, and Vkontakte?', b'Q130UKRE': b'Q130UKRE. Did you get news and information about the anti-government protests from online news groups, blogs or photo sites?', b'Q131UKR': b'Q131UKR. Which channel do you watch the MOST for news and information about the current political situation?', b'UKR7A': b'UKR7A What should be an official language in Ukraine \\xe2\\x80\\x93 only Ukrainian, both Ukrainian and Russian, or only Russian?', b'UKR7B': b'UKR7B. What should be an official language in Crimea \\xe2\\x80\\x93 only Russian, both Russian and Ukrainian, or only Ukrainian?', b'UKR8': b'UKR8. As you may know, on March 16th, Crimea voted in a referendum to join Russia. In your opinion, was the vote on this referendum free and fair? ', b'UKR9': b'UKR9. And in your opinion, should the government in Kiev recognize the results of the March 16th referendum and allow Crimea to join Russia? ', b'UKR10': b'UKR10. In your opinion, should Ukraine remain one, united country, or should regions that want to leave be allowed to secede?', b'RUS4': b'RUS4. As you may know, on March 16th, Crimea voted in a referendum to join Russia. In your opinion, was the vote on this referendum free and fair?', b'RUS5': b'RUS5. And in your opinion, should the government in Kiev recognize the results of the March 16th referendum and allow Crimea to join Russia?', b'RUS6': b'RUS6. In your opinion, has President Putin\\xe2\\x80\\x99s handling of the situation in Ukraine lead people in other countries to have a more favorable opinion of Russia, a less favorable opinion, or has it made no difference?', b'Q130TURA': b'Q130TURA. Did you get news and information about the anti-government protests from radio?', b'Q130TURB': b'Q130TURB. Did you get news and information about the anti-government protests from national TV?', b'Q130TURC': b'Q130TURC. Did you get news and information about the anti-government protests from satellite or international TV?', b'Q130TURD': b'Q130TURD. Did you get news and information about the anti-government protests from newspapers?', b'Q130TURE': b'Q130TURE. Did you get news and information about the anti-government protests from social networking sites, like Facebook, Twitter [INSERT COUNTRY SPECIFIC EXAMPLES]?', b'Q130TURF': b'Q130TURF. Did you get news and information about the anti-government protests from online news groups, blogs or photo sites?', b'Q131': b'Q131. Do you favor or oppose the military\\xe2\\x80\\x99s removal of Mohamed Morsi from power last year?', b'Q132': b'Q132. Gender', b'Q133': b'Q133. How old were you at your last birthday?', b'Q134': b'Q134. Do you have friends or relatives who live in another country that you write to, telephone or visit regularly?', b'Q135': b'Q135. Do any of the friends or relatives you write to, telephone or visit regularly live in the US?', b'Q136': b\"Q136. Are you Sunni (for example, Hanafi, Maliki, Shafi, or Hanbali), Shi'a (for example, Ithnashari/Twelver or Ismaili/Sevener), or something else?\", b'Q137': b'Q137. How often, if at all, do you pray: hardly ever, only during religious holidays, only on Fridays, only on Fridays and religious holidays, more than once a week, every day at least once, or every day five times?', b'Q138ARG': b'Q138ARG. What is the highest level of school you have attended?', b'Q138BARG': b'Q138bARG. What is the highest degree you have received?', b'Q138BAN': b'Q138BAN. What is the highest level of school you have attended?', b'Q138BBAN': b'Q138bBAN. What is the highest degree you have received?', b'Q138BRA': b'Q138BRA. What is the highest level of school you have attended?', b'Q138BBRA': b'Q138bBRA. What is the highest degree you have received?', b'Q138BRI': b'Q138BRI.     What is the highest level of school or college you have attended?', b'Q138BBRI': b'Q138bBRI.   What is the highest degree you have received?', b'Q138CHL': b'Q138CHL. What is the highest level of school you have attended? ', b'Q138BCHL': b'Q138bCHL. What is the highest degree you have received? ', b'Q138CHI': b'Q138CHI.What is the highest level of school you have attended?', b'Q138BCHI': b'Q138bCHI. What is the highest degree you have received?', b'Q138COL': b'Q138COL.     What is the highest level of school you have attended?', b'Q138BCOL': b'Q138bCOL.   What is the highest degree you have received?', b'Q138EGY': b'Q138EGY. What is the highest level of school you have attended?', b'Q138BEGY': b'Q138BEGY. What is the highest degree you have received?', b'Q138ESA': b'Q138ESA. What is the highest level of school you have attended?', b'Q138BESA': b'Q138bESA. What is the highest degree you have received?', b'Q138FRA': b'Q138FRA.    What is the highest level of school you have attended?', b'Q138BFRA': b'Q138bFRA.   What is the highest degree you have received?', b'Q138GER': b'Q138GER.     What is the highest level of school you have attended?', b'Q138BGER': b'Q138bGER.   What is the highest degree you have received?', b'Q138GHA': b'Q138GHA. What is the highest level of school you have attended? ', b'Q138BGHA': b'Q138BGHA. What is the highest degree you have received? ', b'Q138GRE': b'Q138GRE What is the highest level of school you have attended?', b'Q138BGRE': b'Q138bGRE.   What is the highest degree you have received?', b'Q138INDIA': b'Q138INDIA. What is the highest level of school you have attended?', b'Q138BINDIA': b'Q138bINDIA. What is the highest degree you have received?', b'Q138INDO': b'Q138INDO.What is the highest level of school you have attended?', b'Q138BINDO': b'Q138bINDO.What is the highest degree you have received?', b'Q138ISR': b'Q138ISR. What is the highest level of school you have attended?', b'Q138BISR': b'Q138bISR. What is the highest degree you have received?', b'Q138ITA': b'Q138ITA.     What is the highest level of school you have attended?', b'Q138BITA': b'Q138bITA.   What is the highest degree you have received?', b'Q138JPN': b'Q138JPN. What is the highest level of school you have attended?', b'Q138BJPN': b'Q138bJPN. What is the highest degree you have received?', b'Q138JOR': b'Q138JOR. What is the highest level of school you have attended?', b'Q138BJOR': b'Q138BJOR. What is the highest degree you have received?', b'Q138KEN': b'Q138KEN. What is the highest level of school you have attended?', b'Q138BKEN': b'Q138BKEN. What is the highest degree you have received?', b'Q138LEB': b'Q138LEB. What is the highest level of school you have attended?', b'Q138BLEB': b'Q138BLEB. What is the highest degree you have received?', b'Q138MAL': b'Q138MAL. What is the highest level of school you have attended?', b'Q138BMAL': b'Q138bMAL. What is the highest degree you have received?', b'Q138MEX': b'Q138MEX. What is the highest level of school you have attended?', b'Q138BMEX': b'Q138bMEX. What is the highest degree you have received?', b'Q138NIC': b'Q138NIC. What is the highest level of school you have attended?', b'Q138BNIC': b'Q138BNIC. What is the highest degree you have received?', b'Q138NIG': b'Q138NIG . What is the highest level of school you have attended?', b'Q138BNIG': b'Q138bNIG:What is the highest degree you have received? (SHOW CARD) ', b'Q138PAK': b'Q138PAK.  What is the highest level of school you have attended?', b'Q138BPAK': b'Q138BPAK. What is the highest degree you have received?', b'Q138PAL': b'Q138PAL. What is the highest level of school you have attended?', b'Q138BPAL': b'Q138bPAL. What is the highest degree you have received?', b'Q138PER': b'Q138PER. What is the highest level of school you have attended?', b'Q138BPER': b'Q138bPER. What is the highest degree you have received?', b'Q138PHI': b'Q138. What is the highest level of school you have attended?', b'Q138BPHI': b'Q138b. What is the highest degree you have received?', b'Q138POL': b'Q138POL.     What is the highest level of school you have attended?', b'Q138BPOL': b'Q138bPOL.   What is the highest degree you have received?', b'Q138RUS': b'Q138RUS.  What is the highest level of school you have attended?', b'Q138SEN': b'Q138SEN. What is the highest level of school you have attended?', b'Q138BSEN': b'Q138bSEN. What is the highest degree you have received?', b'Q138RSA': b'Q138RSA. What is the highest level of school you have attended?', b'Q138bRSA': b'Q138bRSA. What is the highest degree you have received?', b'Q138SKOR': b'Q138SKOR. What is the highest level of school you have attended?', b'Q138SPA': b'Q138SPA.     What is the highest level of school you have attended?', b'Q138BSPA': b'Q138bSPA.   What is the highest degree you have received?', b'Q138TAN': b'Q138TAN. What is the highest level of school you have attended?', b'Q138BTAN': b'Q138b. What is the highest degree you have received?', b'Q138THA': b'Q138THA What is the highest level of school you have attended?', b'Q138TUN': b'Q138TUN. What is the highest level of school you have attended?', b'Q138BTUN': b'Q138bTUN. What is the highest degree you have received?', b'Q138TUR': b'Q138TUR. What is the highest level of school you have attended?', b'Q138UGA': b'Q138UGA .What is the highest level of school you have attended? ', b'Q138BUGA': b'Q138b UGA. What is the highest degree you have received? ', b'Q138UKR': b'Q138UKR. What is the highest level of school you have attended?', b'Q138US': b'Q138US. What is the highest level of school you have attended? (DO NOT READ)', b'Q138BUS': b'Q138bUS What is the highest degree you have received? (DO NOT READ)', b'Q138VEN': b'Q138VEN. What is the highest level of school you have attended?', b'Q138BVEN': b'Q138BVEN. What is the highest degree you have received?', b'Q138VIE': b'Q138VIE. What is the highest level of school you have attended?', b'Q138BVIE': b'Q138bVIE. What is the highest degree you have receive?', b'Q139': b'Q139. In total, how many years of schooling or education have you completed?', b'Q140': b'Q140. Which of the following employment situations best describes your current status?', b'Q141': b'Q141. Have you ever had a paid job for one year or more?', b'Q148A': b'Q148A. And in your household, do you have any of the following? Count only those that are in working order. -- television', b'Q148B': b'Q148B. And in your household, do you have any of the following? Count only those that are in working order. -- refrigerator', b'Q148C': b'Q148C. And in your household, do you have any of the following? Count only those that are in working order. -- washing machine', b'Q148D': b'Q148D. And in your household, do you have any of the following? Count only those that are in working order. -- microwave oven', b'Q148E': b'Q148E. And in your household, do you have any of the following? Count only those that are in working order. -- computer', b'Q148F': b'Q148F. And in your household, do you have any of the following? Count only those that are in working order. -- car', b'Q148G': b'Q148G. And in your household, do you have any of the following? Count only those that are in working order. -- bicycle', b'Q148H': b'Q148H. And in your household, do you have any of the following? Count only those that are in working order. -- motorcycle or scooter', b'Q148I': b'Q148I. And in your household, do you have any of the following? Count only those that are in working order. -- radio', b'Q149ARG': b'Q149ARG. The next question is for classification purposes only. What was your household\\xe2\\x80\\x99s total monthly income in 2013? Take all sources of income and all salaries into consideration.', b'Q150ARG': b'Q150ARG. A general category will help us. Was your household\\xe2\\x80\\x99s total monthly income in 2013 less than $4100, or was it $4100 or more? Take all sources of income and all salaries into consideration.', b'Q151AARG': b'Q151aARG. And was it less than $3000?', b'Q151BARG': b'Q151bARG. And was it $5900 or more?', b'Q149BAN': b'Q149BAN. The next question is for classification purposes only. What was your household\\xe2\\x80\\x99s total annual income in 2013? Take all sources of income and all salaries into consideration.', b'Q150BAN': b'Q150BAN. A general category will help us. Was your household\\xe2\\x80\\x99s total annual income in 2013 less than 5,000, or was it 5,000 or more? Take all sources of income and all salaries into consideration.', b'Q151ABAN': b'Q151aBAN. And was it less than 3,100?', b'Q151BBAN': b'Q151bBAN. And was it 8,200 or more?', b'Q149BRA': b'Q149BRA. The next question is for classification purposes only. What was your household\\xe2\\x80\\x99s total monthly income in 2013? Take all sources of income and all salaries into consideration.', b'Q150BRA': b'Q150BRA. A general category will help us. Was your household\\xe2\\x80\\x99s total monthly income in 2013 less than R$ 1400, or was it R$ 1400 or more? Take all sources of income and all salaries into consideration.', b'Q151ABRA': b'Q151aBRA. And was it less than R$ 900?', b'Q151BBRA': b'Q151bBRA. And was it R$ 2.350 or more?', b'Q149BRI': b'Q149BRI.    The next question is for classification purposes only. What was your household\\xe2\\x80\\x99s total monthly income in 2013? Take all sources of income and all salaries into consideration.', b'Q150BRI': b'Q150BRI.    A general category will help us. Was your household\\xe2\\x80\\x99s total monthly income in 2013 less than 2,080 pounds, or was it 2,080 pounds or more? Take all sources of income and all salaries into consideration.', b'Q151ABRI': b'Q151aBRI.   And was it less than 1,250 pounds?', b'Q151BBRI': b'Q151bBRI And was it 2,920 pounds or more?', b'Q149CHL': b'Q149CHL.\\xc2\\xa0The next question is for classification purposes only. What was your household\\xe2\\x80\\x99s total monthly income in 2013? Take all sources of income and all salaries into consideration. ', b'Q150CHL': b'Q150CHL. A general category will help us. Was your household\\xe2\\x80\\x99s total monthly income in 2013 less than $310.000, or was it $310.000 or more? Take all sources of income and all salaries into consideration.', b'Q151ACHL': b'Q151aCHL.\\xc2\\xa0\\xc2\\xa0\\xc2\\xa0And was it less than $240.000? ', b'Q151BCHL': b'Q151bCHL.\\xc2\\xa0And was it $480.000 or more? ', b'Q149CHI': b\"Q149CHI.The next question is for classification purposes only. What was your household's total monthly income in 2013? Take all sources of income and all salaries into consideration.\", b'Q150CHI': b\"Q150CHI. A general category will help us. Was your household's total monthly income in 2013 less than 2,500 yuan, or was it 2,500 yuan or more? Take all sources of income and all salaries into consideration.\", b'Q151ACHI': b'Q151aCHI.And was it less than 1,700 yuan?', b'Q151BCHI': b'Q151bCHI.And was it 4,200 yuan or more? ', b'Q149COL': b'Q149COL.    The next question is for classification purposes only. What was your household\\xe2\\x80\\x99s total monthly income in 2013? Take all sources of income and all salaries into consideration.', b'Q150COL': b'Q150COL.    A general category will help us. Was your household\\xe2\\x80\\x99s total monthly income in 2013 less than 500.000 pesos, or was it 500.000 pesos or more? Take all sources of income and all salaries into consideration.', b'Q151ACOL': b'Q151aCOL.   And was it less than 300.000 pesos?', b'Q151BCOL': b'Q151bCOL.   And was it 1.000.000 pesos or more?', b'Q149EGY': b\"Q149EGY. The next question is for classification purposes only. What was your household's total monthly income in 2013? Take all sources of income and all salaries into consideration.\", b'Q150EGY': b\"Q150EGY. A general category will help us. Was your household's total monthly income in 2013 less than 1,250 Egyptian Pound, or was it 1,250or more? Take all sources of income and all salaries into consideration.\", b'Q151AEGY': b'Q151AEGY. And was it less than 750 Egyptian Pound?', b'Q151BEGY': b'Q151BEGY. And was it 1750 Egyptian Pound or more?', b'Q149ESA': b'Q149ESA.    The next question is for classification purposes only. What was your household\\xe2\\x80\\x99s total monthly income in 2013? Take all sources of income and all salaries into consideration.', b'Q150ESA': b'Q150ESA.    A general category will help us. Was your household\\xe2\\x80\\x99s total monthly income in 2013 less than USD 190, or was it USD 190 or more? Take all sources of income and all salaries into consideration.', b'Q151AESA': b'Q151aESA.   And was it less than USD 110?', b'Q151BESA': b'Q151bESA.   And was it USD 280 or more?', b'Q149FRA': b'Q149FRA.    The next question is for classification purposes only. What was your household\\xe2\\x80\\x99s total monthly income in 2013? Take all sources of income and all salaries into consideration.', b'Q150FRA': b'Q150FRA.    A general category will help us. Was your household\\xe2\\x80\\x99s total monthly income in 2013 less than 1,900 euro, or was it 1,900 euro or more? Take all sources of income and all salaries into consideration.', b'Q151AFRA': b'Q151aFRA.   And was it less than 1,500 euro?', b'Q151BFRA': b'Q151bFRA.   And was it 2,900 euro or more?', b'Q149AGER': b'Q149aGER.   And what was your household\\xe2\\x80\\x99s total monthly gross income in 2013? Take all sources of income and all salaries into consideration.', b'Q149GER': b'Q149GER.    The next question is for classification purposes only. What was your household\\xe2\\x80\\x99s total net monthly income in 2013? Take all sources of income and all salaries into consideration.', b'Q150GER': b'Q150GER. A general category will help us. Was your household\\xe2\\x80\\x99s total monthly income in 2013 less than 2.000 euro, or was it 2.000 euro or more? Take all sources of income and all salaries into consideration', b'Q151AGER': b'Q151aGER.   And was it less than 1.500 euro?', b'Q151BGER': b'Q151bGER.   And was it 2.750 euro or more?', b'Q149GHA': b\"Q149GHA. What was your household's total monthly income in 2013?\", b'Q150GHA': b\"Q150GHA. What was your household's total monthly income in 2013?\", b'Q151AGHA': b'Q151AGHA. And was it less than GHS 120?', b'Q151BGHA': b'Q151BGHA. And was it GHS 320 or more?', b'Q149GRE': b'Q149GRE.    The next question is for classification purposes only. What was your household\\xe2\\x80\\x99s total monthly income in 2013? Take all sources of income and all salaries into consideration.', b'Q150GRE': b'Q150GRE.    A general category will help us. Was your household\\xe2\\x80\\x99s total monthly income in 2013 less than 940 euro, or was it 940 euro or more? Take all sources of income and all salaries into consideration.', b'Q151AGRE': b'Q151aGRE.   And was it less than 570 euro?', b'Q151BGRE': b'Q151bGRE.   And was it 1310 euro or more?', b'Q149INDIA': b'Q149INDIA. The next question is for classification purposes only. What was your household\\xe2\\x80\\x99s total monthly income in 2013?', b'Q150INDIA': b'Q150INDIA. A general category will help us. Was your household\\xe2\\x80\\x99s total monthly income in 2013 less than Rs. 5,000, or was it Rs. 5,000 or more?', b'Q151AINDIA': b'Q151aINDIA. And was it less than Rs. 3,500?', b'Q151BINDIA': b'Q151bINDIA. And was it Rs. 8,600 or more?', b'Q149INDO': b'Q149INDO.The next question is for classification purposes only. What was your household\\xe2\\x80\\x99s total monthly income in 2013?', b'Q150INDO': b'Q150INDO. A general category will help us. Was your household\\xe2\\x80\\x99s total monthly income in 2013 less than Rp 1,750,000, or was it Rp 1,750,000 or more? Take all sources of income and all salaries into consideration.', b'Q151AINDO': b'Q151aINDO.And was it less than Rp 1250000?', b'Q151BINDO': b'Q151bINDO.And was it Rp 2000000 or more?', b'Q149ISR': b'Q149ISR. The next question is for classification purposes only. What was your household\\xe2\\x80\\x99s total monthly income in 2013? Take all sources of income and all salaries into consideration.', b'Q150ISR': b'Q150ISR. A general category will help us. Was your household\\xe2\\x80\\x99s total monthly income in 2013 less than 7,700, or was it 7,700 or more? Take all sources of income and all salaries into consideration.', b'Q151AISR': b'Q151aISR. And was it less than 4,600?', b'Q151BISR': b'Q151bISR. And was it 10,000 or more?', b'Q149ITA': b'Q149ITA.    The next question is for classification purposes only. What was your household\\xe2\\x80\\x99s total monthly income in 2013? Take all sources of income and all salaries into consideration. ', b'Q150ITA': b'Q150ITA.    A general category will help us. Was your household\\xe2\\x80\\x99s total monthly income in 2013 less than 1.500 euro, or was it 1.500 euro or more? Take all sources of income and all salaries into consideration.', b'Q151AITA': b'Q151aITA.   And was it less than 1.000 euro?', b'Q151BITA': b'Q151bITA.   And was it 2.000 euro or more?', b'Q149JOR': b\"Q149JOR. The next question is for classification purposes only. What was your household's total monthly income in 2013? Take all sources of income and all salaries into consideration.\", b'Q150JOR': b\"Q150JOR. A general category will help us. Was your household's total monthly income in 2013 less than 300 dinars, or was it 300 dinars or more? Take all sources of income and all salaries into consideration\", b'Q151AJOR': b'Q151AJOR. And was it less than 250 dinars?', b'Q151BJOR': b'Q151BJOR. And was it 500 dinars or more?', b'Q149JPN': b'Q149JPN. The next question is for classification purposes only. What was your household\\xe2\\x80\\x99s total annual income in 2013? Take all sources of income and all salaries into consideration. ', b'Q150JPN': b'Q150JPN. A general category will help us. Was your household\\xe2\\x80\\x99s total annual income in 2013 less than 375, or was it 375 or more? Take all sources of income and all salaries into consideration.', b'Q151AJPN': b'Q151aJPN. And was it less than 250?', b'Q151BJPN': b'Q151bJPN. And was it 500 or more?', b'Q149KEN': b\"Q149KEN. What was your household's total monthly income in 2013?\", b'Q150KEN': b'Q150KEN. A general category will help us. Was your household\\xe2\\x80\\x99s total monthly income in 2013 less than 7,500 shillings, or was it 7,500 or more? Take all sources of income and all salaries into consideration.', b'Q151AKEN': b'Q151AKEN. And was it less than 5,000?', b'Q151BKEN': b'Q151BKEN. And was it 12,500 or more?', b'Q149LEB': b\"Q149LEB. The next question is for classification purposes only. What was your household's total monthly income in 2013? Take all sources of income and all salaries into consideration.\", b'Q150LEB': b\"Q150. A general category will help us. Was your household's total monthly income in 2013 less than 1250 LBP, or was it 1250 LBP or more? Take all sources of income and all salaries into consideration.\", b'Q151ALEB': b'Q151A. And was it less than 860 LBP?', b'Q151BLEB': b'Q151B. And was it 2000 LBPor more?', b'Q149MAL': b'Q149MAL. What was your household\\xe2\\x80\\x99s total monthly income in 2013? Take all sources of income and all salaries into consideration.', b'Q150MAL': b'Q150MAL. Was your household\\xe2\\x80\\x99s total monthly income in 2013 less than 2000 ringit, or was it 2000 ringit or more? Take all sources of income and all salaries into consideration.', b'Q151AMAL': b'Q151aMAL. And was it less than 1,500 ringgit?', b'Q151BMAL': b'Q151bMAL. And was it 3,000 ringgit or more?', b'Q149MEX': b'Q149MEX. The next question is for classification purposes only. What was your household\\xe2\\x80\\x99s total monthly income in 2013? Take all sources of income and all salaries into consideration.', b'Q150MEX': b'Q150MEX. A general category will help us. Was your household\\xe2\\x80\\x99s total monthly income in 2013 less than 3,630 pesos, or was it 3,630 pesos or more? Take all sources of income and all salaries into consideration.', b'Q151AMEX': b'Q151aMEX. And was it less than 1,815 pesos?', b'Q151BMEX': b'Q151bMEX.   And was it 5,445 pesos or more?', b'Q149NIC': b'Q149NIC. The next question is for classification purposes only. What was your household\\xe2\\x80\\x99s total monthly income in 2013? Take all sources of income and all salaries into consideration.', b'Q150NIC': b'Q150NIC. A general category will help us. Was your household\\xe2\\x80\\x99s total monthly income in 2013 less than C$3,500, or was it C$3,500 or more? Take all sources of income and all salaries into consideration.', b'Q151ANIC': b'Q151ANIC. And was it less than C$2,000?', b'Q151BNIC': b'Q151BNIC And was it C$6,000 or more?', b'Q149NIG': b'Q149NIG.The next question is for classification purposes only. What was your household\\xe2\\x80\\x99s total annual income in 2013? Take all sources of income and all salaries into consideration. ', b'Q150NIG': b'Q150NIG. A general category will help us. Was your household\\xe2\\x80\\x99s total annual income in 2013 less than N30,000, or was it N30,000 or more? Take all sources of income and all salaries into consideration.', b'Q151ANIG': b'Q151aNIG. And was it less than N20,000?', b'Q151BNIG': b'Q151bNIG. And was it N44,000 or more?', b'Q149PAK': b'Q149PAK. What was your household\\xe2\\x80\\x99s total monthly income in 2013? Take all sources of income and all salaries into consideration.', b'Q150PAK': b'Q150PAK.  Was your household\\xe2\\x80\\x99s total monthly income in 2013 less than 10,000, or was it 10,000 or more? Take all sources of income and all salaries into consideration.', b'Q151APAK': b'Q151APAK. \\xc2\\xa0And was it less than 7,000?', b'Q151BPAK': b'Q151BPAK. And was it 15,000 or more?', b'Q149PAL': b'Q149PAL. The next question is for classification purposes only. What was your household\\xe2\\x80\\x99s total monthly income in 2013? Take all sources of income and all salaries into consideration.', b'Q150PAL': b'Q150PAL. A general category will help us. Was your household\\xe2\\x80\\x99s total monthly income in 2013 less than 2,000 shekels, or was it 2,000 shekels or more? Take all sources of income and all salaries into consideration.', b'Q151APAL': b'Q151aPAL. And was it less than 1,100 shekels?', b'Q151BPAL': b'Q151bPAL.   And was it 2,700 shekels or more?', b'Q149PER': b'Q149PER. The next question is for classification purposes only. What was your household\\xe2\\x80\\x99s total monthly income in 2013? Take all sources of income and all salaries into consideration.', b'Q150PER': b'Q150PER. A general category will help us. Was your household\\xe2\\x80\\x99s total monthly income in 2013 less than S/.660, or was it S/.660 or more? Take all sources of income and all salaries into consideration.', b'Q151APER': b'Q151aPER. And was it less than S/.350?', b'Q151BPER': b'Q151bPER. And was it S/.800 or more?', b'Q149PHI': b'Q149. The next question is for classification purposes only. What was your household s total monthly income in 2013?', b'Q150PHI': b\"Q150. A general category will help us. Was your household's total monthly income in 2013 less than P8,500, or was it P8,500 or more? Take all sources of income and all salaries into consideration.\", b'Q151APHI': b'Q151a. And was it less than P5,000? ', b'Q151BPHI': b'Q151b. And was it P15,000 or more?', b'Q149POL': b'Q149POL.    The next question is for classification purposes only. What was your household\\xe2\\x80\\x99s total monthly income in 2013? Take all sources of income and all salaries into consideration.', b'Q150POL': b'Q150POL.    A general category will help us. Was your household\\xe2\\x80\\x99s total monthly income in 2013 less than 2,250 PLN, or was it 2,250 PLN or more? Take all sources of income and all salaries into consideration.', b'Q151APOL': b'Q151aPOL.   And was it less than 1,750 PLN? (Do not read amounts in parentheses below)', b'Q151BPOL': b'Q151bPOL.   And was it 2,750 PLN or more?', b'Q149RUS': b'Q149RUS. What was your household\\xe2\\x80\\x99s total monthly income in 2013?', b'Q150RUS': b'Q150RUS.  Was your household\\xe2\\x80\\x99s total monthly income in 2013 less than 18,500 rubles, or was it 18,500 rubles or more?', b'Q151ARUS': b'Q151aRUS. And was it less than 12,100 rubles?', b'Q151BRUS': b'Q151bRUS.  And was it 25,000 rubles or more?', b'Q149SEN': b'Q149SEN. The next question is for classification purposes only. What was your household\\xe2\\x80\\x99s total monthly income in 2013? Take all sources of income and all salaries into consideration.', b'Q150SEN': b'Q150SEN. A general category will help us. Was your household\\xe2\\x80\\x99s total monthly income in 2013 less than 100 000 FCFA, or was it 100 000 FCFA or more? Take all sources of income and all salaries into consideration.', b'Q151ASEN': b'Q151aSEN. And was it less than 70 000 CFA?', b'Q151BSEN': b'Q151bSEN. And was it 180 000 CFA or more?', b'Q149RSA': b'Q149RSA. The next question is for classification purposes only. What was your household\\xe2\\x80\\x99s total monthly income in 2013? Take all sources of income and all salaries into consideration.', b'Q150RSA': b'Q150RSA. A general category will help us. Was your household\\xe2\\x80\\x99s total monthly income in 2013 less than R3,000, or was it R3,000 or more? Take all sources of income and all salaries into consideration.', b'Q151aRSA': b'Q151aRSA.   And was it less than R1,400?', b'Q151bRSA': b'Q151bRSA.   And was it R6,000 or more?', b'Q149SKOR': b'Q149SKOR. The next question is for classification purposes only. What was your household\\xc2\\xa1\\xc2\\xafs total annual income in 2013? Take all sources of income and all salaries into consideration.', b'Q150SKOR': b'Q150SKOR. A general category will help us. Was your household\\xc2\\xa1\\xc2\\xafs total annual income in 2013 less than 3,260,000, or was it 3,260,000 or more? Take all sources of income and all salaries into consideration.', b'Q151ASKOR': b'Q151aSKOR. And was it less than 1,990,000?', b'Q151BSKOR': b'Q151bSKOR. And was it 4,490,000 or more?', b'Q149SPA': b'Q149SPA.    The next question is for classification purposes only. What was your household\\xe2\\x80\\x99s total monthly income in 2013? Take all sources of income and all salaries into consideration.', b'Q150SPA': b'Q150SPA.    A general category will help us. Was your household\\xe2\\x80\\x99s total monthly income in 2013 less than 1.500 euro, or was it 1.500 euro or more? Take all sources of income and all salaries into consideration.', b'Q151ASPA': b'Q151aSPA.   And was it less than 1.000 euro?', b'Q151BSPA': b'Q151bSPA.   And was it 2.000 euro or more?', b'Q149TAN': b'Q149TAN.  The next question is for classification purposes only. What was your household\\xe2\\x80\\x99s total annual income in 2013? Take all sources of income and all salaries into consideration.', b'Q150TAN': b\"Q150TAN. A general category will help us.  Was your household's total annual income in 2013 less than 600,000, or was it 600,000 or more?  Take all sources of income and all salaries into consideration.\", b'Q151ATAN': b'Q151aTAN. And was it less than 310,000? ', b'Q151BTAN': b'Q151bTAN. And was it 1,040,000 or more? ', b'Q149THA': b'Q149THA  The next question is for classification purposes only. What was your household\\xe2\\x80\\x99s total monthly income in 2013? Take all sources of income and all salaries into consideration.', b'Q150THA': b'Q150THA A general category will help us. Was your household\\xe2\\x80\\x99s total monthly income in 2013 less than 7,500 baht, or was it 7,500 baht or more? Take all sources of income and all salaries into consideration.', b'Q151ATHA': b'Q151aTHA And was it less than 5,000 baht? (Do not read amounts in parentheses below)', b'Q151BTHA': b'Q151bTHA And was it 8,000 baht or more? (Do not read amounts in parentheses below)', b'Q149TUN': b\"Q149TUN. The next question is for classification purposes only. What was your household's total monthly income in 2013?\", b'Q150TUN': b\"Q150TUN. A general category will help us. Was your household's total monthly income in 2013 less than 400 dinars, or was it 400 dinars or more?\", b'Q151ATUN': b'Q151aTUN. And was it less than 300 dinars?', b'Q151BTUN': b'Q151bTUN. And was it 600 dinars or more?', b'Q149TUR': b\"Q149TUR. What was your household's total monthly  income in 2013? Take all sources of income and all salaries into consideration.\", b'Q150TUR': b\"Q150TUR. A general category will help us. Was your household's total monthly income in 2013 less than 1,000 TL, or was it 1,000 TL or more? Take all sources of income and all salaries into consideration.\", b'Q151ATUR': b'Q151TURA. And was it less than 850 TL?', b'Q151BTUR': b'Q151TURB. And was it 1400 TL  or more?', b'Q149UGA': b'Q149UGA What was your household\\xe2\\x80\\x99s total monthly income in 2013? Take all sources of income and all salaries into consideration', b'Q150UGA': b'Q150UGA   .A general category will help us. Was your household\\xe2\\x80\\x99s total monthly income in 2013 less than 50,000, or was it 50,000 or more? Take all sources of income and all salaries into consideration.', b'Q151AUGA': b'Q151aUGA   And was it less than 21,600? ', b'Q151BUGA': b'Q151bUGA   And was it 100,000 or more? ', b'Q149UKR': b'Q149UKR. The next question is for classification purposes only. What was your household\\xe2\\x80\\x99s total monthly income in 2013? Take all sources of income and all salaries into consideration.', b'Q150UKR': b'Q150UKR. A general category will help us. Was your household\\xe2\\x80\\x99s total monthly income in 2013 less than 2000 hryvna, or was it 2000 hryvna or more? Take all sources of income and all salaries into consideration.', b'Q151AUKR': b'Q151aUKR.  And was it less than 1500 hryvna?', b'Q151BUKR': b'Q151bUKR.  And was it 3000 hryvna or more?', b'Q149US': b'Q149US. The next question is for classification purposes only. What was your household\\xe2\\x80\\x99s total annual income in 2013? Take all sources of income and all salaries into consideration.', b'Q150US': b'Q150US. A general category will help us. Was your household\\xe2\\x80\\x99s total annual income in 2013 less than $51,000, or was it $51,000 or more? Take all sources of income and all salaries into consideration.', b'Q151AUS': b'Q151aUS. And was it less than $36,400? (Do not read amounts in parentheses below)', b'Q151BUS': b'Q151bUS. And was it $91,000 or more? (Do not read amounts in parentheses below)', b'Q149VEN': b'149VEN. The next question is for classification purposes only. What was your household\\xe2\\x80\\x99s total monthly income in 2013? Take all sources of income and all salaries into consideration. ', b'Q150VEN': b\"Q150VEN. A general category will help us. Was your household's total monthly income in 2013 less than Bs. F 3,800, or was it Bs. F 3,800 or more? Take all sources of income and all salaries into consideration.\", b'Q151AVEN': b'Q151aVEN. And whas it less than Bs. F 3,000?', b'Q151BVEN': b'Q151BVEN. And was it Bs. F 4.700 or more?', b'Q149VIE': b'Q149VIE. What was your households total monthly income in 2013?', b'Q150VIE': b'Q150VIE. A general category will help us. Was your households total monthly income in 2013 less than 1.500.000, or was it 1.500.000 or more?', b'Q151AVIE': b'Q151aVIE. And was it less than 1.000.000?', b'Q151BVIE': b'Q151bVIE. And was it 2.500.000 or more?', b'Q152BRA': b'Q152BRA. Which racial group do you belong to?', b'Q152ISR': b'Q152ISR. Which ethnic group do you belong to?', b'Q152JOR': b'Q152JOR. Which ethnic group do you belong to?', b'Q152KEN': b'Q152KEN1. Which ethnic group do you belong to?', b'Q152MAL': b'Q152MAL. What is your race?', b'Q152NIG': b'Q152NIG. Which ethnic or tribal group do you belong to?', b'Q152aRSA': b'Q152aRSA. Race/Ethnicity (BY OBSERVATION)', b'Q152UKR': b'Q152UKR. Which nationality group do you belong to?', b'HISP': b'HISP. Are you of Hispanic, Latino, or Spanish origin, such as Mexican, Puerto Rican or Cuban?', b'RACE3M1': b'RACE (FIRST). Which of the following describes your race? You can select as many as apply. White, Black or African American, Asian or Asian American or some other race.', b'RACE3M2': b'RACE (SECOND). Which of the following describes your race? You can select as many as apply. White, Black or African American, Asian or Asian American or some other race.', b'RACE3M3': b'RACE (THIRD). Which of the following describes your race? You can select as many as apply. White, Black or African American, Asian or Asian American or some other race.', b'RACE3M4': b'RACE (FOURTH). Which of the following describes your race? You can select as many as apply. White, Black or African American, Asian or Asian American or some other race.', b'RACEOS': b'Race Other', b'RACECMB': b'Combining Race', b'RACETHN': b'Race/Ethnicity', b'Q153': b'Q153. Are you currently married, in a legal civil union, widowed, divorced, separated, or none of these?', b'Q155': b'Q155. How many people live in your household including yourself?', b'Q156': b'Q156. And how many children under the age of 18 currently live in your household?', b'Q157': b'Q157. How many children have you had?  Please count all your biological children who were born at any time in your life. [In Russia: but do not count adopted children or stepchildren].', b'BIRTH_HISP': b'BIRTH_HISP. Were you born in the United States, on the island of Puerto Rico, or in another country?', b'PARTY': b'PARTY. In politics TODAY, do you consider yourself a Republican, Democrat, or Independent?', b'PARTYLN': b'PARTYLN. As of today do you lean more to the Republican Party or more to the Democratic Party?', b'IDEO': b'IDEO. In general, would you describe your political views as ...', b'TEAPARTY3': b'TEAPARTY3. From what you know, do you agree or disagree with the Tea Party movement, or don\\xe2\\x80\\x99t you have an opinion either way?', b'HH1': b'HH1. How many people, including yourself, live in your household?', b'HH3': b'HH3. How many, including yourself, are adults, age 18 and older?', b'Q158ARG': b'Q158ARG. With which political party do you identify the most?', b'Q158BAN': b'Q158BAN. Which political party, if any, do you feel closest to?', b'Q158BRA': b'Q158BRA. To which political party, if any, do you personally feel closest?', b'Q158BRI': b'Q158BRI. If there was a general election tomorrow which party would you be most inclined to vote for?', b'Q158CHL': b'Q158CHL. If elections were held this Sunday, for which party would you vote?', b'Q158CHI': b'Q158CHI.Are you a member of the Communist Party of China?', b'Q158COL': b'Q158COL. POLITICAL PARTY', b'Q158EGY': b'Q158EGY. What political party, if any, do you feel closest to?', b'Q158ESA': b'Q158ESA. Which political party do you sympathize with currently?', b'Q158FRA': b'Q158FRA.  What political party do you feel is closest to you, or, shall we say, not very far from you?', b'Q158GER': b'Q158GER.  Which political party do you feel closest to? ', b'Q158GHA': b'Q158GHA. Which political party do you identify with most?', b'Q158GRE': b'Q158GRE.  If there was an election tomorrow, which party would you vote for?  ', b'Q158INDIA': b'Q158INDIA. Which political party, if any, do you support?', b'Q158INDO': b'Q158INDO.Which political party if any do you feel close to/goes along with your ideas?', b'Q158ISR': b'Q158ISR. Which political party, if any, do you feel closest to?', b'Q158ITA': b'Q158ITA.  Which political party, if any, do you feel closest to?', b'Q158JOR': b'Q158JOR. What political party, if any, do you feel closest to?', b'Q158JPN': b'Q158JPN. Which party would you vote for if elections were held today? ', b'Q158KEN': b'Q158KEN. If elections were held today, which political party would you vote for', b'Q158LEB': b'Q158LEB. What political party, if any, do you feel closest to?', b'Q158MAL': b'Q158MAL. Which political party, if any, do you feel closest to?', b'Q158MEX': b\"Q158MEX. Independent of the party that you vote for, do you normally consider yourself a 'PANist', 'PRIist', 'PRDist', or other?\", b'Q158NIC': b'Q158NIC. Which political party do you sympathize with currently?\\xc2\\xa0', b'Q158NIG': b'Q158NIG. If elections were held tomorrow, which political party\\xe2\\x80\\x99s candidate would you vote for as national president? ', b'Q158PAK': b'Q158PAK. Which political party do you feel closely attached to?', b'Q158PAL': b'Q158PAL. What political party, if any, do you feel closest to?', b'Q158PER': b'Q158PER. If the presidential election were held tomorrow, how will you vote?', b'Q158PHI': b'Q158PHI. Which political party, if any, do you feel closest to?', b'Q158POL': b'Q158POL. With which political party\\xe2\\x80\\x99s views do you most sympathize?', b'Q158RUS': b'Q158RUS. Which political party views are most close to you?', b'Q158SEN': b'Q158SEN For which political party or political personality do you have a preference presently?  ', b'Q158RSA': b'Q158RSA. To which political party, if any, do you feel closest?', b'Q158SKOR': b'Q158KOR. Currently there are many political parties in Korea such as Saenuri Party, Democratic United Party, Unified Progressive Party, Progressive Justice Party, and, etc. Which one do you support?', b'Q158SPA': b'Q158SPA. Talking about politics, for which political party do you feel more sympathy or is closest to your ideas?', b'Q158TAN': b'Q158TAN. If there was an election tomorrow, which party would you vote for?', b'Q158TUN': b'Q158TUN. What political party do you feel closest to?', b'Q158TUR': b'Q158TUR. Which political party do you feel yourself close to?', b'Q158BTUR': b'Q158bTUR. Which party did you vote for at the Municipal Elections of March 30, 2014?', b'Q158UGA': b'Q158UGA.To which political party, if any, do you personally feel closest? ', b'Q158UKR': b'Q158UKR. Which party do you feel is closest to your current political views?', b'Q158VEN': b'Q158VEN. What, if any, political party would you say you sympathize most with? ', b'Q159': b'Q159.  Some people talk about politics in terms of left, center and right.  On a left-right scale from 0 to 6, with 0 indicating extreme left and 6 indicating extreme right, where would you place yourself?', b'Q160': b'Q160. Do you have a working landline telephone in your house or not?', b'CALL1': b'CALL1. Does anyone in your household have a working cell phone?', b'CALL2': b'CALL2. Of all the telephone calls that you receive, do you get...', b'CALL3': b'CALL3. Now thinking about all the people in your household, including yourself, of all the telephone calls that your household receives, are...', b'Q160A': b'Q160A. Do you speak at least some English?', b'Q160B': b'Q160B. And can you read at least some English?', b'UKR11': b'UKR11. What languages do you usually speak at home?', b'UKR11.2': b'UKR11. What languages do you usually speak at home?- 2nd mentioned', b'UKR12': b'UKR12. And which other languages do you speak during a typical day?', b'UKR12.2': b'UKR12. And which other languages do you speak during a typical day?- 2nd mentioned', b'QL1': b'L1. Now thinking about your telephone use\\xe2\\x80\\xa6 Do you have a working cell phone?', b'QL1A': b'L1a. Does anyone in your household have a working cell phone?', b'QC1': b'C1. Now thinking about your telephone use\\xe2\\x80\\xa6 Is there at least one telephone INSIDE your home that is currently working and is not a cell phone?', b'LC2': b'LC2. Of all the telephone calls that you receive, do you get [READ AND RANDOMIZE OPTIONS 1 AND 3-KEEP 2 ALWAYS IN THE MIDDLE]?', b'LC3': b'LC3. Now thinking about all the people in your household, including yourself, of all the telephone calls that your household receives, are [READ AND RANDOMIZE OPTIONS 1 AND 3\\xe2\\x80\\x94KEEP 2 ALWAYS IN THE MIDDLE]?', b'Q164ARG': b'Q164ARG. Language in which interview was conducted', b'Q164BAN': b'Q164BAN. Language in which interview was conducted', b'Q164BRA': b'Q164BRA. Language in which interview was conducted', b'Q164BRI': b'Q164BRI. Language in which interview was conducted', b'Q164CHL': b'Q164CHL. Language in which interview was conducted', b'Q164CHI': b'Q164CHI. Language in which interview was conducted', b'Q164COL': b'Q164COL. Language in which interview was conducted', b'Q164EGY': b'Q164EGY. Language in which interview was conducted', b'Q164ESA': b'Q164ESA. Language in which interview was conducted', b'Q164FRA': b'Q164FRA. Language in which interview was conducted', b'Q164GER': b'Q164GER. Language in which interview was conducted', b'Q164GHA': b'Q164GHA. Language in which interview was conducted', b'Q164GRE': b'Q164GRE.  Language in which interview was conducted', b'Q164INDIA': b'Q164INDIA. Language in which interview was conducted', b'Q164INDO': b'Q164INDO. Language in which interview was conducted', b'Q164ISR': b'Q164ISR. Language in which interview was conducted', b'Q164ITA': b'Q164ITA.  Language in which interview was conducted', b'Q164JOR': b'Q164JOR. Language in which interview was conducted', b'Q164JPN': b'Q164JPN. Language in which interview was conducted', b'Q164KEN': b'Q164KEN. Language in which interview was conducted', b'Q164LEB': b'Q164LEB. Language in which interview was conducted', b'Q164MAL': b'Q164MAL. Language in which interview was conducted', b'Q164MEX': b'Q164MEX. Language in which interview was conducted', b'Q164NIC': b'Q164NIC. Language in which interview was conducted', b'Q164NIG': b'Q164NIG. Language in which interview was conducted', b'Q164PAK': b'Q164PAK. Language in which interview was conducted', b'Q164PAL': b'Q164PAL. Language in which interview was conducted', b'Q164PER': b'Q164PER. Language in which interview was conducted', b'Q164PHI': b'Q164PHI. Language in which interview was conducted', b'Q164POL': b'Q164POL. Language in which interview was conducted', b'Q164RUS': b'Q164RUS. Language in which interview was conducted', b'Q164SEN': b'Q164SEN Language in which interview was conducted', b'Q164RSA': b'Q164RSA. Language in which interview was conducted', b'Q164SKOR': b'Q164SKOR. Language in which interview was conducted', b'Q164SPA': b'Q164SPA. Language in which interview was conducted', b'Q164TAN': b'Q164TAN. Language in which interview is conducted', b'Q164THAI': b'Q164THAI Language in which interview was conducted', b'Q164TUN': b'Q164TUN. Language in which interview was conducted', b'Q164TUR': b'Q164TUR. Language in which interview was conducted', b'Q164UGA': b'Q164UGA.Language in which interview was conducted', b'Q164UKR': b'Q164UKR. Language in which interview was conducted', b'Q164US': b'Q164US. Language in which interview was conducted - United States', b'Q164VEN': b'Q164VEN. Language in which interview was conducted', b'Q164VIE': b'Q164VIE. Language in which interview was conducted', b'Q165': b'Q165. Date of interview', b'Q174': b'Q174. Was this a landline or cell phone only household?', b'Q175ARG': b'Q175ARG. Region', b'Q175BAN': b'Q175BAN. Administrative division', b'Q175BCHI': b'Q175bCHI.Name of Province', b'Q175BRA': b'Q175BRA. Region', b'Q175BRI': b'Q175BRI.  Which region are you currently living in?', b'Q175CHI': b'Q175CHI.Region', b'Q175CHL': b'Q175CHL. Region', b'Q175COL': b'Q175COL. Region', b'Q175EGY': b'Q175EGY. Governorate', b'Q175ESA': b'Q175ESA. Department', b'Q175FRA': b'Q175FRA. Region', b'Q175GER': b'Q175GER.  Region', b'Q175GHA': b'Q175GHA. Region', b'Q175GRE': b'Q175GRE. Region ', b'Q175INDIA': b'Q175INDIA. Region', b'Q175INDO': b'Q175INDO.Region', b'Q175ISR': b'Q175ISR. District', b'Q175ITA': b'Q175ITA.  Region', b'Q175JOR': b'Q175JOR. Region of country where the interview was conducted', b'Q175JPN': b'Q175JPN. Region', b'Q175KEN': b'Q175KEN. Region', b'Q175LEB': b'Q175LEB. Region of country where interview was conducted', b'Q175MAL': b'Q175MAL. Region', b'Q175MEX': b'Q175MEX. Region', b'Q175NIC': b'Q175NIC. Department', b'Q175NIG': b'Q175NIG . Region', b'Q175PAK': b'Q175PAK. Region of country where the interview was conducted', b'Q175PAL': b'Q175PAL.  Geographic Area', b'Q175PER': b'Q175PER. Region', b'Q175PHI': b'Q175PHI. Region', b'Q175POL': b'Q175POL. Province ', b'Q175RUS': b'Q175RUS. Region', b'Q175SEN': b'Q175SEN Region', b'Q175RSA': b'Q175RSA. Province', b'Q175bRSA': b'Q175bRSA. Region', b'Q175SKOR': b'Q175SKOR. Region', b'Q175SPA': b'Q175SPA. Region (Autonomous Community)', b'Q175TAN': b'Q175TAN. Province', b'Q175THAI': b'Q175THAI Region', b'Q175TUN': b'Q175TUN. Governorate', b'Q175ATUR': b'Q175ATUR. Region (NUTS 2)', b'Q175BTUR': b'Q175BTUR. Region (NUTS 1)', b'Q175CTUR': b'Q175CTUR. Region (2014 Stratification)', b'Q175UGA': b'Q175UGA.Region ', b'Q175UKR': b'Q175UKR. Region', b'Q175US': b'Q175US. U.S. Census Region', b'Q175VEN': b'Q175VEN. Region of country where the interview was conducted', b'Q175VIE': b'Q175VIE. Region', b'Q176BRI': b'Q176BRI. How would you describe the area where you live?', b'Q178FRA': b'Q178FRA. Urbanity  ', b'Q178GER': b'Q178GER. Urbanity    ', b'Q178NIC': b'Q178NIC. Urbanity', b'Q178PHI': b'Q178PHI. Urbanity', b'Q178RSA': b'Q178RSA. Urbanity', b'Q178SKOR': b'Q178SKOR. Urbanity', b'Q178SPA': b'Q178SPA. Urbanity', b'Q179CHL': b'Q179CHL. Urbanity', b'Q179EGY': b'Q179EGY. Urbanity', b'Q179ESA': b'Q179ESA. Urbanity', b'Q179GER': b'Q179GER. Do you live in an urban, suburban or rural location?', b'Q179ISR': b'Q179ISR. Urbanity', b'Q179JPN': b'Q179JPN. Urbanity', b'Q179LEB': b'Q179LEB. Urbanity', b'Q179TAN': b'Q179TAN. Urbanity', b'Q179THAI': b'Q179THAI Urbanity', b'Q179VEN': b'Q179VEN. Urbanity', b'Q180GHA': b'Q180GHA. Urbanity', b'Q180GRE': b'Q180GRE. Urbanity', b'Q180ITA': b'Q180ITA.  Urbanity', b'Q180JOR': b'Q180JOR. Urbanity', b'Q180NIG': b'Q180NIG. Urbanity', b'Q180POL': b'Q180POL. Urbanity', b'Q180TUN': b'Q180TUN. Urbanity', b'Q180VIE': b'Q180VIE. Urbanity', b'Q181BRA': b'Q181BRA. Urbanity', b'Q181COL': b'Q181COL Urbanity  ', b'Q181GRE': b'Q181GRE. Urbanity', b'Q181INDO': b'Q181INDO.Urbanity', b'Q181KEN': b'Q181KEN. Urbanity', b'Q181MAL': b'Q181MAL. Urbanity', b'Q181MEX': b'Q181MEX. Urbanity', b'Q181PAL': b'Q181PAL. Urbanity', b'Q181PER': b'Q181PER. Urbanity', b'Q181TUR': b'Q181TUR. Urbanity', b'Q181UKR': b'Q181UKR. Urbanity', b'Q182ARG': b'Q182ARG. Urbanity', b'Q182BAN': b'Q182BAN. Urbanity', b'Q182CHI': b'Q182CHI.Urbanity', b'Q182PAK': b'Q182PAK. Urbanity', b'Q182RUS': b'Q182RUS. Population size of settlement', b'Q182UGA': b'Q182UGA.Urbanity ', b'Q183RUS': b'Q183RUS. Urbanity', b'Q184INDIA': b'Q184INDIA. Tier', b'Q185INDIA': b'Q185INDIA. Urbanity', b'IPHONEUSE': b'Individual phone use', b'CELLBRIB': b'CELLBRIb. Can I just check, do you have a landline telephone in your household, or do you just have your mobile?', b'LANDGERA': b'LANDGERa. How many landline telephone numbers are in your household that are used privately by you or any other household member?', b'CELLGERC': b'CELLGERc. Currently, how many cell phones do you personally use, regardless of whether you use them privately or professionally?', b'CELLSPA': b'CELLSPA. For this survey we are looking for households without a landline telephone.  Do you have a landline telephone in your household?', b'STRATUM_ARG': b'Stratum Argentina', b'STRATUM_BAN': b'Stratum Bangladesh', b'STRATUM_BRA': b'Stratum Brazil', b'STRATUM_BRI': b'Stratum Britain', b'STRATUM_CHL': b'Stratum Chile', b'STRATUM_CHI': b'Stratum China', b'STRATUM_COL': b'Stratum Colombia', b'STRATUM_EGY': b'Stratum Egypt', b'STRATUM_ESA': b'Stratum El Salvador', b'STRATUM_FRA': b'Stratum France', b'STRATUM_GER': b'Stratum Germany', b'STRATUM_GHA': b'Stratum Ghana', b'STRATUM_GRE': b'Stratum Greece', b'STRATUM_INDIA': b'Stratum India', b'STRATUM_INDO': b'STRATUM Indonesia', b'STRATUM_ISR': b'STRATUM Israel', b'STRATUM_ITA': b'Stratum Italy', b'STRATUM_JPN': b'Stratum Japan', b'STRATUM_JOR': b'Stratum Jordan', b'STRATUM_KEN': b'Stratum Kenya', b'STRATUM_LEB': b'Stratum Lebanon', b'STRATUM_MALA': b'Stratum Malaysia', b'STRATUM_MEX': b'Stratum Mexico', b'STRATUM_NIC': b'Stratum Nicaragua', b'STRATUM_NIG': b'Stratum Nigeria', b'STRATUM_PAK': b'Stratum Pakistan', b'STRATUM_PAL': b'Stratum Palestinian Territories', b'STRATUM_PER': b'Stratum Peru', b'STRATUM_PHI': b'STRATUM Philippines', b'STRATUM_POL': b'Stratum Poland', b'STRATUM_RUS': b'Stratum Russia', b'STRATUM_SEN': b'Stratum Senegal', b'STRATUM_RSA': b'Stratum South Africa', b'STRATUM_SPA': b'Stratum Spain', b'STRATUM_TAN': b'Stratum Tanzania', b'STRATUM_THAI': b'Stratum Thailand', b'STRATUM_TUN': b'STRATUM Tunisia', b'STRATUM_TUR': b'Stratum Turkey', b'STRATUM_UGA': b'STRATUM Uganda', b'STRATUM_UKR': b'Stratum Ukraine', b'STRATUM_VEN': b'Venezuela Stratum', b'STRATUM_VIE': b'Stratum Vietnam', b'PHONETYPE': b'Phonetype', b'USR': b'Community type - merge from Zip 2012', b'HPHONEUSE': b'Household telephone use', b'RACETHN2': b'Race/Ethnicity with nativity for Hispanics', b'LL': b'Resp has a landline', b'CP': b'Resp has a cell phone', b'weight': b'final weight', b'PSU': b'', b'stratum': b''}\n"
     ]
    }
   ],
   "source": [
    "#Trying to read and decipher the .sav file headers\n",
    "with SavHeaderReader('/home/farhaan/ds/metis/metisgh/Test_box/03_Rough_folder/Pew Research Global Attitudes Spring 2014 Dataset for web.sav') as header:\n",
    "    metadata = header.all()\n",
    "    print(metadata.varLabels)"
   ]
  },
  {
   "cell_type": "markdown",
   "metadata": {},
   "source": [
    "After a fair amount of time spent comparing the original pew questionnaire and the above metadata jumble,\n",
    "Turns out the metadata contains information about the questions in the survey such as: full question, answer options, etc.\n",
    "Notably the length of the first element of the metadata is the same as the number of columns in the raw dataframe.\n",
    "Coincidence? I think not!"
   ]
  },
  {
   "cell_type": "code",
   "execution_count": 13,
   "metadata": {
    "collapsed": true
   },
   "outputs": [],
   "source": [
    "#Getting a list of all the Question names so that the columns may be renamed\n",
    "# The question names are in byte format so I am 'decode'-ing them to read as utf-8 strings\n",
    "q_names_all = []\n",
    "for ind , qname in enumerate(list(metadata)[0]):\n",
    "    q_names_all.append(qname.decode())\n",
    "\n",
    "#Let's go ahead and rename the columns of the raw dataframe for readability    \n",
    "df_raw.columns = q_names_all"
   ]
  },
  {
   "cell_type": "code",
   "execution_count": 14,
   "metadata": {
    "collapsed": true
   },
   "outputs": [],
   "source": [
    "# I want to create an easily queriable dictionary with full survey question\n",
    "# wording and possible responses\n",
    "q_full_dict = defaultdict(dict)\n",
    "for key,value in list(metadata)[3].items():\n",
    "    q_full_dict[key.decode()]=value\n",
    "\n",
    "    \n",
    "q_responses_dict = defaultdict(dict)\n",
    "for key,value in list(metadata)[2].items():\n",
    "    q_responses_dict[key.decode()]=value"
   ]
  },
  {
   "cell_type": "markdown",
   "metadata": {},
   "source": [
    "# Super-basic data-cleaning"
   ]
  },
  {
   "cell_type": "code",
   "execution_count": 15,
   "metadata": {},
   "outputs": [
    {
     "name": "stdout",
     "output_type": "stream",
     "text": [
      "<class 'pandas.core.frame.DataFrame'>\n",
      "RangeIndex: 48643 entries, 0 to 48642\n",
      "Columns: 1150 entries, PSRAID to stratum\n",
      "dtypes: float64(1087), object(63)\n",
      "memory usage: 426.8+ MB\n"
     ]
    }
   ],
   "source": [
    "#A quick info method on the raw dataframe shows that we have a fair number of dtype \"objects\"\n",
    "df_raw.info()"
   ]
  },
  {
   "cell_type": "code",
   "execution_count": 16,
   "metadata": {},
   "outputs": [
    {
     "name": "stdout",
     "output_type": "stream",
     "text": [
      "List of excluded columns\n",
      " ['QRELARGA', 'QRELBANA', 'QRELBANB', 'QRELBRAB', 'QRELBRIA', 'QRELCHIA', 'QRELCOLA', 'QRELEGYA', 'QRELEGYB', 'QRELESAA', 'QRELFRAA', 'QRELGERA', 'QRELGHAA', 'QRELGREA', 'QRELINDB', 'QRELINDOB', 'QRELISRA', 'QRELISRB', 'QRELIITAA', 'QRELJPNA', 'QRELJPNB', 'QRELJORA', 'QRELJORB', 'QRELKENA', 'QRELLEBA', 'QRELLEBB', 'QRELMALA', 'QRELMALB', 'QRELMEXA', 'QRELNICA', 'QRELNIGA', 'QRELPAKA', 'QRELPAKB', 'QRELPALA', 'QRELPALB', 'QRELPERA', 'QRELPHIA', 'QRELPOLA', 'QRELRUSA', 'QRELSENA', 'QRELSENB', 'QRELRSAa', 'QRELSPAA', 'QRELTANA', 'QRELTUNB', 'QRELTURA', 'QRELTURB', 'QRELUGAA', 'QRELUSA', 'QRELUKRB', 'QRELVENB', 'QRELVIEA', 'QRELVIEB', 'Q96A_1OTH', 'Q96A_2OTH', 'Q96A_3OTH', 'Q96B_1OTH', 'Q96B_2OTH', 'Q96B_3OTH', 'Q138BPHI', 'RACE3M4', 'RACEOS', 'USR']\n"
     ]
    }
   ],
   "source": [
    "#Cross-referencing these with the survey question codes shows that\n",
    "#these are not questions of interest for this project\n",
    "#thus we will create a new dataframe that excludes these columns\n",
    "print(\"List of excluded columns\\n\",list(df_raw.select_dtypes(include=[object]).columns))\n",
    "\n",
    "non_object_cols_df = df_raw.select_dtypes(exclude=[object])"
   ]
  },
  {
   "cell_type": "markdown",
   "metadata": {},
   "source": [
    "## Attention!\n",
    "\n",
    "Q2A and Q2B are a measure of the target dependent variables:\n",
    "An indicator of how satisfied people are with their life.\n",
    "\n",
    "\n",
    "They are esentially, the same question but one (Q2A) is for people\n",
    "interviewed in person whereas (Q2B) is for people that were\n",
    "interviewed over the phone.\n",
    "- Note there are a lot more people who did in-person interviews than phone interviews"
   ]
  },
  {
   "cell_type": "code",
   "execution_count": 17,
   "metadata": {},
   "outputs": [
    {
     "name": "stdout",
     "output_type": "stream",
     "text": [
      "Face-to-face non-null Interview responses to Q2: 40620\n",
      "Telephone non-null Interview responses to Q2: 7023\n"
     ]
    }
   ],
   "source": [
    "print(f'Face-to-face non-null Interview responses to Q2: {non_object_cols_df.loc[:,[\"Q2A\"]].notnull().sum()[0]}')\n",
    "print(f'Telephone non-null Interview responses to Q2: {non_object_cols_df.loc[:,[\"Q2B\"]].notnull().sum()[0]}')"
   ]
  },
  {
   "cell_type": "code",
   "execution_count": 18,
   "metadata": {},
   "outputs": [
    {
     "data": {
      "text/html": [
       "<div>\n",
       "<style>\n",
       "    .dataframe thead tr:only-child th {\n",
       "        text-align: right;\n",
       "    }\n",
       "\n",
       "    .dataframe thead th {\n",
       "        text-align: left;\n",
       "    }\n",
       "\n",
       "    .dataframe tbody tr th {\n",
       "        vertical-align: top;\n",
       "    }\n",
       "</style>\n",
       "<table border=\"1\" class=\"dataframe\">\n",
       "  <thead>\n",
       "    <tr style=\"text-align: right;\">\n",
       "      <th></th>\n",
       "      <th>Q2A</th>\n",
       "      <th>Q2B</th>\n",
       "    </tr>\n",
       "  </thead>\n",
       "  <tbody>\n",
       "    <tr>\n",
       "      <th>21683</th>\n",
       "      <td>8.0</td>\n",
       "      <td>NaN</td>\n",
       "    </tr>\n",
       "    <tr>\n",
       "      <th>1516</th>\n",
       "      <td>NaN</td>\n",
       "      <td>8.0</td>\n",
       "    </tr>\n",
       "    <tr>\n",
       "      <th>30540</th>\n",
       "      <td>5.0</td>\n",
       "      <td>NaN</td>\n",
       "    </tr>\n",
       "    <tr>\n",
       "      <th>21385</th>\n",
       "      <td>6.0</td>\n",
       "      <td>NaN</td>\n",
       "    </tr>\n",
       "    <tr>\n",
       "      <th>28072</th>\n",
       "      <td>5.0</td>\n",
       "      <td>NaN</td>\n",
       "    </tr>\n",
       "    <tr>\n",
       "      <th>1295</th>\n",
       "      <td>NaN</td>\n",
       "      <td>8.0</td>\n",
       "    </tr>\n",
       "    <tr>\n",
       "      <th>31490</th>\n",
       "      <td>6.0</td>\n",
       "      <td>NaN</td>\n",
       "    </tr>\n",
       "    <tr>\n",
       "      <th>8597</th>\n",
       "      <td>10.0</td>\n",
       "      <td>NaN</td>\n",
       "    </tr>\n",
       "    <tr>\n",
       "      <th>10399</th>\n",
       "      <td>5.0</td>\n",
       "      <td>NaN</td>\n",
       "    </tr>\n",
       "    <tr>\n",
       "      <th>47992</th>\n",
       "      <td>8.0</td>\n",
       "      <td>NaN</td>\n",
       "    </tr>\n",
       "    <tr>\n",
       "      <th>46686</th>\n",
       "      <td>5.0</td>\n",
       "      <td>NaN</td>\n",
       "    </tr>\n",
       "    <tr>\n",
       "      <th>34096</th>\n",
       "      <td>3.0</td>\n",
       "      <td>NaN</td>\n",
       "    </tr>\n",
       "    <tr>\n",
       "      <th>13949</th>\n",
       "      <td>7.0</td>\n",
       "      <td>NaN</td>\n",
       "    </tr>\n",
       "    <tr>\n",
       "      <th>45204</th>\n",
       "      <td>10.0</td>\n",
       "      <td>NaN</td>\n",
       "    </tr>\n",
       "    <tr>\n",
       "      <th>46136</th>\n",
       "      <td>5.0</td>\n",
       "      <td>NaN</td>\n",
       "    </tr>\n",
       "  </tbody>\n",
       "</table>\n",
       "</div>"
      ],
      "text/plain": [
       "        Q2A  Q2B\n",
       "21683   8.0  NaN\n",
       "1516    NaN  8.0\n",
       "30540   5.0  NaN\n",
       "21385   6.0  NaN\n",
       "28072   5.0  NaN\n",
       "1295    NaN  8.0\n",
       "31490   6.0  NaN\n",
       "8597   10.0  NaN\n",
       "10399   5.0  NaN\n",
       "47992   8.0  NaN\n",
       "46686   5.0  NaN\n",
       "34096   3.0  NaN\n",
       "13949   7.0  NaN\n",
       "45204  10.0  NaN\n",
       "46136   5.0  NaN"
      ]
     },
     "execution_count": 18,
     "metadata": {},
     "output_type": "execute_result"
    }
   ],
   "source": [
    "non_object_cols_df.loc[:,['Q2A','Q2B']].sample(15,random_state=40)"
   ]
  },
  {
   "cell_type": "markdown",
   "metadata": {},
   "source": [
    "In order to accurately analyze this data,\n",
    "we need a column that contains the responses of Q2A AND Q2B,\n",
    "whichever one was used to find out the target response.\n",
    "So, let's create a new column 'Q2agg' with just that information.\n",
    "And then drop any rows that still have NaN values for 'Q2Agg'"
   ]
  },
  {
   "cell_type": "code",
   "execution_count": 19,
   "metadata": {},
   "outputs": [
    {
     "name": "stderr",
     "output_type": "stream",
     "text": [
      "/home/farhaan/anaconda3/lib/python3.6/site-packages/ipykernel_launcher.py:10: SettingWithCopyWarning:\n",
      "\n",
      "\n",
      "A value is trying to be set on a copy of a slice from a DataFrame.\n",
      "Try using .loc[row_indexer,col_indexer] = value instead\n",
      "\n",
      "See the caveats in the documentation: http://pandas.pydata.org/pandas-docs/stable/indexing.html#indexing-view-versus-copy\n",
      "\n"
     ]
    }
   ],
   "source": [
    "choice_columns=['Q2A, Q2B']\n",
    "def pick_cell_with_notnull_value(row):\n",
    "    if pd.notnull(row['Q2A']):\n",
    "        return row['Q2A']\n",
    "    elif pd.notnull(row['Q2B']):\n",
    "        return row['Q2B']\n",
    "    else:\n",
    "        return None\n",
    "\n",
    "non_object_cols_df['Q2agg']=non_object_cols_df.apply(pick_cell_with_notnull_value,axis=1)\n",
    "non_object_cols_df=non_object_cols_df.dropna(axis=0,subset=['Q2agg'])\n",
    "#also remove 98 \"Don't know\" and 99 Refused\"  values from dataset\n",
    "non_object_cols_df = non_object_cols_df[non_object_cols_df['Q2agg']<=10]"
   ]
  },
  {
   "cell_type": "markdown",
   "metadata": {},
   "source": [
    "Unfortunately, a lot of the data columns have information that were country-specific or didn't contain data that might be 'useful' in creating a model.\n",
    "\n",
    "So, I'm removing those questions, and focusing on a select questions on which to perform analysis."
   ]
  },
  {
   "cell_type": "code",
   "execution_count": 36,
   "metadata": {
    "collapsed": true
   },
   "outputs": [],
   "source": [
    "#Selecting columns of interest to be used in analysis\n",
    "desired_cols= ['Q2agg','COUNTRY','Q5','Q9','Q10','Q11','Q13A','Q13B','Q23A','Q23B','Q23C','Q23D','Q27',\n",
    "               'Q28','Q30','Q66A','Q66B','Q66C','Q66D','Q66E','Q66F','Q66G','Q77B','Q132','Q133','Q153']\n",
    "\n",
    "desired_cols_df = non_object_cols_df[desired_cols]"
   ]
  },
  {
   "cell_type": "code",
   "execution_count": 37,
   "metadata": {},
   "outputs": [
    {
     "name": "stdout",
     "output_type": "stream",
     "text": [
      "<class 'pandas.core.frame.DataFrame'>\n",
      "Int64Index: 47418 entries, 0 to 48642\n",
      "Data columns (total 26 columns):\n",
      "Q2agg      47418 non-null float64\n",
      "COUNTRY    47418 non-null float64\n",
      "Q5         47418 non-null float64\n",
      "Q9         47418 non-null float64\n",
      "Q10        47418 non-null float64\n",
      "Q11        47418 non-null float64\n",
      "Q13A       47418 non-null float64\n",
      "Q13B       47418 non-null float64\n",
      "Q23A       47418 non-null float64\n",
      "Q23B       47418 non-null float64\n",
      "Q23C       47418 non-null float64\n",
      "Q23D       47418 non-null float64\n",
      "Q27        47418 non-null float64\n",
      "Q28        47418 non-null float64\n",
      "Q30        47418 non-null float64\n",
      "Q66A       47418 non-null float64\n",
      "Q66B       47418 non-null float64\n",
      "Q66C       47418 non-null float64\n",
      "Q66D       47418 non-null float64\n",
      "Q66E       47418 non-null float64\n",
      "Q66F       47418 non-null float64\n",
      "Q66G       47418 non-null float64\n",
      "Q77B       47418 non-null float64\n",
      "Q132       47418 non-null float64\n",
      "Q133       47418 non-null float64\n",
      "Q153       47418 non-null float64\n",
      "dtypes: float64(26)\n",
      "memory usage: 9.8 MB\n"
     ]
    }
   ],
   "source": [
    "#Much lesser memory usage since so many columns were dropped!\n",
    "desired_cols_df.info()"
   ]
  },
  {
   "cell_type": "code",
   "execution_count": 80,
   "metadata": {
    "collapsed": true
   },
   "outputs": [],
   "source": [
    "#Cleaning rows where respondent of refusal to answer questions\n",
    "cleaned_df = deepcopy(desired_cols_df)\n",
    "cleaned_df = cleaned_df[cleaned_df['Q5']!=9]\n",
    "# cleaned_df = cleaned_df[cleaned_df['Q10']!=9]\n",
    "# cleaned_df = cleaned_df[cleaned_df['Q11']!=9]\n",
    "# cleaned_df = cleaned_df[cleaned_df['Q13A']!=9]\n",
    "# cleaned_df = cleaned_df[cleaned_df['Q13B']!=9]\n",
    "# cleaned_df = cleaned_df[cleaned_df['Q23A']!=9]\n",
    "# cleaned_df = cleaned_df[cleaned_df['Q23B']!=9]\n",
    "# cleaned_df = cleaned_df[cleaned_df['Q23C']!=9]\n",
    "# cleaned_df = cleaned_df[cleaned_df['Q23D']!=9]\n",
    "# cleaned_df = cleaned_df[cleaned_df['Q27']!=9]\n",
    "# cleaned_df = cleaned_df[cleaned_df['Q28']!=9]\n",
    "# cleaned_df = cleaned_df[cleaned_df['Q30']!=9]\n",
    "cleaned_df = cleaned_df[cleaned_df['Q66A']!=98]\n",
    "cleaned_df = cleaned_df[cleaned_df['Q66B']!=98]\n",
    "cleaned_df = cleaned_df[cleaned_df['Q66C']!=98]\n",
    "cleaned_df = cleaned_df[cleaned_df['Q66D']!=98]\n",
    "cleaned_df = cleaned_df[cleaned_df['Q66E']!=98]\n",
    "cleaned_df = cleaned_df[cleaned_df['Q66F']!=98]\n",
    "cleaned_df = cleaned_df[cleaned_df['Q66G']!=98]\n",
    "cleaned_df = cleaned_df[cleaned_df['Q66A']!=99]\n",
    "cleaned_df = cleaned_df[cleaned_df['Q66B']!=99]\n",
    "cleaned_df = cleaned_df[cleaned_df['Q66C']!=99]\n",
    "cleaned_df = cleaned_df[cleaned_df['Q66D']!=99]\n",
    "cleaned_df = cleaned_df[cleaned_df['Q66E']!=99]\n",
    "cleaned_df = cleaned_df[cleaned_df['Q66F']!=99]\n",
    "cleaned_df = cleaned_df[cleaned_df['Q66G']!=99]\n",
    "cleaned_df = cleaned_df[cleaned_df['Q133']<=97]"
   ]
  },
  {
   "cell_type": "code",
   "execution_count": 81,
   "metadata": {},
   "outputs": [
    {
     "data": {
      "text/plain": [
       "(44899, 26)"
      ]
     },
     "execution_count": 81,
     "metadata": {},
     "output_type": "execute_result"
    }
   ],
   "source": [
    "#After cleaning, the data has shrunk slightly from ~47400 to ~44100\n",
    "cleaned_df.shape"
   ]
  },
  {
   "cell_type": "code",
   "execution_count": 82,
   "metadata": {},
   "outputs": [
    {
     "data": {
      "text/plain": [
       "7.0     8622\n",
       "5.0     8317\n",
       "8.0     7406\n",
       "6.0     7068\n",
       "4.0     3380\n",
       "9.0     2847\n",
       "10.0    2785\n",
       "3.0     2187\n",
       "2.0     1117\n",
       "1.0      607\n",
       "0.0      563\n",
       "Name: Q2agg, dtype: int64"
      ]
     },
     "execution_count": 82,
     "metadata": {},
     "output_type": "execute_result"
    }
   ],
   "source": [
    "# The distribution of the satisfaction ratings where 10 is the highest and 0 is the lowest is as such:\n",
    "cleaned_df['Q2agg'].value_counts()"
   ]
  },
  {
   "cell_type": "code",
   "execution_count": 171,
   "metadata": {},
   "outputs": [
    {
     "data": {
      "text/plain": [
       "[<matplotlib.lines.Line2D at 0x7ff68db79a58>]"
      ]
     },
     "execution_count": 171,
     "metadata": {},
     "output_type": "execute_result"
    },
    {
     "data": {
      "image/png": "[encoded data removed]",
      "text/plain": [
       "<matplotlib.figure.Figure at 0x7ff6897404e0>"
      ]
     },
     "metadata": {},
     "output_type": "display_data"
    }
   ],
   "source": [
    "#This is the distribution of numerical satisfaction ratings\n",
    "plt.hist(cleaned_df.loc[:,'Q2agg'],bins=11,range=(0,11),align='left',color=colors_for_plots[0],rwidth=0.9)\n",
    "plt.title(\"Distribution of satisfaction with current state in life\\n(On a scale of 0 - 10)\")\n",
    "plt.xlabel(\"Rating: 0 - 10\")\n",
    "plt.ylabel(\"Count of responses\")\n",
    "plt.plot([6.5, 6.5], [0, 9000], 'b-', lw=4)"
   ]
  },
  {
   "cell_type": "code",
   "execution_count": 148,
   "metadata": {},
   "outputs": [
    {
     "data": {
      "text/plain": [
       "<matplotlib.text.Text at 0x7ff689daf278>"
      ]
     },
     "execution_count": 148,
     "metadata": {},
     "output_type": "execute_result"
    },
    {
     "data": {
      "image/png": "[encoded data removed]",
      "text/plain": [
       "<matplotlib.figure.Figure at 0x7ff6896346d8>"
      ]
     },
     "metadata": {},
     "output_type": "display_data"
    }
   ],
   "source": [
    "#This is the distribution of ages of repondents\n",
    "plt.hist(cleaned_df.loc[:,'Q133'],bins=20,range=(0,100),align='left',color=colors_for_plots[3],rwidth=0.9)\n",
    "plt.title(\"Respondent Age distribution\")\n",
    "plt.xticks(np.arange(0,110,10))\n",
    "plt.xlabel(\"Age\")\n",
    "plt.ylabel(\"Count\")"
   ]
  },
  {
   "cell_type": "markdown",
   "metadata": {},
   "source": [
    "**Separation into classes**\n",
    "\n",
    "It seems like around half the population had ratings between 0 and 6 and another half had rating between 7 and 10.\n",
    "Arguably, this boundary can serve as a means to distinguish between respondents that were *Satisfied* with their perceived position on the 'ladder of life' and those that were *Dissatisfied*."
   ]
  },
  {
   "cell_type": "code",
   "execution_count": 85,
   "metadata": {
    "collapsed": true
   },
   "outputs": [],
   "source": [
    "#giving a satisfaction rating of Satisfied/Unsatisfied based on answer to Q2 ('Q2agg')\n",
    "def satisfaction_rating(row):\n",
    "    # Q2agg of 7 or higher\n",
    "    if row['Q2agg']>=7:\n",
    "        return \"Satisfied\"\n",
    "    # Q2agg of 0-6\n",
    "    else:\n",
    "        return \"Dissatisfied\"\n",
    "    \n",
    "cleaned_df['satisfaction_rating']=cleaned_df.apply(satisfaction_rating,axis=1)"
   ]
  },
  {
   "cell_type": "code",
   "execution_count": 86,
   "metadata": {},
   "outputs": [
    {
     "name": "stdout",
     "output_type": "stream",
     "text": [
      "Respondents that were Dissatisfied with their current lot in life: 51.7%\n",
      "Respondents that were Satisfied with their current lot in life: 48.2%\n"
     ]
    }
   ],
   "source": [
    "sat_dissat_split = pd.Series(cleaned_df.iloc[:,-1].value_counts(normalize=True))\n",
    "print(f'Respondents that were {sat_dissat_split.index[0]} with their current lot in life: {str(sat_dissat_split[0]*100)[0:4]}%')\n",
    "print(f'Respondents that were {sat_dissat_split.index[1]} with their current lot in life: {str(sat_dissat_split[1]*100)[0:4]}%')"
   ]
  },
  {
   "cell_type": "code",
   "execution_count": 87,
   "metadata": {
    "scrolled": true
   },
   "outputs": [
    {
     "data": {
      "text/html": [
       "<div>\n",
       "<style>\n",
       "    .dataframe thead tr:only-child th {\n",
       "        text-align: right;\n",
       "    }\n",
       "\n",
       "    .dataframe thead th {\n",
       "        text-align: left;\n",
       "    }\n",
       "\n",
       "    .dataframe tbody tr th {\n",
       "        vertical-align: top;\n",
       "    }\n",
       "</style>\n",
       "<table border=\"1\" class=\"dataframe\">\n",
       "  <thead>\n",
       "    <tr style=\"text-align: right;\">\n",
       "      <th></th>\n",
       "      <th>Q2agg</th>\n",
       "      <th>COUNTRY</th>\n",
       "      <th>Q5</th>\n",
       "      <th>Q9</th>\n",
       "      <th>Q10</th>\n",
       "      <th>Q11</th>\n",
       "      <th>Q13A</th>\n",
       "      <th>Q13B</th>\n",
       "      <th>Q23A</th>\n",
       "      <th>Q23B</th>\n",
       "      <th>...</th>\n",
       "      <th>Q66C</th>\n",
       "      <th>Q66D</th>\n",
       "      <th>Q66E</th>\n",
       "      <th>Q66F</th>\n",
       "      <th>Q66G</th>\n",
       "      <th>Q77B</th>\n",
       "      <th>Q132</th>\n",
       "      <th>Q133</th>\n",
       "      <th>Q153</th>\n",
       "      <th>satisfaction_rating</th>\n",
       "    </tr>\n",
       "  </thead>\n",
       "  <tbody>\n",
       "    <tr>\n",
       "      <th>40638</th>\n",
       "      <td>8.0</td>\n",
       "      <td>1.0</td>\n",
       "      <td>1.0</td>\n",
       "      <td>2.0</td>\n",
       "      <td>3.0</td>\n",
       "      <td>3.0</td>\n",
       "      <td>2.0</td>\n",
       "      <td>3.0</td>\n",
       "      <td>1.0</td>\n",
       "      <td>2.0</td>\n",
       "      <td>...</td>\n",
       "      <td>8.0</td>\n",
       "      <td>0.0</td>\n",
       "      <td>3.0</td>\n",
       "      <td>3.0</td>\n",
       "      <td>10.0</td>\n",
       "      <td>1.0</td>\n",
       "      <td>2.0</td>\n",
       "      <td>76.0</td>\n",
       "      <td>1.0</td>\n",
       "      <td>Satisfied</td>\n",
       "    </tr>\n",
       "    <tr>\n",
       "      <th>36177</th>\n",
       "      <td>8.0</td>\n",
       "      <td>39.0</td>\n",
       "      <td>1.0</td>\n",
       "      <td>2.0</td>\n",
       "      <td>3.0</td>\n",
       "      <td>2.0</td>\n",
       "      <td>2.0</td>\n",
       "      <td>1.0</td>\n",
       "      <td>1.0</td>\n",
       "      <td>1.0</td>\n",
       "      <td>...</td>\n",
       "      <td>10.0</td>\n",
       "      <td>10.0</td>\n",
       "      <td>9.0</td>\n",
       "      <td>9.0</td>\n",
       "      <td>10.0</td>\n",
       "      <td>2.0</td>\n",
       "      <td>2.0</td>\n",
       "      <td>45.0</td>\n",
       "      <td>1.0</td>\n",
       "      <td>Satisfied</td>\n",
       "    </tr>\n",
       "    <tr>\n",
       "      <th>1587</th>\n",
       "      <td>8.0</td>\n",
       "      <td>10.0</td>\n",
       "      <td>1.0</td>\n",
       "      <td>2.0</td>\n",
       "      <td>3.0</td>\n",
       "      <td>1.0</td>\n",
       "      <td>3.0</td>\n",
       "      <td>2.0</td>\n",
       "      <td>2.0</td>\n",
       "      <td>2.0</td>\n",
       "      <td>...</td>\n",
       "      <td>9.0</td>\n",
       "      <td>2.0</td>\n",
       "      <td>4.0</td>\n",
       "      <td>6.0</td>\n",
       "      <td>6.0</td>\n",
       "      <td>2.0</td>\n",
       "      <td>1.0</td>\n",
       "      <td>60.0</td>\n",
       "      <td>1.0</td>\n",
       "      <td>Satisfied</td>\n",
       "    </tr>\n",
       "    <tr>\n",
       "      <th>1730</th>\n",
       "      <td>7.0</td>\n",
       "      <td>10.0</td>\n",
       "      <td>1.0</td>\n",
       "      <td>2.0</td>\n",
       "      <td>2.0</td>\n",
       "      <td>2.0</td>\n",
       "      <td>2.0</td>\n",
       "      <td>2.0</td>\n",
       "      <td>2.0</td>\n",
       "      <td>2.0</td>\n",
       "      <td>...</td>\n",
       "      <td>8.0</td>\n",
       "      <td>0.0</td>\n",
       "      <td>3.0</td>\n",
       "      <td>0.0</td>\n",
       "      <td>8.0</td>\n",
       "      <td>1.0</td>\n",
       "      <td>1.0</td>\n",
       "      <td>35.0</td>\n",
       "      <td>1.0</td>\n",
       "      <td>Satisfied</td>\n",
       "    </tr>\n",
       "    <tr>\n",
       "      <th>23427</th>\n",
       "      <td>9.0</td>\n",
       "      <td>3.0</td>\n",
       "      <td>1.0</td>\n",
       "      <td>2.0</td>\n",
       "      <td>2.0</td>\n",
       "      <td>1.0</td>\n",
       "      <td>3.0</td>\n",
       "      <td>2.0</td>\n",
       "      <td>1.0</td>\n",
       "      <td>1.0</td>\n",
       "      <td>...</td>\n",
       "      <td>9.0</td>\n",
       "      <td>10.0</td>\n",
       "      <td>10.0</td>\n",
       "      <td>10.0</td>\n",
       "      <td>10.0</td>\n",
       "      <td>2.0</td>\n",
       "      <td>1.0</td>\n",
       "      <td>26.0</td>\n",
       "      <td>6.0</td>\n",
       "      <td>Satisfied</td>\n",
       "    </tr>\n",
       "  </tbody>\n",
       "</table>\n",
       "<p>5 rows × 27 columns</p>\n",
       "</div>"
      ],
      "text/plain": [
       "       Q2agg  COUNTRY   Q5   Q9  Q10  Q11  Q13A  Q13B  Q23A  Q23B  \\\n",
       "40638    8.0      1.0  1.0  2.0  3.0  3.0   2.0   3.0   1.0   2.0   \n",
       "36177    8.0     39.0  1.0  2.0  3.0  2.0   2.0   1.0   1.0   1.0   \n",
       "1587     8.0     10.0  1.0  2.0  3.0  1.0   3.0   2.0   2.0   2.0   \n",
       "1730     7.0     10.0  1.0  2.0  2.0  2.0   2.0   2.0   2.0   2.0   \n",
       "23427    9.0      3.0  1.0  2.0  2.0  1.0   3.0   2.0   1.0   1.0   \n",
       "\n",
       "              ...           Q66C  Q66D  Q66E  Q66F  Q66G  Q77B  Q132  Q133  \\\n",
       "40638         ...            8.0   0.0   3.0   3.0  10.0   1.0   2.0  76.0   \n",
       "36177         ...           10.0  10.0   9.0   9.0  10.0   2.0   2.0  45.0   \n",
       "1587          ...            9.0   2.0   4.0   6.0   6.0   2.0   1.0  60.0   \n",
       "1730          ...            8.0   0.0   3.0   0.0   8.0   1.0   1.0  35.0   \n",
       "23427         ...            9.0  10.0  10.0  10.0  10.0   2.0   1.0  26.0   \n",
       "\n",
       "       Q153  satisfaction_rating  \n",
       "40638   1.0            Satisfied  \n",
       "36177   1.0            Satisfied  \n",
       "1587    1.0            Satisfied  \n",
       "1730    1.0            Satisfied  \n",
       "23427   6.0            Satisfied  \n",
       "\n",
       "[5 rows x 27 columns]"
      ]
     },
     "execution_count": 87,
     "metadata": {},
     "output_type": "execute_result"
    }
   ],
   "source": [
    "cleaned_df.sample(5,random_state=40)"
   ]
  },
  {
   "cell_type": "markdown",
   "metadata": {},
   "source": [
    "### Generating Clean data sets for initial analysis (including Dummy Variables)"
   ]
  },
  {
   "cell_type": "markdown",
   "metadata": {},
   "source": [
    "## Generating Dummy variables\n",
    "**Requires finnesse**\n",
    "\n",
    "The cleaned_df dataframe will be used to create the dummy variables"
   ]
  },
  {
   "cell_type": "code",
   "execution_count": 92,
   "metadata": {
    "collapsed": true
   },
   "outputs": [],
   "source": [
    "dummies_df = pd.concat([cleaned_df.iloc[:,-1:],cleaned_df.iloc[:,:-1]],axis=1)"
   ]
  },
  {
   "cell_type": "code",
   "execution_count": 93,
   "metadata": {
    "collapsed": true
   },
   "outputs": [],
   "source": [
    "# Questions to be turned into standardized variables and corresponding thresholds of original responses\n",
    "# to standardize them\n",
    "old_q_and_threshold_list = [\n",
    "    ('Q5', 2), #not satisfied with current affairs of country\n",
    "    ('Q9', 4), #country economic condition relatively bad\n",
    "    ('Q10', 5), #expect that country economic condition will be worse in 10 months\n",
    "    ('Q11', 4), #think children will be worse off than them financially\n",
    "    ('Q13A', 4), #do not believe people are better off in a free market economy\n",
    "    ('Q13B', 4), #do not believe success in life is determined by forces out of our control\n",
    "    ('Q23A', 4), #do not believe rising prices in country are a relatively big problem\n",
    "    ('Q23B', 4), #do not believe lack of employment opportunities in country are a relatively big problem\n",
    "    ('Q23C', 4), #do not believe gap between rich and poor in country is a relatively big problem\n",
    "    ('Q23D', 4), #do not believe public debt in country is a relatively big problem\n",
    "    ('Q27', 4), #do not believe growing trade between their countries and others is a good thing\n",
    "    ('Q28', 2), #do not believe trade with other countries leads to an increase in wages\n",
    "    ('Q30', 2), #do not believe trade with other countries leads to increases in price of products sold\n",
    "    ('Q66A', 10), #believe good information is relatively important to get ahead in life\n",
    "    ('Q66B', 10), #believe working hard is relatively important to get ahead in life\n",
    "    ('Q66C', 10), #believe knowing the right people is relatively important to get ahead in life\n",
    "    ('Q66D', 10), #believe giving bribes is relatively important to get ahead in life\n",
    "    ('Q66E', 10), #believe being male is relatively important to get ahead in life\n",
    "    ('Q66F', 10), #believe belonging to a wealthy family is relatively important to get ahead in life\n",
    "    ('Q66G', 10), #believe being lucky is relatively important to get ahead in life\n",
    "    ('Q132', 1), #is a male - binary\n",
    "    ('Q133', 97), #age\n",
    "    ('Q153', 1)] #is married - binary"
   ]
  },
  {
   "cell_type": "code",
   "execution_count": 94,
   "metadata": {
    "collapsed": true
   },
   "outputs": [],
   "source": [
    "#creation of standardized variables\n",
    "threshhold=0\n",
    "def set_standardized_variable_value(row):\n",
    "    if threshhold ==1:              # special case for dummy 'binary' variables\n",
    "        if row[question]==1:\n",
    "            return 1\n",
    "        elif row[question]==0:\n",
    "            return 0\n",
    "        else:\n",
    "            return 0.5\n",
    "    elif threshhold > 90:              #special case for age standardization\n",
    "        if row[question]<=97:\n",
    "            return row[question]/threshhold\n",
    "        else:\n",
    "            return (25+50*np.random.rand())/threshhold\n",
    "    elif threshhold<=5:\n",
    "        if row[question] <= threshhold:\n",
    "            return (row[question]-1)/(threshhold-1)\n",
    "        else:\n",
    "            return 0.5\n",
    "    else:\n",
    "        return row[question]/threshhold\n",
    "\n",
    "for ind,old_question_variable in enumerate(old_q_and_threshold_list):\n",
    "    question=old_question_variable[0]\n",
    "    threshhold = old_question_variable[1]\n",
    "    dummies_df[question]=dummies_df.apply(set_standardized_variable_value,axis=1)"
   ]
  },
  {
   "cell_type": "markdown",
   "metadata": {},
   "source": [
    "## Dataframe with standardized and dummy variables with response"
   ]
  },
  {
   "cell_type": "code",
   "execution_count": 95,
   "metadata": {},
   "outputs": [
    {
     "data": {
      "text/html": [
       "<div>\n",
       "<style>\n",
       "    .dataframe thead tr:only-child th {\n",
       "        text-align: right;\n",
       "    }\n",
       "\n",
       "    .dataframe thead th {\n",
       "        text-align: left;\n",
       "    }\n",
       "\n",
       "    .dataframe tbody tr th {\n",
       "        vertical-align: top;\n",
       "    }\n",
       "</style>\n",
       "<table border=\"1\" class=\"dataframe\">\n",
       "  <thead>\n",
       "    <tr style=\"text-align: right;\">\n",
       "      <th></th>\n",
       "      <th>satisfaction_rating</th>\n",
       "      <th>Q2agg</th>\n",
       "      <th>COUNTRY</th>\n",
       "      <th>Q5</th>\n",
       "      <th>Q9</th>\n",
       "      <th>Q10</th>\n",
       "      <th>Q11</th>\n",
       "      <th>Q13A</th>\n",
       "      <th>Q13B</th>\n",
       "      <th>Q23A</th>\n",
       "      <th>...</th>\n",
       "      <th>Q66B</th>\n",
       "      <th>Q66C</th>\n",
       "      <th>Q66D</th>\n",
       "      <th>Q66E</th>\n",
       "      <th>Q66F</th>\n",
       "      <th>Q66G</th>\n",
       "      <th>Q77B</th>\n",
       "      <th>Q132</th>\n",
       "      <th>Q133</th>\n",
       "      <th>Q153</th>\n",
       "    </tr>\n",
       "  </thead>\n",
       "  <tbody>\n",
       "    <tr>\n",
       "      <th>40638</th>\n",
       "      <td>Satisfied</td>\n",
       "      <td>8.0</td>\n",
       "      <td>1.0</td>\n",
       "      <td>0.0</td>\n",
       "      <td>0.333333</td>\n",
       "      <td>0.50</td>\n",
       "      <td>0.666667</td>\n",
       "      <td>0.333333</td>\n",
       "      <td>0.666667</td>\n",
       "      <td>0.000000</td>\n",
       "      <td>...</td>\n",
       "      <td>1.0</td>\n",
       "      <td>0.8</td>\n",
       "      <td>0.0</td>\n",
       "      <td>0.3</td>\n",
       "      <td>0.3</td>\n",
       "      <td>1.0</td>\n",
       "      <td>1.0</td>\n",
       "      <td>0</td>\n",
       "      <td>0.783505</td>\n",
       "      <td>1</td>\n",
       "    </tr>\n",
       "    <tr>\n",
       "      <th>36177</th>\n",
       "      <td>Satisfied</td>\n",
       "      <td>8.0</td>\n",
       "      <td>39.0</td>\n",
       "      <td>0.0</td>\n",
       "      <td>0.333333</td>\n",
       "      <td>0.50</td>\n",
       "      <td>0.333333</td>\n",
       "      <td>0.333333</td>\n",
       "      <td>0.000000</td>\n",
       "      <td>0.000000</td>\n",
       "      <td>...</td>\n",
       "      <td>1.0</td>\n",
       "      <td>1.0</td>\n",
       "      <td>1.0</td>\n",
       "      <td>0.9</td>\n",
       "      <td>0.9</td>\n",
       "      <td>1.0</td>\n",
       "      <td>2.0</td>\n",
       "      <td>0</td>\n",
       "      <td>0.463918</td>\n",
       "      <td>1</td>\n",
       "    </tr>\n",
       "    <tr>\n",
       "      <th>1587</th>\n",
       "      <td>Satisfied</td>\n",
       "      <td>8.0</td>\n",
       "      <td>10.0</td>\n",
       "      <td>0.0</td>\n",
       "      <td>0.333333</td>\n",
       "      <td>0.50</td>\n",
       "      <td>0.000000</td>\n",
       "      <td>0.666667</td>\n",
       "      <td>0.333333</td>\n",
       "      <td>0.333333</td>\n",
       "      <td>...</td>\n",
       "      <td>1.0</td>\n",
       "      <td>0.9</td>\n",
       "      <td>0.2</td>\n",
       "      <td>0.4</td>\n",
       "      <td>0.6</td>\n",
       "      <td>0.6</td>\n",
       "      <td>2.0</td>\n",
       "      <td>1</td>\n",
       "      <td>0.618557</td>\n",
       "      <td>1</td>\n",
       "    </tr>\n",
       "    <tr>\n",
       "      <th>1730</th>\n",
       "      <td>Satisfied</td>\n",
       "      <td>7.0</td>\n",
       "      <td>10.0</td>\n",
       "      <td>0.0</td>\n",
       "      <td>0.333333</td>\n",
       "      <td>0.25</td>\n",
       "      <td>0.333333</td>\n",
       "      <td>0.333333</td>\n",
       "      <td>0.333333</td>\n",
       "      <td>0.333333</td>\n",
       "      <td>...</td>\n",
       "      <td>1.0</td>\n",
       "      <td>0.8</td>\n",
       "      <td>0.0</td>\n",
       "      <td>0.3</td>\n",
       "      <td>0.0</td>\n",
       "      <td>0.8</td>\n",
       "      <td>1.0</td>\n",
       "      <td>1</td>\n",
       "      <td>0.360825</td>\n",
       "      <td>1</td>\n",
       "    </tr>\n",
       "    <tr>\n",
       "      <th>23427</th>\n",
       "      <td>Satisfied</td>\n",
       "      <td>9.0</td>\n",
       "      <td>3.0</td>\n",
       "      <td>0.0</td>\n",
       "      <td>0.333333</td>\n",
       "      <td>0.25</td>\n",
       "      <td>0.000000</td>\n",
       "      <td>0.666667</td>\n",
       "      <td>0.333333</td>\n",
       "      <td>0.000000</td>\n",
       "      <td>...</td>\n",
       "      <td>0.9</td>\n",
       "      <td>0.9</td>\n",
       "      <td>1.0</td>\n",
       "      <td>1.0</td>\n",
       "      <td>1.0</td>\n",
       "      <td>1.0</td>\n",
       "      <td>2.0</td>\n",
       "      <td>1</td>\n",
       "      <td>0.268041</td>\n",
       "      <td>0</td>\n",
       "    </tr>\n",
       "    <tr>\n",
       "      <th>41993</th>\n",
       "      <td>Satisfied</td>\n",
       "      <td>8.0</td>\n",
       "      <td>15.0</td>\n",
       "      <td>0.0</td>\n",
       "      <td>0.000000</td>\n",
       "      <td>0.50</td>\n",
       "      <td>0.666667</td>\n",
       "      <td>0.333333</td>\n",
       "      <td>1.000000</td>\n",
       "      <td>0.333333</td>\n",
       "      <td>...</td>\n",
       "      <td>0.8</td>\n",
       "      <td>0.9</td>\n",
       "      <td>0.0</td>\n",
       "      <td>0.5</td>\n",
       "      <td>0.4</td>\n",
       "      <td>0.6</td>\n",
       "      <td>2.0</td>\n",
       "      <td>1</td>\n",
       "      <td>0.484536</td>\n",
       "      <td>1</td>\n",
       "    </tr>\n",
       "    <tr>\n",
       "      <th>41146</th>\n",
       "      <td>Satisfied</td>\n",
       "      <td>7.0</td>\n",
       "      <td>1.0</td>\n",
       "      <td>1.0</td>\n",
       "      <td>1.000000</td>\n",
       "      <td>0.25</td>\n",
       "      <td>0.000000</td>\n",
       "      <td>0.000000</td>\n",
       "      <td>0.000000</td>\n",
       "      <td>0.000000</td>\n",
       "      <td>...</td>\n",
       "      <td>1.0</td>\n",
       "      <td>1.0</td>\n",
       "      <td>0.0</td>\n",
       "      <td>1.0</td>\n",
       "      <td>0.3</td>\n",
       "      <td>0.9</td>\n",
       "      <td>2.0</td>\n",
       "      <td>0</td>\n",
       "      <td>0.288660</td>\n",
       "      <td>0</td>\n",
       "    </tr>\n",
       "  </tbody>\n",
       "</table>\n",
       "<p>7 rows × 27 columns</p>\n",
       "</div>"
      ],
      "text/plain": [
       "      satisfaction_rating  Q2agg  COUNTRY   Q5        Q9   Q10       Q11  \\\n",
       "40638           Satisfied    8.0      1.0  0.0  0.333333  0.50  0.666667   \n",
       "36177           Satisfied    8.0     39.0  0.0  0.333333  0.50  0.333333   \n",
       "1587            Satisfied    8.0     10.0  0.0  0.333333  0.50  0.000000   \n",
       "1730            Satisfied    7.0     10.0  0.0  0.333333  0.25  0.333333   \n",
       "23427           Satisfied    9.0      3.0  0.0  0.333333  0.25  0.000000   \n",
       "41993           Satisfied    8.0     15.0  0.0  0.000000  0.50  0.666667   \n",
       "41146           Satisfied    7.0      1.0  1.0  1.000000  0.25  0.000000   \n",
       "\n",
       "           Q13A      Q13B      Q23A  ...   Q66B  Q66C  Q66D  Q66E  Q66F  Q66G  \\\n",
       "40638  0.333333  0.666667  0.000000  ...    1.0   0.8   0.0   0.3   0.3   1.0   \n",
       "36177  0.333333  0.000000  0.000000  ...    1.0   1.0   1.0   0.9   0.9   1.0   \n",
       "1587   0.666667  0.333333  0.333333  ...    1.0   0.9   0.2   0.4   0.6   0.6   \n",
       "1730   0.333333  0.333333  0.333333  ...    1.0   0.8   0.0   0.3   0.0   0.8   \n",
       "23427  0.666667  0.333333  0.000000  ...    0.9   0.9   1.0   1.0   1.0   1.0   \n",
       "41993  0.333333  1.000000  0.333333  ...    0.8   0.9   0.0   0.5   0.4   0.6   \n",
       "41146  0.000000  0.000000  0.000000  ...    1.0   1.0   0.0   1.0   0.3   0.9   \n",
       "\n",
       "       Q77B  Q132      Q133  Q153  \n",
       "40638   1.0     0  0.783505     1  \n",
       "36177   2.0     0  0.463918     1  \n",
       "1587    2.0     1  0.618557     1  \n",
       "1730    1.0     1  0.360825     1  \n",
       "23427   2.0     1  0.268041     0  \n",
       "41993   2.0     1  0.484536     1  \n",
       "41146   2.0     0  0.288660     0  \n",
       "\n",
       "[7 rows x 27 columns]"
      ]
     },
     "execution_count": 95,
     "metadata": {},
     "output_type": "execute_result"
    }
   ],
   "source": [
    "dummies_df.sample(7,random_state=40)"
   ]
  },
  {
   "cell_type": "code",
   "execution_count": 113,
   "metadata": {
    "collapsed": true
   },
   "outputs": [],
   "source": [
    "# X and y to be inputted into models\n",
    "X= dummies_df.iloc[:,3:]\n",
    "y= dummies_df.loc[:,'satisfaction_rating']"
   ]
  },
  {
   "cell_type": "code",
   "execution_count": 114,
   "metadata": {
    "collapsed": true
   },
   "outputs": [],
   "source": [
    "#will be using this extensively as the cross-validation set\n",
    "cross_validator= KFold(n_splits=10, shuffle=True, random_state=40)"
   ]
  },
  {
   "cell_type": "code",
   "execution_count": 118,
   "metadata": {
    "collapsed": true
   },
   "outputs": [],
   "source": [
    "#A Dictionary containing the names of all the models\n",
    "model_str_dict = {'dummy':\"Always Guess\\nDissatisfied\",'decision':\"Decision\\nTree\",'knn':\"k Nearest\\nNeighbors\",'randomf':\"Random\\nForest\",'logr':\"Logistic\\nRegression\",'linsvc':\"Linear\\nSVC\"}"
   ]
  },
  {
   "cell_type": "code",
   "execution_count": 119,
   "metadata": {},
   "outputs": [
    {
     "name": "stdout",
     "output_type": "stream",
     "text": [
      "Score of DummyClassifier Model = 0.517583923284882\n",
      "Score of Decision Tree Model = 0.5465824105546793\n",
      "Score of Random Forest Model = 0.5797234219157843\n",
      "Score of Logistic Regression Model = 0.6016837793547305\n",
      "Score of KNN Model = 0.564177447370732\n",
      "Score of Linear SVC Model = 0.601394247060744\n"
     ]
    }
   ],
   "source": [
    "model_scores_list=[]\n",
    "\n",
    "#The Baseline Dummy Classifier Model - Everyone is dissatisfied\n",
    "dummyclassifiermodel = DummyClassifier(strategy='most_frequent',random_state=40)\n",
    "dummy_score = cross_val_score(dummyclassifiermodel,X,y,cv=cross_validator, n_jobs=-1).mean()\n",
    "print(f\"Score of DummyClassifier Model = {dummy_score}\")\n",
    "model_scores_list.append((model_str_dict['dummy'],dummy_score))\n",
    "\n",
    "#Decision Tree Classifier Model\n",
    "decisiontree = DecisionTreeClassifier(random_state=40)\n",
    "decisiontree_score = cross_val_score(decisiontree,X,y,cv=cross_validator, n_jobs=-1).mean()\n",
    "print(f\"Score of Decision Tree Model = {decisiontree_score}\")\n",
    "model_scores_list.append((model_str_dict['decision'],decisiontree_score))\n",
    "\n",
    "#Random Forest Classifier Model\n",
    "randomforest = RandomForestClassifier(random_state=40,n_jobs=-1)\n",
    "randomforest_score = cross_val_score(randomforest,X,y,cv=cross_validator).mean()\n",
    "print(f\"Score of Random Forest Model = {randomforest_score}\")\n",
    "model_scores_list.append((model_str_dict['randomf'],randomforest_score))\n",
    "\n",
    "#Logistic Regression Classifier Model\n",
    "logregression = LogisticRegression(random_state=40,n_jobs=-1)\n",
    "logregression_score = cross_val_score(logregression,X,y,cv=cross_validator).mean()\n",
    "print(f\"Score of Logistic Regression Model = {logregression_score}\")\n",
    "model_scores_list.append((model_str_dict['logr'],logregression_score))\n",
    "\n",
    "#K Nearest Neighbors Classifier\n",
    "knn = KNeighborsClassifier(n_jobs=-1)\n",
    "knn_score = cross_val_score(knn,X,y,cv=cross_validator).mean()\n",
    "print(f\"Score of KNN Model = {knn_score}\")\n",
    "model_scores_list.append((model_str_dict['knn'],knn_score))\n",
    "\n",
    "#Linear SVC Classifier Model\n",
    "linearsvc = LinearSVC(random_state=40)\n",
    "linearsvc_score = cross_val_score(linearsvc,X,y,cv=cross_validator).mean()\n",
    "print(f\"Score of Linear SVC Model = {linearsvc_score}\")\n",
    "model_scores_list.append((model_str_dict['linsvc'],linearsvc_score))"
   ]
  },
  {
   "cell_type": "code",
   "execution_count": 229,
   "metadata": {},
   "outputs": [
    {
     "data": {
      "image/png": "[encoded data removed]",
      "text/plain": [
       "<matplotlib.figure.Figure at 0x7ff68d6ad6d8>"
      ]
     },
     "metadata": {},
     "output_type": "display_data"
    }
   ],
   "source": [
    "model_scores_list.sort(key= lambda x: x[1])\n",
    "model_values = [100*value[1] for value in model_scores_list]\n",
    "model_names = [value[0] for value in model_scores_list]\n",
    "x_dist = np.linspace(1,len(model_values),num=len(model_values))\n",
    "fig, ax = plt.subplots(figsize=(12,7))\n",
    "ax.grid()\n",
    "\n",
    "text_settings={'color':'white', 'fontweight':'bold','fontsize':20}\n",
    "bar_width=0.8\n",
    "\n",
    "plt.bar(x_dist,model_values,width=bar_width,color=colors_for_plots[:len(model_values)])\n",
    "plt.xticks(x_dist,model_names)\n",
    "plt.title(\"Cursory Analysis: Accuracy by Model Type\")\n",
    "plt.xlabel('Model Name')\n",
    "plt.ylabel('Percentage correctly Predicted')\n",
    "for ind,score in enumerate(model_values):\n",
    "    ax.text(x_dist[ind],.8*score,str(score)[:4]+'%',ha='center',**text_settings)"
   ]
  },
  {
   "cell_type": "markdown",
   "metadata": {},
   "source": [
    "### Hyperparameter optimization\n",
    "**This calls for a grid CV to optimize parameters.** Time to bring out the big guns. A lot of computations and parameters were tested using GridSearch CV. The best settings are used to run the regressions below."
   ]
  },
  {
   "cell_type": "markdown",
   "metadata": {},
   "source": [
    "I don't have a set of CV values that I used in to optimize the hyperparameters. It was very iterative in nature. There may very well exist hyperparameters that will increase the model accuracy even more, but the resulting increase may be small."
   ]
  },
  {
   "cell_type": "code",
   "execution_count": 123,
   "metadata": {},
   "outputs": [
    {
     "name": "stdout",
     "output_type": "stream",
     "text": [
      "Score of Unoptimized Dummy Model = 0.517583923284882\n",
      "Score of Unoptimized Decision Tree Model = 0.5465824105546793\n",
      "Score of Random Forest Model = 0.6118846117780607\n",
      "Score of Logistic Regression Model = 0.5993007703562433\n",
      "Score of KNN Model = 0.5904140484956794\n",
      "Score of Linear SVC Model = 0.5969395468556893\n"
     ]
    }
   ],
   "source": [
    "# models with dummy variables modified from original\n",
    "model_scores_list_2=[]\n",
    "\n",
    "#The Baseline Dummy Classifier Model - Everyone is dissatisfied\n",
    "# dummyclassifiermodel = DummyClassifier(strategy='most_frequent',random_state=40)\n",
    "# dummy_score_2 = cross_val_score(dummyclassifiermodel,X,y,cv=cross_validator).mean()\n",
    "# print(f\"Score of DummyClassifier Model = {dummy_score_2}\")\n",
    "print(f\"Score of Unoptimized Dummy Model = {dummy_score}\")\n",
    "model_scores_list_2.append((model_str_dict['dummy'],dummy_score,dummy_score))\n",
    "\n",
    "#Decision Tree Classifier Model\n",
    "# decisiontree = DecisionTreeClassifier(random_state=40)\n",
    "# decisiontree_score_2 = cross_val_score(decisiontree,X,y,cv=cross_validator).mean()\n",
    "# print(f\"Score of Decision Tree Model = {decisiontree_score_2}\")\n",
    "print(f\"Score of Unoptimized Decision Tree Model = {decisiontree_score}\")\n",
    "model_scores_list_2.append((model_str_dict['decision'],decisiontree_score,decisiontree_score))\n",
    "\n",
    "#Random Forest Classifier Model\n",
    "randomforest = RandomForestClassifier(random_state=40,n_jobs=-1,n_estimators=45,max_depth=11,\n",
    "                                      min_samples_leaf=32,min_samples_split=15)\n",
    "randomforest_score_2 = cross_val_score(randomforest,X,y,cv=cross_validator).mean()\n",
    "print(f\"Score of Random Forest Model = {randomforest_score_2}\")\n",
    "model_scores_list_2.append((model_str_dict['randomf'],randomforest_score_2,randomforest_score))\n",
    "\n",
    "#Logistic Regression Classifier Model\n",
    "logregression = LogisticRegression(random_state=40,n_jobs=-1,C=0.6309,penalty='l2')\n",
    "logregression_score_2 = cross_val_score(logregression,X,y,cv=cross_validator).mean()\n",
    "print(f\"Score of Logistic Regression Model = {logregression_score_2}\")\n",
    "model_scores_list_2.append((model_str_dict['logr'],logregression_score_2,logregression_score))\n",
    "\n",
    "#K Nearest Neighbors Classifier\n",
    "knn = KNeighborsClassifier(n_jobs=-1,n_neighbors=40,weights='uniform',leaf_size=40,algorithm='ball_tree')\n",
    "knn_score_2 = cross_val_score(knn,X,y,cv=cross_validator).mean()\n",
    "print(f\"Score of KNN Model = {knn_score_2}\")\n",
    "model_scores_list_2.append((model_str_dict['knn'],knn_score_2,knn_score))\n",
    "\n",
    "#Linear SVC Classifier Model\n",
    "linearsvc = LinearSVC(random_state=40,C=10,penalty='l2',loss='squared_hinge')\n",
    "linearsvc_score_2 = cross_val_score(linearsvc,X,y,cv=cross_validator).mean()\n",
    "print(f\"Score of Linear SVC Model = {linearsvc_score_2}\")\n",
    "model_scores_list_2.append((model_str_dict['linsvc'],linearsvc_score_2,linearsvc_score))"
   ]
  },
  {
   "cell_type": "code",
   "execution_count": 154,
   "metadata": {
    "collapsed": true
   },
   "outputs": [],
   "source": [
    "model_scores_list_2.sort(key= lambda x: x[2])\n",
    "model_values_new = [100*value[1] for value in model_scores_list_2]\n",
    "model_values_old = [100*value[2] for value in model_scores_list_2]\n",
    "model_names = [value[0] for value in model_scores_list_2]"
   ]
  },
  {
   "cell_type": "code",
   "execution_count": 184,
   "metadata": {},
   "outputs": [
    {
     "data": {
      "text/plain": [
       "[('Always Guess\\nDissatisfied', 0.51758392328488201, 0.51758392328488201),\n",
       " ('Decision\\nTree', 0.54658241055467927, 0.54658241055467927),\n",
       " ('k Nearest\\nNeighbors', 0.59041404849567936, 0.56417744737073205),\n",
       " ('Random\\nForest', 0.61188461177806075, 0.5797234219157843),\n",
       " ('Linear\\nSVC', 0.5969395468556893, 0.601394247060744),\n",
       " ('Logistic\\nRegression', 0.5993007703562433, 0.6016837793547305)]"
      ]
     },
     "execution_count": 184,
     "metadata": {},
     "output_type": "execute_result"
    }
   ],
   "source": [
    "model_scores_list_2"
   ]
  },
  {
   "cell_type": "code",
   "execution_count": 160,
   "metadata": {},
   "outputs": [
    {
     "data": {
      "image/png": "[encoded data removed]",
      "text/plain": [
       "<matplotlib.figure.Figure at 0x7ff689ea10f0>"
      ]
     },
     "metadata": {},
     "output_type": "display_data"
    }
   ],
   "source": [
    "# Graphing the model accuracy results including optimized hyperparameters\n",
    "x_dist = 2*np.linspace(1,len(model_values_new),num=len(model_values_new))\n",
    "fig, ax = plt.subplots(figsize=(12,7))\n",
    "ax.grid()\n",
    "bar_width=0.8\n",
    "text_settings={'color':'white', 'fontweight':'bold','fontsize':15}\n",
    "\n",
    "\n",
    "plt.bar(x_dist-bar_width/2,model_values_new,width=bar_width,color=colors_for_plots_2[:2]+colors_for_plots[2:len(model_values_new)])\n",
    "plt.bar(x_dist+bar_width/2,model_values_old,width=bar_width,color=colors_for_plots_2[:len(model_values_old)])\n",
    "\n",
    "plt.xticks(x_dist,model_names)\n",
    "plt.title(\"Accuracy by Model Type [New,Old]\")\n",
    "plt.xlabel('Model Name')\n",
    "plt.ylabel('Percentage correctly Predicted')\n",
    "for ind,score in enumerate(model_values_new):\n",
    "    if ind<2:\n",
    "        ax.text(x_dist[ind]-.6,score-.2*score,'Unoptimized',color='white',fontweight='bold',fontsize=10)\n",
    "    else:\n",
    "        ax.text(x_dist[ind]-.4,score-.2*score,'New\\n'+str(score)[:4]+'%',**text_settings)\n",
    "for ind,score in enumerate(model_values_old):\n",
    "    ax.text(x_dist[ind]-.4,score-.4*score,'Old\\n'+str(score)[:4]+'%',**text_settings)"
   ]
  },
  {
   "cell_type": "markdown",
   "metadata": {},
   "source": [
    "**The Random forest model has the best performance out of all the models**"
   ]
  },
  {
   "cell_type": "code",
   "execution_count": 232,
   "metadata": {},
   "outputs": [
    {
     "data": {
      "image/png": "[encoded data removed]",
      "text/plain": [
       "<matplotlib.figure.Figure at 0x7ff68d6f89e8>"
      ]
     },
     "metadata": {},
     "output_type": "display_data"
    }
   ],
   "source": [
    "model_scores_list_2.sort(key= lambda x: x[1])\n",
    "model_values_min_max = [100*model_scores_list_2[0][1],100*model_scores_list_2[-1][1]]\n",
    "model_names = [model_scores_list_2[0][0],model_scores_list_2[-1][0]]\n",
    "\n",
    "x_dist = [1,2]\n",
    "fig, ax = plt.subplots(figsize=(5,7))\n",
    "ax.grid()\n",
    "bar_width=0.8\n",
    "text_settings={'color':'white', 'fontweight':'bold','fontsize':15}\n",
    "\n",
    "\n",
    "plt.bar(x_dist,model_values_min_max,width=bar_width,color=[colors_for_plots_2[0],colors_for_plots[3]])\n",
    "plt.xticks(x_dist,model_names)\n",
    "plt.title(\"Baseline vs Best Model [Random Forest] Accuracy\")\n",
    "plt.xlabel('Model Name')\n",
    "plt.ylabel('Percentage correctly Predicted')\n",
    "for ind,score in enumerate(model_values_min_max):\n",
    "    ax.text(x_dist[ind]-.2,score-.2*score,str(score)[:4]+'%',**text_settings)\n"
   ]
  },
  {
   "cell_type": "markdown",
   "metadata": {},
   "source": [
    "### Most important features in the Random Forest Model"
   ]
  },
  {
   "cell_type": "code",
   "execution_count": 140,
   "metadata": {
    "collapsed": true
   },
   "outputs": [],
   "source": [
    "#Generating the most important features in the Random Forest Model\n",
    "best_model = RandomForestClassifier(n_estimators=45,min_samples_leaf=32,min_samples_split=15,\n",
    "                                    max_depth=11,n_jobs=-1,random_state=40,warm_start=True)\n",
    "best_model.fit(X,y)\n",
    "\n",
    "random_forest_important_features = []\n",
    "for i,j in zip(X2.columns,best_model.feature_importances_):\n",
    "    random_forest_important_features.append((i,j))\n",
    "random_forest_important_features.sort(key=lambda x: x[1],reverse=True)\n",
    "random_forest_important_features"
   ]
  },
  {
   "cell_type": "code",
   "execution_count": 202,
   "metadata": {},
   "outputs": [
    {
     "data": {
      "image/png": "[encoded data removed]",
      "text/plain": [
       "<matplotlib.figure.Figure at 0x7ff68ba90e80>"
      ]
     },
     "metadata": {},
     "output_type": "display_data"
    }
   ],
   "source": [
    "# Graphing the the most important features in the Random Forest Model\n",
    "# based on relative contribution to overall model\n",
    "\n",
    "forest_classifier_name = [x[0] for x in random_forest_important_features][:8]\n",
    "forest_classifier_importance = [100*x[1] for x in random_forest_important_features][:8]\n",
    "forest_classifier_name = list(reversed(forest_classifier_name))\n",
    "forest_classifier_importance = list(reversed(forest_classifier_importance))\n",
    "\n",
    "y_dist = np.linspace(1,len(forest_classifier_name),num=len(forest_classifier_name))\n",
    "fig, ax = plt.subplots(figsize=(10,6))\n",
    "ax.grid()\n",
    "bar_width=0.8\n",
    "text_settings={'color':'white', 'fontweight':'bold','fontsize':25}\n",
    "\n",
    "plt.barh(y_dist,forest_classifier_importance,height=bar_width,\n",
    "        color=colors_for_plots[:len(forest_classifier_importance)])\n",
    "plt.yticks(x_dist,forest_classifier_name)\n",
    "plt.title(\"Question by feature importance in\\nRandom Forest Model\")\n",
    "plt.ylabel('Feature Name')\n",
    "plt.xlabel('Relative Feature Importance')\n",
    "for ind,imp in enumerate(forest_classifier_importance):\n",
    "    ax.text(2,y_dist[ind],str(imp)[:4]+'%',ha='center',va='center',**text_settings)"
   ]
  },
  {
   "cell_type": "code",
   "execution_count": 204,
   "metadata": {},
   "outputs": [
    {
     "name": "stdout",
     "output_type": "stream",
     "text": [
      "Q9. Now thinking about our economic situation, how would you describe the current economic situation in (survey country) – is it very good, somewhat good, somewhat bad or very bad?  \n",
      "\n",
      "Q5. Overall, are you satisfied or dissatisfied with the way things are going in our country today? \n",
      "\n",
      "Q66A. On a scale of 0 to 10, in your opinion, how important is it to have a good education to get ahead in life, where 0 means not important at all and 10 means very important?\n",
      "\n",
      "Q66G. On a scale of 0 to 10, in your opinion, how important is it to be lucky to get ahead in life, where 0 means not important at all and 10 means very important?\n",
      "\n",
      "Q66F. On a scale of 0 to 10, in your opinion, how important is it to belong to a wealthy family to get ahead in life, where 0 means not important at all and 10 means very important?\n",
      "\n",
      "Q133. How old were you at your last birthday?\n",
      "\n",
      "Q66C. On a scale of 0 to 10, in your opinion, how important is it to know the right people to get ahead in life, where 0 means not important at all and 10 means very important?\n",
      "\n",
      "Q66B. On a scale of 0 to 10, in your opinion, how important is it to work hard to get ahead in life, where 0 means not important at all and 10 means very important?\n",
      "\n"
     ]
    }
   ],
   "source": [
    "# Most important question features in order of importance, descending\n",
    "for feat in list(reversed(forest_classifier_name)):\n",
    "    print(f\"{q_full_dict[feat].decode()}\\n\")"
   ]
  },
  {
   "cell_type": "markdown",
   "metadata": {
    "collapsed": true
   },
   "source": [
    "### Analyzing confusion matrices and ROC Curves"
   ]
  },
  {
   "cell_type": "markdown",
   "metadata": {},
   "source": [
    "The following section has a ROC curve for the random forest and some addtional statistics about model strength based on custom thresholds."
   ]
  },
  {
   "cell_type": "code",
   "execution_count": 209,
   "metadata": {
    "collapsed": true
   },
   "outputs": [],
   "source": [
    "#generating a dataframe containing proba_values for every row in dataset\n",
    "#NOTE: the models were generated using crossvalidation\n",
    "y_with_thresholds = pd.DataFrame({'orig_y':y})\n",
    "y_with_thresholds['proba_values']=[i[1] for i in list(best_model.predict_proba(X2))]"
   ]
  },
  {
   "cell_type": "code",
   "execution_count": 283,
   "metadata": {},
   "outputs": [
    {
     "data": {
      "text/html": [
       "<div>\n",
       "<style>\n",
       "    .dataframe thead tr:only-child th {\n",
       "        text-align: right;\n",
       "    }\n",
       "\n",
       "    .dataframe thead th {\n",
       "        text-align: left;\n",
       "    }\n",
       "\n",
       "    .dataframe tbody tr th {\n",
       "        vertical-align: top;\n",
       "    }\n",
       "</style>\n",
       "<table border=\"1\" class=\"dataframe\">\n",
       "  <thead>\n",
       "    <tr style=\"text-align: right;\">\n",
       "      <th></th>\n",
       "      <th>orig_y</th>\n",
       "      <th>proba_values</th>\n",
       "      <th>threshold=0.5</th>\n",
       "    </tr>\n",
       "  </thead>\n",
       "  <tbody>\n",
       "    <tr>\n",
       "      <th>45897</th>\n",
       "      <td>Dissatisfied</td>\n",
       "      <td>0.387018</td>\n",
       "      <td>Dissatisfied</td>\n",
       "    </tr>\n",
       "    <tr>\n",
       "      <th>29357</th>\n",
       "      <td>Satisfied</td>\n",
       "      <td>0.560456</td>\n",
       "      <td>Satisfied</td>\n",
       "    </tr>\n",
       "    <tr>\n",
       "      <th>11065</th>\n",
       "      <td>Satisfied</td>\n",
       "      <td>0.303801</td>\n",
       "      <td>Dissatisfied</td>\n",
       "    </tr>\n",
       "    <tr>\n",
       "      <th>41749</th>\n",
       "      <td>Satisfied</td>\n",
       "      <td>0.573471</td>\n",
       "      <td>Satisfied</td>\n",
       "    </tr>\n",
       "    <tr>\n",
       "      <th>15854</th>\n",
       "      <td>Satisfied</td>\n",
       "      <td>0.662050</td>\n",
       "      <td>Satisfied</td>\n",
       "    </tr>\n",
       "  </tbody>\n",
       "</table>\n",
       "</div>"
      ],
      "text/plain": [
       "             orig_y  proba_values threshold=0.5\n",
       "45897  Dissatisfied      0.387018  Dissatisfied\n",
       "29357     Satisfied      0.560456     Satisfied\n",
       "11065     Satisfied      0.303801  Dissatisfied\n",
       "41749     Satisfied      0.573471     Satisfied\n",
       "15854     Satisfied      0.662050     Satisfied"
      ]
     },
     "execution_count": 283,
     "metadata": {},
     "output_type": "execute_result"
    }
   ],
   "source": [
    "y_with_thresholds.sample(5,random_state=100)"
   ]
  },
  {
   "cell_type": "code",
   "execution_count": 293,
   "metadata": {
    "collapsed": true
   },
   "outputs": [],
   "source": [
    "fpr,tpr,thresh=roc_curve(y_with_thresholds['orig_y'],y_with_thresholds['proba_values'],pos_label='Satisfied')"
   ]
  },
  {
   "cell_type": "code",
   "execution_count": 294,
   "metadata": {},
   "outputs": [
    {
     "data": {
      "image/png": "[encoded data removed]",
      "text/plain": [
       "<matplotlib.figure.Figure at 0x7ff61a3ab208>"
      ]
     },
     "metadata": {},
     "output_type": "display_data"
    }
   ],
   "source": [
    "fig, ax = plt.subplots(figsize=(10,6))\n",
    "x_dist=np.linspace(0,1,11)\n",
    "ax.grid(color='r',linestyle='--')\n",
    "text_settings={'color':'black', 'fontweight':'bold','fontsize':10}\n",
    "\n",
    "plt.scatter(fpr,tpr,marker='.',color='skyblue')\n",
    "plt.title(\"ROC_AUC curve for Random Forest Model\\n(Selected threshold values are shown in black text on the curve)\")\n",
    "plt.ylabel('True Positive Rates',fontsize=15)\n",
    "plt.xlabel('False Positive Rates',fontsize=15)\n",
    "skip=1200\n",
    "for fpr0,tpr0,trs in zip(fpr[::skip],tpr[::skip],thresh[::skip]):\n",
    "    ax.text(fpr0,tpr0,str(trs)[:4],ha='center',va='center',**text_settings)"
   ]
  },
  {
   "cell_type": "code",
   "execution_count": 302,
   "metadata": {
    "collapsed": true
   },
   "outputs": [],
   "source": [
    "threshold_vals=[0.35,0.4,0.45,0.5,0.55,0.6]\n",
    "threshold=int\n",
    "conf_matrix_dict = defaultdict(np.array)"
   ]
  },
  {
   "cell_type": "code",
   "execution_count": 316,
   "metadata": {
    "collapsed": true
   },
   "outputs": [],
   "source": [
    "def predictions_with_threshold(row):\n",
    "    \"\"\"\n",
    "    Helper function to create a new column on a dataframe with outputs set according to a threshold boundary\n",
    "    \"\"\"\n",
    "    if row['proba_values']>=threshold:\n",
    "        return 'Satisfied'\n",
    "    else:\n",
    "        return 'Dissatisfied'\n",
    "\n",
    "def create_conf_mat(threshold):\n",
    "    \"\"\"\n",
    "    generate a confusion matrix based on a threshold boundary\n",
    "    \"\"\"\n",
    "    cm_name= f\"cm_{threshold}\"\n",
    "    conf_matrix_dict['cm_name']=confusion_matrix(y_with_thresholds['orig_y'],\n",
    "                                                 y_with_thresholds[f'threshold={threshold}'],\n",
    "                                                 labels=['Dissatisfied','Satisfied'])\n",
    "    return conf_matrix_dict['cm_name']\n",
    "    \n",
    "def conf_mat_score(conf_mat):\n",
    "    \"\"\"\n",
    "    returns accuracy, precision, recall, and F1 scores based on a confusion matrix\n",
    "    \"\"\"\n",
    "    tn=conf_mat[0][0]\n",
    "    tp=conf_mat[1][1]\n",
    "    fn=conf_mat[0][1]\n",
    "    fp=conf_mat[1][0]\n",
    "    accuracy = (tp+tn)/conf_mat.sum()\n",
    "    recall_dis = (tn)/(tn+fp)\n",
    "    recall_sat = (tp)/(fn+tp)\n",
    "    prec_dis = tn/(tn+fn)\n",
    "    prec_sat = tp/(tp+fp)\n",
    "    f1_score_dis = 2*recall_dis*prec_dis/(recall_dis+prec_dis)\n",
    "    f1_score_sat = 2*recall_sat*prec_sat/(recall_sat+prec_sat)\n",
    "    print(f'###################\\\n",
    "          \\nThreshold = {threshold}\\\n",
    "          \\nAccuracy: {accuracy}\\n')\n",
    "    print(f\"Recall satisfied: {recall_sat}\\\n",
    "          \\nPrecision satisfied: {prec_sat}\\\n",
    "          \\nF1 Score satisfied: {f1_score_sat}\\n\")\n",
    "    print(f\"Recall dissatisfied: {recall_dis}\\\n",
    "          \\nPrecision dissatisfied: {prec_dis}\\\n",
    "          \\nF1 Score dissatisfied: {f1_score_dis}\")\n",
    "    print(f'###################\\n')"
   ]
  },
  {
   "cell_type": "code",
   "execution_count": 317,
   "metadata": {},
   "outputs": [
    {
     "name": "stdout",
     "output_type": "stream",
     "text": [
      "###################          \n",
      "Threshold = 0.35          \n",
      "Accuracy: 0.5424619701997817\n",
      "\n",
      "Recall satisfied: 0.5136269366841527          \n",
      "Precision satisfied: 0.9718836565096953          \n",
      "F1 Score satisfied: 0.672072791124591\n",
      "\n",
      "Recall dissatisfied: 0.844404701073071          \n",
      "Precision dissatisfied: 0.14221782348638065          \n",
      "F1 Score dissatisfied: 0.2434353478437005\n",
      "###################\n",
      "\n",
      "###################          \n",
      "Threshold = 0.4          \n",
      "Accuracy: 0.6033319227599724\n",
      "\n",
      "Recall satisfied: 0.5554467423238666          \n",
      "Precision satisfied: 0.8903047091412742          \n",
      "F1 Score satisfied: 0.6840966334385753\n",
      "\n",
      "Recall dissatisfied: 0.7666241037226206          \n",
      "Precision dissatisfied: 0.33585782520762514          \n",
      "F1 Score dissatisfied: 0.467085577498504\n",
      "###################\n",
      "\n",
      "###################          \n",
      "Threshold = 0.45          \n",
      "Accuracy: 0.6447805073609657\n",
      "\n",
      "Recall satisfied: 0.6095950873152945          \n",
      "Precision satisfied: 0.7332871652816251          \n",
      "F1 Score satisfied: 0.6657445247825631\n",
      "\n",
      "Recall dissatisfied: 0.6934302695818297          \n",
      "Precision dissatisfied: 0.5622875338870003          \n",
      "F1 Score dissatisfied: 0.6210108594919563\n",
      "###################\n",
      "\n",
      "###################          \n",
      "Threshold = 0.5          \n",
      "Accuracy: 0.6487449609122697\n",
      "\n",
      "Recall satisfied: 0.6625089684861195          \n",
      "Precision satisfied: 0.5542012927054478          \n",
      "F1 Score satisfied: 0.6035345282686845\n",
      "\n",
      "Recall dissatisfied: 0.6394324122479462          \n",
      "Precision dissatisfied: 0.7368647532165756          \n",
      "F1 Score dissatisfied: 0.6846998140706532\n",
      "###################\n",
      "\n",
      "###################          \n",
      "Threshold = 0.55          \n",
      "Accuracy: 0.6304372035011916\n",
      "\n",
      "Recall satisfied: 0.7100920474334522          \n",
      "Precision satisfied: 0.39533702677747          \n",
      "F1 Score satisfied: 0.5079035558587147\n",
      "\n",
      "Recall dissatisfied: 0.6011875761266748          \n",
      "Precision dissatisfied: 0.8495632342183399          \n",
      "F1 Score dissatisfied: 0.704113839405125\n",
      "###################\n",
      "\n",
      "###################          \n",
      "Threshold = 0.6          \n",
      "Accuracy: 0.6011269738746965\n",
      "\n",
      "Recall satisfied: 0.7627118644067796          \n",
      "Precision satisfied: 0.2513850415512465          \n",
      "F1 Score satisfied: 0.3781381297961734\n",
      "\n",
      "Recall dissatisfied: 0.5705773305084746          \n",
      "Precision dissatisfied: 0.9271052971298248          \n",
      "F1 Score dissatisfied: 0.7064050230331645\n",
      "###################\n",
      "\n"
     ]
    }
   ],
   "source": [
    "for threshold in threshold_vals:\n",
    "    y_with_thresholds[f'threshold={threshold}']=y_with_thresholds.apply(predictions_with_threshhold,axis=1)\n",
    "    conf_matrix = create_conf_mat(threshold)\n",
    "    conf_mat_score(conf_matrix)\n",
    "    "
   ]
  },
  {
   "cell_type": "markdown",
   "metadata": {},
   "source": [
    "## Visualizing Satisfaction by Country"
   ]
  },
  {
   "cell_type": "markdown",
   "metadata": {},
   "source": [
    "**The purpose of this next section is to visualize levels of satisfaction on a country to country basis**"
   ]
  },
  {
   "cell_type": "code",
   "execution_count": 319,
   "metadata": {
    "collapsed": true
   },
   "outputs": [],
   "source": [
    "satisfaction_by_country = dummies_df.loc[:,['satisfaction_rating','COUNTRY']]\n",
    "\n",
    "country_dict=q_responses_dict['COUNTRY']\n",
    "def country_from_code(row):\n",
    "    \"\"\"\n",
    "    A function that takes in the country's PEW Survey code and returns the \n",
    "    \"\"\"\n",
    "    return country_dict[row['COUNTRY']].decode()"
   ]
  },
  {
   "cell_type": "code",
   "execution_count": 320,
   "metadata": {},
   "outputs": [
    {
     "data": {
      "text/html": [
       "<div>\n",
       "<style>\n",
       "    .dataframe thead tr:only-child th {\n",
       "        text-align: right;\n",
       "    }\n",
       "\n",
       "    .dataframe thead th {\n",
       "        text-align: left;\n",
       "    }\n",
       "\n",
       "    .dataframe tbody tr th {\n",
       "        vertical-align: top;\n",
       "    }\n",
       "</style>\n",
       "<table border=\"1\" class=\"dataframe\">\n",
       "  <thead>\n",
       "    <tr style=\"text-align: right;\">\n",
       "      <th></th>\n",
       "      <th>country_name</th>\n",
       "      <th>satisfaction_count</th>\n",
       "      <th>dissatisfaction_count</th>\n",
       "      <th>total_responses</th>\n",
       "      <th>%satisfied</th>\n",
       "      <th>%dissatisfied</th>\n",
       "    </tr>\n",
       "  </thead>\n",
       "  <tbody>\n",
       "    <tr>\n",
       "      <th>20</th>\n",
       "      <td>Mexico</td>\n",
       "      <td>746</td>\n",
       "      <td>199</td>\n",
       "      <td>945</td>\n",
       "      <td>78.941799</td>\n",
       "      <td>21.058201</td>\n",
       "    </tr>\n",
       "    <tr>\n",
       "      <th>41</th>\n",
       "      <td>Venezuela</td>\n",
       "      <td>693</td>\n",
       "      <td>250</td>\n",
       "      <td>943</td>\n",
       "      <td>73.488865</td>\n",
       "      <td>26.511135</td>\n",
       "    </tr>\n",
       "    <tr>\n",
       "      <th>14</th>\n",
       "      <td>Israel</td>\n",
       "      <td>701</td>\n",
       "      <td>254</td>\n",
       "      <td>955</td>\n",
       "      <td>73.403141</td>\n",
       "      <td>26.596859</td>\n",
       "    </tr>\n",
       "    <tr>\n",
       "      <th>2</th>\n",
       "      <td>Brazil</td>\n",
       "      <td>724</td>\n",
       "      <td>269</td>\n",
       "      <td>993</td>\n",
       "      <td>72.910373</td>\n",
       "      <td>27.089627</td>\n",
       "    </tr>\n",
       "    <tr>\n",
       "      <th>40</th>\n",
       "      <td>United States</td>\n",
       "      <td>632</td>\n",
       "      <td>274</td>\n",
       "      <td>906</td>\n",
       "      <td>69.757174</td>\n",
       "      <td>30.242826</td>\n",
       "    </tr>\n",
       "  </tbody>\n",
       "</table>\n",
       "</div>"
      ],
      "text/plain": [
       "     country_name  satisfaction_count  dissatisfaction_count  total_responses  \\\n",
       "20         Mexico                 746                    199              945   \n",
       "41      Venezuela                 693                    250              943   \n",
       "14         Israel                 701                    254              955   \n",
       "2          Brazil                 724                    269              993   \n",
       "40  United States                 632                    274              906   \n",
       "\n",
       "    %satisfied  %dissatisfied  \n",
       "20   78.941799      21.058201  \n",
       "41   73.488865      26.511135  \n",
       "14   73.403141      26.596859  \n",
       "2    72.910373      27.089627  \n",
       "40   69.757174      30.242826  "
      ]
     },
     "execution_count": 320,
     "metadata": {},
     "output_type": "execute_result"
    }
   ],
   "source": [
    "#Creating dataframe with country-level satisfaction/dissatisfaction\n",
    "satisfaction_by_country['country_name']=satisfaction_by_country.apply(country_from_code,axis=1)\n",
    "satisfaction_groupby_country = pd.DataFrame(satisfaction_by_country.groupby(['country_name','satisfaction_rating'])['satisfaction_rating'].count())\n",
    "satisfaction_groupby_country.columns = ['satisfaction_count']\n",
    "satisfaction_groupby_country.reset_index(inplace=True)\n",
    "satisfaction_groupby_country_dis = satisfaction_groupby_country[satisfaction_groupby_country['satisfaction_rating']=='Dissatisfied']\n",
    "satisfaction_groupby_country_dis.columns=['country_name','satisfaction_rating','dissatisfaction_count']\n",
    "satisfaction_groupby_country_sat = satisfaction_groupby_country[satisfaction_groupby_country['satisfaction_rating']=='Satisfied']\n",
    "satisfaction_groupby_country = pd.merge(satisfaction_groupby_country_dis,satisfaction_groupby_country_sat,on='country_name')\n",
    "satisfaction_groupby_country = satisfaction_groupby_country[['country_name','satisfaction_count','dissatisfaction_count']]\n",
    "satisfaction_groupby_country['total_responses'] = satisfaction_groupby_country['satisfaction_count']+satisfaction_groupby_country['dissatisfaction_count']\n",
    "satisfaction_groupby_country['%satisfied']=satisfaction_groupby_country['satisfaction_count']*100/satisfaction_groupby_country['total_responses']\n",
    "satisfaction_groupby_country['%dissatisfied']=satisfaction_groupby_country['dissatisfaction_count']*100/satisfaction_groupby_country['total_responses']\n",
    "satisfaction_groupby_country.sort_values('%satisfied',ascending=False).head()"
   ]
  },
  {
   "cell_type": "code",
   "execution_count": 321,
   "metadata": {},
   "outputs": [
    {
     "name": "stderr",
     "output_type": "stream",
     "text": [
      "/home/farhaan/anaconda3/lib/python3.6/site-packages/ipykernel_launcher.py:33: SettingWithCopyWarning:\n",
      "\n",
      "\n",
      "A value is trying to be set on a copy of a slice from a DataFrame.\n",
      "Try using .loc[row_indexer,col_indexer] = value instead\n",
      "\n",
      "See the caveats in the documentation: http://pandas.pydata.org/pandas-docs/stable/indexing.html#indexing-view-versus-copy\n",
      "\n"
     ]
    },
    {
     "data": {
      "text/html": [
       "<div>\n",
       "<style>\n",
       "    .dataframe thead tr:only-child th {\n",
       "        text-align: right;\n",
       "    }\n",
       "\n",
       "    .dataframe thead th {\n",
       "        text-align: left;\n",
       "    }\n",
       "\n",
       "    .dataframe tbody tr th {\n",
       "        vertical-align: top;\n",
       "    }\n",
       "</style>\n",
       "<table border=\"1\" class=\"dataframe\">\n",
       "  <thead>\n",
       "    <tr style=\"text-align: right;\">\n",
       "      <th></th>\n",
       "      <th>country_name</th>\n",
       "      <th>ISO-3</th>\n",
       "      <th>total_responses</th>\n",
       "      <th>%satisfied</th>\n",
       "      <th>%dissatisfied</th>\n",
       "    </tr>\n",
       "  </thead>\n",
       "  <tbody>\n",
       "    <tr>\n",
       "      <th>0</th>\n",
       "      <td>Argentina</td>\n",
       "      <td>ARG</td>\n",
       "      <td>923</td>\n",
       "      <td>67.388949</td>\n",
       "      <td>32.611051</td>\n",
       "    </tr>\n",
       "    <tr>\n",
       "      <th>1</th>\n",
       "      <td>Bangladesh</td>\n",
       "      <td>BGD</td>\n",
       "      <td>983</td>\n",
       "      <td>33.570702</td>\n",
       "      <td>66.429298</td>\n",
       "    </tr>\n",
       "    <tr>\n",
       "      <th>2</th>\n",
       "      <td>Brazil</td>\n",
       "      <td>BRA</td>\n",
       "      <td>993</td>\n",
       "      <td>72.910373</td>\n",
       "      <td>27.089627</td>\n",
       "    </tr>\n",
       "    <tr>\n",
       "      <th>3</th>\n",
       "      <td>Chile</td>\n",
       "      <td>CHL</td>\n",
       "      <td>925</td>\n",
       "      <td>56.972973</td>\n",
       "      <td>43.027027</td>\n",
       "    </tr>\n",
       "    <tr>\n",
       "      <th>4</th>\n",
       "      <td>China</td>\n",
       "      <td>CHN</td>\n",
       "      <td>2983</td>\n",
       "      <td>61.582300</td>\n",
       "      <td>38.417700</td>\n",
       "    </tr>\n",
       "  </tbody>\n",
       "</table>\n",
       "</div>"
      ],
      "text/plain": [
       "  country_name ISO-3  total_responses  %satisfied  %dissatisfied\n",
       "0    Argentina   ARG              923   67.388949      32.611051\n",
       "1   Bangladesh   BGD              983   33.570702      66.429298\n",
       "2       Brazil   BRA              993   72.910373      27.089627\n",
       "3        Chile   CHL              925   56.972973      43.027027\n",
       "4        China   CHN             2983   61.582300      38.417700"
      ]
     },
     "execution_count": 321,
     "metadata": {},
     "output_type": "execute_result"
    }
   ],
   "source": [
    "# dataframe of ISO-3 codes for countries. Needed for graphing on plotly choropleth map.\n",
    "# Certain countries need their names manually changed in order to merge properly with the satisfaction dataframe.\n",
    "\n",
    "#requires requests module imported in the initializations\n",
    "url = 'http://www.nationsonline.org/oneworld/country_code_list.htm'\n",
    "html = requests.get(url).content\n",
    "df_list = pd.read_html(html,header=0)\n",
    "df_countries = df_list[2]\n",
    "df_countries = df_countries[['Country or Area Name','ISO ALPHA-3 Code']].iloc[1:,:]\n",
    "df_countries.columns = ['country', 'ISO-3']\n",
    "\n",
    "# merge the ISO codes with the satisfaction_groupby_country dataframe \n",
    "satisfaction_df_with_codes = pd.merge(satisfaction_groupby_country,df_countries,how='left',left_on='country_name',right_on='country',indicator=True)\n",
    "\n",
    "# Unfortunately some of the countries in the original dataframe have\n",
    "#country names that are slightly different than the ones that were extracted from the web\n",
    "# so we have to manually change them\n",
    "nan_entries = pd.isnull(satisfaction_df_with_codes).any(axis=1)\n",
    "countries_tochange = list(satisfaction_df_with_codes[nan_entries].country_name)\n",
    "\n",
    "iso_countries_incompatible = ['Palestinian Territory','Russian Federation','Korea (South)',\n",
    "                 'Tanzania, United Republic of','United States of America',\n",
    "                'Venezuela (Bolivarian Republic)','Viet Nam']\n",
    "\n",
    "modified_iso_countries = df_countries.loc[df_countries.country.isin(iso_countries_incompatible)]\n",
    "\n",
    "modified_iso_countries['country']=[countries_tochange[2],\n",
    "                                   countries_tochange[0],\n",
    "                                   countries_tochange[1],\n",
    "                                   countries_tochange[3],\n",
    "                                   countries_tochange[4],\n",
    "                                   countries_tochange[5],\n",
    "                                   countries_tochange[6]]\n",
    "\n",
    "for country,ISO3 in zip(modified_iso_countries['country'],modified_iso_countries['ISO-3']):\n",
    "    satisfaction_df_with_codes.set_value(satisfaction_df_with_codes[satisfaction_df_with_codes.country_name==country].index,'ISO-3',ISO3)\n",
    "\n",
    "satisfaction_df_with_codes = satisfaction_df_with_codes.loc[:,['country_name','ISO-3','total_responses','%satisfied','%dissatisfied']]\n",
    "satisfaction_df_with_codes.head()"
   ]
  },
  {
   "cell_type": "code",
   "execution_count": 343,
   "metadata": {},
   "outputs": [
    {
     "data": {
      "text/html": [
       "<iframe id=\"igraph\" scrolling=\"no\" style=\"border:none;\" seamless=\"seamless\" src=\"https://plot.ly/~farhaanshaikh19/18.embed\" height=\"525px\" width=\"100%\"></iframe>"
      ],
      "text/plain": [
       "<plotly.tools.PlotlyDisplay object>"
      ]
     },
     "execution_count": 343,
     "metadata": {},
     "output_type": "execute_result"
    }
   ],
   "source": [
    "satisfaction_df_with_codes['text'] = satisfaction_df_with_codes['country_name'] + '<br>' +\\\n",
    "                                    'Percent Dissatisfied '+satisfaction_df_with_codes['%dissatisfied'].map(str)+'%'\n",
    "data = [ dict(\n",
    "        type = 'choropleth',\n",
    "        locations = satisfaction_df_with_codes['ISO-3'],\n",
    "        z = satisfaction_df_with_codes['%satisfied'],\n",
    "#         text = satisfaction_df_with_codes['country_name']\n",
    "        text= satisfaction_df_with_codes['text'],\n",
    "        colorscale = [[0,'maroon'],[0.7,'lightgrey'],[1,'navy']],\n",
    "#         colorscale = [[0,\"rgb(5, 10, 172)\"],[0.35,\"rgb(40, 60, 190)\"],[0.5,\"rgb(70, 100, 245)\"],\\\n",
    "#             [0.6,\"rgb(90, 120, 245)\"],[0.7,\"rgb(106, 137, 247)\"],[1,\"rgb(220, 220, 220)\"]],\n",
    "#         autocolorscale = False,\n",
    "#         reversescale = True,\n",
    "        marker = dict(\n",
    "            line = dict (\n",
    "                 color = 'rgb(180,180,180)',\n",
    "                width = 0.5\n",
    "            ) ),\n",
    "        colorbar = dict(\n",
    "            autotick = False,\n",
    "            #tickprefix = '$',\n",
    "            ticksuffix = '%',\n",
    "            title = 'Percent Satisfied'),\n",
    "      ) ]\n",
    "\n",
    "layout = dict(\n",
    "    title = '2014 Satisfaction by Country<br>Source:\\\n",
    "            <a href=\"http://www.pewglobal.org/2014/06/05/spring-2014-survey-data/\">\\\n",
    "            PEW</a>',\n",
    "    geo = dict(\n",
    "        showframe = False,\n",
    "        showcoastlines = True,\n",
    "        projection = dict(\n",
    "            type = 'Mercator'\n",
    "        )\n",
    "    )\n",
    ")\n",
    "\n",
    "fig = dict( data=data, layout=layout )\n",
    "py.iplot( fig, validate=False, filename='d3-world-map' )"
   ]
  },
  {
   "cell_type": "markdown",
   "metadata": {
    "collapsed": true
   },
   "source": [
    "## Appendix"
   ]
  },
  {
   "cell_type": "code",
   "execution_count": 132,
   "metadata": {
    "collapsed": true
   },
   "outputs": [],
   "source": [
    "# Some of the code used during hyperparameter optimization : NOT COMPREHENSIVE\n",
    "\n",
    "# logregression_grid_params = {'n_jobs':[-1], 'penalty':['l1','l2'],\n",
    "#                              'C':np.logspace(-2,1,6), 'random_state':[40]}\n",
    "\n",
    "# logregression_grid_search = GridSearchCV(LogisticRegression(),logregression_grid_params,\n",
    "#                                         n_jobs=-1,cv=cross_validator)\n",
    "\n",
    "# logregression_grid_search.fit(X,y)\n",
    "\n",
    "# logregression_grid_search.best_score_\n",
    "\n",
    "# logregression_grid_search.best_params_\n",
    "\n",
    "# logregression_grid_search.grid_scores_\n",
    "\n",
    "# linearsvc_grid_params = {'C':np.logspace(-2,2,5), 'penalty':['l2'],\n",
    "#                          'loss':['hinge','squared_hinge'],'random_state':[40]}\n",
    "\n",
    "# linearsvc_grid_search = GridSearchCV(LinearSVC(),linearsvc_grid_params,\n",
    "#                                      n_jobs=-1,cv=cross_validator)\n",
    "\n",
    "# linearsvc_grid_search.fit(X2,y2)\n",
    "\n",
    "# linearsvc_grid_search.best_score_\n",
    "\n",
    "# linearsvc_grid_search.best_params_\n",
    "\n",
    "\n",
    "\n",
    "# print(linearsvc_grid_search.best_score_)\n",
    "# print(linearsvc_grid_search.best_params_)\n",
    "\n",
    "# knn_grid_params = {'n_neighbors':[15], 'weights':['uniform','distance'],\n",
    "#                    'leaf_size':[40],'n_jobs':[-1],}\n",
    "\n",
    "# knn_grid_search = GridSearchCV(KNeighborsClassifier(),knn_grid_params,\n",
    "#                                n_jobs=-1,cv=cross_validator)\n",
    "\n",
    "# knn_grid_search.fit(X2,y2)\n",
    "\n",
    "# print(knn_grid_search.best_score_)\n",
    "# print(knn_grid_search.best_params_)\n",
    "\n",
    "# knn_grid_search.grid_scores_\n",
    "\n",
    "# knn_grid_params = {'n_neighbors':[20,40], 'algorithm':['ball_tree'],'weights':['uniform'],\n",
    "#                    'leaf_size':[40,100],'n_jobs':[-1],}\n",
    "\n",
    "# knn_grid_search = GridSearchCV(KNeighborsClassifier(),knn_grid_params,\n",
    "#                                n_jobs=-1,cv=cross_validator)\n",
    "\n",
    "# knn_grid_search.fit(X2,y2)\n",
    "\n",
    "# print(knn_grid_search.best_score_)\n",
    "# print(knn_grid_search.best_params_)"
   ]
  }
 ],
 "metadata": {
  "kernelspec": {
   "display_name": "Python 3",
   "language": "python",
   "name": "python3"
  },
  "language_info": {
   "codemirror_mode": {
    "name": "ipython",
    "version": 3
   },
   "file_extension": ".py",
   "mimetype": "text/x-python",
   "name": "python",
   "nbconvert_exporter": "python",
   "pygments_lexer": "ipython3",
   "version": "3.6.1"
  }
 },
 "nbformat": 4,
 "nbformat_minor": 2
}
