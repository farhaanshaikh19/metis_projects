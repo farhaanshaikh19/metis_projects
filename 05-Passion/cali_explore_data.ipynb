{
 "cells": [
  {
   "cell_type": "code",
   "execution_count": 1,
   "metadata": {
    "collapsed": true
   },
   "outputs": [],
   "source": [
    "import pandas as pd\n",
    "import pickle\n",
    "import glob\n",
    "import re\n",
    "\n",
    "from copy import deepcopy\n",
    "\n",
    "import matplotlib.pyplot as plt\n",
    "\n",
    "%matplotlib inline"
   ]
  },
  {
   "cell_type": "code",
   "execution_count": 33,
   "metadata": {
    "collapsed": true
   },
   "outputs": [],
   "source": [
    "import re"
   ]
  },
  {
   "cell_type": "code",
   "execution_count": 16,
   "metadata": {
    "collapsed": true
   },
   "outputs": [],
   "source": [
    "import numpy as np"
   ]
  },
  {
   "cell_type": "code",
   "execution_count": 8,
   "metadata": {
    "collapsed": true
   },
   "outputs": [],
   "source": [
    "from collections import Counter"
   ]
  },
  {
   "cell_type": "code",
   "execution_count": 10,
   "metadata": {
    "collapsed": true
   },
   "outputs": [],
   "source": [
    "from sklearn.preprocessing import OneHotEncoder"
   ]
  },
  {
   "cell_type": "code",
   "execution_count": 95,
   "metadata": {
    "collapsed": true
   },
   "outputs": [],
   "source": [
    "from sklearn.linear_model import LogisticRegression"
   ]
  },
  {
   "cell_type": "code",
   "execution_count": 137,
   "metadata": {
    "collapsed": true
   },
   "outputs": [],
   "source": [
    "from sklearn.dummy import DummyClassifier"
   ]
  },
  {
   "cell_type": "code",
   "execution_count": 143,
   "metadata": {
    "collapsed": true
   },
   "outputs": [],
   "source": [
    "from sklearn import metrics"
   ]
  },
  {
   "cell_type": "code",
   "execution_count": 153,
   "metadata": {
    "collapsed": true
   },
   "outputs": [],
   "source": [
    "from sklearn.model_selection import KFold,cross_val_score,cross_val_predict,GridSearchCV"
   ]
  },
  {
   "cell_type": "code",
   "execution_count": 332,
   "metadata": {
    "collapsed": true
   },
   "outputs": [],
   "source": [
    "from sklearn.ensemble import RandomForestClassifier"
   ]
  },
  {
   "cell_type": "code",
   "execution_count": 403,
   "metadata": {
    "collapsed": true
   },
   "outputs": [],
   "source": [
    "from sklearn.neighbors import KNeighborsClassifier"
   ]
  },
  {
   "cell_type": "code",
   "execution_count": 2,
   "metadata": {},
   "outputs": [
    {
     "name": "stdout",
     "output_type": "stream",
     "text": [
      "/home/farhaan/working_projects/rough_proj_git\r\n"
     ]
    }
   ],
   "source": [
    "!pwd"
   ]
  },
  {
   "cell_type": "code",
   "execution_count": 3,
   "metadata": {},
   "outputs": [
    {
     "name": "stderr",
     "output_type": "stream",
     "text": [
      "/home/farhaan/anaconda3/lib/python3.6/site-packages/IPython/core/interactiveshell.py:2717: DtypeWarning: Columns (3,14,15,17,26,29,30,32,33,34,42) have mixed types. Specify dtype option on import or set low_memory=False.\n",
      "  interactivity=interactivity, compiler=compiler, result=result)\n"
     ]
    }
   ],
   "source": [
    "cali_collision_records_df = pd.read_csv('../calicollision/CollisionRecords.txt')"
   ]
  },
  {
   "cell_type": "code",
   "execution_count": 154,
   "metadata": {},
   "outputs": [
    {
     "name": "stdout",
     "output_type": "stream",
     "text": [
      "<class 'pandas.core.frame.DataFrame'>\n",
      "RangeIndex: 437692 entries, 0 to 437691\n",
      "Data columns (total 76 columns):\n",
      "CASE_ID                    437692 non-null int64\n",
      "ACCIDENT_YEAR              437692 non-null int64\n",
      "PROC_DATE                  437692 non-null int64\n",
      "JURIS                      437692 non-null object\n",
      "COLLISION_DATE             437692 non-null int64\n",
      "COLLISION_TIME             437692 non-null int64\n",
      "OFFICER_ID                 436944 non-null object\n",
      "REPORTING_DISTRICT         170081 non-null object\n",
      "DAY_OF_WEEK                437692 non-null int64\n",
      "CHP_SHIFT                  437692 non-null int64\n",
      "POPULATION                 437692 non-null int64\n",
      "CNTY_CITY_LOC              437692 non-null int64\n",
      "SPECIAL_COND               437692 non-null int64\n",
      "BEAT_TYPE                  437692 non-null int64\n",
      "CHP_BEAT_TYPE              437692 non-null object\n",
      "CITY_DIVISION_LAPD         28813 non-null object\n",
      "CHP_BEAT_CLASS             437692 non-null int64\n",
      "BEAT_NUMBER                409916 non-null object\n",
      "PRIMARY_RD                 437692 non-null object\n",
      "SECONDARY_RD               437692 non-null object\n",
      "DISTANCE                   437692 non-null float64\n",
      "DIRECTION                  331666 non-null object\n",
      "INTERSECTION               437692 non-null object\n",
      "WEATHER_1                  437692 non-null object\n",
      "WEATHER_2                  437692 non-null object\n",
      "STATE_HWY_IND              437606 non-null object\n",
      "CALTRANS_COUNTY            107464 non-null object\n",
      "CALTRANS_DISTRICT          107464 non-null float64\n",
      "STATE_ROUTE                107464 non-null float64\n",
      "ROUTE_SUFFIX               107464 non-null object\n",
      "POSTMILE_PREFIX            107464 non-null object\n",
      "POSTMILE                   107464 non-null float64\n",
      "LOCATION_TYPE              107464 non-null object\n",
      "RAMP_INTERSECTION          107464 non-null object\n",
      "SIDE_OF_HWY                107464 non-null object\n",
      "TOW_AWAY                   435067 non-null object\n",
      "COLLISION_SEVERITY         437692 non-null int64\n",
      "NUMBER_KILLED              437692 non-null int64\n",
      "NUMBER_INJURED             437692 non-null int64\n",
      "PARTY_COUNT                437692 non-null int64\n",
      "PRIMARY_COLL_FACTOR        437692 non-null object\n",
      "PCF_CODE_OF_VIOL           437692 non-null object\n",
      "PCF_VIOL_CATEGORY          437692 non-null object\n",
      "PCF_VIOLATION              411079 non-null float64\n",
      "PCF_VIOL_SUBSECTION        156458 non-null object\n",
      "HIT_AND_RUN                437692 non-null object\n",
      "TYPE_OF_COLLISION          437692 non-null object\n",
      "MVIW                       437692 non-null object\n",
      "PED_ACTION                 437692 non-null object\n",
      "ROAD_SURFACE               437692 non-null object\n",
      "ROAD_COND_1                437692 non-null object\n",
      "ROAD_COND_2                437692 non-null object\n",
      "LIGHTING                   437692 non-null object\n",
      "CONTROL_DEVICE             437692 non-null object\n",
      "CHP_ROAD_TYPE              437692 non-null int64\n",
      "PEDESTRIAN_ACCIDENT        14347 non-null object\n",
      "BICYCLE_ACCIDENT           13947 non-null object\n",
      "MOTORCYCLE_ACCIDENT        16665 non-null object\n",
      "TRUCK_ACCIDENT             23907 non-null object\n",
      "NOT_PRIVATE_PROPERTY       437692 non-null object\n",
      "ALCOHOL_INVOLVED           43665 non-null object\n",
      "STWD_VEHTYPE_AT_FAULT      437692 non-null object\n",
      "CHP_VEHTYPE_AT_FAULT       403643 non-null object\n",
      "COUNT_SEVERE_INJ           437692 non-null int64\n",
      "COUNT_VISIBLE_INJ          437692 non-null int64\n",
      "COUNT_COMPLAINT_PAIN       437692 non-null int64\n",
      "COUNT_PED_KILLED           437692 non-null int64\n",
      "COUNT_PED_INJURED          437692 non-null int64\n",
      "COUNT_BICYCLIST_KILLED     437692 non-null int64\n",
      "COUNT_BICYCLIST_INJURED    437692 non-null int64\n",
      "COUNT_MC_KILLED            437692 non-null int64\n",
      "COUNT_MC_INJURED           437692 non-null int64\n",
      "PRIMARY_RAMP               437692 non-null object\n",
      "SECONDARY_RAMP             437692 non-null object\n",
      "LATITUDE                   203410 non-null float64\n",
      "LONGITUDE                  203410 non-null float64\n",
      "dtypes: float64(7), int64(26), object(43)\n",
      "memory usage: 253.8+ MB\n"
     ]
    }
   ],
   "source": [
    "cali_collision_records_df.info()"
   ]
  },
  {
   "cell_type": "code",
   "execution_count": 265,
   "metadata": {},
   "outputs": [
    {
     "data": {
      "text/html": [
       "<div>\n",
       "<style>\n",
       "    .dataframe thead tr:only-child th {\n",
       "        text-align: right;\n",
       "    }\n",
       "\n",
       "    .dataframe thead th {\n",
       "        text-align: left;\n",
       "    }\n",
       "\n",
       "    .dataframe tbody tr th {\n",
       "        vertical-align: top;\n",
       "    }\n",
       "</style>\n",
       "<table border=\"1\" class=\"dataframe\">\n",
       "  <thead>\n",
       "    <tr style=\"text-align: right;\">\n",
       "      <th></th>\n",
       "      <th>CASE_ID</th>\n",
       "      <th>ACCIDENT_YEAR</th>\n",
       "      <th>PROC_DATE</th>\n",
       "      <th>JURIS</th>\n",
       "      <th>COLLISION_DATE</th>\n",
       "      <th>COLLISION_TIME</th>\n",
       "      <th>OFFICER_ID</th>\n",
       "      <th>REPORTING_DISTRICT</th>\n",
       "      <th>DAY_OF_WEEK</th>\n",
       "      <th>CHP_SHIFT</th>\n",
       "      <th>...</th>\n",
       "      <th>COUNT_PED_KILLED</th>\n",
       "      <th>COUNT_PED_INJURED</th>\n",
       "      <th>COUNT_BICYCLIST_KILLED</th>\n",
       "      <th>COUNT_BICYCLIST_INJURED</th>\n",
       "      <th>COUNT_MC_KILLED</th>\n",
       "      <th>COUNT_MC_INJURED</th>\n",
       "      <th>PRIMARY_RAMP</th>\n",
       "      <th>SECONDARY_RAMP</th>\n",
       "      <th>LATITUDE</th>\n",
       "      <th>LONGITUDE</th>\n",
       "    </tr>\n",
       "  </thead>\n",
       "  <tbody>\n",
       "    <tr>\n",
       "      <th>0</th>\n",
       "      <td>6292116</td>\n",
       "      <td>2015</td>\n",
       "      <td>20150424</td>\n",
       "      <td>3300</td>\n",
       "      <td>20150102</td>\n",
       "      <td>1844</td>\n",
       "      <td>3775</td>\n",
       "      <td>602E3</td>\n",
       "      <td>5</td>\n",
       "      <td>5</td>\n",
       "      <td>...</td>\n",
       "      <td>1</td>\n",
       "      <td>0</td>\n",
       "      <td>0</td>\n",
       "      <td>0</td>\n",
       "      <td>0</td>\n",
       "      <td>0</td>\n",
       "      <td>-</td>\n",
       "      <td>-</td>\n",
       "      <td>NaN</td>\n",
       "      <td>NaN</td>\n",
       "    </tr>\n",
       "    <tr>\n",
       "      <th>1</th>\n",
       "      <td>6292117</td>\n",
       "      <td>2015</td>\n",
       "      <td>20160108</td>\n",
       "      <td>9390</td>\n",
       "      <td>20150104</td>\n",
       "      <td>1817</td>\n",
       "      <td>20587</td>\n",
       "      <td>NaN</td>\n",
       "      <td>7</td>\n",
       "      <td>2</td>\n",
       "      <td>...</td>\n",
       "      <td>0</td>\n",
       "      <td>0</td>\n",
       "      <td>0</td>\n",
       "      <td>0</td>\n",
       "      <td>0</td>\n",
       "      <td>0</td>\n",
       "      <td>-</td>\n",
       "      <td>-</td>\n",
       "      <td>37.61089</td>\n",
       "      <td>121.82204</td>\n",
       "    </tr>\n",
       "    <tr>\n",
       "      <th>2</th>\n",
       "      <td>6292118</td>\n",
       "      <td>2015</td>\n",
       "      <td>20150429</td>\n",
       "      <td>9390</td>\n",
       "      <td>20150105</td>\n",
       "      <td>1650</td>\n",
       "      <td>20557</td>\n",
       "      <td>NaN</td>\n",
       "      <td>1</td>\n",
       "      <td>2</td>\n",
       "      <td>...</td>\n",
       "      <td>0</td>\n",
       "      <td>0</td>\n",
       "      <td>0</td>\n",
       "      <td>0</td>\n",
       "      <td>0</td>\n",
       "      <td>0</td>\n",
       "      <td>-</td>\n",
       "      <td>-</td>\n",
       "      <td>37.50050</td>\n",
       "      <td>121.92909</td>\n",
       "    </tr>\n",
       "    <tr>\n",
       "      <th>3</th>\n",
       "      <td>6292119</td>\n",
       "      <td>2015</td>\n",
       "      <td>20150424</td>\n",
       "      <td>0103</td>\n",
       "      <td>20150113</td>\n",
       "      <td>1843</td>\n",
       "      <td>8</td>\n",
       "      <td>30</td>\n",
       "      <td>2</td>\n",
       "      <td>5</td>\n",
       "      <td>...</td>\n",
       "      <td>0</td>\n",
       "      <td>0</td>\n",
       "      <td>1</td>\n",
       "      <td>0</td>\n",
       "      <td>0</td>\n",
       "      <td>0</td>\n",
       "      <td>-</td>\n",
       "      <td>-</td>\n",
       "      <td>NaN</td>\n",
       "      <td>NaN</td>\n",
       "    </tr>\n",
       "    <tr>\n",
       "      <th>4</th>\n",
       "      <td>6292120</td>\n",
       "      <td>2015</td>\n",
       "      <td>20150429</td>\n",
       "      <td>9525</td>\n",
       "      <td>20150115</td>\n",
       "      <td>1350</td>\n",
       "      <td>16679</td>\n",
       "      <td>NaN</td>\n",
       "      <td>4</td>\n",
       "      <td>1</td>\n",
       "      <td>...</td>\n",
       "      <td>0</td>\n",
       "      <td>0</td>\n",
       "      <td>0</td>\n",
       "      <td>0</td>\n",
       "      <td>0</td>\n",
       "      <td>0</td>\n",
       "      <td>TO</td>\n",
       "      <td>-</td>\n",
       "      <td>34.07225</td>\n",
       "      <td>117.78874</td>\n",
       "    </tr>\n",
       "  </tbody>\n",
       "</table>\n",
       "<p>5 rows × 76 columns</p>\n",
       "</div>"
      ],
      "text/plain": [
       "   CASE_ID  ACCIDENT_YEAR  PROC_DATE JURIS  COLLISION_DATE  COLLISION_TIME  \\\n",
       "0  6292116           2015   20150424  3300        20150102            1844   \n",
       "1  6292117           2015   20160108  9390        20150104            1817   \n",
       "2  6292118           2015   20150429  9390        20150105            1650   \n",
       "3  6292119           2015   20150424  0103        20150113            1843   \n",
       "4  6292120           2015   20150429  9525        20150115            1350   \n",
       "\n",
       "  OFFICER_ID REPORTING_DISTRICT  DAY_OF_WEEK  CHP_SHIFT    ...      \\\n",
       "0       3775              602E3            5          5    ...       \n",
       "1      20587                NaN            7          2    ...       \n",
       "2      20557                NaN            1          2    ...       \n",
       "3          8                 30            2          5    ...       \n",
       "4      16679                NaN            4          1    ...       \n",
       "\n",
       "   COUNT_PED_KILLED  COUNT_PED_INJURED  COUNT_BICYCLIST_KILLED  \\\n",
       "0                 1                  0                       0   \n",
       "1                 0                  0                       0   \n",
       "2                 0                  0                       0   \n",
       "3                 0                  0                       1   \n",
       "4                 0                  0                       0   \n",
       "\n",
       "   COUNT_BICYCLIST_INJURED COUNT_MC_KILLED COUNT_MC_INJURED  PRIMARY_RAMP  \\\n",
       "0                        0               0                0             -   \n",
       "1                        0               0                0             -   \n",
       "2                        0               0                0             -   \n",
       "3                        0               0                0             -   \n",
       "4                        0               0                0            TO   \n",
       "\n",
       "  SECONDARY_RAMP  LATITUDE  LONGITUDE  \n",
       "0              -       NaN        NaN  \n",
       "1              -  37.61089  121.82204  \n",
       "2              -  37.50050  121.92909  \n",
       "3              -       NaN        NaN  \n",
       "4              -  34.07225  117.78874  \n",
       "\n",
       "[5 rows x 76 columns]"
      ]
     },
     "execution_count": 265,
     "metadata": {},
     "output_type": "execute_result"
    }
   ],
   "source": [
    "cali_collision_records_df.head()"
   ]
  },
  {
   "cell_type": "markdown",
   "metadata": {},
   "source": [
    "cali_collision_records_df_dummies = cali_collision_records_df.loc[:,['CASE_ID','COLLISION_DATE',\n",
    "       'COLLISION_TIME','DAY_OF_WEEK',\n",
    "       'POPULATION', \n",
    "       'WEATHER_1', 'WEATHER_2', 'LOCATION_TYPE', 'COLLISION_SEVERITY', 'NUMBER_KILLED', 'NUMBER_INJURED',\n",
    "       'PARTY_COUNT', 'PRIMARY_COLL_FACTOR', 'PCF_VIOL_CATEGORY',\n",
    "       'HIT_AND_RUN', 'TYPE_OF_COLLISION', 'MVIW', 'PED_ACTION',\n",
    "       'ROAD_SURFACE', 'ROAD_COND_1', 'ROAD_COND_2', 'LIGHTING',\n",
    "       'CONTROL_DEVICE', 'PEDESTRIAN_ACCIDENT',\n",
    "       'BICYCLE_ACCIDENT', 'MOTORCYCLE_ACCIDENT', 'TRUCK_ACCIDENT',\n",
    "       'NOT_PRIVATE_PROPERTY', 'ALCOHOL_INVOLVED',\n",
    "       'COUNT_SEVERE_INJ', 'COUNT_VISIBLE_INJ',\n",
    "       'COUNT_COMPLAINT_PAIN', 'COUNT_PED_KILLED', 'COUNT_PED_INJURED',\n",
    "       'COUNT_BICYCLIST_KILLED', 'COUNT_BICYCLIST_INJURED', 'COUNT_MC_KILLED',\n",
    "       'COUNT_MC_INJURED','LATITUDE','LONGITUDE']]"
   ]
  },
  {
   "cell_type": "code",
   "execution_count": 831,
   "metadata": {},
   "outputs": [
    {
     "data": {
      "text/plain": [
       "[<matplotlib.lines.Line2D at 0x7fb407cf8710>]"
      ]
     },
     "execution_count": 831,
     "metadata": {},
     "output_type": "execute_result"
    },
    {
     "data": {
      "image/png": "[encoded data removed]",
      "text/plain": [
       "<matplotlib.figure.Figure at 0x7fb407b7fc88>"
      ]
     },
     "metadata": {},
     "output_type": "display_data"
    }
   ],
   "source": [
    "plt.figure(figsize=(6.611*1.5,7.625*1.5))\n",
    "plt.xlim(-124.49479,-114.13892)\n",
    "plt.ylim(32.501,42.00931)\n",
    "plt.plot(-1*cali_collision_records_df['LONGITUDE'],cali_collision_records_df['LATITUDE'],'ko',markersize=.8,color='orange')\n",
    "plt.plot(cal_latlong_pairs_sev.LONGITUDE,cal_latlong_pairs_sev.LATITUDE,'r.',markersize=.8,color='magenta')"
   ]
  },
  {
   "cell_type": "code",
   "execution_count": 948,
   "metadata": {
    "collapsed": true
   },
   "outputs": [],
   "source": [
    "t_df = cali_collision_records_df[cali_collision_records_df.BICYCLE_ACCIDENT=='Y']\n",
    "\n",
    "t_df = t_df[['LATITUDE','LONGITUDE']]\n",
    "\n",
    "t_df = t_df.dropna()"
   ]
  },
  {
   "cell_type": "code",
   "execution_count": 968,
   "metadata": {
    "collapsed": true
   },
   "outputs": [],
   "source": [
    "t2_df = cali_collision_records_df[cali_collision_records_df.PEDESTRIAN_ACCIDENT=='Y']\n",
    "t2_df = t_df[['LATITUDE','LONGITUDE']]\n",
    "t2_df = t_df.dropna()"
   ]
  },
  {
   "cell_type": "code",
   "execution_count": 977,
   "metadata": {},
   "outputs": [
    {
     "data": {
      "text/plain": [
       "[<matplotlib.lines.Line2D at 0x7fb406c13518>,\n",
       " <matplotlib.lines.Line2D at 0x7fb406c13f60>]"
      ]
     },
     "execution_count": 977,
     "metadata": {},
     "output_type": "execute_result"
    },
    {
     "data": {
      "image/png": "[encoded data removed]",
      "text/plain": [
       "<matplotlib.figure.Figure at 0x7fb40749deb8>"
      ]
     },
     "metadata": {},
     "output_type": "display_data"
    }
   ],
   "source": [
    "plt.figure(figsize=(6.611*1.5,7.625*1.5))\n",
    "plt.xlim(-124.49479,-114.13892)\n",
    "plt.ylim(32.501,42.00931)\n",
    "\n",
    "plt.plot(-1*t_df.LONGITUDE,t_df.LATITUDE,'bo',-1*t2_df.LONGITUDE,t2_df.LATITUDE,'ro',markersize=.7)\n",
    "# plt.plot(-1*t2_df.LONGITUDE,t2_df.LATITUDE,'r*',markersize=4)\n",
    "\n",
    "# plt.plot(cal_latlong_pairs_sev.LONGITUDE,cal_latlong_pairs_sev.LATITUDE,'r.',markersize=.8,color='magenta')"
   ]
  },
  {
   "cell_type": "code",
   "execution_count": 778,
   "metadata": {
    "collapsed": true
   },
   "outputs": [],
   "source": [
    "cal_latlong_pairs_sev = pd.DataFrame(cali_collision_records_df.loc[:,['LATITUDE','LONGITUDE','COLLISION_SEVERITY']])\n",
    "\n",
    "cal_latlong_pairs_sev.dropna(inplace=True)\n",
    "cal_latlong_pairs_sev = cal_latlong_pairs_sev[(cal_latlong_pairs_sev['COLLISION_SEVERITY']==1) | (cal_latlong_pairs_sev['COLLISION_SEVERITY']==2)]\n",
    "\n",
    "cal_latlong_pairs_sev['LONGITUDE']= -1*cal_latlong_pairs_sev.LONGITUDE"
   ]
  },
  {
   "cell_type": "code",
   "execution_count": 781,
   "metadata": {},
   "outputs": [
    {
     "data": {
      "text/html": [
       "<div>\n",
       "<style>\n",
       "    .dataframe thead tr:only-child th {\n",
       "        text-align: right;\n",
       "    }\n",
       "\n",
       "    .dataframe thead th {\n",
       "        text-align: left;\n",
       "    }\n",
       "\n",
       "    .dataframe tbody tr th {\n",
       "        vertical-align: top;\n",
       "    }\n",
       "</style>\n",
       "<table border=\"1\" class=\"dataframe\">\n",
       "  <thead>\n",
       "    <tr style=\"text-align: right;\">\n",
       "      <th></th>\n",
       "      <th>LATITUDE</th>\n",
       "      <th>LONGITUDE</th>\n",
       "      <th>COLLISION_SEVERITY</th>\n",
       "    </tr>\n",
       "  </thead>\n",
       "  <tbody>\n",
       "    <tr>\n",
       "      <th>1</th>\n",
       "      <td>37.61089</td>\n",
       "      <td>-121.82204</td>\n",
       "      <td>1</td>\n",
       "    </tr>\n",
       "    <tr>\n",
       "      <th>2</th>\n",
       "      <td>37.50050</td>\n",
       "      <td>-121.92909</td>\n",
       "      <td>1</td>\n",
       "    </tr>\n",
       "    <tr>\n",
       "      <th>4</th>\n",
       "      <td>34.07225</td>\n",
       "      <td>-117.78874</td>\n",
       "      <td>1</td>\n",
       "    </tr>\n",
       "    <tr>\n",
       "      <th>5</th>\n",
       "      <td>38.92330</td>\n",
       "      <td>-121.08335</td>\n",
       "      <td>1</td>\n",
       "    </tr>\n",
       "    <tr>\n",
       "      <th>8</th>\n",
       "      <td>34.27878</td>\n",
       "      <td>-118.92062</td>\n",
       "      <td>1</td>\n",
       "    </tr>\n",
       "    <tr>\n",
       "      <th>10</th>\n",
       "      <td>38.25465</td>\n",
       "      <td>-122.57505</td>\n",
       "      <td>1</td>\n",
       "    </tr>\n",
       "    <tr>\n",
       "      <th>11</th>\n",
       "      <td>33.87912</td>\n",
       "      <td>-117.55873</td>\n",
       "      <td>1</td>\n",
       "    </tr>\n",
       "    <tr>\n",
       "      <th>12</th>\n",
       "      <td>40.55470</td>\n",
       "      <td>-123.50470</td>\n",
       "      <td>1</td>\n",
       "    </tr>\n",
       "    <tr>\n",
       "      <th>13</th>\n",
       "      <td>34.65060</td>\n",
       "      <td>-120.09540</td>\n",
       "      <td>1</td>\n",
       "    </tr>\n",
       "    <tr>\n",
       "      <th>16</th>\n",
       "      <td>38.22280</td>\n",
       "      <td>-120.70088</td>\n",
       "      <td>1</td>\n",
       "    </tr>\n",
       "    <tr>\n",
       "      <th>17</th>\n",
       "      <td>38.46405</td>\n",
       "      <td>-119.52572</td>\n",
       "      <td>1</td>\n",
       "    </tr>\n",
       "    <tr>\n",
       "      <th>18</th>\n",
       "      <td>38.70430</td>\n",
       "      <td>-120.11228</td>\n",
       "      <td>1</td>\n",
       "    </tr>\n",
       "    <tr>\n",
       "      <th>19</th>\n",
       "      <td>34.10310</td>\n",
       "      <td>-118.25006</td>\n",
       "      <td>1</td>\n",
       "    </tr>\n",
       "    <tr>\n",
       "      <th>20</th>\n",
       "      <td>35.41188</td>\n",
       "      <td>-119.05419</td>\n",
       "      <td>1</td>\n",
       "    </tr>\n",
       "    <tr>\n",
       "      <th>21</th>\n",
       "      <td>36.69869</td>\n",
       "      <td>-119.61032</td>\n",
       "      <td>1</td>\n",
       "    </tr>\n",
       "    <tr>\n",
       "      <th>23</th>\n",
       "      <td>34.51632</td>\n",
       "      <td>-118.10387</td>\n",
       "      <td>1</td>\n",
       "    </tr>\n",
       "    <tr>\n",
       "      <th>24</th>\n",
       "      <td>37.69635</td>\n",
       "      <td>-121.33457</td>\n",
       "      <td>1</td>\n",
       "    </tr>\n",
       "    <tr>\n",
       "      <th>25</th>\n",
       "      <td>35.38569</td>\n",
       "      <td>-118.89521</td>\n",
       "      <td>1</td>\n",
       "    </tr>\n",
       "    <tr>\n",
       "      <th>26</th>\n",
       "      <td>39.80713</td>\n",
       "      <td>-122.19730</td>\n",
       "      <td>1</td>\n",
       "    </tr>\n",
       "    <tr>\n",
       "      <th>28</th>\n",
       "      <td>37.41031</td>\n",
       "      <td>-120.75232</td>\n",
       "      <td>1</td>\n",
       "    </tr>\n",
       "    <tr>\n",
       "      <th>29</th>\n",
       "      <td>36.49221</td>\n",
       "      <td>-119.52192</td>\n",
       "      <td>1</td>\n",
       "    </tr>\n",
       "    <tr>\n",
       "      <th>30</th>\n",
       "      <td>34.07284</td>\n",
       "      <td>-118.68716</td>\n",
       "      <td>1</td>\n",
       "    </tr>\n",
       "    <tr>\n",
       "      <th>31</th>\n",
       "      <td>34.02729</td>\n",
       "      <td>-118.21038</td>\n",
       "      <td>1</td>\n",
       "    </tr>\n",
       "    <tr>\n",
       "      <th>32</th>\n",
       "      <td>34.06179</td>\n",
       "      <td>-118.24918</td>\n",
       "      <td>1</td>\n",
       "    </tr>\n",
       "    <tr>\n",
       "      <th>33</th>\n",
       "      <td>34.00441</td>\n",
       "      <td>-117.95627</td>\n",
       "      <td>1</td>\n",
       "    </tr>\n",
       "    <tr>\n",
       "      <th>34</th>\n",
       "      <td>33.97384</td>\n",
       "      <td>-117.84459</td>\n",
       "      <td>1</td>\n",
       "    </tr>\n",
       "    <tr>\n",
       "      <th>35</th>\n",
       "      <td>34.49533</td>\n",
       "      <td>-118.21633</td>\n",
       "      <td>1</td>\n",
       "    </tr>\n",
       "    <tr>\n",
       "      <th>36</th>\n",
       "      <td>34.54641</td>\n",
       "      <td>-118.51961</td>\n",
       "      <td>1</td>\n",
       "    </tr>\n",
       "    <tr>\n",
       "      <th>37</th>\n",
       "      <td>34.01001</td>\n",
       "      <td>-118.40570</td>\n",
       "      <td>1</td>\n",
       "    </tr>\n",
       "    <tr>\n",
       "      <th>38</th>\n",
       "      <td>34.12100</td>\n",
       "      <td>-117.00550</td>\n",
       "      <td>1</td>\n",
       "    </tr>\n",
       "    <tr>\n",
       "      <th>...</th>\n",
       "      <td>...</td>\n",
       "      <td>...</td>\n",
       "      <td>...</td>\n",
       "    </tr>\n",
       "    <tr>\n",
       "      <th>437591</th>\n",
       "      <td>37.41686</td>\n",
       "      <td>-122.17377</td>\n",
       "      <td>1</td>\n",
       "    </tr>\n",
       "    <tr>\n",
       "      <th>437601</th>\n",
       "      <td>34.03313</td>\n",
       "      <td>-118.16925</td>\n",
       "      <td>1</td>\n",
       "    </tr>\n",
       "    <tr>\n",
       "      <th>437605</th>\n",
       "      <td>37.85906</td>\n",
       "      <td>-122.30167</td>\n",
       "      <td>1</td>\n",
       "    </tr>\n",
       "    <tr>\n",
       "      <th>437607</th>\n",
       "      <td>33.73758</td>\n",
       "      <td>-117.98997</td>\n",
       "      <td>1</td>\n",
       "    </tr>\n",
       "    <tr>\n",
       "      <th>437609</th>\n",
       "      <td>38.40490</td>\n",
       "      <td>-121.20199</td>\n",
       "      <td>1</td>\n",
       "    </tr>\n",
       "    <tr>\n",
       "      <th>437611</th>\n",
       "      <td>34.06701</td>\n",
       "      <td>-117.80358</td>\n",
       "      <td>1</td>\n",
       "    </tr>\n",
       "    <tr>\n",
       "      <th>437612</th>\n",
       "      <td>38.52470</td>\n",
       "      <td>-121.52150</td>\n",
       "      <td>1</td>\n",
       "    </tr>\n",
       "    <tr>\n",
       "      <th>437615</th>\n",
       "      <td>33.08194</td>\n",
       "      <td>-117.07105</td>\n",
       "      <td>1</td>\n",
       "    </tr>\n",
       "    <tr>\n",
       "      <th>437618</th>\n",
       "      <td>38.56499</td>\n",
       "      <td>-121.49917</td>\n",
       "      <td>1</td>\n",
       "    </tr>\n",
       "    <tr>\n",
       "      <th>437619</th>\n",
       "      <td>36.34388</td>\n",
       "      <td>-119.85118</td>\n",
       "      <td>1</td>\n",
       "    </tr>\n",
       "    <tr>\n",
       "      <th>437621</th>\n",
       "      <td>36.48723</td>\n",
       "      <td>-119.33352</td>\n",
       "      <td>1</td>\n",
       "    </tr>\n",
       "    <tr>\n",
       "      <th>437623</th>\n",
       "      <td>34.39902</td>\n",
       "      <td>-118.94923</td>\n",
       "      <td>1</td>\n",
       "    </tr>\n",
       "    <tr>\n",
       "      <th>437624</th>\n",
       "      <td>35.60548</td>\n",
       "      <td>-120.69267</td>\n",
       "      <td>1</td>\n",
       "    </tr>\n",
       "    <tr>\n",
       "      <th>437625</th>\n",
       "      <td>36.99980</td>\n",
       "      <td>-121.73054</td>\n",
       "      <td>1</td>\n",
       "    </tr>\n",
       "    <tr>\n",
       "      <th>437627</th>\n",
       "      <td>35.35246</td>\n",
       "      <td>-118.92945</td>\n",
       "      <td>2</td>\n",
       "    </tr>\n",
       "    <tr>\n",
       "      <th>437631</th>\n",
       "      <td>33.53153</td>\n",
       "      <td>-117.52501</td>\n",
       "      <td>1</td>\n",
       "    </tr>\n",
       "    <tr>\n",
       "      <th>437633</th>\n",
       "      <td>33.53153</td>\n",
       "      <td>-117.52501</td>\n",
       "      <td>2</td>\n",
       "    </tr>\n",
       "    <tr>\n",
       "      <th>437642</th>\n",
       "      <td>37.90380</td>\n",
       "      <td>-122.31266</td>\n",
       "      <td>1</td>\n",
       "    </tr>\n",
       "    <tr>\n",
       "      <th>437643</th>\n",
       "      <td>38.18855</td>\n",
       "      <td>-122.60112</td>\n",
       "      <td>1</td>\n",
       "    </tr>\n",
       "    <tr>\n",
       "      <th>437647</th>\n",
       "      <td>34.32790</td>\n",
       "      <td>-119.10600</td>\n",
       "      <td>1</td>\n",
       "    </tr>\n",
       "    <tr>\n",
       "      <th>437649</th>\n",
       "      <td>34.03844</td>\n",
       "      <td>-118.27239</td>\n",
       "      <td>1</td>\n",
       "    </tr>\n",
       "    <tr>\n",
       "      <th>437651</th>\n",
       "      <td>33.72685</td>\n",
       "      <td>-117.98073</td>\n",
       "      <td>1</td>\n",
       "    </tr>\n",
       "    <tr>\n",
       "      <th>437657</th>\n",
       "      <td>37.31638</td>\n",
       "      <td>-121.95144</td>\n",
       "      <td>1</td>\n",
       "    </tr>\n",
       "    <tr>\n",
       "      <th>437663</th>\n",
       "      <td>34.05577</td>\n",
       "      <td>-118.89404</td>\n",
       "      <td>1</td>\n",
       "    </tr>\n",
       "    <tr>\n",
       "      <th>437666</th>\n",
       "      <td>34.06957</td>\n",
       "      <td>-117.61102</td>\n",
       "      <td>1</td>\n",
       "    </tr>\n",
       "    <tr>\n",
       "      <th>437668</th>\n",
       "      <td>33.97681</td>\n",
       "      <td>-118.24767</td>\n",
       "      <td>1</td>\n",
       "    </tr>\n",
       "    <tr>\n",
       "      <th>437672</th>\n",
       "      <td>34.27586</td>\n",
       "      <td>-118.59914</td>\n",
       "      <td>1</td>\n",
       "    </tr>\n",
       "    <tr>\n",
       "      <th>437673</th>\n",
       "      <td>33.96723</td>\n",
       "      <td>-118.45300</td>\n",
       "      <td>1</td>\n",
       "    </tr>\n",
       "    <tr>\n",
       "      <th>437674</th>\n",
       "      <td>34.19986</td>\n",
       "      <td>-118.40303</td>\n",
       "      <td>1</td>\n",
       "    </tr>\n",
       "    <tr>\n",
       "      <th>437689</th>\n",
       "      <td>33.75350</td>\n",
       "      <td>-117.45700</td>\n",
       "      <td>2</td>\n",
       "    </tr>\n",
       "  </tbody>\n",
       "</table>\n",
       "<p>6880 rows × 3 columns</p>\n",
       "</div>"
      ],
      "text/plain": [
       "        LATITUDE  LONGITUDE  COLLISION_SEVERITY\n",
       "1       37.61089 -121.82204                   1\n",
       "2       37.50050 -121.92909                   1\n",
       "4       34.07225 -117.78874                   1\n",
       "5       38.92330 -121.08335                   1\n",
       "8       34.27878 -118.92062                   1\n",
       "10      38.25465 -122.57505                   1\n",
       "11      33.87912 -117.55873                   1\n",
       "12      40.55470 -123.50470                   1\n",
       "13      34.65060 -120.09540                   1\n",
       "16      38.22280 -120.70088                   1\n",
       "17      38.46405 -119.52572                   1\n",
       "18      38.70430 -120.11228                   1\n",
       "19      34.10310 -118.25006                   1\n",
       "20      35.41188 -119.05419                   1\n",
       "21      36.69869 -119.61032                   1\n",
       "23      34.51632 -118.10387                   1\n",
       "24      37.69635 -121.33457                   1\n",
       "25      35.38569 -118.89521                   1\n",
       "26      39.80713 -122.19730                   1\n",
       "28      37.41031 -120.75232                   1\n",
       "29      36.49221 -119.52192                   1\n",
       "30      34.07284 -118.68716                   1\n",
       "31      34.02729 -118.21038                   1\n",
       "32      34.06179 -118.24918                   1\n",
       "33      34.00441 -117.95627                   1\n",
       "34      33.97384 -117.84459                   1\n",
       "35      34.49533 -118.21633                   1\n",
       "36      34.54641 -118.51961                   1\n",
       "37      34.01001 -118.40570                   1\n",
       "38      34.12100 -117.00550                   1\n",
       "...          ...        ...                 ...\n",
       "437591  37.41686 -122.17377                   1\n",
       "437601  34.03313 -118.16925                   1\n",
       "437605  37.85906 -122.30167                   1\n",
       "437607  33.73758 -117.98997                   1\n",
       "437609  38.40490 -121.20199                   1\n",
       "437611  34.06701 -117.80358                   1\n",
       "437612  38.52470 -121.52150                   1\n",
       "437615  33.08194 -117.07105                   1\n",
       "437618  38.56499 -121.49917                   1\n",
       "437619  36.34388 -119.85118                   1\n",
       "437621  36.48723 -119.33352                   1\n",
       "437623  34.39902 -118.94923                   1\n",
       "437624  35.60548 -120.69267                   1\n",
       "437625  36.99980 -121.73054                   1\n",
       "437627  35.35246 -118.92945                   2\n",
       "437631  33.53153 -117.52501                   1\n",
       "437633  33.53153 -117.52501                   2\n",
       "437642  37.90380 -122.31266                   1\n",
       "437643  38.18855 -122.60112                   1\n",
       "437647  34.32790 -119.10600                   1\n",
       "437649  34.03844 -118.27239                   1\n",
       "437651  33.72685 -117.98073                   1\n",
       "437657  37.31638 -121.95144                   1\n",
       "437663  34.05577 -118.89404                   1\n",
       "437666  34.06957 -117.61102                   1\n",
       "437668  33.97681 -118.24767                   1\n",
       "437672  34.27586 -118.59914                   1\n",
       "437673  33.96723 -118.45300                   1\n",
       "437674  34.19986 -118.40303                   1\n",
       "437689  33.75350 -117.45700                   2\n",
       "\n",
       "[6880 rows x 3 columns]"
      ]
     },
     "execution_count": 781,
     "metadata": {},
     "output_type": "execute_result"
    }
   ],
   "source": [
    "cal_latlong_pairs_sev"
   ]
  },
  {
   "cell_type": "code",
   "execution_count": 961,
   "metadata": {},
   "outputs": [
    {
     "data": {
      "text/plain": [
       "[<matplotlib.lines.Line2D at 0x7fb40730afd0>]"
      ]
     },
     "execution_count": 961,
     "metadata": {},
     "output_type": "execute_result"
    },
    {
     "data": {
      "image/png": "[encoded data removed]",
      "text/plain": [
       "<matplotlib.figure.Figure at 0x7fb406df2860>"
      ]
     },
     "metadata": {},
     "output_type": "display_data"
    }
   ],
   "source": [
    "plt.figure(figsize=(6.611,7.625))\n",
    "plt.xlim(-124.49479,-114.13892)\n",
    "plt.ylim(32.501,42.00931)\n",
    "plt.plot(cal_latlong_pairs_sev['LONGITUDE'],cal_latlong_pairs_sev['LATITUDE'],'ro',markersize=.2)"
   ]
  },
  {
   "cell_type": "code",
   "execution_count": 779,
   "metadata": {},
   "outputs": [
    {
     "data": {
      "text/html": [
       "<div>\n",
       "<style>\n",
       "    .dataframe thead tr:only-child th {\n",
       "        text-align: right;\n",
       "    }\n",
       "\n",
       "    .dataframe thead th {\n",
       "        text-align: left;\n",
       "    }\n",
       "\n",
       "    .dataframe tbody tr th {\n",
       "        vertical-align: top;\n",
       "    }\n",
       "</style>\n",
       "<table border=\"1\" class=\"dataframe\">\n",
       "  <thead>\n",
       "    <tr style=\"text-align: right;\">\n",
       "      <th></th>\n",
       "      <th>LATITUDE</th>\n",
       "      <th>LONGITUDE</th>\n",
       "      <th>COLLISION_SEVERITY</th>\n",
       "    </tr>\n",
       "  </thead>\n",
       "  <tbody>\n",
       "    <tr>\n",
       "      <th>1</th>\n",
       "      <td>37.61089</td>\n",
       "      <td>-121.82204</td>\n",
       "      <td>1</td>\n",
       "    </tr>\n",
       "    <tr>\n",
       "      <th>2</th>\n",
       "      <td>37.50050</td>\n",
       "      <td>-121.92909</td>\n",
       "      <td>1</td>\n",
       "    </tr>\n",
       "    <tr>\n",
       "      <th>4</th>\n",
       "      <td>34.07225</td>\n",
       "      <td>-117.78874</td>\n",
       "      <td>1</td>\n",
       "    </tr>\n",
       "    <tr>\n",
       "      <th>5</th>\n",
       "      <td>38.92330</td>\n",
       "      <td>-121.08335</td>\n",
       "      <td>1</td>\n",
       "    </tr>\n",
       "    <tr>\n",
       "      <th>8</th>\n",
       "      <td>34.27878</td>\n",
       "      <td>-118.92062</td>\n",
       "      <td>1</td>\n",
       "    </tr>\n",
       "    <tr>\n",
       "      <th>10</th>\n",
       "      <td>38.25465</td>\n",
       "      <td>-122.57505</td>\n",
       "      <td>1</td>\n",
       "    </tr>\n",
       "    <tr>\n",
       "      <th>11</th>\n",
       "      <td>33.87912</td>\n",
       "      <td>-117.55873</td>\n",
       "      <td>1</td>\n",
       "    </tr>\n",
       "    <tr>\n",
       "      <th>12</th>\n",
       "      <td>40.55470</td>\n",
       "      <td>-123.50470</td>\n",
       "      <td>1</td>\n",
       "    </tr>\n",
       "    <tr>\n",
       "      <th>13</th>\n",
       "      <td>34.65060</td>\n",
       "      <td>-120.09540</td>\n",
       "      <td>1</td>\n",
       "    </tr>\n",
       "    <tr>\n",
       "      <th>16</th>\n",
       "      <td>38.22280</td>\n",
       "      <td>-120.70088</td>\n",
       "      <td>1</td>\n",
       "    </tr>\n",
       "    <tr>\n",
       "      <th>17</th>\n",
       "      <td>38.46405</td>\n",
       "      <td>-119.52572</td>\n",
       "      <td>1</td>\n",
       "    </tr>\n",
       "    <tr>\n",
       "      <th>18</th>\n",
       "      <td>38.70430</td>\n",
       "      <td>-120.11228</td>\n",
       "      <td>1</td>\n",
       "    </tr>\n",
       "    <tr>\n",
       "      <th>19</th>\n",
       "      <td>34.10310</td>\n",
       "      <td>-118.25006</td>\n",
       "      <td>1</td>\n",
       "    </tr>\n",
       "    <tr>\n",
       "      <th>20</th>\n",
       "      <td>35.41188</td>\n",
       "      <td>-119.05419</td>\n",
       "      <td>1</td>\n",
       "    </tr>\n",
       "    <tr>\n",
       "      <th>21</th>\n",
       "      <td>36.69869</td>\n",
       "      <td>-119.61032</td>\n",
       "      <td>1</td>\n",
       "    </tr>\n",
       "    <tr>\n",
       "      <th>23</th>\n",
       "      <td>34.51632</td>\n",
       "      <td>-118.10387</td>\n",
       "      <td>1</td>\n",
       "    </tr>\n",
       "    <tr>\n",
       "      <th>24</th>\n",
       "      <td>37.69635</td>\n",
       "      <td>-121.33457</td>\n",
       "      <td>1</td>\n",
       "    </tr>\n",
       "    <tr>\n",
       "      <th>25</th>\n",
       "      <td>35.38569</td>\n",
       "      <td>-118.89521</td>\n",
       "      <td>1</td>\n",
       "    </tr>\n",
       "    <tr>\n",
       "      <th>26</th>\n",
       "      <td>39.80713</td>\n",
       "      <td>-122.19730</td>\n",
       "      <td>1</td>\n",
       "    </tr>\n",
       "    <tr>\n",
       "      <th>28</th>\n",
       "      <td>37.41031</td>\n",
       "      <td>-120.75232</td>\n",
       "      <td>1</td>\n",
       "    </tr>\n",
       "    <tr>\n",
       "      <th>29</th>\n",
       "      <td>36.49221</td>\n",
       "      <td>-119.52192</td>\n",
       "      <td>1</td>\n",
       "    </tr>\n",
       "    <tr>\n",
       "      <th>30</th>\n",
       "      <td>34.07284</td>\n",
       "      <td>-118.68716</td>\n",
       "      <td>1</td>\n",
       "    </tr>\n",
       "    <tr>\n",
       "      <th>31</th>\n",
       "      <td>34.02729</td>\n",
       "      <td>-118.21038</td>\n",
       "      <td>1</td>\n",
       "    </tr>\n",
       "    <tr>\n",
       "      <th>32</th>\n",
       "      <td>34.06179</td>\n",
       "      <td>-118.24918</td>\n",
       "      <td>1</td>\n",
       "    </tr>\n",
       "    <tr>\n",
       "      <th>33</th>\n",
       "      <td>34.00441</td>\n",
       "      <td>-117.95627</td>\n",
       "      <td>1</td>\n",
       "    </tr>\n",
       "    <tr>\n",
       "      <th>34</th>\n",
       "      <td>33.97384</td>\n",
       "      <td>-117.84459</td>\n",
       "      <td>1</td>\n",
       "    </tr>\n",
       "    <tr>\n",
       "      <th>35</th>\n",
       "      <td>34.49533</td>\n",
       "      <td>-118.21633</td>\n",
       "      <td>1</td>\n",
       "    </tr>\n",
       "    <tr>\n",
       "      <th>36</th>\n",
       "      <td>34.54641</td>\n",
       "      <td>-118.51961</td>\n",
       "      <td>1</td>\n",
       "    </tr>\n",
       "    <tr>\n",
       "      <th>37</th>\n",
       "      <td>34.01001</td>\n",
       "      <td>-118.40570</td>\n",
       "      <td>1</td>\n",
       "    </tr>\n",
       "    <tr>\n",
       "      <th>38</th>\n",
       "      <td>34.12100</td>\n",
       "      <td>-117.00550</td>\n",
       "      <td>1</td>\n",
       "    </tr>\n",
       "    <tr>\n",
       "      <th>...</th>\n",
       "      <td>...</td>\n",
       "      <td>...</td>\n",
       "      <td>...</td>\n",
       "    </tr>\n",
       "    <tr>\n",
       "      <th>437591</th>\n",
       "      <td>37.41686</td>\n",
       "      <td>-122.17377</td>\n",
       "      <td>1</td>\n",
       "    </tr>\n",
       "    <tr>\n",
       "      <th>437601</th>\n",
       "      <td>34.03313</td>\n",
       "      <td>-118.16925</td>\n",
       "      <td>1</td>\n",
       "    </tr>\n",
       "    <tr>\n",
       "      <th>437605</th>\n",
       "      <td>37.85906</td>\n",
       "      <td>-122.30167</td>\n",
       "      <td>1</td>\n",
       "    </tr>\n",
       "    <tr>\n",
       "      <th>437607</th>\n",
       "      <td>33.73758</td>\n",
       "      <td>-117.98997</td>\n",
       "      <td>1</td>\n",
       "    </tr>\n",
       "    <tr>\n",
       "      <th>437609</th>\n",
       "      <td>38.40490</td>\n",
       "      <td>-121.20199</td>\n",
       "      <td>1</td>\n",
       "    </tr>\n",
       "    <tr>\n",
       "      <th>437611</th>\n",
       "      <td>34.06701</td>\n",
       "      <td>-117.80358</td>\n",
       "      <td>1</td>\n",
       "    </tr>\n",
       "    <tr>\n",
       "      <th>437612</th>\n",
       "      <td>38.52470</td>\n",
       "      <td>-121.52150</td>\n",
       "      <td>1</td>\n",
       "    </tr>\n",
       "    <tr>\n",
       "      <th>437615</th>\n",
       "      <td>33.08194</td>\n",
       "      <td>-117.07105</td>\n",
       "      <td>1</td>\n",
       "    </tr>\n",
       "    <tr>\n",
       "      <th>437618</th>\n",
       "      <td>38.56499</td>\n",
       "      <td>-121.49917</td>\n",
       "      <td>1</td>\n",
       "    </tr>\n",
       "    <tr>\n",
       "      <th>437619</th>\n",
       "      <td>36.34388</td>\n",
       "      <td>-119.85118</td>\n",
       "      <td>1</td>\n",
       "    </tr>\n",
       "    <tr>\n",
       "      <th>437621</th>\n",
       "      <td>36.48723</td>\n",
       "      <td>-119.33352</td>\n",
       "      <td>1</td>\n",
       "    </tr>\n",
       "    <tr>\n",
       "      <th>437623</th>\n",
       "      <td>34.39902</td>\n",
       "      <td>-118.94923</td>\n",
       "      <td>1</td>\n",
       "    </tr>\n",
       "    <tr>\n",
       "      <th>437624</th>\n",
       "      <td>35.60548</td>\n",
       "      <td>-120.69267</td>\n",
       "      <td>1</td>\n",
       "    </tr>\n",
       "    <tr>\n",
       "      <th>437625</th>\n",
       "      <td>36.99980</td>\n",
       "      <td>-121.73054</td>\n",
       "      <td>1</td>\n",
       "    </tr>\n",
       "    <tr>\n",
       "      <th>437627</th>\n",
       "      <td>35.35246</td>\n",
       "      <td>-118.92945</td>\n",
       "      <td>2</td>\n",
       "    </tr>\n",
       "    <tr>\n",
       "      <th>437631</th>\n",
       "      <td>33.53153</td>\n",
       "      <td>-117.52501</td>\n",
       "      <td>1</td>\n",
       "    </tr>\n",
       "    <tr>\n",
       "      <th>437633</th>\n",
       "      <td>33.53153</td>\n",
       "      <td>-117.52501</td>\n",
       "      <td>2</td>\n",
       "    </tr>\n",
       "    <tr>\n",
       "      <th>437642</th>\n",
       "      <td>37.90380</td>\n",
       "      <td>-122.31266</td>\n",
       "      <td>1</td>\n",
       "    </tr>\n",
       "    <tr>\n",
       "      <th>437643</th>\n",
       "      <td>38.18855</td>\n",
       "      <td>-122.60112</td>\n",
       "      <td>1</td>\n",
       "    </tr>\n",
       "    <tr>\n",
       "      <th>437647</th>\n",
       "      <td>34.32790</td>\n",
       "      <td>-119.10600</td>\n",
       "      <td>1</td>\n",
       "    </tr>\n",
       "    <tr>\n",
       "      <th>437649</th>\n",
       "      <td>34.03844</td>\n",
       "      <td>-118.27239</td>\n",
       "      <td>1</td>\n",
       "    </tr>\n",
       "    <tr>\n",
       "      <th>437651</th>\n",
       "      <td>33.72685</td>\n",
       "      <td>-117.98073</td>\n",
       "      <td>1</td>\n",
       "    </tr>\n",
       "    <tr>\n",
       "      <th>437657</th>\n",
       "      <td>37.31638</td>\n",
       "      <td>-121.95144</td>\n",
       "      <td>1</td>\n",
       "    </tr>\n",
       "    <tr>\n",
       "      <th>437663</th>\n",
       "      <td>34.05577</td>\n",
       "      <td>-118.89404</td>\n",
       "      <td>1</td>\n",
       "    </tr>\n",
       "    <tr>\n",
       "      <th>437666</th>\n",
       "      <td>34.06957</td>\n",
       "      <td>-117.61102</td>\n",
       "      <td>1</td>\n",
       "    </tr>\n",
       "    <tr>\n",
       "      <th>437668</th>\n",
       "      <td>33.97681</td>\n",
       "      <td>-118.24767</td>\n",
       "      <td>1</td>\n",
       "    </tr>\n",
       "    <tr>\n",
       "      <th>437672</th>\n",
       "      <td>34.27586</td>\n",
       "      <td>-118.59914</td>\n",
       "      <td>1</td>\n",
       "    </tr>\n",
       "    <tr>\n",
       "      <th>437673</th>\n",
       "      <td>33.96723</td>\n",
       "      <td>-118.45300</td>\n",
       "      <td>1</td>\n",
       "    </tr>\n",
       "    <tr>\n",
       "      <th>437674</th>\n",
       "      <td>34.19986</td>\n",
       "      <td>-118.40303</td>\n",
       "      <td>1</td>\n",
       "    </tr>\n",
       "    <tr>\n",
       "      <th>437689</th>\n",
       "      <td>33.75350</td>\n",
       "      <td>-117.45700</td>\n",
       "      <td>2</td>\n",
       "    </tr>\n",
       "  </tbody>\n",
       "</table>\n",
       "<p>6880 rows × 3 columns</p>\n",
       "</div>"
      ],
      "text/plain": [
       "        LATITUDE  LONGITUDE  COLLISION_SEVERITY\n",
       "1       37.61089 -121.82204                   1\n",
       "2       37.50050 -121.92909                   1\n",
       "4       34.07225 -117.78874                   1\n",
       "5       38.92330 -121.08335                   1\n",
       "8       34.27878 -118.92062                   1\n",
       "10      38.25465 -122.57505                   1\n",
       "11      33.87912 -117.55873                   1\n",
       "12      40.55470 -123.50470                   1\n",
       "13      34.65060 -120.09540                   1\n",
       "16      38.22280 -120.70088                   1\n",
       "17      38.46405 -119.52572                   1\n",
       "18      38.70430 -120.11228                   1\n",
       "19      34.10310 -118.25006                   1\n",
       "20      35.41188 -119.05419                   1\n",
       "21      36.69869 -119.61032                   1\n",
       "23      34.51632 -118.10387                   1\n",
       "24      37.69635 -121.33457                   1\n",
       "25      35.38569 -118.89521                   1\n",
       "26      39.80713 -122.19730                   1\n",
       "28      37.41031 -120.75232                   1\n",
       "29      36.49221 -119.52192                   1\n",
       "30      34.07284 -118.68716                   1\n",
       "31      34.02729 -118.21038                   1\n",
       "32      34.06179 -118.24918                   1\n",
       "33      34.00441 -117.95627                   1\n",
       "34      33.97384 -117.84459                   1\n",
       "35      34.49533 -118.21633                   1\n",
       "36      34.54641 -118.51961                   1\n",
       "37      34.01001 -118.40570                   1\n",
       "38      34.12100 -117.00550                   1\n",
       "...          ...        ...                 ...\n",
       "437591  37.41686 -122.17377                   1\n",
       "437601  34.03313 -118.16925                   1\n",
       "437605  37.85906 -122.30167                   1\n",
       "437607  33.73758 -117.98997                   1\n",
       "437609  38.40490 -121.20199                   1\n",
       "437611  34.06701 -117.80358                   1\n",
       "437612  38.52470 -121.52150                   1\n",
       "437615  33.08194 -117.07105                   1\n",
       "437618  38.56499 -121.49917                   1\n",
       "437619  36.34388 -119.85118                   1\n",
       "437621  36.48723 -119.33352                   1\n",
       "437623  34.39902 -118.94923                   1\n",
       "437624  35.60548 -120.69267                   1\n",
       "437625  36.99980 -121.73054                   1\n",
       "437627  35.35246 -118.92945                   2\n",
       "437631  33.53153 -117.52501                   1\n",
       "437633  33.53153 -117.52501                   2\n",
       "437642  37.90380 -122.31266                   1\n",
       "437643  38.18855 -122.60112                   1\n",
       "437647  34.32790 -119.10600                   1\n",
       "437649  34.03844 -118.27239                   1\n",
       "437651  33.72685 -117.98073                   1\n",
       "437657  37.31638 -121.95144                   1\n",
       "437663  34.05577 -118.89404                   1\n",
       "437666  34.06957 -117.61102                   1\n",
       "437668  33.97681 -118.24767                   1\n",
       "437672  34.27586 -118.59914                   1\n",
       "437673  33.96723 -118.45300                   1\n",
       "437674  34.19986 -118.40303                   1\n",
       "437689  33.75350 -117.45700                   2\n",
       "\n",
       "[6880 rows x 3 columns]"
      ]
     },
     "execution_count": 779,
     "metadata": {},
     "output_type": "execute_result"
    }
   ],
   "source": [
    "cal_latlong_pairs_sev"
   ]
  },
  {
   "cell_type": "code",
   "execution_count": 776,
   "metadata": {},
   "outputs": [
    {
     "data": {
      "text/plain": [
       "Index(['CASE_ID', 'COLLISION_SEVERITY', 'LATITUDE', 'LONGITUDE',\n",
       "       'COLLISION_DATE', 'COLLISION_TIME', 'NUMBER_KILLED', 'DAY_OF_WEEK_2',\n",
       "       'DAY_OF_WEEK_3', 'DAY_OF_WEEK_4', 'DAY_OF_WEEK_5', 'DAY_OF_WEEK_6',\n",
       "       'DAY_OF_WEEK_7', 'POPULATION_2', 'POPULATION_3', 'POPULATION_4',\n",
       "       'POPULATION_5', 'POPULATION_6', 'POPULATION_7', 'POPULATION_9',\n",
       "       'WEATHER_1_B', 'WEATHER_1_C', 'WEATHER_1_D', 'WEATHER_1_E',\n",
       "       'WEATHER_1_F', 'WEATHER_1_G', 'ROAD_SURFACE_A', 'ROAD_SURFACE_B',\n",
       "       'ROAD_SURFACE_C', 'ROAD_SURFACE_D', 'ROAD_COND_1_A', 'ROAD_COND_1_B',\n",
       "       'ROAD_COND_1_C', 'ROAD_COND_1_D', 'ROAD_COND_1_E', 'ROAD_COND_1_F',\n",
       "       'ROAD_COND_1_G', 'ROAD_COND_2_H', 'LIGHTING_A', 'LIGHTING_B',\n",
       "       'LIGHTING_C', 'LIGHTING_D', 'LIGHTING_E', 'ALCOHOL_INVOLVED_Y',\n",
       "       'PEDESTRIAN_ACCIDENT_Y', 'BICYCLE_ACCIDENT_Y', 'MOTORCYCLE_ACCIDENT_Y',\n",
       "       'TRUCK_ACCIDENT_Y', 'Is_Fatal', 'Is_SEVERE_or_Fatal'],\n",
       "      dtype='object')"
      ]
     },
     "execution_count": 776,
     "metadata": {},
     "output_type": "execute_result"
    }
   ],
   "source": [
    "cali_collision_records_df_dummies.columns"
   ]
  },
  {
   "cell_type": "code",
   "execution_count": 774,
   "metadata": {},
   "outputs": [
    {
     "data": {
      "text/plain": [
       "[<matplotlib.lines.Line2D at 0x7fb40f214c88>]"
      ]
     },
     "execution_count": 774,
     "metadata": {},
     "output_type": "execute_result"
    },
    {
     "data": {
      "image/png": "[encoded data removed]",
      "text/plain": [
       "<matplotlib.figure.Figure at 0x7fb40f53fc88>"
      ]
     },
     "metadata": {},
     "output_type": "display_data"
    }
   ],
   "source": [
    "plt.figure(figsize=(6.611,7.625))\n",
    "plt.xlim(-124.49479,-114.13892)\n",
    "plt.ylim(32.501,42.00931)\n",
    "plt.plot(-1*cali_collision_records_df['LONGITUDE'],cali_collision_records_df['LATITUDE'],'bo',markersize=0.2)"
   ]
  },
  {
   "cell_type": "code",
   "execution_count": 751,
   "metadata": {
    "collapsed": true
   },
   "outputs": [],
   "source": [
    "cal_latlong_pairs = pd.DataFrame(cali_collision_records_df.loc[:,['LATITUDE','LONGITUDE']])\n",
    "\n",
    "cal_latlong_pairs.dropna(inplace=True)\n",
    "\n",
    "cal_latlong_pairs['LONGITUDE']= -1*cal_latlong_pairs.LONGITUDE\n",
    "\n",
    "cal_latlong_pairs.to_csv('/home/farhaan/working_projects/cali_latlong_points.csv')"
   ]
  },
  {
   "cell_type": "code",
   "execution_count": 765,
   "metadata": {},
   "outputs": [
    {
     "data": {
      "text/plain": [
       "{'ALCOHOL_INVOLVED_Y': 3603    0\n",
       " Name: ALCOHOL_INVOLVED_Y, dtype: uint8, 'BICYCLE_ACCIDENT_Y': 3603    0\n",
       " Name: BICYCLE_ACCIDENT_Y, dtype: uint8, 'CASE_ID': 3603    6777910\n",
       " Name: CASE_ID, dtype: int64, 'COLLISION_DATE': 3603    20150106\n",
       " Name: COLLISION_DATE, dtype: int64, 'COLLISION_SEVERITY': 3603    4\n",
       " Name: COLLISION_SEVERITY, dtype: int64, 'COLLISION_TIME': 3603    645\n",
       " Name: COLLISION_TIME, dtype: int64, 'DAY_OF_WEEK_2': 3603    1\n",
       " Name: DAY_OF_WEEK_2, dtype: uint8, 'DAY_OF_WEEK_3': 3603    0\n",
       " Name: DAY_OF_WEEK_3, dtype: uint8, 'DAY_OF_WEEK_4': 3603    0\n",
       " Name: DAY_OF_WEEK_4, dtype: uint8, 'DAY_OF_WEEK_5': 3603    0\n",
       " Name: DAY_OF_WEEK_5, dtype: uint8, 'DAY_OF_WEEK_6': 3603    0\n",
       " Name: DAY_OF_WEEK_6, dtype: uint8, 'DAY_OF_WEEK_7': 3603    0\n",
       " Name: DAY_OF_WEEK_7, dtype: uint8, 'Is_Fatal': 3603    0\n",
       " Name: Is_Fatal, dtype: int64, 'Is_SEVERE_or_Fatal': 3603    0\n",
       " Name: Is_SEVERE_or_Fatal, dtype: int64, 'LATITUDE': 3603    33.53508\n",
       " Name: LATITUDE, dtype: float64, 'LIGHTING_A': 3603    0\n",
       " Name: LIGHTING_A, dtype: uint8, 'LIGHTING_B': 3603    0\n",
       " Name: LIGHTING_B, dtype: uint8, 'LIGHTING_C': 3603    0\n",
       " Name: LIGHTING_C, dtype: uint8, 'LIGHTING_D': 3603    1\n",
       " Name: LIGHTING_D, dtype: uint8, 'LIGHTING_E': 3603    0\n",
       " Name: LIGHTING_E, dtype: uint8, 'LONGITUDE': 3603    121.47288\n",
       " Name: LONGITUDE, dtype: float64, 'MOTORCYCLE_ACCIDENT_Y': 3603    0\n",
       " Name: MOTORCYCLE_ACCIDENT_Y, dtype: uint8, 'NUMBER_KILLED': 3603    0\n",
       " Name: NUMBER_KILLED, dtype: int64, 'PEDESTRIAN_ACCIDENT_Y': 3603    0\n",
       " Name: PEDESTRIAN_ACCIDENT_Y, dtype: uint8, 'POPULATION_2': 3603    0\n",
       " Name: POPULATION_2, dtype: uint8, 'POPULATION_3': 3603    0\n",
       " Name: POPULATION_3, dtype: uint8, 'POPULATION_4': 3603    0\n",
       " Name: POPULATION_4, dtype: uint8, 'POPULATION_5': 3603    0\n",
       " Name: POPULATION_5, dtype: uint8, 'POPULATION_6': 3603    0\n",
       " Name: POPULATION_6, dtype: uint8, 'POPULATION_7': 3603    1\n",
       " Name: POPULATION_7, dtype: uint8, 'POPULATION_9': 3603    0\n",
       " Name: POPULATION_9, dtype: uint8, 'ROAD_COND_1_A': 3603    0\n",
       " Name: ROAD_COND_1_A, dtype: uint8, 'ROAD_COND_1_B': 3603    0\n",
       " Name: ROAD_COND_1_B, dtype: uint8, 'ROAD_COND_1_C': 3603    0\n",
       " Name: ROAD_COND_1_C, dtype: uint8, 'ROAD_COND_1_D': 3603    0\n",
       " Name: ROAD_COND_1_D, dtype: uint8, 'ROAD_COND_1_E': 3603    0\n",
       " Name: ROAD_COND_1_E, dtype: uint8, 'ROAD_COND_1_F': 3603    0\n",
       " Name: ROAD_COND_1_F, dtype: uint8, 'ROAD_COND_1_G': 3603    0\n",
       " Name: ROAD_COND_1_G, dtype: uint8, 'ROAD_COND_2_H': 3603    0\n",
       " Name: ROAD_COND_2_H, dtype: uint8, 'ROAD_SURFACE_A': 3603    1\n",
       " Name: ROAD_SURFACE_A, dtype: uint8, 'ROAD_SURFACE_B': 3603    0\n",
       " Name: ROAD_SURFACE_B, dtype: uint8, 'ROAD_SURFACE_C': 3603    0\n",
       " Name: ROAD_SURFACE_C, dtype: uint8, 'ROAD_SURFACE_D': 3603    0\n",
       " Name: ROAD_SURFACE_D, dtype: uint8, 'TRUCK_ACCIDENT_Y': 3603    0\n",
       " Name: TRUCK_ACCIDENT_Y, dtype: uint8, 'WEATHER_1_B': 3603    0\n",
       " Name: WEATHER_1_B, dtype: uint8, 'WEATHER_1_C': 3603    0\n",
       " Name: WEATHER_1_C, dtype: uint8, 'WEATHER_1_D': 3603    0\n",
       " Name: WEATHER_1_D, dtype: uint8, 'WEATHER_1_E': 3603    0\n",
       " Name: WEATHER_1_E, dtype: uint8, 'WEATHER_1_F': 3603    0\n",
       " Name: WEATHER_1_F, dtype: uint8, 'WEATHER_1_G': 3603    0\n",
       " Name: WEATHER_1_G, dtype: uint8}"
      ]
     },
     "execution_count": 765,
     "metadata": {},
     "output_type": "execute_result"
    }
   ],
   "source": [
    "dict(cali_collision_records_df_dummies[(cali_collision_records_df_dummies['LATITUDE']==33.53508)])"
   ]
  },
  {
   "cell_type": "code",
   "execution_count": 744,
   "metadata": {},
   "outputs": [
    {
     "name": "stdout",
     "output_type": "stream",
     "text": [
      "42.00931\n",
      "32.501\n",
      "124.49479\n",
      "114.13892\n"
     ]
    }
   ],
   "source": [
    "print(cali_collision_records_df.LATITUDE.max())\n",
    "print(cali_collision_records_df.LATITUDE.min())\n",
    "print(cali_collision_records_df.LONGITUDE.max())\n",
    "print(cali_collision_records_df.LONGITUDE.min())"
   ]
  },
  {
   "cell_type": "code",
   "execution_count": 450,
   "metadata": {
    "collapsed": true
   },
   "outputs": [],
   "source": [
    "cali_collision_records_df_dummies = cali_collision_records_df.loc[:,\n",
    "      ['CASE_ID','COLLISION_SEVERITY','LATITUDE','LONGITUDE','COLLISION_DATE',\n",
    "       'COLLISION_TIME','DAY_OF_WEEK',\n",
    "       'POPULATION', \n",
    "       'WEATHER_1', 'WEATHER_2', 'NUMBER_KILLED',\n",
    "       'ROAD_SURFACE', 'ROAD_COND_1', 'ROAD_COND_2', 'LIGHTING',\n",
    "       'ALCOHOL_INVOLVED','PEDESTRIAN_ACCIDENT', 'BICYCLE_ACCIDENT', 'MOTORCYCLE_ACCIDENT', 'TRUCK_ACCIDENT']]"
   ]
  },
  {
   "cell_type": "code",
   "execution_count": 451,
   "metadata": {
    "collapsed": true
   },
   "outputs": [],
   "source": [
    "cali_collision_records_df_dummies = pd.get_dummies(cali_collision_records_df_dummies,columns=['DAY_OF_WEEK','POPULATION','WEATHER_1','WEATHER_2',\n",
    "                                                          'ROAD_SURFACE', 'ROAD_COND_1', 'ROAD_COND_2',\n",
    "                                                          'LIGHTING'],drop_first=True)\n",
    "cali_collision_records_df_dummies = pd.get_dummies(cali_collision_records_df_dummies,columns=['ALCOHOL_INVOLVED','PEDESTRIAN_ACCIDENT', 'BICYCLE_ACCIDENT', 'MOTORCYCLE_ACCIDENT', 'TRUCK_ACCIDENT'])"
   ]
  },
  {
   "cell_type": "code",
   "execution_count": 452,
   "metadata": {},
   "outputs": [
    {
     "data": {
      "text/plain": [
       "Index(['CASE_ID', 'COLLISION_SEVERITY', 'LATITUDE', 'LONGITUDE',\n",
       "       'COLLISION_DATE', 'COLLISION_TIME', 'NUMBER_KILLED', 'DAY_OF_WEEK_2',\n",
       "       'DAY_OF_WEEK_3', 'DAY_OF_WEEK_4', 'DAY_OF_WEEK_5', 'DAY_OF_WEEK_6',\n",
       "       'DAY_OF_WEEK_7', 'POPULATION_2', 'POPULATION_3', 'POPULATION_4',\n",
       "       'POPULATION_5', 'POPULATION_6', 'POPULATION_7', 'POPULATION_9',\n",
       "       'WEATHER_1_A', 'WEATHER_1_B', 'WEATHER_1_C', 'WEATHER_1_D',\n",
       "       'WEATHER_1_E', 'WEATHER_1_F', 'WEATHER_1_G', 'WEATHER_2_B',\n",
       "       'WEATHER_2_C', 'WEATHER_2_D', 'WEATHER_2_E', 'WEATHER_2_F',\n",
       "       'WEATHER_2_G', 'ROAD_SURFACE_A', 'ROAD_SURFACE_B', 'ROAD_SURFACE_C',\n",
       "       'ROAD_SURFACE_D', 'ROAD_COND_1_A', 'ROAD_COND_1_B', 'ROAD_COND_1_C',\n",
       "       'ROAD_COND_1_D', 'ROAD_COND_1_E', 'ROAD_COND_1_F', 'ROAD_COND_1_G',\n",
       "       'ROAD_COND_1_H', 'ROAD_COND_2_B', 'ROAD_COND_2_C', 'ROAD_COND_2_D',\n",
       "       'ROAD_COND_2_E', 'ROAD_COND_2_F', 'ROAD_COND_2_G', 'ROAD_COND_2_H',\n",
       "       'LIGHTING_A', 'LIGHTING_B', 'LIGHTING_C', 'LIGHTING_D', 'LIGHTING_E',\n",
       "       'ALCOHOL_INVOLVED_Y', 'PEDESTRIAN_ACCIDENT_Y', 'BICYCLE_ACCIDENT_Y',\n",
       "       'MOTORCYCLE_ACCIDENT_Y', 'TRUCK_ACCIDENT_Y'],\n",
       "      dtype='object')"
      ]
     },
     "execution_count": 452,
     "metadata": {},
     "output_type": "execute_result"
    }
   ],
   "source": [
    "cali_collision_records_df_dummies.columns"
   ]
  },
  {
   "cell_type": "code",
   "execution_count": 453,
   "metadata": {
    "collapsed": true
   },
   "outputs": [],
   "source": [
    "cali_collision_records_df_dummies['WEATHER_1_B'] = cali_collision_records_df_dummies['WEATHER_1_B']+cali_collision_records_df_dummies['WEATHER_2_B']\n",
    "cali_collision_records_df_dummies['WEATHER_1_C'] = cali_collision_records_df_dummies['WEATHER_1_C']+cali_collision_records_df_dummies['WEATHER_2_C']\n",
    "cali_collision_records_df_dummies['WEATHER_1_D'] = cali_collision_records_df_dummies['WEATHER_1_D']+cali_collision_records_df_dummies['WEATHER_2_D']\n",
    "cali_collision_records_df_dummies['WEATHER_1_E'] = cali_collision_records_df_dummies['WEATHER_1_E']+cali_collision_records_df_dummies['WEATHER_2_E']\n",
    "cali_collision_records_df_dummies['WEATHER_1_F'] = cali_collision_records_df_dummies['WEATHER_1_F']+cali_collision_records_df_dummies['WEATHER_2_F']\n",
    "cali_collision_records_df_dummies['WEATHER_1_G'] = cali_collision_records_df_dummies['WEATHER_1_G']+cali_collision_records_df_dummies['WEATHER_2_G']\n",
    "cali_collision_records_df_dummies.drop(['WEATHER_1_A','WEATHER_2_B','WEATHER_2_C','WEATHER_2_D','WEATHER_2_E','WEATHER_2_F','WEATHER_2_G'],axis=1,inplace=True)"
   ]
  },
  {
   "cell_type": "code",
   "execution_count": 454,
   "metadata": {
    "collapsed": true
   },
   "outputs": [],
   "source": [
    "cali_collision_records_df_dummies['ROAD_COND_1_B'] = cali_collision_records_df_dummies['ROAD_COND_1_B']+cali_collision_records_df_dummies['ROAD_COND_2_B']\n",
    "cali_collision_records_df_dummies['ROAD_COND_1_C'] = cali_collision_records_df_dummies['ROAD_COND_1_C']+cali_collision_records_df_dummies['ROAD_COND_2_C']\n",
    "cali_collision_records_df_dummies['ROAD_COND_1_D'] = cali_collision_records_df_dummies['ROAD_COND_1_D']+cali_collision_records_df_dummies['ROAD_COND_2_D']\n",
    "cali_collision_records_df_dummies['ROAD_COND_1_E'] = cali_collision_records_df_dummies['ROAD_COND_1_E']+cali_collision_records_df_dummies['ROAD_COND_2_E']\n",
    "cali_collision_records_df_dummies['ROAD_COND_1_F'] = cali_collision_records_df_dummies['ROAD_COND_1_F']+cali_collision_records_df_dummies['ROAD_COND_2_F']\n",
    "cali_collision_records_df_dummies['ROAD_COND_1_G'] = cali_collision_records_df_dummies['ROAD_COND_1_G']+cali_collision_records_df_dummies['ROAD_COND_2_G']\n",
    "cali_collision_records_df_dummies.drop(['ROAD_COND_1_H','ROAD_COND_2_B','ROAD_COND_2_C','ROAD_COND_2_D','ROAD_COND_2_E','ROAD_COND_2_F','ROAD_COND_2_G'],axis=1,inplace=True)"
   ]
  },
  {
   "cell_type": "code",
   "execution_count": null,
   "metadata": {
    "collapsed": true
   },
   "outputs": [],
   "source": []
  },
  {
   "cell_type": "code",
   "execution_count": 455,
   "metadata": {},
   "outputs": [
    {
     "data": {
      "text/plain": [
       "Index(['CASE_ID', 'COLLISION_SEVERITY', 'LATITUDE', 'LONGITUDE',\n",
       "       'COLLISION_DATE', 'COLLISION_TIME', 'NUMBER_KILLED', 'DAY_OF_WEEK_2',\n",
       "       'DAY_OF_WEEK_3', 'DAY_OF_WEEK_4', 'DAY_OF_WEEK_5', 'DAY_OF_WEEK_6',\n",
       "       'DAY_OF_WEEK_7', 'POPULATION_2', 'POPULATION_3', 'POPULATION_4',\n",
       "       'POPULATION_5', 'POPULATION_6', 'POPULATION_7', 'POPULATION_9',\n",
       "       'WEATHER_1_B', 'WEATHER_1_C', 'WEATHER_1_D', 'WEATHER_1_E',\n",
       "       'WEATHER_1_F', 'WEATHER_1_G', 'ROAD_SURFACE_A', 'ROAD_SURFACE_B',\n",
       "       'ROAD_SURFACE_C', 'ROAD_SURFACE_D', 'ROAD_COND_1_A', 'ROAD_COND_1_B',\n",
       "       'ROAD_COND_1_C', 'ROAD_COND_1_D', 'ROAD_COND_1_E', 'ROAD_COND_1_F',\n",
       "       'ROAD_COND_1_G', 'ROAD_COND_2_H', 'LIGHTING_A', 'LIGHTING_B',\n",
       "       'LIGHTING_C', 'LIGHTING_D', 'LIGHTING_E', 'ALCOHOL_INVOLVED_Y',\n",
       "       'PEDESTRIAN_ACCIDENT_Y', 'BICYCLE_ACCIDENT_Y', 'MOTORCYCLE_ACCIDENT_Y',\n",
       "       'TRUCK_ACCIDENT_Y'],\n",
       "      dtype='object')"
      ]
     },
     "execution_count": 455,
     "metadata": {},
     "output_type": "execute_result"
    }
   ],
   "source": [
    "cali_collision_records_df_dummies.columns"
   ]
  },
  {
   "cell_type": "code",
   "execution_count": 456,
   "metadata": {
    "collapsed": true
   },
   "outputs": [],
   "source": [
    "def is_fatal(row):\n",
    "    if row['NUMBER_KILLED'] > 0:\n",
    "        return 1\n",
    "    else:\n",
    "        return 0\n",
    "\n",
    "cali_collision_records_df_dummies['Is_Fatal'] = cali_collision_records_df_dummies.apply(is_fatal,axis=1)\n",
    "# cali_collision_records_df_dummies['Fatal']= 1 if cali_collision_records_df_dummies.NUMBER_KILLED>0 else 0"
   ]
  },
  {
   "cell_type": "code",
   "execution_count": 457,
   "metadata": {
    "collapsed": true
   },
   "outputs": [],
   "source": [
    "def is_severe_or_fatal(row):\n",
    "    if (row['COLLISION_SEVERITY'] == 1) or (row['COLLISION_SEVERITY'] == 2):\n",
    "        return 1\n",
    "    else:\n",
    "        return 0\n",
    "\n",
    "cali_collision_records_df_dummies['Is_SEVERE_or_Fatal'] = cali_collision_records_df_dummies.apply(is_severe_or_fatal,axis=1)\n",
    "# cali_collision_records_df_dummies['Fatal']= 1 if cali_collision_records_df_dummies.NUMBER_KILLED>0 else 0"
   ]
  },
  {
   "cell_type": "code",
   "execution_count": 458,
   "metadata": {},
   "outputs": [
    {
     "data": {
      "text/plain": [
       "0    434530\n",
       "1      3162\n",
       "Name: Is_Fatal, dtype: int64"
      ]
     },
     "execution_count": 458,
     "metadata": {},
     "output_type": "execute_result"
    }
   ],
   "source": [
    "cali_collision_records_df_dummies.Is_Fatal.value_counts()"
   ]
  },
  {
   "cell_type": "code",
   "execution_count": 459,
   "metadata": {},
   "outputs": [
    {
     "data": {
      "text/plain": [
       "0    424142\n",
       "1     13550\n",
       "Name: Is_SEVERE_or_Fatal, dtype: int64"
      ]
     },
     "execution_count": 459,
     "metadata": {},
     "output_type": "execute_result"
    }
   ],
   "source": [
    "cali_collision_records_df_dummies.Is_SEVERE_or_Fatal.value_counts()"
   ]
  },
  {
   "cell_type": "code",
   "execution_count": 460,
   "metadata": {},
   "outputs": [
    {
     "data": {
      "text/html": [
       "<div>\n",
       "<style>\n",
       "    .dataframe thead tr:only-child th {\n",
       "        text-align: right;\n",
       "    }\n",
       "\n",
       "    .dataframe thead th {\n",
       "        text-align: left;\n",
       "    }\n",
       "\n",
       "    .dataframe tbody tr th {\n",
       "        vertical-align: top;\n",
       "    }\n",
       "</style>\n",
       "<table border=\"1\" class=\"dataframe\">\n",
       "  <thead>\n",
       "    <tr style=\"text-align: right;\">\n",
       "      <th></th>\n",
       "      <th>CASE_ID</th>\n",
       "      <th>COLLISION_SEVERITY</th>\n",
       "      <th>LATITUDE</th>\n",
       "      <th>LONGITUDE</th>\n",
       "      <th>COLLISION_DATE</th>\n",
       "      <th>COLLISION_TIME</th>\n",
       "      <th>NUMBER_KILLED</th>\n",
       "      <th>DAY_OF_WEEK_2</th>\n",
       "      <th>DAY_OF_WEEK_3</th>\n",
       "      <th>DAY_OF_WEEK_4</th>\n",
       "      <th>...</th>\n",
       "      <th>LIGHTING_C</th>\n",
       "      <th>LIGHTING_D</th>\n",
       "      <th>LIGHTING_E</th>\n",
       "      <th>ALCOHOL_INVOLVED_Y</th>\n",
       "      <th>PEDESTRIAN_ACCIDENT_Y</th>\n",
       "      <th>BICYCLE_ACCIDENT_Y</th>\n",
       "      <th>MOTORCYCLE_ACCIDENT_Y</th>\n",
       "      <th>TRUCK_ACCIDENT_Y</th>\n",
       "      <th>Is_Fatal</th>\n",
       "      <th>Is_SEVERE_or_Fatal</th>\n",
       "    </tr>\n",
       "  </thead>\n",
       "  <tbody>\n",
       "    <tr>\n",
       "      <th>258852</th>\n",
       "      <td>7067748</td>\n",
       "      <td>3</td>\n",
       "      <td>NaN</td>\n",
       "      <td>NaN</td>\n",
       "      <td>20150330</td>\n",
       "      <td>1903</td>\n",
       "      <td>0</td>\n",
       "      <td>0</td>\n",
       "      <td>0</td>\n",
       "      <td>0</td>\n",
       "      <td>...</td>\n",
       "      <td>1</td>\n",
       "      <td>0</td>\n",
       "      <td>0</td>\n",
       "      <td>0</td>\n",
       "      <td>1</td>\n",
       "      <td>0</td>\n",
       "      <td>0</td>\n",
       "      <td>0</td>\n",
       "      <td>0</td>\n",
       "      <td>0</td>\n",
       "    </tr>\n",
       "    <tr>\n",
       "      <th>252723</th>\n",
       "      <td>7060908</td>\n",
       "      <td>0</td>\n",
       "      <td>NaN</td>\n",
       "      <td>NaN</td>\n",
       "      <td>20150428</td>\n",
       "      <td>824</td>\n",
       "      <td>0</td>\n",
       "      <td>1</td>\n",
       "      <td>0</td>\n",
       "      <td>0</td>\n",
       "      <td>...</td>\n",
       "      <td>0</td>\n",
       "      <td>0</td>\n",
       "      <td>0</td>\n",
       "      <td>0</td>\n",
       "      <td>0</td>\n",
       "      <td>0</td>\n",
       "      <td>0</td>\n",
       "      <td>0</td>\n",
       "      <td>0</td>\n",
       "      <td>0</td>\n",
       "    </tr>\n",
       "    <tr>\n",
       "      <th>21946</th>\n",
       "      <td>6808575</td>\n",
       "      <td>4</td>\n",
       "      <td>38.30456</td>\n",
       "      <td>122.03359</td>\n",
       "      <td>20150205</td>\n",
       "      <td>1520</td>\n",
       "      <td>0</td>\n",
       "      <td>0</td>\n",
       "      <td>0</td>\n",
       "      <td>1</td>\n",
       "      <td>...</td>\n",
       "      <td>0</td>\n",
       "      <td>0</td>\n",
       "      <td>0</td>\n",
       "      <td>0</td>\n",
       "      <td>0</td>\n",
       "      <td>0</td>\n",
       "      <td>0</td>\n",
       "      <td>0</td>\n",
       "      <td>0</td>\n",
       "      <td>0</td>\n",
       "    </tr>\n",
       "    <tr>\n",
       "      <th>410708</th>\n",
       "      <td>90065651</td>\n",
       "      <td>4</td>\n",
       "      <td>NaN</td>\n",
       "      <td>NaN</td>\n",
       "      <td>20151031</td>\n",
       "      <td>2330</td>\n",
       "      <td>0</td>\n",
       "      <td>0</td>\n",
       "      <td>0</td>\n",
       "      <td>0</td>\n",
       "      <td>...</td>\n",
       "      <td>0</td>\n",
       "      <td>1</td>\n",
       "      <td>0</td>\n",
       "      <td>0</td>\n",
       "      <td>0</td>\n",
       "      <td>0</td>\n",
       "      <td>0</td>\n",
       "      <td>0</td>\n",
       "      <td>0</td>\n",
       "      <td>0</td>\n",
       "    </tr>\n",
       "    <tr>\n",
       "      <th>284336</th>\n",
       "      <td>7098961</td>\n",
       "      <td>4</td>\n",
       "      <td>NaN</td>\n",
       "      <td>NaN</td>\n",
       "      <td>20151014</td>\n",
       "      <td>1100</td>\n",
       "      <td>0</td>\n",
       "      <td>0</td>\n",
       "      <td>1</td>\n",
       "      <td>0</td>\n",
       "      <td>...</td>\n",
       "      <td>0</td>\n",
       "      <td>0</td>\n",
       "      <td>0</td>\n",
       "      <td>0</td>\n",
       "      <td>0</td>\n",
       "      <td>0</td>\n",
       "      <td>0</td>\n",
       "      <td>0</td>\n",
       "      <td>0</td>\n",
       "      <td>0</td>\n",
       "    </tr>\n",
       "    <tr>\n",
       "      <th>232435</th>\n",
       "      <td>7037793</td>\n",
       "      <td>0</td>\n",
       "      <td>34.03405</td>\n",
       "      <td>118.02660</td>\n",
       "      <td>20150718</td>\n",
       "      <td>745</td>\n",
       "      <td>0</td>\n",
       "      <td>0</td>\n",
       "      <td>0</td>\n",
       "      <td>0</td>\n",
       "      <td>...</td>\n",
       "      <td>0</td>\n",
       "      <td>0</td>\n",
       "      <td>0</td>\n",
       "      <td>0</td>\n",
       "      <td>0</td>\n",
       "      <td>0</td>\n",
       "      <td>0</td>\n",
       "      <td>0</td>\n",
       "      <td>0</td>\n",
       "      <td>0</td>\n",
       "    </tr>\n",
       "    <tr>\n",
       "      <th>385629</th>\n",
       "      <td>90038613</td>\n",
       "      <td>3</td>\n",
       "      <td>34.18946</td>\n",
       "      <td>119.14230</td>\n",
       "      <td>20151026</td>\n",
       "      <td>615</td>\n",
       "      <td>0</td>\n",
       "      <td>0</td>\n",
       "      <td>0</td>\n",
       "      <td>0</td>\n",
       "      <td>...</td>\n",
       "      <td>0</td>\n",
       "      <td>1</td>\n",
       "      <td>0</td>\n",
       "      <td>0</td>\n",
       "      <td>0</td>\n",
       "      <td>0</td>\n",
       "      <td>0</td>\n",
       "      <td>0</td>\n",
       "      <td>0</td>\n",
       "      <td>0</td>\n",
       "    </tr>\n",
       "  </tbody>\n",
       "</table>\n",
       "<p>7 rows × 50 columns</p>\n",
       "</div>"
      ],
      "text/plain": [
       "         CASE_ID  COLLISION_SEVERITY  LATITUDE  LONGITUDE  COLLISION_DATE  \\\n",
       "258852   7067748                   3       NaN        NaN        20150330   \n",
       "252723   7060908                   0       NaN        NaN        20150428   \n",
       "21946    6808575                   4  38.30456  122.03359        20150205   \n",
       "410708  90065651                   4       NaN        NaN        20151031   \n",
       "284336   7098961                   4       NaN        NaN        20151014   \n",
       "232435   7037793                   0  34.03405  118.02660        20150718   \n",
       "385629  90038613                   3  34.18946  119.14230        20151026   \n",
       "\n",
       "        COLLISION_TIME  NUMBER_KILLED  DAY_OF_WEEK_2  DAY_OF_WEEK_3  \\\n",
       "258852            1903              0              0              0   \n",
       "252723             824              0              1              0   \n",
       "21946             1520              0              0              0   \n",
       "410708            2330              0              0              0   \n",
       "284336            1100              0              0              1   \n",
       "232435             745              0              0              0   \n",
       "385629             615              0              0              0   \n",
       "\n",
       "        DAY_OF_WEEK_4         ...          LIGHTING_C  LIGHTING_D  LIGHTING_E  \\\n",
       "258852              0         ...                   1           0           0   \n",
       "252723              0         ...                   0           0           0   \n",
       "21946               1         ...                   0           0           0   \n",
       "410708              0         ...                   0           1           0   \n",
       "284336              0         ...                   0           0           0   \n",
       "232435              0         ...                   0           0           0   \n",
       "385629              0         ...                   0           1           0   \n",
       "\n",
       "        ALCOHOL_INVOLVED_Y  PEDESTRIAN_ACCIDENT_Y  BICYCLE_ACCIDENT_Y  \\\n",
       "258852                   0                      1                   0   \n",
       "252723                   0                      0                   0   \n",
       "21946                    0                      0                   0   \n",
       "410708                   0                      0                   0   \n",
       "284336                   0                      0                   0   \n",
       "232435                   0                      0                   0   \n",
       "385629                   0                      0                   0   \n",
       "\n",
       "        MOTORCYCLE_ACCIDENT_Y  TRUCK_ACCIDENT_Y  Is_Fatal  Is_SEVERE_or_Fatal  \n",
       "258852                      0                 0         0                   0  \n",
       "252723                      0                 0         0                   0  \n",
       "21946                       0                 0         0                   0  \n",
       "410708                      0                 0         0                   0  \n",
       "284336                      0                 0         0                   0  \n",
       "232435                      0                 0         0                   0  \n",
       "385629                      0                 0         0                   0  \n",
       "\n",
       "[7 rows x 50 columns]"
      ]
     },
     "execution_count": 460,
     "metadata": {},
     "output_type": "execute_result"
    }
   ],
   "source": [
    "cali_collision_records_df_dummies.sample(7)"
   ]
  },
  {
   "cell_type": "code",
   "execution_count": 461,
   "metadata": {
    "collapsed": true
   },
   "outputs": [],
   "source": [
    "X = cali_collision_records_df_dummies.iloc[:,7:-2]\n",
    "y = cali_collision_records_df_dummies.iloc[:,-1]"
   ]
  },
  {
   "cell_type": "code",
   "execution_count": 462,
   "metadata": {},
   "outputs": [
    {
     "data": {
      "text/html": [
       "<div>\n",
       "<style>\n",
       "    .dataframe thead tr:only-child th {\n",
       "        text-align: right;\n",
       "    }\n",
       "\n",
       "    .dataframe thead th {\n",
       "        text-align: left;\n",
       "    }\n",
       "\n",
       "    .dataframe tbody tr th {\n",
       "        vertical-align: top;\n",
       "    }\n",
       "</style>\n",
       "<table border=\"1\" class=\"dataframe\">\n",
       "  <thead>\n",
       "    <tr style=\"text-align: right;\">\n",
       "      <th></th>\n",
       "      <th>DAY_OF_WEEK_2</th>\n",
       "      <th>DAY_OF_WEEK_3</th>\n",
       "      <th>DAY_OF_WEEK_4</th>\n",
       "      <th>DAY_OF_WEEK_5</th>\n",
       "      <th>DAY_OF_WEEK_6</th>\n",
       "      <th>DAY_OF_WEEK_7</th>\n",
       "      <th>POPULATION_2</th>\n",
       "      <th>POPULATION_3</th>\n",
       "      <th>POPULATION_4</th>\n",
       "      <th>POPULATION_5</th>\n",
       "      <th>...</th>\n",
       "      <th>LIGHTING_A</th>\n",
       "      <th>LIGHTING_B</th>\n",
       "      <th>LIGHTING_C</th>\n",
       "      <th>LIGHTING_D</th>\n",
       "      <th>LIGHTING_E</th>\n",
       "      <th>ALCOHOL_INVOLVED_Y</th>\n",
       "      <th>PEDESTRIAN_ACCIDENT_Y</th>\n",
       "      <th>BICYCLE_ACCIDENT_Y</th>\n",
       "      <th>MOTORCYCLE_ACCIDENT_Y</th>\n",
       "      <th>TRUCK_ACCIDENT_Y</th>\n",
       "    </tr>\n",
       "  </thead>\n",
       "  <tbody>\n",
       "    <tr>\n",
       "      <th>0</th>\n",
       "      <td>0</td>\n",
       "      <td>0</td>\n",
       "      <td>0</td>\n",
       "      <td>1</td>\n",
       "      <td>0</td>\n",
       "      <td>0</td>\n",
       "      <td>0</td>\n",
       "      <td>0</td>\n",
       "      <td>0</td>\n",
       "      <td>0</td>\n",
       "      <td>...</td>\n",
       "      <td>0</td>\n",
       "      <td>0</td>\n",
       "      <td>1</td>\n",
       "      <td>0</td>\n",
       "      <td>0</td>\n",
       "      <td>0</td>\n",
       "      <td>1</td>\n",
       "      <td>0</td>\n",
       "      <td>0</td>\n",
       "      <td>0</td>\n",
       "    </tr>\n",
       "    <tr>\n",
       "      <th>1</th>\n",
       "      <td>0</td>\n",
       "      <td>0</td>\n",
       "      <td>0</td>\n",
       "      <td>0</td>\n",
       "      <td>0</td>\n",
       "      <td>1</td>\n",
       "      <td>0</td>\n",
       "      <td>0</td>\n",
       "      <td>0</td>\n",
       "      <td>0</td>\n",
       "      <td>...</td>\n",
       "      <td>0</td>\n",
       "      <td>0</td>\n",
       "      <td>0</td>\n",
       "      <td>1</td>\n",
       "      <td>0</td>\n",
       "      <td>0</td>\n",
       "      <td>0</td>\n",
       "      <td>0</td>\n",
       "      <td>0</td>\n",
       "      <td>0</td>\n",
       "    </tr>\n",
       "    <tr>\n",
       "      <th>2</th>\n",
       "      <td>0</td>\n",
       "      <td>0</td>\n",
       "      <td>0</td>\n",
       "      <td>0</td>\n",
       "      <td>0</td>\n",
       "      <td>0</td>\n",
       "      <td>0</td>\n",
       "      <td>0</td>\n",
       "      <td>0</td>\n",
       "      <td>0</td>\n",
       "      <td>...</td>\n",
       "      <td>0</td>\n",
       "      <td>1</td>\n",
       "      <td>0</td>\n",
       "      <td>0</td>\n",
       "      <td>0</td>\n",
       "      <td>0</td>\n",
       "      <td>0</td>\n",
       "      <td>0</td>\n",
       "      <td>0</td>\n",
       "      <td>0</td>\n",
       "    </tr>\n",
       "    <tr>\n",
       "      <th>3</th>\n",
       "      <td>1</td>\n",
       "      <td>0</td>\n",
       "      <td>0</td>\n",
       "      <td>0</td>\n",
       "      <td>0</td>\n",
       "      <td>0</td>\n",
       "      <td>0</td>\n",
       "      <td>0</td>\n",
       "      <td>0</td>\n",
       "      <td>0</td>\n",
       "      <td>...</td>\n",
       "      <td>0</td>\n",
       "      <td>0</td>\n",
       "      <td>1</td>\n",
       "      <td>0</td>\n",
       "      <td>0</td>\n",
       "      <td>0</td>\n",
       "      <td>0</td>\n",
       "      <td>1</td>\n",
       "      <td>0</td>\n",
       "      <td>0</td>\n",
       "    </tr>\n",
       "    <tr>\n",
       "      <th>4</th>\n",
       "      <td>0</td>\n",
       "      <td>0</td>\n",
       "      <td>1</td>\n",
       "      <td>0</td>\n",
       "      <td>0</td>\n",
       "      <td>0</td>\n",
       "      <td>0</td>\n",
       "      <td>0</td>\n",
       "      <td>0</td>\n",
       "      <td>0</td>\n",
       "      <td>...</td>\n",
       "      <td>1</td>\n",
       "      <td>0</td>\n",
       "      <td>0</td>\n",
       "      <td>0</td>\n",
       "      <td>0</td>\n",
       "      <td>0</td>\n",
       "      <td>0</td>\n",
       "      <td>0</td>\n",
       "      <td>0</td>\n",
       "      <td>1</td>\n",
       "    </tr>\n",
       "  </tbody>\n",
       "</table>\n",
       "<p>5 rows × 41 columns</p>\n",
       "</div>"
      ],
      "text/plain": [
       "   DAY_OF_WEEK_2  DAY_OF_WEEK_3  DAY_OF_WEEK_4  DAY_OF_WEEK_5  DAY_OF_WEEK_6  \\\n",
       "0              0              0              0              1              0   \n",
       "1              0              0              0              0              0   \n",
       "2              0              0              0              0              0   \n",
       "3              1              0              0              0              0   \n",
       "4              0              0              1              0              0   \n",
       "\n",
       "   DAY_OF_WEEK_7  POPULATION_2  POPULATION_3  POPULATION_4  POPULATION_5  \\\n",
       "0              0             0             0             0             0   \n",
       "1              1             0             0             0             0   \n",
       "2              0             0             0             0             0   \n",
       "3              0             0             0             0             0   \n",
       "4              0             0             0             0             0   \n",
       "\n",
       "         ...         LIGHTING_A  LIGHTING_B  LIGHTING_C  LIGHTING_D  \\\n",
       "0        ...                  0           0           1           0   \n",
       "1        ...                  0           0           0           1   \n",
       "2        ...                  0           1           0           0   \n",
       "3        ...                  0           0           1           0   \n",
       "4        ...                  1           0           0           0   \n",
       "\n",
       "   LIGHTING_E  ALCOHOL_INVOLVED_Y  PEDESTRIAN_ACCIDENT_Y  BICYCLE_ACCIDENT_Y  \\\n",
       "0           0                   0                      1                   0   \n",
       "1           0                   0                      0                   0   \n",
       "2           0                   0                      0                   0   \n",
       "3           0                   0                      0                   1   \n",
       "4           0                   0                      0                   0   \n",
       "\n",
       "   MOTORCYCLE_ACCIDENT_Y  TRUCK_ACCIDENT_Y  \n",
       "0                      0                 0  \n",
       "1                      0                 0  \n",
       "2                      0                 0  \n",
       "3                      0                 0  \n",
       "4                      0                 1  \n",
       "\n",
       "[5 rows x 41 columns]"
      ]
     },
     "execution_count": 462,
     "metadata": {},
     "output_type": "execute_result"
    }
   ],
   "source": [
    "X.head()"
   ]
  },
  {
   "cell_type": "code",
   "execution_count": 637,
   "metadata": {},
   "outputs": [
    {
     "data": {
      "text/plain": [
       "['hi']"
      ]
     },
     "execution_count": 637,
     "metadata": {},
     "output_type": "execute_result"
    }
   ],
   "source": [
    "['hi']"
   ]
  },
  {
   "cell_type": "code",
   "execution_count": 463,
   "metadata": {
    "collapsed": true
   },
   "outputs": [],
   "source": [
    "cross_validator = KFold(n_splits=5,shuffle=True,random_state=40)"
   ]
  },
  {
   "cell_type": "code",
   "execution_count": 674,
   "metadata": {},
   "outputs": [
    {
     "name": "stdout",
     "output_type": "stream",
     "text": [
      "F1 0.032169103121\n",
      "Recall 0.0324802936998\n",
      "Precision 0.0318645774295\n"
     ]
    }
   ],
   "source": [
    "dm = DummyClassifier()\n",
    "scores1 = cross_val_score(dm,X,y,cv=cross_validator,scoring=\"f1\",n_jobs=-1)\n",
    "print(\"F1\",scores1.mean())\n",
    "scores2 = cross_val_score(dm,X,y,cv=cross_validator,scoring=\"recall\",n_jobs=-1)\n",
    "print(\"Recall\",scores2.mean())\n",
    "scores3 = cross_val_score(dm,X,y,cv=cross_validator,scoring=\"precision\",n_jobs=-1)\n",
    "print(\"Precision\",scores3.mean())"
   ]
  },
  {
   "cell_type": "code",
   "execution_count": 675,
   "metadata": {
    "collapsed": true
   },
   "outputs": [],
   "source": [
    "t_dummy_dict = {'Recall':scores2.mean(),'Precision':scores3.mean(),'F1 Score':scores1.mean()}"
   ]
  },
  {
   "cell_type": "code",
   "execution_count": 872,
   "metadata": {},
   "outputs": [
    {
     "data": {
      "image/png": "[encoded data removed]",
      "text/plain": [
       "<matplotlib.figure.Figure at 0x7fb407021518>"
      ]
     },
     "metadata": {},
     "output_type": "display_data"
    }
   ],
   "source": [
    "text_settings={'color':'white', 'fontweight':'bold','fontsize':15,'ha':'center','va':'center'}\n",
    "fig, ax = plt.subplots(figsize=(4.5,5))\n",
    "ax.grid(axis='y')\n",
    "\n",
    "plot_vals = values_for_bar_graph(variable)\n",
    "plt.title('Baseline Model \\nPerformance Metrics\\n',fontsize=25)\n",
    "plt.yticks(np.linspace(0,.5,11))\n",
    "plt.ylim([0,.5])\n",
    "plt.ylabel('Score (Max Possible = 1.0)')\n",
    "plt.xticks([0,1,2],('Recall','Precision','F1-Score'))\n",
    "plt.bar([0,1,2],[t_dummy_dict['Recall'],t_dummy_dict['Precision'],t_dummy_dict['F1 Score']])\n",
    "for ind,score in enumerate([t_dummy_dict['Recall'],t_dummy_dict['Precision'],t_dummy_dict['F1 Score']]):\n",
    "    ax.text(ind,score-.5*score,str(score)[:5],**text_settings)"
   ]
  },
  {
   "cell_type": "code",
   "execution_count": 465,
   "metadata": {},
   "outputs": [
    {
     "data": {
      "text/plain": [
       "DummyClassifier(constant=None, random_state=None, strategy='stratified')"
      ]
     },
     "execution_count": 465,
     "metadata": {},
     "output_type": "execute_result"
    }
   ],
   "source": [
    "dm.fit(X,y)"
   ]
  },
  {
   "cell_type": "code",
   "execution_count": 466,
   "metadata": {},
   "outputs": [
    {
     "data": {
      "text/plain": [
       "array([[411077,  13065],\n",
       "       [ 13118,    432]])"
      ]
     },
     "execution_count": 466,
     "metadata": {},
     "output_type": "execute_result"
    }
   ],
   "source": [
    "metrics.confusion_matrix(y,dm.predict(X),labels=[0,1])"
   ]
  },
  {
   "cell_type": "code",
   "execution_count": 475,
   "metadata": {},
   "outputs": [
    {
     "data": {
      "text/plain": [
       "0.031734317343173432"
      ]
     },
     "execution_count": 475,
     "metadata": {},
     "output_type": "execute_result"
    }
   ],
   "source": [
    "metrics.recall_score(y,dm.predict(X))"
   ]
  },
  {
   "cell_type": "code",
   "execution_count": 476,
   "metadata": {},
   "outputs": [
    {
     "data": {
      "text/plain": [
       "0.031964141377029909"
      ]
     },
     "execution_count": 476,
     "metadata": {},
     "output_type": "execute_result"
    }
   ],
   "source": [
    "metrics.precision_score(y,dm.predict(X))"
   ]
  },
  {
   "cell_type": "code",
   "execution_count": 477,
   "metadata": {},
   "outputs": [
    {
     "data": {
      "text/plain": [
       "0.030537187012408054"
      ]
     },
     "execution_count": 477,
     "metadata": {},
     "output_type": "execute_result"
    }
   ],
   "source": [
    "metrics.f1_score(y,dm.predict(X))"
   ]
  },
  {
   "cell_type": "code",
   "execution_count": 661,
   "metadata": {},
   "outputs": [
    {
     "name": "stdout",
     "output_type": "stream",
     "text": [
      "F1 [ 0.17142098  0.16700884  0.17151333  0.16859919  0.16831103]\n",
      "Recall [ 0.70957096  0.69193787  0.70147059  0.69329897  0.69623556]\n",
      "Precision [ 0.09748602  0.09496498  0.09770086  0.09596861  0.09572615]\n"
     ]
    }
   ],
   "source": [
    "logr = LogisticRegression(class_weight='balanced')\n",
    "scores1 = cross_val_score(logr,X,y,cv=cross_validator,scoring=\"f1\",n_jobs=-1)\n",
    "print(\"F1\",scores1)\n",
    "scores2 = cross_val_score(logr,X,y,cv=cross_validator,scoring=\"recall\",n_jobs=-1)\n",
    "print(\"Recall\",scores2)\n",
    "scores3 = cross_val_score(logr,X,y,cv=cross_validator,scoring=\"precision\",n_jobs=-1)\n",
    "print(\"Precision\",scores3)"
   ]
  },
  {
   "cell_type": "code",
   "execution_count": 479,
   "metadata": {},
   "outputs": [
    {
     "data": {
      "text/plain": [
       "LogisticRegression(C=1.0, class_weight='balanced', dual=False,\n",
       "          fit_intercept=True, intercept_scaling=1, max_iter=100,\n",
       "          multi_class='ovr', n_jobs=1, penalty='l2', random_state=None,\n",
       "          solver='liblinear', tol=0.0001, verbose=0, warm_start=False)"
      ]
     },
     "execution_count": 479,
     "metadata": {},
     "output_type": "execute_result"
    }
   ],
   "source": [
    "logr.fit(X,y)"
   ]
  },
  {
   "cell_type": "code",
   "execution_count": 480,
   "metadata": {},
   "outputs": [
    {
     "data": {
      "text/plain": [
       "array([[335492,  88650],\n",
       "       [  4086,   9464]])"
      ]
     },
     "execution_count": 480,
     "metadata": {},
     "output_type": "execute_result"
    }
   ],
   "source": [
    "metrics.confusion_matrix(y,logr.predict(X),labels=[0,1])"
   ]
  },
  {
   "cell_type": "code",
   "execution_count": 481,
   "metadata": {
    "collapsed": true
   },
   "outputs": [],
   "source": [
    "predict_proba_logr = logr.predict_proba(X)\n",
    "predict_proba_logr = [probs[1] for probs in predict_proba_logr]"
   ]
  },
  {
   "cell_type": "code",
   "execution_count": 482,
   "metadata": {},
   "outputs": [
    {
     "data": {
      "text/plain": [
       "[0.84227284373148648,\n",
       " 0.61817216615758641,\n",
       " 0.25543739312114572,\n",
       " 0.68609574647418292,\n",
       " 0.23439373368390823,\n",
       " 0.94964535334962619,\n",
       " 0.17489713140073559,\n",
       " 0.923508942390317]"
      ]
     },
     "execution_count": 482,
     "metadata": {},
     "output_type": "execute_result"
    }
   ],
   "source": [
    "predict_proba_logr[:8]"
   ]
  },
  {
   "cell_type": "code",
   "execution_count": 483,
   "metadata": {},
   "outputs": [
    {
     "data": {
      "text/plain": [
       "array([1, 1, 0, 1, 0, 1, 0, 0])"
      ]
     },
     "execution_count": 483,
     "metadata": {},
     "output_type": "execute_result"
    }
   ],
   "source": [
    "predict_y_logr[:8]"
   ]
  },
  {
   "cell_type": "code",
   "execution_count": 484,
   "metadata": {
    "collapsed": true
   },
   "outputs": [],
   "source": [
    "true_vs_pred_logr_df = pd.DataFrame(data={'True_y':y,'proba_y':predict_proba_logr})"
   ]
  },
  {
   "cell_type": "code",
   "execution_count": 485,
   "metadata": {},
   "outputs": [
    {
     "data": {
      "text/html": [
       "<div>\n",
       "<style>\n",
       "    .dataframe thead tr:only-child th {\n",
       "        text-align: right;\n",
       "    }\n",
       "\n",
       "    .dataframe thead th {\n",
       "        text-align: left;\n",
       "    }\n",
       "\n",
       "    .dataframe tbody tr th {\n",
       "        vertical-align: top;\n",
       "    }\n",
       "</style>\n",
       "<table border=\"1\" class=\"dataframe\">\n",
       "  <thead>\n",
       "    <tr style=\"text-align: right;\">\n",
       "      <th></th>\n",
       "      <th>True_y</th>\n",
       "      <th>proba_y</th>\n",
       "    </tr>\n",
       "  </thead>\n",
       "  <tbody>\n",
       "    <tr>\n",
       "      <th>0</th>\n",
       "      <td>1</td>\n",
       "      <td>0.842273</td>\n",
       "    </tr>\n",
       "    <tr>\n",
       "      <th>1</th>\n",
       "      <td>1</td>\n",
       "      <td>0.618172</td>\n",
       "    </tr>\n",
       "    <tr>\n",
       "      <th>2</th>\n",
       "      <td>1</td>\n",
       "      <td>0.255437</td>\n",
       "    </tr>\n",
       "    <tr>\n",
       "      <th>3</th>\n",
       "      <td>1</td>\n",
       "      <td>0.686096</td>\n",
       "    </tr>\n",
       "    <tr>\n",
       "      <th>4</th>\n",
       "      <td>1</td>\n",
       "      <td>0.234394</td>\n",
       "    </tr>\n",
       "  </tbody>\n",
       "</table>\n",
       "</div>"
      ],
      "text/plain": [
       "   True_y   proba_y\n",
       "0       1  0.842273\n",
       "1       1  0.618172\n",
       "2       1  0.255437\n",
       "3       1  0.686096\n",
       "4       1  0.234394"
      ]
     },
     "execution_count": 485,
     "metadata": {},
     "output_type": "execute_result"
    }
   ],
   "source": [
    "true_vs_pred_logr_df.head()"
   ]
  },
  {
   "cell_type": "code",
   "execution_count": 486,
   "metadata": {
    "collapsed": true
   },
   "outputs": [],
   "source": [
    "globthresh = 0.5"
   ]
  },
  {
   "cell_type": "code",
   "execution_count": 487,
   "metadata": {
    "collapsed": true
   },
   "outputs": [],
   "source": [
    "def assign_conf_matrix_label(row):\n",
    "    if row.True_y == 1 and row.proba_y >= globthresh:\n",
    "        return \"TP\"\n",
    "    elif row.True_y == 1 and row.proba_y <globthresh:\n",
    "        return \"FN\"\n",
    "    elif row.True_y == 0 and row.proba_y >= globthresh:\n",
    "        return \"FP\"\n",
    "    else:\n",
    "        return \"TN\"\n",
    "\n",
    "# def pred_with_different_threshold(row):\n",
    "#     if row.proba_y >= globthresh:\n",
    "#         return 1\n",
    "#     else:\n",
    "#         return 0"
   ]
  },
  {
   "cell_type": "code",
   "execution_count": 662,
   "metadata": {
    "collapsed": true
   },
   "outputs": [],
   "source": [
    "def conf_mat_score(dict_with_TP_TN_FP_FN):\n",
    "    \"\"\"\n",
    "    returns accuracy, precision, recall, and F1 scores based on a confusion matrix\n",
    "    \"\"\"\n",
    "    tn=dict_with_TP_TN_FP_FN['TN']\n",
    "    tp=dict_with_TP_TN_FP_FN['TP']\n",
    "    fn=dict_with_TP_TN_FP_FN['FN']\n",
    "    fp=dict_with_TP_TN_FP_FN['FP']\n",
    "    accuracy_ = (tp+tn)/(tp+tn+fp+fn)\n",
    "    recall_ = (tp)/(tp+fn)\n",
    "    prec_ = tp/(tp+fp)\n",
    "    f1_score = 2*recall_*prec_/(recall_+prec_)\n",
    "    print('Accuracy:',accuracy_)\n",
    "    print('Recall:',recall_)\n",
    "    print('Precision:',prec_)\n",
    "    print('F1 Score:',f1_score)\n",
    "    return {'Accuracy':accuracy_,'Recall':recall_,'Precision':prec_,'F1 Score':f1_score}\n"
   ]
  },
  {
   "cell_type": "code",
   "execution_count": 489,
   "metadata": {},
   "outputs": [
    {
     "data": {
      "text/plain": [
       "(array([  72629.,  151564.,   57452.,   43032.,   28777.,   24977.,\n",
       "          11393.,   16771.,   12827.,    4720.]),\n",
       " array([ 0.09814195,  0.18825402,  0.27836609,  0.36847816,  0.45859023,\n",
       "         0.5487023 ,  0.63881437,  0.72892644,  0.81903851,  0.90915058,\n",
       "         0.99926265]),\n",
       " <a list of 10 Patch objects>)"
      ]
     },
     "execution_count": 489,
     "metadata": {},
     "output_type": "execute_result"
    },
    {
     "data": {
      "image/png": "[encoded data removed]",
      "text/plain": [
       "<matplotlib.figure.Figure at 0x7fb4124284e0>"
      ]
     },
     "metadata": {},
     "output_type": "display_data"
    }
   ],
   "source": [
    "plt.hist(true_vs_pred_logr_df.proba_y[(true_vs_pred_logr_df.True_y==0)])\n",
    "# &(true_vs_pred_logr_df.proba_y>=0.3)&(true_vs_pred_logr_df.proba_y<=0.65)])"
   ]
  },
  {
   "cell_type": "code",
   "execution_count": 490,
   "metadata": {},
   "outputs": [
    {
     "data": {
      "text/plain": [
       "(array([  803.,  1204.,  1167.,   743.,   947.,  1062.,   828.,  2007.,\n",
       "         2703.,  2086.]),\n",
       " array([ 0.12021823,  0.20799739,  0.29577655,  0.38355571,  0.47133487,\n",
       "         0.55911403,  0.64689319,  0.73467235,  0.82245151,  0.91023067,\n",
       "         0.99800983]),\n",
       " <a list of 10 Patch objects>)"
      ]
     },
     "execution_count": 490,
     "metadata": {},
     "output_type": "execute_result"
    },
    {
     "data": {
      "image/png": "[encoded data removed]",
      "text/plain": [
       "<matplotlib.figure.Figure at 0x7fb4123549b0>"
      ]
     },
     "metadata": {},
     "output_type": "display_data"
    }
   ],
   "source": [
    "plt.hist(true_vs_pred_logr_df.proba_y[true_vs_pred_logr_df.True_y==1])"
   ]
  },
  {
   "cell_type": "markdown",
   "metadata": {},
   "source": [
    "plt.hist(true_vs_pred_logr_df.proba_y[(true_vs_pred_logr_df.True_y==0)&(true_vs_pred_logr_df.proba_y>=.54)&(true_vs_pred_logr_df.proba_y<=.57)])\n",
    "# plt.hist(true_vs_pred_logr_df.proba_y[true_vs_pred_logr_df.proba_y>=.5])"
   ]
  },
  {
   "cell_type": "markdown",
   "metadata": {},
   "source": [
    "plt.hist(true_vs_pred_logr_df.proba_y[(true_vs_pred_logr_df.True_y==1)&(true_vs_pred_logr_df.proba_y>=.54)&(true_vs_pred_logr_df.proba_y<=.57)])\n",
    "# plt.hist(true_vs_pred_logr_df.proba_y[true_vs_pred_logr_df.proba_y>=.5])"
   ]
  },
  {
   "cell_type": "code",
   "execution_count": 491,
   "metadata": {
    "collapsed": true
   },
   "outputs": [],
   "source": [
    "globthresh = 0.500\n",
    "true_vs_pred_logr_df['Confusion_label_500'] = true_vs_pred_logr_df.apply(assign_conf_matrix_label,axis=1)"
   ]
  },
  {
   "cell_type": "code",
   "execution_count": 492,
   "metadata": {},
   "outputs": [
    {
     "data": {
      "text/html": [
       "<div>\n",
       "<style>\n",
       "    .dataframe thead tr:only-child th {\n",
       "        text-align: right;\n",
       "    }\n",
       "\n",
       "    .dataframe thead th {\n",
       "        text-align: left;\n",
       "    }\n",
       "\n",
       "    .dataframe tbody tr th {\n",
       "        vertical-align: top;\n",
       "    }\n",
       "</style>\n",
       "<table border=\"1\" class=\"dataframe\">\n",
       "  <thead>\n",
       "    <tr style=\"text-align: right;\">\n",
       "      <th></th>\n",
       "      <th>True_y</th>\n",
       "      <th>proba_y</th>\n",
       "      <th>Confusion_label_500</th>\n",
       "    </tr>\n",
       "  </thead>\n",
       "  <tbody>\n",
       "    <tr>\n",
       "      <th>0</th>\n",
       "      <td>1</td>\n",
       "      <td>0.842273</td>\n",
       "      <td>TP</td>\n",
       "    </tr>\n",
       "    <tr>\n",
       "      <th>1</th>\n",
       "      <td>1</td>\n",
       "      <td>0.618172</td>\n",
       "      <td>TP</td>\n",
       "    </tr>\n",
       "    <tr>\n",
       "      <th>2</th>\n",
       "      <td>1</td>\n",
       "      <td>0.255437</td>\n",
       "      <td>FN</td>\n",
       "    </tr>\n",
       "    <tr>\n",
       "      <th>3</th>\n",
       "      <td>1</td>\n",
       "      <td>0.686096</td>\n",
       "      <td>TP</td>\n",
       "    </tr>\n",
       "    <tr>\n",
       "      <th>4</th>\n",
       "      <td>1</td>\n",
       "      <td>0.234394</td>\n",
       "      <td>FN</td>\n",
       "    </tr>\n",
       "  </tbody>\n",
       "</table>\n",
       "</div>"
      ],
      "text/plain": [
       "   True_y   proba_y Confusion_label_500\n",
       "0       1  0.842273                  TP\n",
       "1       1  0.618172                  TP\n",
       "2       1  0.255437                  FN\n",
       "3       1  0.686096                  TP\n",
       "4       1  0.234394                  FN"
      ]
     },
     "execution_count": 492,
     "metadata": {},
     "output_type": "execute_result"
    }
   ],
   "source": [
    "true_vs_pred_logr_df.head()"
   ]
  },
  {
   "cell_type": "code",
   "execution_count": 493,
   "metadata": {},
   "outputs": [
    {
     "data": {
      "text/plain": [
       "TN    335492\n",
       "FP     88650\n",
       "TP      9464\n",
       "FN      4086\n",
       "Name: Confusion_label_500, dtype: int64"
      ]
     },
     "execution_count": 493,
     "metadata": {},
     "output_type": "execute_result"
    }
   ],
   "source": [
    "true_vs_pred_logr_df.Confusion_label_500.value_counts()"
   ]
  },
  {
   "cell_type": "code",
   "execution_count": 494,
   "metadata": {},
   "outputs": [
    {
     "name": "stdout",
     "output_type": "stream",
     "text": [
      "Accuracy: 0.788124982865\n",
      "Recall: 0.698450184502\n",
      "Precision: 0.0964592209063\n",
      "F1 Score: 0.169508525577\n"
     ]
    }
   ],
   "source": [
    "conf_mat_score(dict(true_vs_pred_logr_df.Confusion_label_500.value_counts()))"
   ]
  },
  {
   "cell_type": "code",
   "execution_count": 495,
   "metadata": {
    "collapsed": true
   },
   "outputs": [],
   "source": [
    "globthresh = 0.550\n",
    "true_vs_pred_logr_df['Confusion_label_550'] = true_vs_pred_logr_df.apply(assign_conf_matrix_label,axis=1)"
   ]
  },
  {
   "cell_type": "code",
   "execution_count": 496,
   "metadata": {},
   "outputs": [
    {
     "data": {
      "text/html": [
       "<div>\n",
       "<style>\n",
       "    .dataframe thead tr:only-child th {\n",
       "        text-align: right;\n",
       "    }\n",
       "\n",
       "    .dataframe thead th {\n",
       "        text-align: left;\n",
       "    }\n",
       "\n",
       "    .dataframe tbody tr th {\n",
       "        vertical-align: top;\n",
       "    }\n",
       "</style>\n",
       "<table border=\"1\" class=\"dataframe\">\n",
       "  <thead>\n",
       "    <tr style=\"text-align: right;\">\n",
       "      <th></th>\n",
       "      <th>True_y</th>\n",
       "      <th>proba_y</th>\n",
       "      <th>Confusion_label_500</th>\n",
       "      <th>Confusion_label_550</th>\n",
       "    </tr>\n",
       "  </thead>\n",
       "  <tbody>\n",
       "    <tr>\n",
       "      <th>0</th>\n",
       "      <td>1</td>\n",
       "      <td>0.842273</td>\n",
       "      <td>TP</td>\n",
       "      <td>TP</td>\n",
       "    </tr>\n",
       "    <tr>\n",
       "      <th>1</th>\n",
       "      <td>1</td>\n",
       "      <td>0.618172</td>\n",
       "      <td>TP</td>\n",
       "      <td>TP</td>\n",
       "    </tr>\n",
       "    <tr>\n",
       "      <th>2</th>\n",
       "      <td>1</td>\n",
       "      <td>0.255437</td>\n",
       "      <td>FN</td>\n",
       "      <td>FN</td>\n",
       "    </tr>\n",
       "    <tr>\n",
       "      <th>3</th>\n",
       "      <td>1</td>\n",
       "      <td>0.686096</td>\n",
       "      <td>TP</td>\n",
       "      <td>TP</td>\n",
       "    </tr>\n",
       "    <tr>\n",
       "      <th>4</th>\n",
       "      <td>1</td>\n",
       "      <td>0.234394</td>\n",
       "      <td>FN</td>\n",
       "      <td>FN</td>\n",
       "    </tr>\n",
       "  </tbody>\n",
       "</table>\n",
       "</div>"
      ],
      "text/plain": [
       "   True_y   proba_y Confusion_label_500 Confusion_label_550\n",
       "0       1  0.842273                  TP                  TP\n",
       "1       1  0.618172                  TP                  TP\n",
       "2       1  0.255437                  FN                  FN\n",
       "3       1  0.686096                  TP                  TP\n",
       "4       1  0.234394                  FN                  FN"
      ]
     },
     "execution_count": 496,
     "metadata": {},
     "output_type": "execute_result"
    }
   ],
   "source": [
    "true_vs_pred_logr_df.head()"
   ]
  },
  {
   "cell_type": "code",
   "execution_count": 497,
   "metadata": {},
   "outputs": [
    {
     "data": {
      "text/plain": [
       "TN    353613\n",
       "FP     70529\n",
       "TP      8850\n",
       "FN      4700\n",
       "Name: Confusion_label_550, dtype: int64"
      ]
     },
     "execution_count": 497,
     "metadata": {},
     "output_type": "execute_result"
    }
   ],
   "source": [
    "true_vs_pred_logr_df.Confusion_label_550.value_counts()"
   ]
  },
  {
   "cell_type": "code",
   "execution_count": 498,
   "metadata": {},
   "outputs": [
    {
     "name": "stdout",
     "output_type": "stream",
     "text": [
      "Accuracy: 0.828123429261\n",
      "Recall: 0.653136531365\n",
      "Precision: 0.111490444576\n",
      "F1 Score: 0.190467991693\n"
     ]
    }
   ],
   "source": [
    "conf_mat_score(dict(true_vs_pred_logr_df.Confusion_label_550.value_counts()))"
   ]
  },
  {
   "cell_type": "code",
   "execution_count": 499,
   "metadata": {
    "collapsed": true
   },
   "outputs": [],
   "source": [
    "globthresh = 0.600\n",
    "true_vs_pred_logr_df['Confusion_label_600'] = true_vs_pred_logr_df.apply(assign_conf_matrix_label,axis=1)"
   ]
  },
  {
   "cell_type": "code",
   "execution_count": 500,
   "metadata": {},
   "outputs": [
    {
     "data": {
      "text/html": [
       "<div>\n",
       "<style>\n",
       "    .dataframe thead tr:only-child th {\n",
       "        text-align: right;\n",
       "    }\n",
       "\n",
       "    .dataframe thead th {\n",
       "        text-align: left;\n",
       "    }\n",
       "\n",
       "    .dataframe tbody tr th {\n",
       "        vertical-align: top;\n",
       "    }\n",
       "</style>\n",
       "<table border=\"1\" class=\"dataframe\">\n",
       "  <thead>\n",
       "    <tr style=\"text-align: right;\">\n",
       "      <th></th>\n",
       "      <th>True_y</th>\n",
       "      <th>proba_y</th>\n",
       "      <th>Confusion_label_500</th>\n",
       "      <th>Confusion_label_550</th>\n",
       "      <th>Confusion_label_600</th>\n",
       "    </tr>\n",
       "  </thead>\n",
       "  <tbody>\n",
       "    <tr>\n",
       "      <th>0</th>\n",
       "      <td>1</td>\n",
       "      <td>0.842273</td>\n",
       "      <td>TP</td>\n",
       "      <td>TP</td>\n",
       "      <td>TP</td>\n",
       "    </tr>\n",
       "    <tr>\n",
       "      <th>1</th>\n",
       "      <td>1</td>\n",
       "      <td>0.618172</td>\n",
       "      <td>TP</td>\n",
       "      <td>TP</td>\n",
       "      <td>TP</td>\n",
       "    </tr>\n",
       "    <tr>\n",
       "      <th>2</th>\n",
       "      <td>1</td>\n",
       "      <td>0.255437</td>\n",
       "      <td>FN</td>\n",
       "      <td>FN</td>\n",
       "      <td>FN</td>\n",
       "    </tr>\n",
       "    <tr>\n",
       "      <th>3</th>\n",
       "      <td>1</td>\n",
       "      <td>0.686096</td>\n",
       "      <td>TP</td>\n",
       "      <td>TP</td>\n",
       "      <td>TP</td>\n",
       "    </tr>\n",
       "    <tr>\n",
       "      <th>4</th>\n",
       "      <td>1</td>\n",
       "      <td>0.234394</td>\n",
       "      <td>FN</td>\n",
       "      <td>FN</td>\n",
       "      <td>FN</td>\n",
       "    </tr>\n",
       "  </tbody>\n",
       "</table>\n",
       "</div>"
      ],
      "text/plain": [
       "   True_y   proba_y Confusion_label_500 Confusion_label_550  \\\n",
       "0       1  0.842273                  TP                  TP   \n",
       "1       1  0.618172                  TP                  TP   \n",
       "2       1  0.255437                  FN                  FN   \n",
       "3       1  0.686096                  TP                  TP   \n",
       "4       1  0.234394                  FN                  FN   \n",
       "\n",
       "  Confusion_label_600  \n",
       "0                  TP  \n",
       "1                  TP  \n",
       "2                  FN  \n",
       "3                  TP  \n",
       "4                  FN  "
      ]
     },
     "execution_count": 500,
     "metadata": {},
     "output_type": "execute_result"
    }
   ],
   "source": [
    "true_vs_pred_logr_df.head()"
   ]
  },
  {
   "cell_type": "code",
   "execution_count": 501,
   "metadata": {},
   "outputs": [
    {
     "data": {
      "text/plain": [
       "TN    367131\n",
       "FP     57011\n",
       "TP      8313\n",
       "FN      5237\n",
       "Name: Confusion_label_600, dtype: int64"
      ]
     },
     "execution_count": 501,
     "metadata": {},
     "output_type": "execute_result"
    }
   ],
   "source": [
    "true_vs_pred_logr_df.Confusion_label_600.value_counts()"
   ]
  },
  {
   "cell_type": "code",
   "execution_count": 502,
   "metadata": {},
   "outputs": [
    {
     "name": "stdout",
     "output_type": "stream",
     "text": [
      "Accuracy: 0.857781270848\n",
      "Recall: 0.613505535055\n",
      "Precision: 0.127257975629\n",
      "F1 Score: 0.210791895935\n"
     ]
    }
   ],
   "source": [
    "conf_mat_score(dict(true_vs_pred_logr_df.Confusion_label_600.value_counts()))"
   ]
  },
  {
   "cell_type": "code",
   "execution_count": 510,
   "metadata": {
    "collapsed": true
   },
   "outputs": [],
   "source": [
    "globthresh = 0.750\n",
    "true_vs_pred_logr_df['Confusion_label_750'] = true_vs_pred_logr_df.apply(assign_conf_matrix_label,axis=1)"
   ]
  },
  {
   "cell_type": "code",
   "execution_count": 511,
   "metadata": {},
   "outputs": [
    {
     "data": {
      "text/html": [
       "<div>\n",
       "<style>\n",
       "    .dataframe thead tr:only-child th {\n",
       "        text-align: right;\n",
       "    }\n",
       "\n",
       "    .dataframe thead th {\n",
       "        text-align: left;\n",
       "    }\n",
       "\n",
       "    .dataframe tbody tr th {\n",
       "        vertical-align: top;\n",
       "    }\n",
       "</style>\n",
       "<table border=\"1\" class=\"dataframe\">\n",
       "  <thead>\n",
       "    <tr style=\"text-align: right;\">\n",
       "      <th></th>\n",
       "      <th>True_y</th>\n",
       "      <th>proba_y</th>\n",
       "      <th>Confusion_label_500</th>\n",
       "      <th>Confusion_label_550</th>\n",
       "      <th>Confusion_label_600</th>\n",
       "      <th>Confusion_label_750</th>\n",
       "    </tr>\n",
       "  </thead>\n",
       "  <tbody>\n",
       "    <tr>\n",
       "      <th>0</th>\n",
       "      <td>1</td>\n",
       "      <td>0.842273</td>\n",
       "      <td>TP</td>\n",
       "      <td>TP</td>\n",
       "      <td>TP</td>\n",
       "      <td>TP</td>\n",
       "    </tr>\n",
       "    <tr>\n",
       "      <th>1</th>\n",
       "      <td>1</td>\n",
       "      <td>0.618172</td>\n",
       "      <td>TP</td>\n",
       "      <td>TP</td>\n",
       "      <td>TP</td>\n",
       "      <td>FN</td>\n",
       "    </tr>\n",
       "    <tr>\n",
       "      <th>2</th>\n",
       "      <td>1</td>\n",
       "      <td>0.255437</td>\n",
       "      <td>FN</td>\n",
       "      <td>FN</td>\n",
       "      <td>FN</td>\n",
       "      <td>FN</td>\n",
       "    </tr>\n",
       "    <tr>\n",
       "      <th>3</th>\n",
       "      <td>1</td>\n",
       "      <td>0.686096</td>\n",
       "      <td>TP</td>\n",
       "      <td>TP</td>\n",
       "      <td>TP</td>\n",
       "      <td>FN</td>\n",
       "    </tr>\n",
       "    <tr>\n",
       "      <th>4</th>\n",
       "      <td>1</td>\n",
       "      <td>0.234394</td>\n",
       "      <td>FN</td>\n",
       "      <td>FN</td>\n",
       "      <td>FN</td>\n",
       "      <td>FN</td>\n",
       "    </tr>\n",
       "  </tbody>\n",
       "</table>\n",
       "</div>"
      ],
      "text/plain": [
       "   True_y   proba_y Confusion_label_500 Confusion_label_550  \\\n",
       "0       1  0.842273                  TP                  TP   \n",
       "1       1  0.618172                  TP                  TP   \n",
       "2       1  0.255437                  FN                  FN   \n",
       "3       1  0.686096                  TP                  TP   \n",
       "4       1  0.234394                  FN                  FN   \n",
       "\n",
       "  Confusion_label_600 Confusion_label_750  \n",
       "0                  TP                  TP  \n",
       "1                  TP                  FN  \n",
       "2                  FN                  FN  \n",
       "3                  TP                  FN  \n",
       "4                  FN                  FN  "
      ]
     },
     "execution_count": 511,
     "metadata": {},
     "output_type": "execute_result"
    }
   ],
   "source": [
    "true_vs_pred_logr_df.head()"
   ]
  },
  {
   "cell_type": "code",
   "execution_count": 512,
   "metadata": {},
   "outputs": [
    {
     "data": {
      "text/plain": [
       "TN    391104\n",
       "FP     33038\n",
       "FN      6857\n",
       "TP      6693\n",
       "Name: Confusion_label_750, dtype: int64"
      ]
     },
     "execution_count": 512,
     "metadata": {},
     "output_type": "execute_result"
    }
   ],
   "source": [
    "true_vs_pred_logr_df.Confusion_label_750.value_counts()"
   ]
  },
  {
   "cell_type": "code",
   "execution_count": 513,
   "metadata": {
    "scrolled": true
   },
   "outputs": [
    {
     "name": "stdout",
     "output_type": "stream",
     "text": [
      "Accuracy: 0.908851429773\n",
      "Recall: 0.493948339483\n",
      "Precision: 0.168457879238\n",
      "F1 Score: 0.251234023385\n"
     ]
    }
   ],
   "source": [
    "conf_mat_score(dict(true_vs_pred_logr_df.Confusion_label_750.value_counts()))"
   ]
  },
  {
   "cell_type": "code",
   "execution_count": 514,
   "metadata": {
    "collapsed": true
   },
   "outputs": [],
   "source": [
    "globthresh = 0.800\n",
    "true_vs_pred_logr_df['Confusion_label_800'] = true_vs_pred_logr_df.apply(assign_conf_matrix_label,axis=1)"
   ]
  },
  {
   "cell_type": "code",
   "execution_count": 515,
   "metadata": {},
   "outputs": [
    {
     "data": {
      "text/html": [
       "<div>\n",
       "<style>\n",
       "    .dataframe thead tr:only-child th {\n",
       "        text-align: right;\n",
       "    }\n",
       "\n",
       "    .dataframe thead th {\n",
       "        text-align: left;\n",
       "    }\n",
       "\n",
       "    .dataframe tbody tr th {\n",
       "        vertical-align: top;\n",
       "    }\n",
       "</style>\n",
       "<table border=\"1\" class=\"dataframe\">\n",
       "  <thead>\n",
       "    <tr style=\"text-align: right;\">\n",
       "      <th></th>\n",
       "      <th>True_y</th>\n",
       "      <th>proba_y</th>\n",
       "      <th>Confusion_label_500</th>\n",
       "      <th>Confusion_label_550</th>\n",
       "      <th>Confusion_label_600</th>\n",
       "      <th>Confusion_label_750</th>\n",
       "      <th>Confusion_label_800</th>\n",
       "    </tr>\n",
       "  </thead>\n",
       "  <tbody>\n",
       "    <tr>\n",
       "      <th>0</th>\n",
       "      <td>1</td>\n",
       "      <td>0.842273</td>\n",
       "      <td>TP</td>\n",
       "      <td>TP</td>\n",
       "      <td>TP</td>\n",
       "      <td>TP</td>\n",
       "      <td>TP</td>\n",
       "    </tr>\n",
       "    <tr>\n",
       "      <th>1</th>\n",
       "      <td>1</td>\n",
       "      <td>0.618172</td>\n",
       "      <td>TP</td>\n",
       "      <td>TP</td>\n",
       "      <td>TP</td>\n",
       "      <td>FN</td>\n",
       "      <td>FN</td>\n",
       "    </tr>\n",
       "    <tr>\n",
       "      <th>2</th>\n",
       "      <td>1</td>\n",
       "      <td>0.255437</td>\n",
       "      <td>FN</td>\n",
       "      <td>FN</td>\n",
       "      <td>FN</td>\n",
       "      <td>FN</td>\n",
       "      <td>FN</td>\n",
       "    </tr>\n",
       "    <tr>\n",
       "      <th>3</th>\n",
       "      <td>1</td>\n",
       "      <td>0.686096</td>\n",
       "      <td>TP</td>\n",
       "      <td>TP</td>\n",
       "      <td>TP</td>\n",
       "      <td>FN</td>\n",
       "      <td>FN</td>\n",
       "    </tr>\n",
       "    <tr>\n",
       "      <th>4</th>\n",
       "      <td>1</td>\n",
       "      <td>0.234394</td>\n",
       "      <td>FN</td>\n",
       "      <td>FN</td>\n",
       "      <td>FN</td>\n",
       "      <td>FN</td>\n",
       "      <td>FN</td>\n",
       "    </tr>\n",
       "  </tbody>\n",
       "</table>\n",
       "</div>"
      ],
      "text/plain": [
       "   True_y   proba_y Confusion_label_500 Confusion_label_550  \\\n",
       "0       1  0.842273                  TP                  TP   \n",
       "1       1  0.618172                  TP                  TP   \n",
       "2       1  0.255437                  FN                  FN   \n",
       "3       1  0.686096                  TP                  TP   \n",
       "4       1  0.234394                  FN                  FN   \n",
       "\n",
       "  Confusion_label_600 Confusion_label_750 Confusion_label_800  \n",
       "0                  TP                  TP                  TP  \n",
       "1                  TP                  FN                  FN  \n",
       "2                  FN                  FN                  FN  \n",
       "3                  TP                  FN                  FN  \n",
       "4                  FN                  FN                  FN  "
      ]
     },
     "execution_count": 515,
     "metadata": {},
     "output_type": "execute_result"
    }
   ],
   "source": [
    "true_vs_pred_logr_df.head()"
   ]
  },
  {
   "cell_type": "code",
   "execution_count": 516,
   "metadata": {},
   "outputs": [
    {
     "data": {
      "text/plain": [
       "TN    402723\n",
       "FP     21419\n",
       "FN      8167\n",
       "TP      5383\n",
       "Name: Confusion_label_800, dtype: int64"
      ]
     },
     "execution_count": 516,
     "metadata": {},
     "output_type": "execute_result"
    }
   ],
   "source": [
    "true_vs_pred_logr_df.Confusion_label_800.value_counts()"
   ]
  },
  {
   "cell_type": "code",
   "execution_count": 517,
   "metadata": {
    "scrolled": true
   },
   "outputs": [
    {
     "name": "stdout",
     "output_type": "stream",
     "text": [
      "Accuracy: 0.932404521901\n",
      "Recall: 0.397269372694\n",
      "Precision: 0.200843220655\n",
      "F1 Score: 0.266802141158\n"
     ]
    }
   ],
   "source": [
    "conf_mat_score(dict(true_vs_pred_logr_df.Confusion_label_800.value_counts()))"
   ]
  },
  {
   "cell_type": "code",
   "execution_count": 527,
   "metadata": {
    "collapsed": true
   },
   "outputs": [],
   "source": [
    "globthresh = 0.810\n",
    "true_vs_pred_logr_df['Confusion_label_810'] = true_vs_pred_logr_df.apply(assign_conf_matrix_label,axis=1)"
   ]
  },
  {
   "cell_type": "code",
   "execution_count": 528,
   "metadata": {},
   "outputs": [
    {
     "data": {
      "text/html": [
       "<div>\n",
       "<style>\n",
       "    .dataframe thead tr:only-child th {\n",
       "        text-align: right;\n",
       "    }\n",
       "\n",
       "    .dataframe thead th {\n",
       "        text-align: left;\n",
       "    }\n",
       "\n",
       "    .dataframe tbody tr th {\n",
       "        vertical-align: top;\n",
       "    }\n",
       "</style>\n",
       "<table border=\"1\" class=\"dataframe\">\n",
       "  <thead>\n",
       "    <tr style=\"text-align: right;\">\n",
       "      <th></th>\n",
       "      <th>True_y</th>\n",
       "      <th>proba_y</th>\n",
       "      <th>Confusion_label_500</th>\n",
       "      <th>Confusion_label_550</th>\n",
       "      <th>Confusion_label_600</th>\n",
       "      <th>Confusion_label_750</th>\n",
       "      <th>Confusion_label_800</th>\n",
       "      <th>Confusion_label_850</th>\n",
       "      <th>Confusion_label_780</th>\n",
       "      <th>Confusion_label_810</th>\n",
       "    </tr>\n",
       "  </thead>\n",
       "  <tbody>\n",
       "    <tr>\n",
       "      <th>0</th>\n",
       "      <td>1</td>\n",
       "      <td>0.842273</td>\n",
       "      <td>TP</td>\n",
       "      <td>TP</td>\n",
       "      <td>TP</td>\n",
       "      <td>TP</td>\n",
       "      <td>TP</td>\n",
       "      <td>FN</td>\n",
       "      <td>TP</td>\n",
       "      <td>TP</td>\n",
       "    </tr>\n",
       "    <tr>\n",
       "      <th>1</th>\n",
       "      <td>1</td>\n",
       "      <td>0.618172</td>\n",
       "      <td>TP</td>\n",
       "      <td>TP</td>\n",
       "      <td>TP</td>\n",
       "      <td>FN</td>\n",
       "      <td>FN</td>\n",
       "      <td>FN</td>\n",
       "      <td>FN</td>\n",
       "      <td>FN</td>\n",
       "    </tr>\n",
       "    <tr>\n",
       "      <th>2</th>\n",
       "      <td>1</td>\n",
       "      <td>0.255437</td>\n",
       "      <td>FN</td>\n",
       "      <td>FN</td>\n",
       "      <td>FN</td>\n",
       "      <td>FN</td>\n",
       "      <td>FN</td>\n",
       "      <td>FN</td>\n",
       "      <td>FN</td>\n",
       "      <td>FN</td>\n",
       "    </tr>\n",
       "    <tr>\n",
       "      <th>3</th>\n",
       "      <td>1</td>\n",
       "      <td>0.686096</td>\n",
       "      <td>TP</td>\n",
       "      <td>TP</td>\n",
       "      <td>TP</td>\n",
       "      <td>FN</td>\n",
       "      <td>FN</td>\n",
       "      <td>FN</td>\n",
       "      <td>FN</td>\n",
       "      <td>FN</td>\n",
       "    </tr>\n",
       "    <tr>\n",
       "      <th>4</th>\n",
       "      <td>1</td>\n",
       "      <td>0.234394</td>\n",
       "      <td>FN</td>\n",
       "      <td>FN</td>\n",
       "      <td>FN</td>\n",
       "      <td>FN</td>\n",
       "      <td>FN</td>\n",
       "      <td>FN</td>\n",
       "      <td>FN</td>\n",
       "      <td>FN</td>\n",
       "    </tr>\n",
       "  </tbody>\n",
       "</table>\n",
       "</div>"
      ],
      "text/plain": [
       "   True_y   proba_y Confusion_label_500 Confusion_label_550  \\\n",
       "0       1  0.842273                  TP                  TP   \n",
       "1       1  0.618172                  TP                  TP   \n",
       "2       1  0.255437                  FN                  FN   \n",
       "3       1  0.686096                  TP                  TP   \n",
       "4       1  0.234394                  FN                  FN   \n",
       "\n",
       "  Confusion_label_600 Confusion_label_750 Confusion_label_800  \\\n",
       "0                  TP                  TP                  TP   \n",
       "1                  TP                  FN                  FN   \n",
       "2                  FN                  FN                  FN   \n",
       "3                  TP                  FN                  FN   \n",
       "4                  FN                  FN                  FN   \n",
       "\n",
       "  Confusion_label_850 Confusion_label_780 Confusion_label_810  \n",
       "0                  FN                  TP                  TP  \n",
       "1                  FN                  FN                  FN  \n",
       "2                  FN                  FN                  FN  \n",
       "3                  FN                  FN                  FN  \n",
       "4                  FN                  FN                  FN  "
      ]
     },
     "execution_count": 528,
     "metadata": {},
     "output_type": "execute_result"
    }
   ],
   "source": [
    "true_vs_pred_logr_df.head()"
   ]
  },
  {
   "cell_type": "code",
   "execution_count": 529,
   "metadata": {},
   "outputs": [
    {
     "data": {
      "text/plain": [
       "TN    404947\n",
       "FP     19195\n",
       "FN      8464\n",
       "TP      5086\n",
       "Name: Confusion_label_810, dtype: int64"
      ]
     },
     "execution_count": 529,
     "metadata": {},
     "output_type": "execute_result"
    }
   ],
   "source": [
    "true_vs_pred_logr_df.Confusion_label_810.value_counts()"
   ]
  },
  {
   "cell_type": "code",
   "execution_count": 663,
   "metadata": {
    "scrolled": true
   },
   "outputs": [
    {
     "name": "stdout",
     "output_type": "stream",
     "text": [
      "Accuracy: 0.9368071612\n",
      "Recall: 0.375350553506\n",
      "Precision: 0.209464190107\n",
      "F1 Score: 0.268880019032\n"
     ]
    },
    {
     "data": {
      "text/plain": [
       "{'Accuracy': 0.93680716120011331,\n",
       " 'F1 Score': 0.26888001903201081,\n",
       " 'Precision': 0.20946419010749145,\n",
       " 'Recall': 0.37535055350553503}"
      ]
     },
     "execution_count": 663,
     "metadata": {},
     "output_type": "execute_result"
    }
   ],
   "source": [
    "conf_mat_score(dict(true_vs_pred_logr_df.Confusion_label_810.value_counts()))"
   ]
  },
  {
   "cell_type": "code",
   "execution_count": 664,
   "metadata": {},
   "outputs": [
    {
     "name": "stdout",
     "output_type": "stream",
     "text": [
      "Accuracy: 0.9368071612\n",
      "Recall: 0.375350553506\n",
      "Precision: 0.209464190107\n",
      "F1 Score: 0.268880019032\n"
     ]
    }
   ],
   "source": [
    "t_810_dict = conf_mat_score(dict(true_vs_pred_logr_df.Confusion_label_810.value_counts()))"
   ]
  },
  {
   "cell_type": "code",
   "execution_count": 845,
   "metadata": {
    "collapsed": true
   },
   "outputs": [],
   "source": [
    "globthresh = 0.850\n",
    "true_vs_pred_logr_df['Confusion_label_850'] = true_vs_pred_logr_df.apply(assign_conf_matrix_label,axis=1)"
   ]
  },
  {
   "cell_type": "code",
   "execution_count": 846,
   "metadata": {},
   "outputs": [
    {
     "data": {
      "text/html": [
       "<div>\n",
       "<style>\n",
       "    .dataframe thead tr:only-child th {\n",
       "        text-align: right;\n",
       "    }\n",
       "\n",
       "    .dataframe thead th {\n",
       "        text-align: left;\n",
       "    }\n",
       "\n",
       "    .dataframe tbody tr th {\n",
       "        vertical-align: top;\n",
       "    }\n",
       "</style>\n",
       "<table border=\"1\" class=\"dataframe\">\n",
       "  <thead>\n",
       "    <tr style=\"text-align: right;\">\n",
       "      <th></th>\n",
       "      <th>True_y</th>\n",
       "      <th>proba_y</th>\n",
       "      <th>Confusion_label_500</th>\n",
       "      <th>Confusion_label_550</th>\n",
       "      <th>Confusion_label_600</th>\n",
       "      <th>Confusion_label_750</th>\n",
       "      <th>Confusion_label_800</th>\n",
       "      <th>Confusion_label_850</th>\n",
       "      <th>Confusion_label_780</th>\n",
       "      <th>Confusion_label_810</th>\n",
       "      <th>Confusion_label_820</th>\n",
       "      <th>Confusion_label_830</th>\n",
       "    </tr>\n",
       "  </thead>\n",
       "  <tbody>\n",
       "    <tr>\n",
       "      <th>0</th>\n",
       "      <td>1</td>\n",
       "      <td>0.842273</td>\n",
       "      <td>TP</td>\n",
       "      <td>TP</td>\n",
       "      <td>TP</td>\n",
       "      <td>TP</td>\n",
       "      <td>TP</td>\n",
       "      <td>FN</td>\n",
       "      <td>TP</td>\n",
       "      <td>TP</td>\n",
       "      <td>TP</td>\n",
       "      <td>TP</td>\n",
       "    </tr>\n",
       "    <tr>\n",
       "      <th>1</th>\n",
       "      <td>1</td>\n",
       "      <td>0.618172</td>\n",
       "      <td>TP</td>\n",
       "      <td>TP</td>\n",
       "      <td>TP</td>\n",
       "      <td>FN</td>\n",
       "      <td>FN</td>\n",
       "      <td>FN</td>\n",
       "      <td>FN</td>\n",
       "      <td>FN</td>\n",
       "      <td>FN</td>\n",
       "      <td>FN</td>\n",
       "    </tr>\n",
       "    <tr>\n",
       "      <th>2</th>\n",
       "      <td>1</td>\n",
       "      <td>0.255437</td>\n",
       "      <td>FN</td>\n",
       "      <td>FN</td>\n",
       "      <td>FN</td>\n",
       "      <td>FN</td>\n",
       "      <td>FN</td>\n",
       "      <td>FN</td>\n",
       "      <td>FN</td>\n",
       "      <td>FN</td>\n",
       "      <td>FN</td>\n",
       "      <td>FN</td>\n",
       "    </tr>\n",
       "    <tr>\n",
       "      <th>3</th>\n",
       "      <td>1</td>\n",
       "      <td>0.686096</td>\n",
       "      <td>TP</td>\n",
       "      <td>TP</td>\n",
       "      <td>TP</td>\n",
       "      <td>FN</td>\n",
       "      <td>FN</td>\n",
       "      <td>FN</td>\n",
       "      <td>FN</td>\n",
       "      <td>FN</td>\n",
       "      <td>FN</td>\n",
       "      <td>FN</td>\n",
       "    </tr>\n",
       "    <tr>\n",
       "      <th>4</th>\n",
       "      <td>1</td>\n",
       "      <td>0.234394</td>\n",
       "      <td>FN</td>\n",
       "      <td>FN</td>\n",
       "      <td>FN</td>\n",
       "      <td>FN</td>\n",
       "      <td>FN</td>\n",
       "      <td>FN</td>\n",
       "      <td>FN</td>\n",
       "      <td>FN</td>\n",
       "      <td>FN</td>\n",
       "      <td>FN</td>\n",
       "    </tr>\n",
       "  </tbody>\n",
       "</table>\n",
       "</div>"
      ],
      "text/plain": [
       "   True_y   proba_y Confusion_label_500 Confusion_label_550  \\\n",
       "0       1  0.842273                  TP                  TP   \n",
       "1       1  0.618172                  TP                  TP   \n",
       "2       1  0.255437                  FN                  FN   \n",
       "3       1  0.686096                  TP                  TP   \n",
       "4       1  0.234394                  FN                  FN   \n",
       "\n",
       "  Confusion_label_600 Confusion_label_750 Confusion_label_800  \\\n",
       "0                  TP                  TP                  TP   \n",
       "1                  TP                  FN                  FN   \n",
       "2                  FN                  FN                  FN   \n",
       "3                  TP                  FN                  FN   \n",
       "4                  FN                  FN                  FN   \n",
       "\n",
       "  Confusion_label_850 Confusion_label_780 Confusion_label_810  \\\n",
       "0                  FN                  TP                  TP   \n",
       "1                  FN                  FN                  FN   \n",
       "2                  FN                  FN                  FN   \n",
       "3                  FN                  FN                  FN   \n",
       "4                  FN                  FN                  FN   \n",
       "\n",
       "  Confusion_label_820 Confusion_label_830  \n",
       "0                  TP                  TP  \n",
       "1                  FN                  FN  \n",
       "2                  FN                  FN  \n",
       "3                  FN                  FN  \n",
       "4                  FN                  FN  "
      ]
     },
     "execution_count": 846,
     "metadata": {},
     "output_type": "execute_result"
    }
   ],
   "source": [
    "true_vs_pred_logr_df.head()"
   ]
  },
  {
   "cell_type": "code",
   "execution_count": 847,
   "metadata": {},
   "outputs": [
    {
     "data": {
      "text/plain": [
       "TN    413711\n",
       "FP     10431\n",
       "FN     10035\n",
       "TP      3515\n",
       "Name: Confusion_label_850, dtype: int64"
      ]
     },
     "execution_count": 847,
     "metadata": {},
     "output_type": "execute_result"
    }
   ],
   "source": [
    "true_vs_pred_logr_df.Confusion_label_850.value_counts()"
   ]
  },
  {
   "cell_type": "code",
   "execution_count": 848,
   "metadata": {
    "scrolled": true
   },
   "outputs": [
    {
     "name": "stdout",
     "output_type": "stream",
     "text": [
      "Accuracy: 0.953241091909\n",
      "Recall: 0.259409594096\n",
      "Precision: 0.25204359673\n",
      "F1 Score: 0.255673552517\n"
     ]
    },
    {
     "data": {
      "text/plain": [
       "{'Accuracy': 0.95324109190937922,\n",
       " 'F1 Score': 0.25567355251672974,\n",
       " 'Precision': 0.25204359673024523,\n",
       " 'Recall': 0.25940959409594094}"
      ]
     },
     "execution_count": 848,
     "metadata": {},
     "output_type": "execute_result"
    }
   ],
   "source": [
    "conf_mat_score(dict(true_vs_pred_logr_df.Confusion_label_850.value_counts()))"
   ]
  },
  {
   "cell_type": "code",
   "execution_count": 851,
   "metadata": {},
   "outputs": [
    {
     "name": "stdout",
     "output_type": "stream",
     "text": [
      "Accuracy: 0.953241091909\n",
      "Recall: 0.259409594096\n",
      "Precision: 0.25204359673\n",
      "F1 Score: 0.255673552517\n"
     ]
    }
   ],
   "source": [
    "t_850_dict = conf_mat_score(dict(true_vs_pred_logr_df.Confusion_label_850.value_counts()))"
   ]
  },
  {
   "cell_type": "code",
   "execution_count": 994,
   "metadata": {
    "scrolled": false
   },
   "outputs": [
    {
     "data": {
      "image/png": "[encoded data removed]",
      "text/plain": [
       "<matplotlib.figure.Figure at 0x7fb4064ffcf8>"
      ]
     },
     "metadata": {},
     "output_type": "display_data"
    }
   ],
   "source": [
    "text_settings={'color':'white', 'fontweight':'bold','fontsize':15,'ha':'center','va':'center'}\n",
    "fig, ax = plt.subplots(figsize=(4.5,5))\n",
    "ax.grid(axis='y')\n",
    "\n",
    "plot_vals = values_for_bar_graph(variable)\n",
    "plt.title('Logistic Regression\\nPerformance Metrics\\n(81% Confidence)',fontsize=20)\n",
    "plt.yticks(np.linspace(0,1,21))\n",
    "plt.ylim([0,.4])\n",
    "plt.ylabel('Score (Max Possible = 1.0)')\n",
    "plt.xticks([0,1,2],('Recall','Precision','F1-Score'))\n",
    "plt.bar([0,1,2],[t_810_dict['Recall'],t_810_dict['Precision'],t_810_dict['F1 Score']])\n",
    "for ind,score in enumerate([t_810_dict['Recall'],t_810_dict['Precision'],t_810_dict['F1 Score']]):\n",
    "    ax.text(ind,score-.5*score,str(score)[:5],**text_settings)"
   ]
  },
  {
   "cell_type": "code",
   "execution_count": 993,
   "metadata": {
    "scrolled": false
   },
   "outputs": [
    {
     "data": {
      "image/png": "[encoded data removed]",
      "text/plain": [
       "<matplotlib.figure.Figure at 0x7fb4068db518>"
      ]
     },
     "metadata": {},
     "output_type": "display_data"
    }
   ],
   "source": [
    "text_settings={'color':'white', 'fontweight':'bold','fontsize':15,'ha':'center','va':'center'}\n",
    "fig, ax = plt.subplots(figsize=(4.5,5))\n",
    "ax.grid(axis='y')\n",
    "\n",
    "plot_vals = values_for_bar_graph(variable)\n",
    "plt.title('Baseline Model\\nv/s\\nLogistic Regression\\nComparison',fontsize=20)\n",
    "plt.yticks(np.linspace(0,1,21))\n",
    "plt.ylim([0,.4])\n",
    "plt.ylabel('Score (Max Possible = 1.0)')\n",
    "plt.xticks([0,1],('F1-Score\\nBaseline','F1-Score\\nLogistic\\nRegression'))\n",
    "plt.bar([0,1],[t_dummy_dict['F1 Score'],t_810_dict['F1 Score']],color=['lightcoral','forestgreen'])\n",
    "for ind,score in enumerate([t_dummy_dict['F1 Score'],t_810_dict['F1 Score']]):\n",
    "    ax.text(ind,score-.5*score,str(score)[:5],**text_settings)"
   ]
  },
  {
   "cell_type": "code",
   "execution_count": 531,
   "metadata": {},
   "outputs": [
    {
     "data": {
      "text/plain": [
       "LogisticRegression(C=1.0, class_weight='balanced', dual=False,\n",
       "          fit_intercept=True, intercept_scaling=1, max_iter=100,\n",
       "          multi_class='ovr', n_jobs=1, penalty='l2', random_state=None,\n",
       "          solver='liblinear', tol=0.0001, verbose=0, warm_start=False)"
      ]
     },
     "execution_count": 531,
     "metadata": {},
     "output_type": "execute_result"
    }
   ],
   "source": [
    "logr.fit(X,y)"
   ]
  },
  {
   "cell_type": "code",
   "execution_count": 418,
   "metadata": {},
   "outputs": [
    {
     "data": {
      "text/plain": [
       "0.61542435424354247"
      ]
     },
     "execution_count": 418,
     "metadata": {},
     "output_type": "execute_result"
    }
   ],
   "source": [
    "metrics.recall_score(y,logr.predict(X))"
   ]
  },
  {
   "cell_type": "code",
   "execution_count": 420,
   "metadata": {},
   "outputs": [
    {
     "data": {
      "text/plain": [
       "0.046665062479364743"
      ]
     },
     "execution_count": 420,
     "metadata": {},
     "output_type": "execute_result"
    }
   ],
   "source": [
    "metrics.precision_score(y,logr.predict(X))"
   ]
  },
  {
   "cell_type": "code",
   "execution_count": 422,
   "metadata": {},
   "outputs": [
    {
     "data": {
      "text/plain": [
       "0.08675207673381917"
      ]
     },
     "execution_count": 422,
     "metadata": {},
     "output_type": "execute_result"
    }
   ],
   "source": [
    "metrics.f1_score(y,logr.predict(X))"
   ]
  },
  {
   "cell_type": "code",
   "execution_count": 532,
   "metadata": {},
   "outputs": [
    {
     "data": {
      "text/plain": [
       "array([[-0.13069512, -0.11297899, -0.05765478, -0.02458646,  0.15514715,\n",
       "         0.24616999,  0.44815745,  0.3525248 ,  0.24470808,  0.13143327,\n",
       "         0.11279582,  0.17099359,  1.08409916,  0.02724224,  0.0361301 ,\n",
       "        -0.24215117,  0.32091927,  0.3389739 ,  0.08768962, -0.08124892,\n",
       "        -0.04209513, -0.16440896, -0.61464556,  0.2548709 , -0.096982  ,\n",
       "         0.09244131, -0.11568217,  0.24840183,  0.11243015,  0.5077168 ,\n",
       "        -0.20689365, -0.05262857,  0.33452037,  0.31322012,  0.66866384,\n",
       "         0.58926982,  1.21935443,  2.79094362,  2.00374414,  2.78340198,\n",
       "         0.44663979]])"
      ]
     },
     "execution_count": 532,
     "metadata": {},
     "output_type": "execute_result"
    }
   ],
   "source": [
    "logr.coef_"
   ]
  },
  {
   "cell_type": "code",
   "execution_count": 533,
   "metadata": {},
   "outputs": [
    {
     "data": {
      "text/plain": [
       "41"
      ]
     },
     "execution_count": 533,
     "metadata": {},
     "output_type": "execute_result"
    }
   ],
   "source": [
    "len(list(logr.coef_[0]))"
   ]
  },
  {
   "cell_type": "code",
   "execution_count": 534,
   "metadata": {},
   "outputs": [
    {
     "data": {
      "text/plain": [
       "41"
      ]
     },
     "execution_count": 534,
     "metadata": {},
     "output_type": "execute_result"
    }
   ],
   "source": [
    "len(X.columns)"
   ]
  },
  {
   "cell_type": "code",
   "execution_count": 535,
   "metadata": {
    "collapsed": true
   },
   "outputs": [],
   "source": [
    "coef_variable_assoc = []\n",
    "for a,b in zip(logr.coef_[0],X.columns):\n",
    "    coef_variable_assoc.append((a,b))"
   ]
  },
  {
   "cell_type": "code",
   "execution_count": 536,
   "metadata": {
    "collapsed": true
   },
   "outputs": [],
   "source": [
    "abs_coef_variable_assoc = []\n",
    "for a,b in zip(logr.coef_[0],X.columns):\n",
    "    abs_coef_variable_assoc.append((abs(a),b))"
   ]
  },
  {
   "cell_type": "code",
   "execution_count": 769,
   "metadata": {},
   "outputs": [
    {
     "data": {
      "text/plain": [
       "3.3534846525490236"
      ]
     },
     "execution_count": 769,
     "metadata": {},
     "output_type": "execute_result"
    }
   ],
   "source": [
    "np.exp(1.21)"
   ]
  },
  {
   "cell_type": "code",
   "execution_count": 875,
   "metadata": {},
   "outputs": [
    {
     "name": "stdout",
     "output_type": "stream",
     "text": [
      "16.2963901977 Pedestrian Involved\n",
      "16.1739508905 Motorcycle Involved\n",
      "7.41677358771 Bicycle Involved\n",
      "3.38500177313 Alcohol Involved\n",
      "2.95677502962 Rural Unincorporated Area\n",
      "1.95162788169 Dark No Street Lights\n",
      "1.80267165868 Dark Streetlights not functioning\n",
      "1.66149333668 Other Road Condition?\n",
      "1.56542515225 Small Town (Pop:2500 - 10000)\n"
     ]
    }
   ],
   "source": [
    "for val,label in sorted(coef_variable_assoc,reverse=True)[:9]:\n",
    "    print(np.exp(val),pos_coef_dict[label])"
   ]
  },
  {
   "cell_type": "code",
   "execution_count": 538,
   "metadata": {},
   "outputs": [
    {
     "data": {
      "text/plain": [
       "[(2.7909436230240248, 'PEDESTRIAN_ACCIDENT_Y'),\n",
       " (2.7834019783481141, 'MOTORCYCLE_ACCIDENT_Y'),\n",
       " (2.0037441361609907, 'BICYCLE_ACCIDENT_Y'),\n",
       " (1.219354430182926, 'ALCOHOL_INVOLVED_Y'),\n",
       " (1.0840991573605867, 'POPULATION_9'),\n",
       " (0.66866383543748065, 'LIGHTING_D'),\n",
       " (0.589269819304161, 'LIGHTING_E'),\n",
       " (0.50771679837786887, 'ROAD_COND_1_G'),\n",
       " (0.44815744987947281, 'POPULATION_2'),\n",
       " (0.44663979027257811, 'TRUCK_ACCIDENT_Y'),\n",
       " (0.35252479645586215, 'POPULATION_3'),\n",
       " (0.33897390142713024, 'WEATHER_1_F'),\n",
       " (0.33452036784603245, 'LIGHTING_B'),\n",
       " (0.32091926703880835, 'WEATHER_1_E'),\n",
       " (0.31322012102969765, 'LIGHTING_C'),\n",
       " (0.25487090403111706, 'ROAD_COND_1_A'),\n",
       " (0.24840183374652675, 'ROAD_COND_1_E'),\n",
       " (0.24616999248343394, 'DAY_OF_WEEK_7'),\n",
       " (0.24470808358233498, 'POPULATION_4'),\n",
       " (0.17099358702890308, 'POPULATION_7'),\n",
       " (0.15514714542462663, 'DAY_OF_WEEK_6'),\n",
       " (0.13143326557410384, 'POPULATION_5'),\n",
       " (0.11279582482890477, 'POPULATION_6'),\n",
       " (0.11243014665355228, 'ROAD_COND_1_F'),\n",
       " (0.092441312949086293, 'ROAD_COND_1_C'),\n",
       " (0.087689615681507072, 'WEATHER_1_G'),\n",
       " (0.036130099625108887, 'WEATHER_1_C'),\n",
       " (0.027242242376795046, 'WEATHER_1_B'),\n",
       " (-0.0245864550504988, 'DAY_OF_WEEK_5'),\n",
       " (-0.042095128064460384, 'ROAD_SURFACE_B'),\n",
       " (-0.052628572124446243, 'LIGHTING_A'),\n",
       " (-0.057654779981052506, 'DAY_OF_WEEK_4'),\n",
       " (-0.08124891880203261, 'ROAD_SURFACE_A'),\n",
       " (-0.096981995224467182, 'ROAD_COND_1_B'),\n",
       " (-0.11297898982963094, 'DAY_OF_WEEK_3'),\n",
       " (-0.11568217315868751, 'ROAD_COND_1_D'),\n",
       " (-0.13069511537448514, 'DAY_OF_WEEK_2'),\n",
       " (-0.1644089602728972, 'ROAD_SURFACE_C'),\n",
       " (-0.20689365478300045, 'ROAD_COND_2_H'),\n",
       " (-0.24215116811862694, 'WEATHER_1_D'),\n",
       " (-0.61464555975684154, 'ROAD_SURFACE_D')]"
      ]
     },
     "execution_count": 538,
     "metadata": {},
     "output_type": "execute_result"
    }
   ],
   "source": [
    "sorted(coef_variable_assoc,reverse=True)"
   ]
  },
  {
   "cell_type": "code",
   "execution_count": 540,
   "metadata": {},
   "outputs": [
    {
     "data": {
      "text/plain": [
       "[(-0.61464555975684154, 'ROAD_SURFACE_D'),\n",
       " (-0.24215116811862694, 'WEATHER_1_D'),\n",
       " (-0.20689365478300045, 'ROAD_COND_2_H'),\n",
       " (-0.1644089602728972, 'ROAD_SURFACE_C'),\n",
       " (-0.13069511537448514, 'DAY_OF_WEEK_2'),\n",
       " (-0.11568217315868751, 'ROAD_COND_1_D')]"
      ]
     },
     "execution_count": 540,
     "metadata": {},
     "output_type": "execute_result"
    }
   ],
   "source": [
    "#variables associated with lower probabilities\n",
    "sorted(coef_variable_assoc)[:6]"
   ]
  },
  {
   "cell_type": "code",
   "execution_count": 550,
   "metadata": {
    "collapsed": true
   },
   "outputs": [],
   "source": [
    "neg_assoc_coef = [a[1] for a in sorted(coef_variable_assoc)[:6]]\n",
    "neg_assoc_coef_descriptions = ['Slippery Road (Mud/Oil not snowy or icy)','Snowing-Weather','No Unusual Road Condition','Snowy or Icy Road','Tuesday (Means Monday is more popular for accidents)','Construction or Repair Zone']\n",
    "\n",
    "neg_coef_dict = dict()\n",
    "for name,desc in zip(neg_assoc_coef,neg_assoc_coef_descriptions):\n",
    "    neg_coef_dict[name] = desc"
   ]
  },
  {
   "cell_type": "code",
   "execution_count": 922,
   "metadata": {
    "collapsed": true
   },
   "outputs": [],
   "source": [
    "neg_assoc_coef = [a[1] for a in sorted(coef_variable_assoc)[:15]]\n",
    "neg_assoc_coef_names = deepcopy(neg_assoc_coef)\n",
    "neg_assoc_coef_values = [a[0] for a in sorted(coef_variable_assoc)[:15]]\n",
    "\n",
    "neg_assoc_odds = [np.exp(a) for a in neg_assoc_coef_values]\n",
    "neg_assoc_coef_descriptions = ['Slippery Road (Mud/Oil not snowy or icy)','Snowing-Weather','No Unusual Road Condition','Snowy or Icy Road','Tuesday (Means Monday is more popular for accidents)','Construction or Repair Zone']\n",
    "neg_coef_dict = dict()\n",
    "for name,desc in zip(neg_assoc_coef_names,neg_assoc_coef_descriptions):\n",
    "    neg_coef_dict[name] = desc\n",
    "\n",
    "neg_assoc_odds_dict = dict()\n",
    "for name,odds in zip(neg_assoc_coef_names,neg_assoc_odds):\n",
    "    neg_assoc_odds_dict[name] = odds\n"
   ]
  },
  {
   "cell_type": "code",
   "execution_count": 925,
   "metadata": {},
   "outputs": [
    {
     "data": {
      "text/plain": [
       "[(-0.61464555975684154, 'ROAD_SURFACE_D'),\n",
       " (-0.24215116811862694, 'WEATHER_1_D'),\n",
       " (-0.20689365478300045, 'ROAD_COND_2_H'),\n",
       " (-0.1644089602728972, 'ROAD_SURFACE_C'),\n",
       " (-0.13069511537448514, 'DAY_OF_WEEK_2'),\n",
       " (-0.11568217315868751, 'ROAD_COND_1_D'),\n",
       " (-0.11297898982963094, 'DAY_OF_WEEK_3'),\n",
       " (-0.096981995224467182, 'ROAD_COND_1_B'),\n",
       " (-0.08124891880203261, 'ROAD_SURFACE_A'),\n",
       " (-0.057654779981052506, 'DAY_OF_WEEK_4'),\n",
       " (-0.052628572124446243, 'LIGHTING_A'),\n",
       " (-0.042095128064460384, 'ROAD_SURFACE_B'),\n",
       " (-0.0245864550504988, 'DAY_OF_WEEK_5'),\n",
       " (0.027242242376795046, 'WEATHER_1_B'),\n",
       " (0.036130099625108887, 'WEATHER_1_C')]"
      ]
     },
     "execution_count": 925,
     "metadata": {},
     "output_type": "execute_result"
    }
   ],
   "source": [
    "sorted(coef_variable_assoc)[:15]"
   ]
  },
  {
   "cell_type": "code",
   "execution_count": 923,
   "metadata": {},
   "outputs": [
    {
     "data": {
      "text/plain": [
       "{'DAY_OF_WEEK_2': 0.87748526537855653,\n",
       " 'DAY_OF_WEEK_3': 0.89316942556068168,\n",
       " 'DAY_OF_WEEK_4': 0.94397577052662318,\n",
       " 'DAY_OF_WEEK_5': 0.9757133299266183,\n",
       " 'LIGHTING_A': 0.9487323326822733,\n",
       " 'ROAD_COND_1_B': 0.90757234662254949,\n",
       " 'ROAD_COND_1_D': 0.89075828520491351,\n",
       " 'ROAD_COND_2_H': 0.81310611533618049,\n",
       " 'ROAD_SURFACE_A': 0.92196416866314468,\n",
       " 'ROAD_SURFACE_B': 0.95877856948462503,\n",
       " 'ROAD_SURFACE_C': 0.84839499107706196,\n",
       " 'ROAD_SURFACE_D': 0.54083255416351039,\n",
       " 'WEATHER_1_B': 1.0276167049279823,\n",
       " 'WEATHER_1_C': 1.0367907238014726,\n",
       " 'WEATHER_1_D': 0.78493751105597398}"
      ]
     },
     "execution_count": 923,
     "metadata": {},
     "output_type": "execute_result"
    }
   ],
   "source": [
    "neg_assoc_odds_dict"
   ]
  },
  {
   "cell_type": "code",
   "execution_count": 933,
   "metadata": {},
   "outputs": [
    {
     "data": {
      "image/png": "[encoded data removed]",
      "text/plain": [
       "<matplotlib.figure.Figure at 0x7fb40748c438>"
      ]
     },
     "metadata": {},
     "output_type": "display_data"
    }
   ],
   "source": [
    "var_of_int = neg_assoc_coef_names[4]\n",
    "\n",
    "text_settings={'color':'white', 'fontweight':'bold','fontsize':15,'ha':'center','va':'center'}\n",
    "fig, ax = plt.subplots(figsize=(4,5.5))\n",
    "\n",
    "plt.grid(axis='y')\n",
    "plot_vals = values_for_bar_graph_odds_neg(var_of_int)\n",
    "plt.title(neg_coef_dict[var_of_int]+'\\nTotal accidents: '+str(plot_vals[-1]),fontsize=18)\n",
    "plt.ylabel('Increased Odds Ratio')\n",
    "plt.yticks(np.arange(0,29,1))\n",
    "plt.ylim([0,5])\n",
    "plt.xticks([0,1],('Yes','No'))\n",
    "plt.bar([0,1],plot_vals[:-1])\n",
    "for ind,score in enumerate(plot_vals[:-1]):\n",
    "    ax.text(ind,score-.5*score,str(score)[:4]+'X',**text_settings)"
   ]
  },
  {
   "cell_type": "code",
   "execution_count": 581,
   "metadata": {},
   "outputs": [
    {
     "data": {
      "text/plain": [
       "{'DAY_OF_WEEK_2': 'Tuesday (Means Monday is more popular for accidents)',\n",
       " 'ROAD_COND_1_D': 'Construction or Repair Zone',\n",
       " 'ROAD_COND_2_H': 'No Unusual Road Condition',\n",
       " 'ROAD_SURFACE_C': 'Snowy or Icy Road',\n",
       " 'ROAD_SURFACE_D': 'Slippery Road (Mud/Oil not snowy or icy)',\n",
       " 'WEATHER_1_D': 'Snowing-Weather'}"
      ]
     },
     "execution_count": 581,
     "metadata": {},
     "output_type": "execute_result"
    }
   ],
   "source": [
    "neg_coef_dict"
   ]
  },
  {
   "cell_type": "code",
   "execution_count": null,
   "metadata": {
    "collapsed": true
   },
   "outputs": [],
   "source": []
  },
  {
   "cell_type": "code",
   "execution_count": 569,
   "metadata": {},
   "outputs": [
    {
     "data": {
      "text/plain": [
       "['ROAD_SURFACE_D',\n",
       " 'WEATHER_1_D',\n",
       " 'ROAD_COND_2_H',\n",
       " 'ROAD_SURFACE_C',\n",
       " 'DAY_OF_WEEK_2',\n",
       " 'ROAD_COND_1_D']"
      ]
     },
     "execution_count": 569,
     "metadata": {},
     "output_type": "execute_result"
    }
   ],
   "source": [
    "neg_assoc_coef"
   ]
  },
  {
   "cell_type": "code",
   "execution_count": 683,
   "metadata": {
    "collapsed": true
   },
   "outputs": [],
   "source": [
    "def values_for_bar_graph(variable_name):\n",
    "    caco = cali_collision_records_df_dummies\n",
    "    count_v_sev = len(caco[(caco[variable_name]==1) & (caco['Is_SEVERE_or_Fatal']==1)])\n",
    "    count_v_tot =len(caco[caco[variable_name]==1])\n",
    "    count_notv_sev =len(caco[(caco[variable_name]!=1)& (caco['Is_SEVERE_or_Fatal']==1)])\n",
    "    count_notv_tot =len(caco[caco[variable_name]!=1])\n",
    "    output_unstandardized_var = count_v_sev/count_v_tot\n",
    "    output_unstandardized_notvar = count_notv_sev/count_notv_tot\n",
    "    output_standardized_var = output_unstandardized_var / min([output_unstandardized_var,output_unstandardized_notvar])\n",
    "    output_standardized_notvar = output_unstandardized_notvar / min([output_unstandardized_var,output_unstandardized_notvar])\n",
    "    return [output_standardized_var,output_standardized_notvar,count_v_tot]\n"
   ]
  },
  {
   "cell_type": "code",
   "execution_count": 897,
   "metadata": {
    "collapsed": true
   },
   "outputs": [],
   "source": [
    "def values_for_bar_graph_odds(variable_name):\n",
    "    caco = cali_collision_records_df_dummies\n",
    "    count_v_tot =len(caco[caco[variable_name]==1])\n",
    "    output_odds = max(pos_assoc_odds_dict[variable_name],1)\n",
    "    output_comp = max(1,1/pos_assoc_odds_dict[variable_name])\n",
    "    return [output_odds,output_comp,count_v_tot]\n",
    "\n"
   ]
  },
  {
   "cell_type": "code",
   "execution_count": 926,
   "metadata": {
    "collapsed": true
   },
   "outputs": [],
   "source": [
    "def values_for_bar_graph_odds_neg(variable_name):\n",
    "    caco = cali_collision_records_df_dummies\n",
    "    count_v_tot =len(caco[caco[variable_name]==1])\n",
    "    output_odds = max(neg_assoc_odds_dict[variable_name],1)\n",
    "    output_comp = max(1,1/neg_assoc_odds_dict[variable_name])\n",
    "    return [output_odds,output_comp,count_v_tot]\n",
    "\n"
   ]
  },
  {
   "cell_type": "code",
   "execution_count": 630,
   "metadata": {},
   "outputs": [
    {
     "data": {
      "image/png": "[encoded data removed]",
      "text/plain": [
       "<matplotlib.figure.Figure at 0x7fb40ffb58d0>"
      ]
     },
     "metadata": {},
     "output_type": "display_data"
    },
    {
     "data": {
      "image/png": "[encoded data removed]",
      "text/plain": [
       "<matplotlib.figure.Figure at 0x7fb40fd62550>"
      ]
     },
     "metadata": {},
     "output_type": "display_data"
    },
    {
     "data": {
      "image/png": "[encoded data removed]",
      "text/plain": [
       "<matplotlib.figure.Figure at 0x7fb410525dd8>"
      ]
     },
     "metadata": {},
     "output_type": "display_data"
    },
    {
     "data": {
      "image/png": "[encoded data removed]",
      "text/plain": [
       "<matplotlib.figure.Figure at 0x7fb40fb8b588>"
      ]
     },
     "metadata": {},
     "output_type": "display_data"
    },
    {
     "data": {
      "image/png": "[encoded data removed]",
      "text/plain": [
       "<matplotlib.figure.Figure at 0x7fb4102d85f8>"
      ]
     },
     "metadata": {},
     "output_type": "display_data"
    },
    {
     "data": {
      "image/png": "[encoded data removed]",
      "text/plain": [
       "<matplotlib.figure.Figure at 0x7fb41092a3c8>"
      ]
     },
     "metadata": {},
     "output_type": "display_data"
    }
   ],
   "source": [
    "for ind,variable in enumerate(neg_assoc_coef):\n",
    "    plt.figure(figsize=[5,15])\n",
    "    plt.subplot(int(str(len(neg_assoc_coef))+'1'+str(ind+1)))\n",
    "    plot_vals = values_for_bar_graph(variable)\n",
    "    plt.title(neg_coef_dict[variable]+'\\nTotal accidents involving factor: '+str(plot_vals[-1]))\n",
    "    plt.xticks([0,1],('Yes','No'))\n",
    "    plt.bar([0,1],plot_vals[:-1])\n"
   ]
  },
  {
   "cell_type": "code",
   "execution_count": 636,
   "metadata": {},
   "outputs": [
    {
     "data": {
      "text/plain": [
       "[(2.7909436230240248, 'PEDESTRIAN_ACCIDENT_Y'),\n",
       " (2.7834019783481141, 'MOTORCYCLE_ACCIDENT_Y'),\n",
       " (2.0037441361609907, 'BICYCLE_ACCIDENT_Y'),\n",
       " (1.219354430182926, 'ALCOHOL_INVOLVED_Y'),\n",
       " (1.0840991573605867, 'POPULATION_9'),\n",
       " (0.66866383543748065, 'LIGHTING_D'),\n",
       " (0.589269819304161, 'LIGHTING_E'),\n",
       " (0.50771679837786887, 'ROAD_COND_1_G'),\n",
       " (0.44815744987947281, 'POPULATION_2'),\n",
       " (0.44663979027257811, 'TRUCK_ACCIDENT_Y'),\n",
       " (0.35252479645586215, 'POPULATION_3'),\n",
       " (0.33897390142713024, 'WEATHER_1_F')]"
      ]
     },
     "execution_count": 636,
     "metadata": {},
     "output_type": "execute_result"
    }
   ],
   "source": [
    "#variables associated with higher probabilities\n",
    "sorted(coef_variable_assoc,reverse=True)[:12]"
   ]
  },
  {
   "cell_type": "code",
   "execution_count": 879,
   "metadata": {},
   "outputs": [
    {
     "data": {
      "text/plain": [
       "['PEDESTRIAN_ACCIDENT_Y']"
      ]
     },
     "execution_count": 879,
     "metadata": {},
     "output_type": "execute_result"
    }
   ],
   "source": []
  },
  {
   "cell_type": "code",
   "execution_count": 893,
   "metadata": {
    "collapsed": true
   },
   "outputs": [],
   "source": [
    "pos_assoc_coef = [a[1] for a in sorted(coef_variable_assoc,reverse=True)[:15]]\n",
    "pos_assoc_coef_names = deepcopy(pos_assoc_coef)\n",
    "pos_assoc_coef_values = [a[0] for a in sorted(coef_variable_assoc,reverse=True)[:15]]\n",
    "\n",
    "pos_assoc_odds = [np.exp(a) for a in pos_assoc_coef_values]\n",
    "pos_assoc_coef_descriptions = ['Pedestrian Involved','Motorcycle Involved','Bicycle Involved','Alcohol Involved','Rural Unincorporated Area', 'Dark No Street Lights','Dark Streetlights not functioning','Other Road Condition?','Small Town (Pop:2500 - 10000)','Truck Involved','Med Town (Pop:10000 - 25000)']\n",
    "\n",
    "pos_coef_dict = dict()\n",
    "for name,desc in zip(pos_assoc_coef_names,pos_assoc_coef_descriptions):\n",
    "    pos_coef_dict[name] = desc\n",
    "\n",
    "pos_assoc_odds_dict = dict()\n",
    "for name,odds in zip(pos_assoc_coef_names,pos_assoc_odds):\n",
    "    pos_assoc_odds_dict[name] = odds\n"
   ]
  },
  {
   "cell_type": "code",
   "execution_count": 895,
   "metadata": {
    "collapsed": true
   },
   "outputs": [
    {
     "data": {
      "text/plain": [
       "{'ALCOHOL_INVOLVED_Y': 3.3850017731267221,\n",
       " 'BICYCLE_ACCIDENT_Y': 7.4167735877123429,\n",
       " 'LIGHTING_B': 1.3972700488346781,\n",
       " 'LIGHTING_C': 1.3678225844080232,\n",
       " 'LIGHTING_D': 1.9516278816895041,\n",
       " 'LIGHTING_E': 1.8026716586750902,\n",
       " 'MOTORCYCLE_ACCIDENT_Y': 16.173950890545655,\n",
       " 'PEDESTRIAN_ACCIDENT_Y': 16.296390197717226,\n",
       " 'POPULATION_2': 1.5654251522522775,\n",
       " 'POPULATION_3': 1.4226549321114941,\n",
       " 'POPULATION_9': 2.9567750296200357,\n",
       " 'ROAD_COND_1_G': 1.6614933366762019,\n",
       " 'TRUCK_ACCIDENT_Y': 1.563051171633997,\n",
       " 'WEATHER_1_E': 1.3783942945484877,\n",
       " 'WEATHER_1_F': 1.4035067152124527}"
      ]
     },
     "execution_count": 895,
     "metadata": {},
     "output_type": "execute_result"
    }
   ],
   "source": [
    "pos_assoc_odds_dict"
   ]
  },
  {
   "cell_type": "code",
   "execution_count": 919,
   "metadata": {},
   "outputs": [
    {
     "data": {
      "image/png": "[encoded data removed]",
      "text/plain": [
       "<matplotlib.figure.Figure at 0x7fb407712198>"
      ]
     },
     "metadata": {},
     "output_type": "display_data"
    }
   ],
   "source": [
    "var_of_int = pos_assoc_coef_names[4]\n",
    "\n",
    "text_settings={'color':'white', 'fontweight':'bold','fontsize':15,'ha':'center','va':'center'}\n",
    "fig, ax = plt.subplots(figsize=(4,5.5))\n",
    "\n",
    "plt.grid(axis='y')\n",
    "plot_vals = values_for_bar_graph_odds(var_of_int)\n",
    "plt.title(pos_coef_dict[var_of_int]+'\\nTotal accidents: '+str(plot_vals[-1]),fontsize=18)\n",
    "plt.ylabel('Increased Odds Ratio')\n",
    "plt.yticks(np.arange(0,29,1))\n",
    "plt.ylim([0,5])\n",
    "plt.xticks([0,1],('Yes','No'))\n",
    "plt.bar([0,1],plot_vals[:-1])\n",
    "for ind,score in enumerate(plot_vals[:-1]):\n",
    "    ax.text(ind,score-.5*score,str(score)[:4]+'X',**text_settings)"
   ]
  },
  {
   "cell_type": "code",
   "execution_count": 877,
   "metadata": {},
   "outputs": [
    {
     "data": {
      "image/png": "[encoded data removed]",
      "text/plain": [
       "<matplotlib.figure.Figure at 0x7fb40f45a128>"
      ]
     },
     "metadata": {},
     "output_type": "display_data"
    }
   ],
   "source": [
    "text_settings={'color':'white', 'fontweight':'bold','fontsize':15,'ha':'center','va':'center'}\n",
    "\n",
    "for ind,variable in enumerate(pos_assoc_coef):\n",
    "    fig, ax = plt.subplots(figsize=(3,14))\n",
    "    plt.subplot(int(str(len(pos_assoc_coef))+'1'+str(ind+1)))\n",
    "    plot_vals = values_for_bar_graph(variable)\n",
    "    plt.title(pos_coef_dict[variable]+'\\nTotal accidents: '+str(plot_vals[-1]))\n",
    "    plt.ylabel('Increased Odds Ratio')\n",
    "    plt.yticks(np.arange(0,9,1))\n",
    "    plt.ylim([0,4])\n",
    "    plt.xticks([0,1],('Yes','No'))\n",
    "    plt.bar([0,1],plot_vals[:-1])\n",
    "    for ind,score in enumerate(plot_vals[:-1]):\n",
    "        ax.text(ind,score-.5*score,str(score)[:5],**text_settings)"
   ]
  },
  {
   "cell_type": "code",
   "execution_count": 619,
   "metadata": {},
   "outputs": [
    {
     "data": {
      "text/plain": [
       "['PEDESTRIAN_ACCIDENT_Y',\n",
       " 'MOTORCYCLE_ACCIDENT_Y',\n",
       " 'BICYCLE_ACCIDENT_Y',\n",
       " 'ALCOHOL_INVOLVED_Y',\n",
       " 'POPULATION_9',\n",
       " 'LIGHTING_D',\n",
       " 'LIGHTING_E',\n",
       " 'ROAD_COND_1_G',\n",
       " 'POPULATION_2']"
      ]
     },
     "execution_count": 619,
     "metadata": {},
     "output_type": "execute_result"
    }
   ],
   "source": [
    "pos_assoc_coef"
   ]
  },
  {
   "cell_type": "code",
   "execution_count": 623,
   "metadata": {},
   "outputs": [
    {
     "data": {
      "text/plain": [
       "<Container object of 9 artists>"
      ]
     },
     "execution_count": 623,
     "metadata": {},
     "output_type": "execute_result"
    },
    {
     "data": {
      "image/png": "[encoded data removed]",
      "text/plain": [
       "<matplotlib.figure.Figure at 0x7fb41088d1d0>"
      ]
     },
     "metadata": {},
     "output_type": "display_data"
    }
   ],
   "source": [
    "plt.barh(np.arange(len(pos_assoc_coef)),[a[0] for a in reversed(sorted(coef_variable_assoc,reverse=True)[:9])])"
   ]
  },
  {
   "cell_type": "code",
   "execution_count": 624,
   "metadata": {},
   "outputs": [
    {
     "name": "stdout",
     "output_type": "stream",
     "text": [
      "Pedestrian Involved\n",
      "Motorcycle Involved\n",
      "Bicycle Involved\n",
      "Alcohol Involved\n",
      "Rural Unincorporated Area\n",
      "Dark No Street Lights\n",
      "Dark Streetlights not functioning\n",
      "Other Road Condition?\n",
      "Small Town (Pop:2500 - 10000)\n"
     ]
    }
   ],
   "source": [
    "for i in pos_assoc_coef:\n",
    "    print(pos_coef_dict[i])"
   ]
  },
  {
   "cell_type": "code",
   "execution_count": 598,
   "metadata": {},
   "outputs": [
    {
     "data": {
      "text/plain": [
       "{'ALCOHOL_INVOLVED_Y': 'Alcohol Involved',\n",
       " 'BICYCLE_ACCIDENT_Y': 'Bicycle Involved',\n",
       " 'LIGHTING_D': 'Dark No Street Lights',\n",
       " 'LIGHTING_E': 'Dark Streetlights not functioning',\n",
       " 'MOTORCYCLE_ACCIDENT_Y': 'Motorcycle Involved',\n",
       " 'PEDESTRIAN_ACCIDENT_Y': 'Pedestrian Involved',\n",
       " 'POPULATION_2': 'Small Town (Pop:2500 - 10000)',\n",
       " 'POPULATION_3': 'Med Town (Pop:10000 - 25000)',\n",
       " 'POPULATION_9': 'Rural Unincorporated Area',\n",
       " 'ROAD_COND_1_G': 'Other Road Condition?',\n",
       " 'TRUCK_ACCIDENT_Y': 'Truck Involved'}"
      ]
     },
     "execution_count": 598,
     "metadata": {},
     "output_type": "execute_result"
    }
   ],
   "source": [
    "pos_coef_dict"
   ]
  },
  {
   "cell_type": "code",
   "execution_count": 546,
   "metadata": {},
   "outputs": [
    {
     "data": {
      "text/plain": [
       "['Pedestrian Involved',\n",
       " 'Motorcycle Involved',\n",
       " 'Bicycle Involved',\n",
       " 'Alcohol Involved',\n",
       " 'Rural Unincorporated Area',\n",
       " 'Dark No Street Lights',\n",
       " 'Dark Streetlights not functioning',\n",
       " 'Other Road Condition?',\n",
       " 'Small Town (Pop:2500 - 10000)',\n",
       " 'Truck Involved',\n",
       " 'Med Town (Pop:10000 - 25000)']"
      ]
     },
     "execution_count": 546,
     "metadata": {},
     "output_type": "execute_result"
    }
   ],
   "source": [
    "['Pedestrian Involved','Motorcycle Involved','Bicycle Involved','Alcohol Involved','Rural Unincorporated Area', 'Dark No Street Lights','Dark Streetlights not functioning','Other Road Condition?','Small Town (Pop:2500 - 10000)','Truck Involved','Med Town (Pop:10000 - 25000)']"
   ]
  },
  {
   "cell_type": "code",
   "execution_count": 537,
   "metadata": {},
   "outputs": [
    {
     "data": {
      "text/plain": [
       "[(2.7909436230240248, 'PEDESTRIAN_ACCIDENT_Y'),\n",
       " (2.7834019783481141, 'MOTORCYCLE_ACCIDENT_Y'),\n",
       " (2.0037441361609907, 'BICYCLE_ACCIDENT_Y'),\n",
       " (1.219354430182926, 'ALCOHOL_INVOLVED_Y'),\n",
       " (1.0840991573605867, 'POPULATION_9'),\n",
       " (0.66866383543748065, 'LIGHTING_D'),\n",
       " (0.61464555975684154, 'ROAD_SURFACE_D'),\n",
       " (0.589269819304161, 'LIGHTING_E'),\n",
       " (0.50771679837786887, 'ROAD_COND_1_G'),\n",
       " (0.44815744987947281, 'POPULATION_2'),\n",
       " (0.44663979027257811, 'TRUCK_ACCIDENT_Y'),\n",
       " (0.35252479645586215, 'POPULATION_3'),\n",
       " (0.33897390142713024, 'WEATHER_1_F'),\n",
       " (0.33452036784603245, 'LIGHTING_B'),\n",
       " (0.32091926703880835, 'WEATHER_1_E'),\n",
       " (0.31322012102969765, 'LIGHTING_C'),\n",
       " (0.25487090403111706, 'ROAD_COND_1_A'),\n",
       " (0.24840183374652675, 'ROAD_COND_1_E'),\n",
       " (0.24616999248343394, 'DAY_OF_WEEK_7'),\n",
       " (0.24470808358233498, 'POPULATION_4'),\n",
       " (0.24215116811862694, 'WEATHER_1_D'),\n",
       " (0.20689365478300045, 'ROAD_COND_2_H'),\n",
       " (0.17099358702890308, 'POPULATION_7'),\n",
       " (0.1644089602728972, 'ROAD_SURFACE_C'),\n",
       " (0.15514714542462663, 'DAY_OF_WEEK_6'),\n",
       " (0.13143326557410384, 'POPULATION_5'),\n",
       " (0.13069511537448514, 'DAY_OF_WEEK_2'),\n",
       " (0.11568217315868751, 'ROAD_COND_1_D'),\n",
       " (0.11297898982963094, 'DAY_OF_WEEK_3'),\n",
       " (0.11279582482890477, 'POPULATION_6'),\n",
       " (0.11243014665355228, 'ROAD_COND_1_F'),\n",
       " (0.096981995224467182, 'ROAD_COND_1_B'),\n",
       " (0.092441312949086293, 'ROAD_COND_1_C'),\n",
       " (0.087689615681507072, 'WEATHER_1_G'),\n",
       " (0.08124891880203261, 'ROAD_SURFACE_A'),\n",
       " (0.057654779981052506, 'DAY_OF_WEEK_4'),\n",
       " (0.052628572124446243, 'LIGHTING_A'),\n",
       " (0.042095128064460384, 'ROAD_SURFACE_B'),\n",
       " (0.036130099625108887, 'WEATHER_1_C'),\n",
       " (0.027242242376795046, 'WEATHER_1_B'),\n",
       " (0.0245864550504988, 'DAY_OF_WEEK_5')]"
      ]
     },
     "execution_count": 537,
     "metadata": {},
     "output_type": "execute_result"
    }
   ],
   "source": [
    "plt.bar()"
   ]
  },
  {
   "cell_type": "code",
   "execution_count": 445,
   "metadata": {},
   "outputs": [
    {
     "data": {
      "text/plain": [
       "['POPULATION_9',\n",
       " 'LIGHTING_E',\n",
       " 'POPULATION_2',\n",
       " 'ROAD_COND_1_G',\n",
       " 'POPULATION_7',\n",
       " 'POPULATION_3',\n",
       " 'LIGHTING_D',\n",
       " 'POPULATION_4',\n",
       " 'ROAD_SURFACE_C',\n",
       " 'ROAD_COND_2_H',\n",
       " 'POPULATION_5',\n",
       " 'ROAD_COND_1_A',\n",
       " 'LIGHTING_C',\n",
       " 'POPULATION_6',\n",
       " 'WEATHER_1_D',\n",
       " 'DAY_OF_WEEK_7',\n",
       " 'WEATHER_1_F',\n",
       " 'ROAD_SURFACE_D',\n",
       " 'ROAD_COND_1_B',\n",
       " 'DAY_OF_WEEK_6',\n",
       " 'LIGHTING_B',\n",
       " 'ROAD_COND_1_D',\n",
       " 'ROAD_COND_1_F',\n",
       " 'ROAD_COND_1_E',\n",
       " 'WEATHER_1_C',\n",
       " 'LIGHTING_A',\n",
       " 'WEATHER_1_E',\n",
       " 'ROAD_SURFACE_B',\n",
       " 'WEATHER_1_G',\n",
       " 'DAY_OF_WEEK_2',\n",
       " 'WEATHER_1_B',\n",
       " 'DAY_OF_WEEK_3',\n",
       " 'DAY_OF_WEEK_5',\n",
       " 'ROAD_SURFACE_A',\n",
       " 'ROAD_COND_1_C',\n",
       " 'DAY_OF_WEEK_4']"
      ]
     },
     "execution_count": 445,
     "metadata": {},
     "output_type": "execute_result"
    }
   ],
   "source": [
    "[a[1] for a in sorted(abs_coef_variable_assoc,reverse=True)]"
   ]
  },
  {
   "cell_type": "code",
   "execution_count": 445,
   "metadata": {},
   "outputs": [
    {
     "data": {
      "text/plain": [
       "['POPULATION_9',\n",
       " 'LIGHTING_E',\n",
       " 'POPULATION_2',\n",
       " 'ROAD_COND_1_G',\n",
       " 'POPULATION_7',\n",
       " 'POPULATION_3',\n",
       " 'LIGHTING_D',\n",
       " 'POPULATION_4',\n",
       " 'ROAD_SURFACE_C',\n",
       " 'ROAD_COND_2_H',\n",
       " 'POPULATION_5',\n",
       " 'ROAD_COND_1_A',\n",
       " 'LIGHTING_C',\n",
       " 'POPULATION_6',\n",
       " 'WEATHER_1_D',\n",
       " 'DAY_OF_WEEK_7',\n",
       " 'WEATHER_1_F',\n",
       " 'ROAD_SURFACE_D',\n",
       " 'ROAD_COND_1_B',\n",
       " 'DAY_OF_WEEK_6',\n",
       " 'LIGHTING_B',\n",
       " 'ROAD_COND_1_D',\n",
       " 'ROAD_COND_1_F',\n",
       " 'ROAD_COND_1_E',\n",
       " 'WEATHER_1_C',\n",
       " 'LIGHTING_A',\n",
       " 'WEATHER_1_E',\n",
       " 'ROAD_SURFACE_B',\n",
       " 'WEATHER_1_G',\n",
       " 'DAY_OF_WEEK_2',\n",
       " 'WEATHER_1_B',\n",
       " 'DAY_OF_WEEK_3',\n",
       " 'DAY_OF_WEEK_5',\n",
       " 'ROAD_SURFACE_A',\n",
       " 'ROAD_COND_1_C',\n",
       " 'DAY_OF_WEEK_4']"
      ]
     },
     "execution_count": 445,
     "metadata": {},
     "output_type": "execute_result"
    }
   ],
   "source": [
    "['Rural','E - Dark - Street Lights Not Functioning',]"
   ]
  },
  {
   "cell_type": "code",
   "execution_count": 440,
   "metadata": {},
   "outputs": [
    {
     "data": {
      "text/plain": [
       "[(-0.53667762235075533, 'ROAD_SURFACE_C'),\n",
       " (-0.5291842030165218, 'ROAD_COND_2_H'),\n",
       " (-0.35037433364572829, 'WEATHER_1_D'),\n",
       " (-0.33331304719501731, 'ROAD_SURFACE_D'),\n",
       " (-0.22441192155335188, 'ROAD_COND_1_D'),\n",
       " (-0.18647345771693899, 'WEATHER_1_C'),\n",
       " (-0.17779723270497327, 'LIGHTING_A'),\n",
       " (-0.14098842662986683, 'ROAD_SURFACE_B'),\n",
       " (-0.096213476681997881, 'DAY_OF_WEEK_2'),\n",
       " (-0.082688985720499805, 'WEATHER_1_B'),\n",
       " (-0.056111111798873847, 'DAY_OF_WEEK_3'),\n",
       " (-0.036223774282039961, 'ROAD_SURFACE_A'),\n",
       " (-0.016972662870537, 'ROAD_COND_1_C'),\n",
       " (0.0075547443043124151, 'DAY_OF_WEEK_4'),\n",
       " (0.041282936332378437, 'DAY_OF_WEEK_5'),\n",
       " (0.13005282518542702, 'WEATHER_1_G'),\n",
       " (0.14200420716782192, 'WEATHER_1_E'),\n",
       " (0.20818317773146747, 'ROAD_COND_1_E'),\n",
       " (0.21136720054227043, 'ROAD_COND_1_F'),\n",
       " (0.26509268192216534, 'LIGHTING_B'),\n",
       " (0.27226645276371075, 'DAY_OF_WEEK_6'),\n",
       " (0.28855704559934081, 'ROAD_COND_1_B'),\n",
       " (0.33756457172741111, 'WEATHER_1_F'),\n",
       " (0.34796226000276265, 'DAY_OF_WEEK_7'),\n",
       " (0.41085372969148221, 'POPULATION_6'),\n",
       " (0.4115731446282615, 'LIGHTING_C'),\n",
       " (0.47192651057575358, 'ROAD_COND_1_A'),\n",
       " (0.48502573451663694, 'POPULATION_5'),\n",
       " (0.56509026199806656, 'POPULATION_4'),\n",
       " (0.60024466841405466, 'LIGHTING_D'),\n",
       " (0.61673498339589239, 'POPULATION_3'),\n",
       " (0.65544591612608516, 'POPULATION_7'),\n",
       " (0.67788528665473358, 'ROAD_COND_1_G'),\n",
       " (0.69486483298827795, 'POPULATION_2'),\n",
       " (0.96098900711567214, 'LIGHTING_E'),\n",
       " (1.2185852806883319, 'POPULATION_9')]"
      ]
     },
     "execution_count": 440,
     "metadata": {},
     "output_type": "execute_result"
    }
   ],
   "source": [
    "sorted(coef_variable_assoc)"
   ]
  },
  {
   "cell_type": "code",
   "execution_count": 431,
   "metadata": {},
   "outputs": [
    {
     "data": {
      "text/plain": [
       "array([[-0.09621348, -0.05611111,  0.00755474,  0.04128294,  0.27226645,\n",
       "         0.34796226,  0.69486483,  0.61673498,  0.56509026,  0.48502573,\n",
       "         0.41085373,  0.65544592,  1.21858528, -0.08268899, -0.18647346,\n",
       "        -0.35037433,  0.14200421,  0.33756457,  0.13005283, -0.03622377,\n",
       "        -0.14098843, -0.53667762, -0.33331305,  0.47192651,  0.28855705,\n",
       "        -0.01697266, -0.22441192,  0.20818318,  0.2113672 ,  0.67788529,\n",
       "        -0.5291842 , -0.17779723,  0.26509268,  0.41157314,  0.60024467,\n",
       "         0.96098901]])"
      ]
     },
     "execution_count": 431,
     "metadata": {},
     "output_type": "execute_result"
    }
   ],
   "source": [
    "logr.coef_"
   ]
  },
  {
   "cell_type": "code",
   "execution_count": 128,
   "metadata": {},
   "outputs": [
    {
     "name": "stdout",
     "output_type": "stream",
     "text": [
      "<class 'pandas.core.frame.DataFrame'>\n",
      "RangeIndex: 437692 entries, 0 to 437691\n",
      "Data columns (total 57 columns):\n",
      "CASE_ID           437692 non-null int64\n",
      "COLLISION_DATE    437692 non-null int64\n",
      "COLLISION_TIME    437692 non-null int64\n",
      "NUMBER_KILLED     437692 non-null int64\n",
      "LATITUDE          203410 non-null float64\n",
      "LONGITUDE         203410 non-null float64\n",
      "DAY_OF_WEEK_2     437692 non-null uint8\n",
      "DAY_OF_WEEK_3     437692 non-null uint8\n",
      "DAY_OF_WEEK_4     437692 non-null uint8\n",
      "DAY_OF_WEEK_5     437692 non-null uint8\n",
      "DAY_OF_WEEK_6     437692 non-null uint8\n",
      "DAY_OF_WEEK_7     437692 non-null uint8\n",
      "POPULATION_2      437692 non-null uint8\n",
      "POPULATION_3      437692 non-null uint8\n",
      "POPULATION_4      437692 non-null uint8\n",
      "POPULATION_5      437692 non-null uint8\n",
      "POPULATION_6      437692 non-null uint8\n",
      "POPULATION_7      437692 non-null uint8\n",
      "POPULATION_9      437692 non-null uint8\n",
      "WEATHER_1_A       437692 non-null uint8\n",
      "WEATHER_1_B       437692 non-null uint8\n",
      "WEATHER_1_C       437692 non-null uint8\n",
      "WEATHER_1_D       437692 non-null uint8\n",
      "WEATHER_1_E       437692 non-null uint8\n",
      "WEATHER_1_F       437692 non-null uint8\n",
      "WEATHER_1_G       437692 non-null uint8\n",
      "WEATHER_2_B       437692 non-null uint8\n",
      "WEATHER_2_C       437692 non-null uint8\n",
      "WEATHER_2_D       437692 non-null uint8\n",
      "WEATHER_2_E       437692 non-null uint8\n",
      "WEATHER_2_F       437692 non-null uint8\n",
      "WEATHER_2_G       437692 non-null uint8\n",
      "ROAD_SURFACE_A    437692 non-null uint8\n",
      "ROAD_SURFACE_B    437692 non-null uint8\n",
      "ROAD_SURFACE_C    437692 non-null uint8\n",
      "ROAD_SURFACE_D    437692 non-null uint8\n",
      "ROAD_COND_1_A     437692 non-null uint8\n",
      "ROAD_COND_1_B     437692 non-null uint8\n",
      "ROAD_COND_1_C     437692 non-null uint8\n",
      "ROAD_COND_1_D     437692 non-null uint8\n",
      "ROAD_COND_1_E     437692 non-null uint8\n",
      "ROAD_COND_1_F     437692 non-null uint8\n",
      "ROAD_COND_1_G     437692 non-null uint8\n",
      "ROAD_COND_1_H     437692 non-null uint8\n",
      "ROAD_COND_2_B     437692 non-null uint8\n",
      "ROAD_COND_2_C     437692 non-null uint8\n",
      "ROAD_COND_2_D     437692 non-null uint8\n",
      "ROAD_COND_2_E     437692 non-null uint8\n",
      "ROAD_COND_2_F     437692 non-null uint8\n",
      "ROAD_COND_2_G     437692 non-null uint8\n",
      "ROAD_COND_2_H     437692 non-null uint8\n",
      "LIGHTING_A        437692 non-null uint8\n",
      "LIGHTING_B        437692 non-null uint8\n",
      "LIGHTING_C        437692 non-null uint8\n",
      "LIGHTING_D        437692 non-null uint8\n",
      "LIGHTING_E        437692 non-null uint8\n",
      "Is_Fatal          437692 non-null int64\n",
      "dtypes: float64(2), int64(5), uint8(50)\n",
      "memory usage: 44.2 MB\n"
     ]
    }
   ],
   "source": [
    "cali_collision_records_df_dummies.info()"
   ]
  },
  {
   "cell_type": "code",
   "execution_count": null,
   "metadata": {
    "collapsed": true
   },
   "outputs": [],
   "source": []
  },
  {
   "cell_type": "code",
   "execution_count": null,
   "metadata": {
    "collapsed": true
   },
   "outputs": [],
   "source": []
  },
  {
   "cell_type": "code",
   "execution_count": null,
   "metadata": {
    "collapsed": true
   },
   "outputs": [],
   "source": []
  },
  {
   "cell_type": "markdown",
   "metadata": {},
   "source": [
    "\n",
    "\n",
    "\n",
    "\n",
    "\n",
    "\n",
    "# Scratch"
   ]
  },
  {
   "cell_type": "code",
   "execution_count": 22,
   "metadata": {
    "collapsed": true
   },
   "outputs": [],
   "source": [
    "import string"
   ]
  },
  {
   "cell_type": "code",
   "execution_count": 23,
   "metadata": {
    "collapsed": true
   },
   "outputs": [],
   "source": [
    "alpha_converter = dict()\n",
    "for index, letter in enumerate(string.ascii_uppercase):\n",
    "    alpha_converter[letter] = index + 1"
   ]
  },
  {
   "cell_type": "code",
   "execution_count": 54,
   "metadata": {
    "collapsed": true
   },
   "outputs": [],
   "source": [
    "cali_collision_records_df_dummies = cali_collision_records_df_dummies.replace('-',np.NaN)"
   ]
  },
  {
   "cell_type": "code",
   "execution_count": 55,
   "metadata": {
    "collapsed": true
   },
   "outputs": [],
   "source": [
    "cali_collision_records_df_dummies = cali_collision_records_df_dummies.replace('- ',np.NaN)"
   ]
  },
  {
   "cell_type": "code",
   "execution_count": 68,
   "metadata": {
    "collapsed": true
   },
   "outputs": [],
   "source": [
    "cali_collision_records_df_dummies = cali_collision_records_df_dummies.replace(np.NaN,0)"
   ]
  },
  {
   "cell_type": "code",
   "execution_count": 56,
   "metadata": {
    "collapsed": true
   },
   "outputs": [],
   "source": [
    "cali_collision_records_df_dummies = cali_collision_records_df_dummies.replace('Y','1')"
   ]
  },
  {
   "cell_type": "code",
   "execution_count": 57,
   "metadata": {
    "collapsed": true
   },
   "outputs": [],
   "source": [
    "for alpha,num_code in alpha_converter.items():\n",
    "    cali_collision_records_df_dummies = cali_collision_records_df_dummies.replace(alpha,num_code)"
   ]
  },
  {
   "cell_type": "code",
   "execution_count": 259,
   "metadata": {},
   "outputs": [
    {
     "data": {
      "text/html": [
       "<div>\n",
       "<style>\n",
       "    .dataframe thead tr:only-child th {\n",
       "        text-align: right;\n",
       "    }\n",
       "\n",
       "    .dataframe thead th {\n",
       "        text-align: left;\n",
       "    }\n",
       "\n",
       "    .dataframe tbody tr th {\n",
       "        vertical-align: top;\n",
       "    }\n",
       "</style>\n",
       "<table border=\"1\" class=\"dataframe\">\n",
       "  <thead>\n",
       "    <tr style=\"text-align: right;\">\n",
       "      <th></th>\n",
       "      <th>CASE_ID</th>\n",
       "      <th>COLLISION_DATE</th>\n",
       "      <th>COLLISION_TIME</th>\n",
       "      <th>NUMBER_KILLED</th>\n",
       "      <th>LATITUDE</th>\n",
       "      <th>LONGITUDE</th>\n",
       "      <th>DAY_OF_WEEK_2</th>\n",
       "      <th>DAY_OF_WEEK_3</th>\n",
       "      <th>DAY_OF_WEEK_4</th>\n",
       "      <th>DAY_OF_WEEK_5</th>\n",
       "      <th>...</th>\n",
       "      <th>ROAD_COND_2_E</th>\n",
       "      <th>ROAD_COND_2_F</th>\n",
       "      <th>ROAD_COND_2_G</th>\n",
       "      <th>ROAD_COND_2_H</th>\n",
       "      <th>LIGHTING_A</th>\n",
       "      <th>LIGHTING_B</th>\n",
       "      <th>LIGHTING_C</th>\n",
       "      <th>LIGHTING_D</th>\n",
       "      <th>LIGHTING_E</th>\n",
       "      <th>Is_Fatal</th>\n",
       "    </tr>\n",
       "  </thead>\n",
       "  <tbody>\n",
       "    <tr>\n",
       "      <th>0</th>\n",
       "      <td>6292116</td>\n",
       "      <td>20150102</td>\n",
       "      <td>1844</td>\n",
       "      <td>1</td>\n",
       "      <td>NaN</td>\n",
       "      <td>NaN</td>\n",
       "      <td>0</td>\n",
       "      <td>0</td>\n",
       "      <td>0</td>\n",
       "      <td>1</td>\n",
       "      <td>...</td>\n",
       "      <td>0</td>\n",
       "      <td>0</td>\n",
       "      <td>0</td>\n",
       "      <td>0</td>\n",
       "      <td>0</td>\n",
       "      <td>0</td>\n",
       "      <td>1</td>\n",
       "      <td>0</td>\n",
       "      <td>0</td>\n",
       "      <td>1</td>\n",
       "    </tr>\n",
       "    <tr>\n",
       "      <th>1</th>\n",
       "      <td>6292117</td>\n",
       "      <td>20150104</td>\n",
       "      <td>1817</td>\n",
       "      <td>2</td>\n",
       "      <td>37.61089</td>\n",
       "      <td>121.82204</td>\n",
       "      <td>0</td>\n",
       "      <td>0</td>\n",
       "      <td>0</td>\n",
       "      <td>0</td>\n",
       "      <td>...</td>\n",
       "      <td>0</td>\n",
       "      <td>0</td>\n",
       "      <td>0</td>\n",
       "      <td>0</td>\n",
       "      <td>0</td>\n",
       "      <td>0</td>\n",
       "      <td>0</td>\n",
       "      <td>1</td>\n",
       "      <td>0</td>\n",
       "      <td>1</td>\n",
       "    </tr>\n",
       "    <tr>\n",
       "      <th>2</th>\n",
       "      <td>6292118</td>\n",
       "      <td>20150105</td>\n",
       "      <td>1650</td>\n",
       "      <td>1</td>\n",
       "      <td>37.50050</td>\n",
       "      <td>121.92909</td>\n",
       "      <td>0</td>\n",
       "      <td>0</td>\n",
       "      <td>0</td>\n",
       "      <td>0</td>\n",
       "      <td>...</td>\n",
       "      <td>0</td>\n",
       "      <td>0</td>\n",
       "      <td>0</td>\n",
       "      <td>0</td>\n",
       "      <td>0</td>\n",
       "      <td>1</td>\n",
       "      <td>0</td>\n",
       "      <td>0</td>\n",
       "      <td>0</td>\n",
       "      <td>1</td>\n",
       "    </tr>\n",
       "    <tr>\n",
       "      <th>3</th>\n",
       "      <td>6292119</td>\n",
       "      <td>20150113</td>\n",
       "      <td>1843</td>\n",
       "      <td>1</td>\n",
       "      <td>NaN</td>\n",
       "      <td>NaN</td>\n",
       "      <td>1</td>\n",
       "      <td>0</td>\n",
       "      <td>0</td>\n",
       "      <td>0</td>\n",
       "      <td>...</td>\n",
       "      <td>0</td>\n",
       "      <td>0</td>\n",
       "      <td>0</td>\n",
       "      <td>0</td>\n",
       "      <td>0</td>\n",
       "      <td>0</td>\n",
       "      <td>1</td>\n",
       "      <td>0</td>\n",
       "      <td>0</td>\n",
       "      <td>1</td>\n",
       "    </tr>\n",
       "    <tr>\n",
       "      <th>4</th>\n",
       "      <td>6292120</td>\n",
       "      <td>20150115</td>\n",
       "      <td>1350</td>\n",
       "      <td>1</td>\n",
       "      <td>34.07225</td>\n",
       "      <td>117.78874</td>\n",
       "      <td>0</td>\n",
       "      <td>0</td>\n",
       "      <td>1</td>\n",
       "      <td>0</td>\n",
       "      <td>...</td>\n",
       "      <td>0</td>\n",
       "      <td>0</td>\n",
       "      <td>0</td>\n",
       "      <td>0</td>\n",
       "      <td>1</td>\n",
       "      <td>0</td>\n",
       "      <td>0</td>\n",
       "      <td>0</td>\n",
       "      <td>0</td>\n",
       "      <td>1</td>\n",
       "    </tr>\n",
       "  </tbody>\n",
       "</table>\n",
       "<p>5 rows × 57 columns</p>\n",
       "</div>"
      ],
      "text/plain": [
       "   CASE_ID  COLLISION_DATE  COLLISION_TIME  NUMBER_KILLED  LATITUDE  \\\n",
       "0  6292116        20150102            1844              1       NaN   \n",
       "1  6292117        20150104            1817              2  37.61089   \n",
       "2  6292118        20150105            1650              1  37.50050   \n",
       "3  6292119        20150113            1843              1       NaN   \n",
       "4  6292120        20150115            1350              1  34.07225   \n",
       "\n",
       "   LONGITUDE  DAY_OF_WEEK_2  DAY_OF_WEEK_3  DAY_OF_WEEK_4  DAY_OF_WEEK_5  \\\n",
       "0        NaN              0              0              0              1   \n",
       "1  121.82204              0              0              0              0   \n",
       "2  121.92909              0              0              0              0   \n",
       "3        NaN              1              0              0              0   \n",
       "4  117.78874              0              0              1              0   \n",
       "\n",
       "     ...     ROAD_COND_2_E  ROAD_COND_2_F  ROAD_COND_2_G  ROAD_COND_2_H  \\\n",
       "0    ...                 0              0              0              0   \n",
       "1    ...                 0              0              0              0   \n",
       "2    ...                 0              0              0              0   \n",
       "3    ...                 0              0              0              0   \n",
       "4    ...                 0              0              0              0   \n",
       "\n",
       "   LIGHTING_A  LIGHTING_B  LIGHTING_C  LIGHTING_D  LIGHTING_E  Is_Fatal  \n",
       "0           0           0           1           0           0         1  \n",
       "1           0           0           0           1           0         1  \n",
       "2           0           1           0           0           0         1  \n",
       "3           0           0           1           0           0         1  \n",
       "4           1           0           0           0           0         1  \n",
       "\n",
       "[5 rows x 57 columns]"
      ]
     },
     "execution_count": 259,
     "metadata": {},
     "output_type": "execute_result"
    }
   ],
   "source": [
    "cali_collision_records_df_dummies.head()"
   ]
  },
  {
   "cell_type": "code",
   "execution_count": 70,
   "metadata": {
    "collapsed": true
   },
   "outputs": [],
   "source": [
    "oh = OneHotEncoder()\n",
    "\n",
    "one_hot_collisions = oh.fit_transform(cali_collision_records_df_dummies)"
   ]
  },
  {
   "cell_type": "code",
   "execution_count": 101,
   "metadata": {},
   "outputs": [
    {
     "data": {
      "text/plain": [
       "(437692, 439768)"
      ]
     },
     "execution_count": 101,
     "metadata": {},
     "output_type": "execute_result"
    }
   ],
   "source": [
    "one_hot_collisions."
   ]
  },
  {
   "cell_type": "code",
   "execution_count": 62,
   "metadata": {},
   "outputs": [
    {
     "name": "stdout",
     "output_type": "stream",
     "text": [
      "CASE_ID\n",
      "COLLISION_DATE\n",
      "COLLISION_TIME\n",
      "DAY_OF_WEEK\n",
      "POPULATION\n",
      "WEATHER_1\n",
      "WEATHER_2\n",
      "LOCATION_TYPE\n",
      "COLLISION_SEVERITY\n",
      "NUMBER_KILLED\n",
      "NUMBER_INJURED\n",
      "PARTY_COUNT\n",
      "PRIMARY_COLL_FACTOR\n",
      "PCF_VIOL_CATEGORY\n",
      "HIT_AND_RUN\n",
      "TYPE_OF_COLLISION\n",
      "MVIW\n",
      "PED_ACTION\n",
      "ROAD_SURFACE\n",
      "ROAD_COND_1\n",
      "ROAD_COND_2\n",
      "LIGHTING\n",
      "CONTROL_DEVICE\n",
      "PEDESTRIAN_ACCIDENT\n",
      "BICYCLE_ACCIDENT\n",
      "MOTORCYCLE_ACCIDENT\n",
      "TRUCK_ACCIDENT\n",
      "NOT_PRIVATE_PROPERTY\n",
      "ALCOHOL_INVOLVED\n",
      "COUNT_SEVERE_INJ\n",
      "COUNT_VISIBLE_INJ\n",
      "COUNT_COMPLAINT_PAIN\n",
      "COUNT_PED_KILLED\n",
      "COUNT_PED_INJURED\n",
      "COUNT_BICYCLIST_KILLED\n",
      "COUNT_BICYCLIST_INJURED\n",
      "COUNT_MC_KILLED\n",
      "COUNT_MC_INJURED\n",
      "LATITUDE\n",
      "LONGITUDE\n"
     ]
    }
   ],
   "source": [
    "reg1 = re.compile('[a-zA-z]')\n",
    "for col_name in cali_collision_records_df_dummies.columns:\n",
    "    print(col_name)\n",
    "    counter=0\n",
    "    for record in cali_collision_records_df_dummies[col_name]:\n",
    "        counter += 1\n",
    "        if record == np.NaN:\n",
    "            print(counter)"
   ]
  },
  {
   "cell_type": "code",
   "execution_count": 31,
   "metadata": {},
   "outputs": [
    {
     "ename": "TypeError",
     "evalue": "Could not compare ['340H'] with block values",
     "output_type": "error",
     "traceback": [
      "\u001b[0;31m---------------------------------------------------------------------------\u001b[0m",
      "\u001b[0;31mTypeError\u001b[0m                                 Traceback (most recent call last)",
      "\u001b[0;32m<ipython-input-31-416883dcf0a3>\u001b[0m in \u001b[0;36m<module>\u001b[0;34m()\u001b[0m\n\u001b[0;32m----> 1\u001b[0;31m \u001b[0mcali_collision_records_df_dummies\u001b[0m\u001b[0;34m.\u001b[0m\u001b[0mcolumns\u001b[0m\u001b[0;34m[\u001b[0m\u001b[0;34m(\u001b[0m\u001b[0mcali_collision_records_df_dummies\u001b[0m \u001b[0;34m==\u001b[0m \u001b[0;34m'340H'\u001b[0m\u001b[0;34m)\u001b[0m\u001b[0;34m.\u001b[0m\u001b[0miloc\u001b[0m\u001b[0;34m[\u001b[0m\u001b[0;36m0\u001b[0m\u001b[0;34m]\u001b[0m\u001b[0;34m]\u001b[0m\u001b[0;34m\u001b[0m\u001b[0m\n\u001b[0m\u001b[1;32m      2\u001b[0m \u001b[0;34m\u001b[0m\u001b[0m\n",
      "\u001b[0;32m/home/farhaan/anaconda3/lib/python3.6/site-packages/pandas/core/ops.py\u001b[0m in \u001b[0;36mf\u001b[0;34m(self, other)\u001b[0m\n\u001b[1;32m   1301\u001b[0m             \u001b[0;31m# straight boolean comparisions we want to allow all columns\u001b[0m\u001b[0;34m\u001b[0m\u001b[0;34m\u001b[0m\u001b[0m\n\u001b[1;32m   1302\u001b[0m             \u001b[0;31m# (regardless of dtype to pass thru) See #4537 for discussion.\u001b[0m\u001b[0;34m\u001b[0m\u001b[0;34m\u001b[0m\u001b[0m\n\u001b[0;32m-> 1303\u001b[0;31m             \u001b[0mres\u001b[0m \u001b[0;34m=\u001b[0m \u001b[0mself\u001b[0m\u001b[0;34m.\u001b[0m\u001b[0m_combine_const\u001b[0m\u001b[0;34m(\u001b[0m\u001b[0mother\u001b[0m\u001b[0;34m,\u001b[0m \u001b[0mfunc\u001b[0m\u001b[0;34m,\u001b[0m \u001b[0mraise_on_error\u001b[0m\u001b[0;34m=\u001b[0m\u001b[0;32mFalse\u001b[0m\u001b[0;34m)\u001b[0m\u001b[0;34m\u001b[0m\u001b[0m\n\u001b[0m\u001b[1;32m   1304\u001b[0m             \u001b[0;32mreturn\u001b[0m \u001b[0mres\u001b[0m\u001b[0;34m.\u001b[0m\u001b[0mfillna\u001b[0m\u001b[0;34m(\u001b[0m\u001b[0;32mTrue\u001b[0m\u001b[0;34m)\u001b[0m\u001b[0;34m.\u001b[0m\u001b[0mastype\u001b[0m\u001b[0;34m(\u001b[0m\u001b[0mbool\u001b[0m\u001b[0;34m)\u001b[0m\u001b[0;34m\u001b[0m\u001b[0m\n\u001b[1;32m   1305\u001b[0m \u001b[0;34m\u001b[0m\u001b[0m\n",
      "\u001b[0;32m/home/farhaan/anaconda3/lib/python3.6/site-packages/pandas/core/frame.py\u001b[0m in \u001b[0;36m_combine_const\u001b[0;34m(self, other, func, raise_on_error)\u001b[0m\n\u001b[1;32m   3639\u001b[0m     \u001b[0;32mdef\u001b[0m \u001b[0m_combine_const\u001b[0m\u001b[0;34m(\u001b[0m\u001b[0mself\u001b[0m\u001b[0;34m,\u001b[0m \u001b[0mother\u001b[0m\u001b[0;34m,\u001b[0m \u001b[0mfunc\u001b[0m\u001b[0;34m,\u001b[0m \u001b[0mraise_on_error\u001b[0m\u001b[0;34m=\u001b[0m\u001b[0;32mTrue\u001b[0m\u001b[0;34m)\u001b[0m\u001b[0;34m:\u001b[0m\u001b[0;34m\u001b[0m\u001b[0m\n\u001b[1;32m   3640\u001b[0m         new_data = self._data.eval(func=func, other=other,\n\u001b[0;32m-> 3641\u001b[0;31m                                    raise_on_error=raise_on_error)\n\u001b[0m\u001b[1;32m   3642\u001b[0m         \u001b[0;32mreturn\u001b[0m \u001b[0mself\u001b[0m\u001b[0;34m.\u001b[0m\u001b[0m_constructor\u001b[0m\u001b[0;34m(\u001b[0m\u001b[0mnew_data\u001b[0m\u001b[0;34m)\u001b[0m\u001b[0;34m\u001b[0m\u001b[0m\n\u001b[1;32m   3643\u001b[0m \u001b[0;34m\u001b[0m\u001b[0m\n",
      "\u001b[0;32m/home/farhaan/anaconda3/lib/python3.6/site-packages/pandas/core/internals.py\u001b[0m in \u001b[0;36meval\u001b[0;34m(self, **kwargs)\u001b[0m\n\u001b[1;32m   3195\u001b[0m \u001b[0;34m\u001b[0m\u001b[0m\n\u001b[1;32m   3196\u001b[0m     \u001b[0;32mdef\u001b[0m \u001b[0meval\u001b[0m\u001b[0;34m(\u001b[0m\u001b[0mself\u001b[0m\u001b[0;34m,\u001b[0m \u001b[0;34m**\u001b[0m\u001b[0mkwargs\u001b[0m\u001b[0;34m)\u001b[0m\u001b[0;34m:\u001b[0m\u001b[0;34m\u001b[0m\u001b[0m\n\u001b[0;32m-> 3197\u001b[0;31m         \u001b[0;32mreturn\u001b[0m \u001b[0mself\u001b[0m\u001b[0;34m.\u001b[0m\u001b[0mapply\u001b[0m\u001b[0;34m(\u001b[0m\u001b[0;34m'eval'\u001b[0m\u001b[0;34m,\u001b[0m \u001b[0;34m**\u001b[0m\u001b[0mkwargs\u001b[0m\u001b[0;34m)\u001b[0m\u001b[0;34m\u001b[0m\u001b[0m\n\u001b[0m\u001b[1;32m   3198\u001b[0m \u001b[0;34m\u001b[0m\u001b[0m\n\u001b[1;32m   3199\u001b[0m     \u001b[0;32mdef\u001b[0m \u001b[0mquantile\u001b[0m\u001b[0;34m(\u001b[0m\u001b[0mself\u001b[0m\u001b[0;34m,\u001b[0m \u001b[0;34m**\u001b[0m\u001b[0mkwargs\u001b[0m\u001b[0;34m)\u001b[0m\u001b[0;34m:\u001b[0m\u001b[0;34m\u001b[0m\u001b[0m\n",
      "\u001b[0;32m/home/farhaan/anaconda3/lib/python3.6/site-packages/pandas/core/internals.py\u001b[0m in \u001b[0;36mapply\u001b[0;34m(self, f, axes, filter, do_integrity_check, consolidate, **kwargs)\u001b[0m\n\u001b[1;32m   3089\u001b[0m \u001b[0;34m\u001b[0m\u001b[0m\n\u001b[1;32m   3090\u001b[0m             \u001b[0mkwargs\u001b[0m\u001b[0;34m[\u001b[0m\u001b[0;34m'mgr'\u001b[0m\u001b[0;34m]\u001b[0m \u001b[0;34m=\u001b[0m \u001b[0mself\u001b[0m\u001b[0;34m\u001b[0m\u001b[0m\n\u001b[0;32m-> 3091\u001b[0;31m             \u001b[0mapplied\u001b[0m \u001b[0;34m=\u001b[0m \u001b[0mgetattr\u001b[0m\u001b[0;34m(\u001b[0m\u001b[0mb\u001b[0m\u001b[0;34m,\u001b[0m \u001b[0mf\u001b[0m\u001b[0;34m)\u001b[0m\u001b[0;34m(\u001b[0m\u001b[0;34m**\u001b[0m\u001b[0mkwargs\u001b[0m\u001b[0;34m)\u001b[0m\u001b[0;34m\u001b[0m\u001b[0m\n\u001b[0m\u001b[1;32m   3092\u001b[0m             \u001b[0mresult_blocks\u001b[0m \u001b[0;34m=\u001b[0m \u001b[0m_extend_blocks\u001b[0m\u001b[0;34m(\u001b[0m\u001b[0mapplied\u001b[0m\u001b[0;34m,\u001b[0m \u001b[0mresult_blocks\u001b[0m\u001b[0;34m)\u001b[0m\u001b[0;34m\u001b[0m\u001b[0m\n\u001b[1;32m   3093\u001b[0m \u001b[0;34m\u001b[0m\u001b[0m\n",
      "\u001b[0;32m/home/farhaan/anaconda3/lib/python3.6/site-packages/pandas/core/internals.py\u001b[0m in \u001b[0;36meval\u001b[0;34m(self, func, other, raise_on_error, try_cast, mgr)\u001b[0m\n\u001b[1;32m   1203\u001b[0m \u001b[0;34m\u001b[0m\u001b[0m\n\u001b[1;32m   1204\u001b[0m                 raise TypeError('Could not compare [%s] with block values' %\n\u001b[0;32m-> 1205\u001b[0;31m                                 repr(other))\n\u001b[0m\u001b[1;32m   1206\u001b[0m \u001b[0;34m\u001b[0m\u001b[0m\n\u001b[1;32m   1207\u001b[0m         \u001b[0;31m# transpose if needed\u001b[0m\u001b[0;34m\u001b[0m\u001b[0;34m\u001b[0m\u001b[0m\n",
      "\u001b[0;31mTypeError\u001b[0m: Could not compare ['340H'] with block values"
     ]
    }
   ],
   "source": [
    "cali_collision_records_df_dummies.columns[(cali_collision_records_df_dummies == '340H').iloc[0]]\n",
    "\n"
   ]
  },
  {
   "cell_type": "code",
   "execution_count": 333,
   "metadata": {},
   "outputs": [
    {
     "name": "stdout",
     "output_type": "stream",
     "text": [
      "F1 [ 0.          0.00073368  0.00072622  0.00073206  0.00221321]\n",
      "Recall [ 0.          0.00036982  0.00036765  0.00036819  0.00111815]\n",
      "Precision [ 0.          0.04545455  0.02941176  0.0625      0.10714286]\n"
     ]
    }
   ],
   "source": [
    "rcl = RandomForestClassifier(n_jobs=-1)\n",
    "scores = cross_val_score(rcl,X,y,cv=cross_validator,scoring=\"f1\",n_jobs=-1)\n",
    "print(\"F1\",scores)\n",
    "scores = cross_val_score(rcl,X,y,cv=cross_validator,scoring=\"recall\",n_jobs=-1)\n",
    "print(\"Recall\",scores)\n",
    "scores = cross_val_score(rcl,X,y,cv=cross_validator,scoring=\"precision\",n_jobs=-1)\n",
    "print(\"Precision\",scores)"
   ]
  },
  {
   "cell_type": "code",
   "execution_count": 92,
   "metadata": {},
   "outputs": [
    {
     "data": {
      "text/plain": [
       "20150101"
      ]
     },
     "execution_count": 92,
     "metadata": {},
     "output_type": "execute_result"
    }
   ],
   "source": [
    "min(cali_collision_records_df.COLLISION_DATE)"
   ]
  },
  {
   "cell_type": "code",
   "execution_count": 404,
   "metadata": {},
   "outputs": [
    {
     "name": "stderr",
     "output_type": "stream",
     "text": [
      "Process ForkPoolWorker-606:\n",
      "Process ForkPoolWorker-600:\n",
      "Process ForkPoolWorker-605:\n",
      "Process ForkPoolWorker-604:\n",
      "Process ForkPoolWorker-598:\n",
      "Process ForkPoolWorker-607:\n",
      "Process ForkPoolWorker-603:\n",
      "Process ForkPoolWorker-599:\n",
      "Process ForkPoolWorker-608:\n",
      "Process ForkPoolWorker-602:\n",
      "Traceback (most recent call last):\n",
      "Traceback (most recent call last):\n",
      "Traceback (most recent call last):\n",
      "Traceback (most recent call last):\n",
      "  File \"/home/farhaan/anaconda3/lib/python3.6/multiprocessing/process.py\", line 249, in _bootstrap\n",
      "    self.run()\n",
      "  File \"/home/farhaan/anaconda3/lib/python3.6/multiprocessing/process.py\", line 249, in _bootstrap\n",
      "    self.run()\n",
      "  File \"/home/farhaan/anaconda3/lib/python3.6/multiprocessing/process.py\", line 249, in _bootstrap\n",
      "    self.run()\n",
      "  File \"/home/farhaan/anaconda3/lib/python3.6/multiprocessing/process.py\", line 93, in run\n",
      "    self._target(*self._args, **self._kwargs)\n",
      "Traceback (most recent call last):\n",
      "  File \"/home/farhaan/anaconda3/lib/python3.6/multiprocessing/process.py\", line 93, in run\n",
      "    self._target(*self._args, **self._kwargs)\n",
      "  File \"/home/farhaan/anaconda3/lib/python3.6/multiprocessing/process.py\", line 249, in _bootstrap\n",
      "    self.run()\n",
      "  File \"/home/farhaan/anaconda3/lib/python3.6/multiprocessing/process.py\", line 93, in run\n",
      "    self._target(*self._args, **self._kwargs)\n",
      "  File \"/home/farhaan/anaconda3/lib/python3.6/multiprocessing/pool.py\", line 108, in worker\n",
      "    task = get()\n",
      "  File \"/home/farhaan/anaconda3/lib/python3.6/multiprocessing/process.py\", line 249, in _bootstrap\n",
      "    self.run()\n",
      "Traceback (most recent call last):\n",
      "  File \"/home/farhaan/anaconda3/lib/python3.6/multiprocessing/pool.py\", line 108, in worker\n",
      "    task = get()\n",
      "  File \"/home/farhaan/anaconda3/lib/python3.6/site-packages/sklearn/externals/joblib/pool.py\", line 360, in get\n",
      "    racquire()\n",
      "  File \"/home/farhaan/anaconda3/lib/python3.6/multiprocessing/process.py\", line 93, in run\n",
      "    self._target(*self._args, **self._kwargs)\n",
      "  File \"/home/farhaan/anaconda3/lib/python3.6/multiprocessing/process.py\", line 249, in _bootstrap\n",
      "    self.run()\n",
      "  File \"/home/farhaan/anaconda3/lib/python3.6/site-packages/sklearn/externals/joblib/pool.py\", line 360, in get\n",
      "    racquire()\n",
      "  File \"/home/farhaan/anaconda3/lib/python3.6/multiprocessing/pool.py\", line 108, in worker\n",
      "    task = get()\n",
      "  File \"/home/farhaan/anaconda3/lib/python3.6/multiprocessing/pool.py\", line 108, in worker\n",
      "    task = get()\n",
      "  File \"/home/farhaan/anaconda3/lib/python3.6/multiprocessing/process.py\", line 93, in run\n",
      "    self._target(*self._args, **self._kwargs)\n",
      "  File \"/home/farhaan/anaconda3/lib/python3.6/multiprocessing/process.py\", line 93, in run\n",
      "    self._target(*self._args, **self._kwargs)\n",
      "Process ForkPoolWorker-601:\n",
      "  File \"/home/farhaan/anaconda3/lib/python3.6/site-packages/sklearn/externals/joblib/pool.py\", line 360, in get\n",
      "    racquire()\n",
      "  File \"/home/farhaan/anaconda3/lib/python3.6/multiprocessing/pool.py\", line 108, in worker\n",
      "    task = get()\n",
      "KeyboardInterrupt\n",
      "  File \"/home/farhaan/anaconda3/lib/python3.6/site-packages/sklearn/externals/joblib/pool.py\", line 360, in get\n",
      "    racquire()\n",
      "  File \"/home/farhaan/anaconda3/lib/python3.6/site-packages/sklearn/externals/joblib/pool.py\", line 360, in get\n",
      "    racquire()\n",
      "  File \"/home/farhaan/anaconda3/lib/python3.6/multiprocessing/pool.py\", line 108, in worker\n",
      "    task = get()\n",
      "Traceback (most recent call last):\n",
      "KeyboardInterrupt\n",
      "KeyboardInterrupt\n",
      "  File \"/home/farhaan/anaconda3/lib/python3.6/site-packages/sklearn/externals/joblib/pool.py\", line 362, in get\n",
      "    return recv()\n",
      "KeyboardInterrupt\n",
      "  File \"/home/farhaan/anaconda3/lib/python3.6/multiprocessing/process.py\", line 249, in _bootstrap\n",
      "    self.run()\n",
      "  File \"/home/farhaan/anaconda3/lib/python3.6/multiprocessing/connection.py\", line 250, in recv\n",
      "    buf = self._recv_bytes()\n",
      "  File \"/home/farhaan/anaconda3/lib/python3.6/multiprocessing/connection.py\", line 407, in _recv_bytes\n",
      "    buf = self._recv(4)\n",
      "KeyboardInterrupt\n",
      "  File \"/home/farhaan/anaconda3/lib/python3.6/multiprocessing/process.py\", line 93, in run\n",
      "    self._target(*self._args, **self._kwargs)\n",
      "  File \"/home/farhaan/anaconda3/lib/python3.6/multiprocessing/pool.py\", line 108, in worker\n",
      "    task = get()\n",
      "  File \"/home/farhaan/anaconda3/lib/python3.6/site-packages/sklearn/externals/joblib/pool.py\", line 360, in get\n",
      "    racquire()\n",
      "KeyboardInterrupt\n",
      "Traceback (most recent call last):\n",
      "  File \"/home/farhaan/anaconda3/lib/python3.6/multiprocessing/process.py\", line 249, in _bootstrap\n",
      "    self.run()\n",
      "Traceback (most recent call last):\n",
      "Traceback (most recent call last):\n",
      "  File \"/home/farhaan/anaconda3/lib/python3.6/multiprocessing/process.py\", line 93, in run\n",
      "    self._target(*self._args, **self._kwargs)\n",
      "Traceback (most recent call last):\n",
      "  File \"/home/farhaan/anaconda3/lib/python3.6/multiprocessing/process.py\", line 249, in _bootstrap\n",
      "    self.run()\n",
      "  File \"/home/farhaan/anaconda3/lib/python3.6/multiprocessing/pool.py\", line 108, in worker\n",
      "    task = get()\n",
      "  File \"/home/farhaan/anaconda3/lib/python3.6/multiprocessing/connection.py\", line 379, in _recv\n",
      "    chunk = read(handle, remaining)\n",
      "  File \"/home/farhaan/anaconda3/lib/python3.6/multiprocessing/process.py\", line 249, in _bootstrap\n",
      "    self.run()\n",
      "  File \"/home/farhaan/anaconda3/lib/python3.6/multiprocessing/process.py\", line 93, in run\n",
      "    self._target(*self._args, **self._kwargs)\n",
      "  File \"/home/farhaan/anaconda3/lib/python3.6/site-packages/sklearn/externals/joblib/pool.py\", line 360, in get\n",
      "    racquire()\n",
      "KeyboardInterrupt\n",
      "  File \"/home/farhaan/anaconda3/lib/python3.6/multiprocessing/pool.py\", line 108, in worker\n",
      "    task = get()\n",
      "  File \"/home/farhaan/anaconda3/lib/python3.6/multiprocessing/process.py\", line 93, in run\n",
      "    self._target(*self._args, **self._kwargs)\n",
      "  File \"/home/farhaan/anaconda3/lib/python3.6/multiprocessing/process.py\", line 249, in _bootstrap\n",
      "    self.run()\n",
      "  File \"/home/farhaan/anaconda3/lib/python3.6/site-packages/sklearn/externals/joblib/pool.py\", line 360, in get\n",
      "    racquire()\n",
      "  File \"/home/farhaan/anaconda3/lib/python3.6/multiprocessing/process.py\", line 93, in run\n",
      "    self._target(*self._args, **self._kwargs)\n",
      "  File \"/home/farhaan/anaconda3/lib/python3.6/multiprocessing/pool.py\", line 108, in worker\n",
      "    task = get()\n",
      "  File \"/home/farhaan/anaconda3/lib/python3.6/site-packages/sklearn/externals/joblib/pool.py\", line 360, in get\n",
      "    racquire()\n",
      "KeyboardInterrupt\n",
      "  File \"/home/farhaan/anaconda3/lib/python3.6/multiprocessing/pool.py\", line 108, in worker\n",
      "    task = get()\n",
      "KeyboardInterrupt\n",
      "  File \"/home/farhaan/anaconda3/lib/python3.6/site-packages/sklearn/externals/joblib/pool.py\", line 360, in get\n",
      "    racquire()\n",
      "KeyboardInterrupt\n",
      "KeyboardInterrupt\n"
     ]
    },
    {
     "ename": "TypeError",
     "evalue": "catching classes that do not inherit from BaseException is not allowed",
     "output_type": "error",
     "traceback": [
      "\u001b[0;31m---------------------------------------------------------------------------\u001b[0m",
      "\u001b[0;31mKeyboardInterrupt\u001b[0m                         Traceback (most recent call last)",
      "\u001b[0;32m/home/farhaan/anaconda3/lib/python3.6/site-packages/sklearn/externals/joblib/parallel.py\u001b[0m in \u001b[0;36mretrieve\u001b[0;34m(self)\u001b[0m\n\u001b[1;32m    681\u001b[0m                 \u001b[0;32mif\u001b[0m \u001b[0;34m'timeout'\u001b[0m \u001b[0;32min\u001b[0m \u001b[0mgetfullargspec\u001b[0m\u001b[0;34m(\u001b[0m\u001b[0mjob\u001b[0m\u001b[0;34m.\u001b[0m\u001b[0mget\u001b[0m\u001b[0;34m)\u001b[0m\u001b[0;34m.\u001b[0m\u001b[0margs\u001b[0m\u001b[0;34m:\u001b[0m\u001b[0;34m\u001b[0m\u001b[0m\n\u001b[0;32m--> 682\u001b[0;31m                     \u001b[0mself\u001b[0m\u001b[0;34m.\u001b[0m\u001b[0m_output\u001b[0m\u001b[0;34m.\u001b[0m\u001b[0mextend\u001b[0m\u001b[0;34m(\u001b[0m\u001b[0mjob\u001b[0m\u001b[0;34m.\u001b[0m\u001b[0mget\u001b[0m\u001b[0;34m(\u001b[0m\u001b[0mtimeout\u001b[0m\u001b[0;34m=\u001b[0m\u001b[0mself\u001b[0m\u001b[0;34m.\u001b[0m\u001b[0mtimeout\u001b[0m\u001b[0;34m)\u001b[0m\u001b[0;34m)\u001b[0m\u001b[0;34m\u001b[0m\u001b[0m\n\u001b[0m\u001b[1;32m    683\u001b[0m                 \u001b[0;32melse\u001b[0m\u001b[0;34m:\u001b[0m\u001b[0;34m\u001b[0m\u001b[0m\n",
      "\u001b[0;32m/home/farhaan/anaconda3/lib/python3.6/multiprocessing/pool.py\u001b[0m in \u001b[0;36mget\u001b[0;34m(self, timeout)\u001b[0m\n\u001b[1;32m    601\u001b[0m     \u001b[0;32mdef\u001b[0m \u001b[0mget\u001b[0m\u001b[0;34m(\u001b[0m\u001b[0mself\u001b[0m\u001b[0;34m,\u001b[0m \u001b[0mtimeout\u001b[0m\u001b[0;34m=\u001b[0m\u001b[0;32mNone\u001b[0m\u001b[0;34m)\u001b[0m\u001b[0;34m:\u001b[0m\u001b[0;34m\u001b[0m\u001b[0m\n\u001b[0;32m--> 602\u001b[0;31m         \u001b[0mself\u001b[0m\u001b[0;34m.\u001b[0m\u001b[0mwait\u001b[0m\u001b[0;34m(\u001b[0m\u001b[0mtimeout\u001b[0m\u001b[0;34m)\u001b[0m\u001b[0;34m\u001b[0m\u001b[0m\n\u001b[0m\u001b[1;32m    603\u001b[0m         \u001b[0;32mif\u001b[0m \u001b[0;32mnot\u001b[0m \u001b[0mself\u001b[0m\u001b[0;34m.\u001b[0m\u001b[0mready\u001b[0m\u001b[0;34m(\u001b[0m\u001b[0;34m)\u001b[0m\u001b[0;34m:\u001b[0m\u001b[0;34m\u001b[0m\u001b[0m\n",
      "\u001b[0;32m/home/farhaan/anaconda3/lib/python3.6/multiprocessing/pool.py\u001b[0m in \u001b[0;36mwait\u001b[0;34m(self, timeout)\u001b[0m\n\u001b[1;32m    598\u001b[0m     \u001b[0;32mdef\u001b[0m \u001b[0mwait\u001b[0m\u001b[0;34m(\u001b[0m\u001b[0mself\u001b[0m\u001b[0;34m,\u001b[0m \u001b[0mtimeout\u001b[0m\u001b[0;34m=\u001b[0m\u001b[0;32mNone\u001b[0m\u001b[0;34m)\u001b[0m\u001b[0;34m:\u001b[0m\u001b[0;34m\u001b[0m\u001b[0m\n\u001b[0;32m--> 599\u001b[0;31m         \u001b[0mself\u001b[0m\u001b[0;34m.\u001b[0m\u001b[0m_event\u001b[0m\u001b[0;34m.\u001b[0m\u001b[0mwait\u001b[0m\u001b[0;34m(\u001b[0m\u001b[0mtimeout\u001b[0m\u001b[0;34m)\u001b[0m\u001b[0;34m\u001b[0m\u001b[0m\n\u001b[0m\u001b[1;32m    600\u001b[0m \u001b[0;34m\u001b[0m\u001b[0m\n",
      "\u001b[0;32m/home/farhaan/anaconda3/lib/python3.6/threading.py\u001b[0m in \u001b[0;36mwait\u001b[0;34m(self, timeout)\u001b[0m\n\u001b[1;32m    550\u001b[0m             \u001b[0;32mif\u001b[0m \u001b[0;32mnot\u001b[0m \u001b[0msignaled\u001b[0m\u001b[0;34m:\u001b[0m\u001b[0;34m\u001b[0m\u001b[0m\n\u001b[0;32m--> 551\u001b[0;31m                 \u001b[0msignaled\u001b[0m \u001b[0;34m=\u001b[0m \u001b[0mself\u001b[0m\u001b[0;34m.\u001b[0m\u001b[0m_cond\u001b[0m\u001b[0;34m.\u001b[0m\u001b[0mwait\u001b[0m\u001b[0;34m(\u001b[0m\u001b[0mtimeout\u001b[0m\u001b[0;34m)\u001b[0m\u001b[0;34m\u001b[0m\u001b[0m\n\u001b[0m\u001b[1;32m    552\u001b[0m             \u001b[0;32mreturn\u001b[0m \u001b[0msignaled\u001b[0m\u001b[0;34m\u001b[0m\u001b[0m\n",
      "\u001b[0;32m/home/farhaan/anaconda3/lib/python3.6/threading.py\u001b[0m in \u001b[0;36mwait\u001b[0;34m(self, timeout)\u001b[0m\n\u001b[1;32m    294\u001b[0m             \u001b[0;32mif\u001b[0m \u001b[0mtimeout\u001b[0m \u001b[0;32mis\u001b[0m \u001b[0;32mNone\u001b[0m\u001b[0;34m:\u001b[0m\u001b[0;34m\u001b[0m\u001b[0m\n\u001b[0;32m--> 295\u001b[0;31m                 \u001b[0mwaiter\u001b[0m\u001b[0;34m.\u001b[0m\u001b[0macquire\u001b[0m\u001b[0;34m(\u001b[0m\u001b[0;34m)\u001b[0m\u001b[0;34m\u001b[0m\u001b[0m\n\u001b[0m\u001b[1;32m    296\u001b[0m                 \u001b[0mgotit\u001b[0m \u001b[0;34m=\u001b[0m \u001b[0;32mTrue\u001b[0m\u001b[0;34m\u001b[0m\u001b[0m\n",
      "\u001b[0;31mKeyboardInterrupt\u001b[0m: ",
      "\nDuring handling of the above exception, another exception occurred:\n",
      "\u001b[0;31mKeyboardInterrupt\u001b[0m                         Traceback (most recent call last)",
      "\u001b[0;32m/home/farhaan/anaconda3/lib/python3.6/site-packages/sklearn/externals/joblib/pool.py\u001b[0m in \u001b[0;36mterminate\u001b[0;34m(self)\u001b[0m\n\u001b[1;32m    605\u001b[0m             \u001b[0;32mtry\u001b[0m\u001b[0;34m:\u001b[0m\u001b[0;34m\u001b[0m\u001b[0m\n\u001b[0;32m--> 606\u001b[0;31m                 \u001b[0msuper\u001b[0m\u001b[0;34m(\u001b[0m\u001b[0mMemmapingPool\u001b[0m\u001b[0;34m,\u001b[0m \u001b[0mself\u001b[0m\u001b[0;34m)\u001b[0m\u001b[0;34m.\u001b[0m\u001b[0mterminate\u001b[0m\u001b[0;34m(\u001b[0m\u001b[0;34m)\u001b[0m\u001b[0;34m\u001b[0m\u001b[0m\n\u001b[0m\u001b[1;32m    607\u001b[0m                 \u001b[0;32mbreak\u001b[0m\u001b[0;34m\u001b[0m\u001b[0m\n",
      "\u001b[0;32m/home/farhaan/anaconda3/lib/python3.6/multiprocessing/pool.py\u001b[0m in \u001b[0;36mterminate\u001b[0;34m(self)\u001b[0m\n\u001b[1;32m    504\u001b[0m         \u001b[0mself\u001b[0m\u001b[0;34m.\u001b[0m\u001b[0m_worker_handler\u001b[0m\u001b[0;34m.\u001b[0m\u001b[0m_state\u001b[0m \u001b[0;34m=\u001b[0m \u001b[0mTERMINATE\u001b[0m\u001b[0;34m\u001b[0m\u001b[0m\n\u001b[0;32m--> 505\u001b[0;31m         \u001b[0mself\u001b[0m\u001b[0;34m.\u001b[0m\u001b[0m_terminate\u001b[0m\u001b[0;34m(\u001b[0m\u001b[0;34m)\u001b[0m\u001b[0;34m\u001b[0m\u001b[0m\n\u001b[0m\u001b[1;32m    506\u001b[0m \u001b[0;34m\u001b[0m\u001b[0m\n",
      "\u001b[0;32m/home/farhaan/anaconda3/lib/python3.6/multiprocessing/util.py\u001b[0m in \u001b[0;36m__call__\u001b[0;34m(self, wr, _finalizer_registry, sub_debug, getpid)\u001b[0m\n\u001b[1;32m    185\u001b[0m                           self._callback, self._args, self._kwargs)\n\u001b[0;32m--> 186\u001b[0;31m                 \u001b[0mres\u001b[0m \u001b[0;34m=\u001b[0m \u001b[0mself\u001b[0m\u001b[0;34m.\u001b[0m\u001b[0m_callback\u001b[0m\u001b[0;34m(\u001b[0m\u001b[0;34m*\u001b[0m\u001b[0mself\u001b[0m\u001b[0;34m.\u001b[0m\u001b[0m_args\u001b[0m\u001b[0;34m,\u001b[0m \u001b[0;34m**\u001b[0m\u001b[0mself\u001b[0m\u001b[0;34m.\u001b[0m\u001b[0m_kwargs\u001b[0m\u001b[0;34m)\u001b[0m\u001b[0;34m\u001b[0m\u001b[0m\n\u001b[0m\u001b[1;32m    187\u001b[0m             \u001b[0mself\u001b[0m\u001b[0;34m.\u001b[0m\u001b[0m_weakref\u001b[0m \u001b[0;34m=\u001b[0m \u001b[0mself\u001b[0m\u001b[0;34m.\u001b[0m\u001b[0m_callback\u001b[0m \u001b[0;34m=\u001b[0m \u001b[0mself\u001b[0m\u001b[0;34m.\u001b[0m\u001b[0m_args\u001b[0m \u001b[0;34m=\u001b[0m\u001b[0;31m \u001b[0m\u001b[0;31m\\\u001b[0m\u001b[0;34m\u001b[0m\u001b[0m\n",
      "\u001b[0;32m/home/farhaan/anaconda3/lib/python3.6/multiprocessing/pool.py\u001b[0m in \u001b[0;36m_terminate_pool\u001b[0;34m(cls, taskqueue, inqueue, outqueue, pool, worker_handler, task_handler, result_handler, cache)\u001b[0m\n\u001b[1;32m    534\u001b[0m         \u001b[0mutil\u001b[0m\u001b[0;34m.\u001b[0m\u001b[0mdebug\u001b[0m\u001b[0;34m(\u001b[0m\u001b[0;34m'helping task handler/workers to finish'\u001b[0m\u001b[0;34m)\u001b[0m\u001b[0;34m\u001b[0m\u001b[0m\n\u001b[0;32m--> 535\u001b[0;31m         \u001b[0mcls\u001b[0m\u001b[0;34m.\u001b[0m\u001b[0m_help_stuff_finish\u001b[0m\u001b[0;34m(\u001b[0m\u001b[0minqueue\u001b[0m\u001b[0;34m,\u001b[0m \u001b[0mtask_handler\u001b[0m\u001b[0;34m,\u001b[0m \u001b[0mlen\u001b[0m\u001b[0;34m(\u001b[0m\u001b[0mpool\u001b[0m\u001b[0;34m)\u001b[0m\u001b[0;34m)\u001b[0m\u001b[0;34m\u001b[0m\u001b[0m\n\u001b[0m\u001b[1;32m    536\u001b[0m \u001b[0;34m\u001b[0m\u001b[0m\n",
      "\u001b[0;32m/home/farhaan/anaconda3/lib/python3.6/multiprocessing/pool.py\u001b[0m in \u001b[0;36m_help_stuff_finish\u001b[0;34m(inqueue, task_handler, size)\u001b[0m\n\u001b[1;32m    519\u001b[0m         \u001b[0mutil\u001b[0m\u001b[0;34m.\u001b[0m\u001b[0mdebug\u001b[0m\u001b[0;34m(\u001b[0m\u001b[0;34m'removing tasks from inqueue until task handler finished'\u001b[0m\u001b[0;34m)\u001b[0m\u001b[0;34m\u001b[0m\u001b[0m\n\u001b[0;32m--> 520\u001b[0;31m         \u001b[0minqueue\u001b[0m\u001b[0;34m.\u001b[0m\u001b[0m_rlock\u001b[0m\u001b[0;34m.\u001b[0m\u001b[0macquire\u001b[0m\u001b[0;34m(\u001b[0m\u001b[0;34m)\u001b[0m\u001b[0;34m\u001b[0m\u001b[0m\n\u001b[0m\u001b[1;32m    521\u001b[0m         \u001b[0;32mwhile\u001b[0m \u001b[0mtask_handler\u001b[0m\u001b[0;34m.\u001b[0m\u001b[0mis_alive\u001b[0m\u001b[0;34m(\u001b[0m\u001b[0;34m)\u001b[0m \u001b[0;32mand\u001b[0m \u001b[0minqueue\u001b[0m\u001b[0;34m.\u001b[0m\u001b[0m_reader\u001b[0m\u001b[0;34m.\u001b[0m\u001b[0mpoll\u001b[0m\u001b[0;34m(\u001b[0m\u001b[0;34m)\u001b[0m\u001b[0;34m:\u001b[0m\u001b[0;34m\u001b[0m\u001b[0m\n",
      "\u001b[0;31mKeyboardInterrupt\u001b[0m: ",
      "\nDuring handling of the above exception, another exception occurred:\n",
      "\u001b[0;31mTypeError\u001b[0m                                 Traceback (most recent call last)",
      "\u001b[0;32m<ipython-input-404-5fcfcfe44e69>\u001b[0m in \u001b[0;36m<module>\u001b[0;34m()\u001b[0m\n\u001b[1;32m      1\u001b[0m \u001b[0mknn\u001b[0m \u001b[0;34m=\u001b[0m \u001b[0mKNeighborsClassifier\u001b[0m\u001b[0;34m(\u001b[0m\u001b[0mn_jobs\u001b[0m\u001b[0;34m=\u001b[0m\u001b[0;34m-\u001b[0m\u001b[0;36m1\u001b[0m\u001b[0;34m)\u001b[0m\u001b[0;34m\u001b[0m\u001b[0m\n\u001b[0;32m----> 2\u001b[0;31m \u001b[0mscores\u001b[0m \u001b[0;34m=\u001b[0m \u001b[0mcross_val_score\u001b[0m\u001b[0;34m(\u001b[0m\u001b[0mknn\u001b[0m\u001b[0;34m,\u001b[0m\u001b[0mX\u001b[0m\u001b[0;34m,\u001b[0m\u001b[0my\u001b[0m\u001b[0;34m,\u001b[0m\u001b[0mcv\u001b[0m\u001b[0;34m=\u001b[0m\u001b[0mcross_validator\u001b[0m\u001b[0;34m,\u001b[0m\u001b[0mscoring\u001b[0m\u001b[0;34m=\u001b[0m\u001b[0;34m\"f1\"\u001b[0m\u001b[0;34m,\u001b[0m\u001b[0mn_jobs\u001b[0m\u001b[0;34m=\u001b[0m\u001b[0;34m-\u001b[0m\u001b[0;36m1\u001b[0m\u001b[0;34m)\u001b[0m\u001b[0;34m\u001b[0m\u001b[0m\n\u001b[0m\u001b[1;32m      3\u001b[0m \u001b[0mprint\u001b[0m\u001b[0;34m(\u001b[0m\u001b[0;34m\"F1\"\u001b[0m\u001b[0;34m,\u001b[0m\u001b[0mscores\u001b[0m\u001b[0;34m)\u001b[0m\u001b[0;34m\u001b[0m\u001b[0m\n\u001b[1;32m      4\u001b[0m \u001b[0mscores\u001b[0m \u001b[0;34m=\u001b[0m \u001b[0mcross_val_score\u001b[0m\u001b[0;34m(\u001b[0m\u001b[0mknn\u001b[0m\u001b[0;34m,\u001b[0m\u001b[0mX\u001b[0m\u001b[0;34m,\u001b[0m\u001b[0my\u001b[0m\u001b[0;34m,\u001b[0m\u001b[0mcv\u001b[0m\u001b[0;34m=\u001b[0m\u001b[0mcross_validator\u001b[0m\u001b[0;34m,\u001b[0m\u001b[0mscoring\u001b[0m\u001b[0;34m=\u001b[0m\u001b[0;34m\"recall\"\u001b[0m\u001b[0;34m,\u001b[0m\u001b[0mn_jobs\u001b[0m\u001b[0;34m=\u001b[0m\u001b[0;34m-\u001b[0m\u001b[0;36m1\u001b[0m\u001b[0;34m)\u001b[0m\u001b[0;34m\u001b[0m\u001b[0m\n\u001b[1;32m      5\u001b[0m \u001b[0mprint\u001b[0m\u001b[0;34m(\u001b[0m\u001b[0;34m\"Recall\"\u001b[0m\u001b[0;34m,\u001b[0m\u001b[0mscores\u001b[0m\u001b[0;34m)\u001b[0m\u001b[0;34m\u001b[0m\u001b[0m\n",
      "\u001b[0;32m/home/farhaan/anaconda3/lib/python3.6/site-packages/sklearn/model_selection/_validation.py\u001b[0m in \u001b[0;36mcross_val_score\u001b[0;34m(estimator, X, y, groups, scoring, cv, n_jobs, verbose, fit_params, pre_dispatch)\u001b[0m\n\u001b[1;32m    138\u001b[0m                                               \u001b[0mtrain\u001b[0m\u001b[0;34m,\u001b[0m \u001b[0mtest\u001b[0m\u001b[0;34m,\u001b[0m \u001b[0mverbose\u001b[0m\u001b[0;34m,\u001b[0m \u001b[0;32mNone\u001b[0m\u001b[0;34m,\u001b[0m\u001b[0;34m\u001b[0m\u001b[0m\n\u001b[1;32m    139\u001b[0m                                               fit_params)\n\u001b[0;32m--> 140\u001b[0;31m                       for train, test in cv_iter)\n\u001b[0m\u001b[1;32m    141\u001b[0m     \u001b[0;32mreturn\u001b[0m \u001b[0mnp\u001b[0m\u001b[0;34m.\u001b[0m\u001b[0marray\u001b[0m\u001b[0;34m(\u001b[0m\u001b[0mscores\u001b[0m\u001b[0;34m)\u001b[0m\u001b[0;34m[\u001b[0m\u001b[0;34m:\u001b[0m\u001b[0;34m,\u001b[0m \u001b[0;36m0\u001b[0m\u001b[0;34m]\u001b[0m\u001b[0;34m\u001b[0m\u001b[0m\n\u001b[1;32m    142\u001b[0m \u001b[0;34m\u001b[0m\u001b[0m\n",
      "\u001b[0;32m/home/farhaan/anaconda3/lib/python3.6/site-packages/sklearn/externals/joblib/parallel.py\u001b[0m in \u001b[0;36m__call__\u001b[0;34m(self, iterable)\u001b[0m\n\u001b[1;32m    766\u001b[0m                 \u001b[0;31m# consumption.\u001b[0m\u001b[0;34m\u001b[0m\u001b[0;34m\u001b[0m\u001b[0m\n\u001b[1;32m    767\u001b[0m                 \u001b[0mself\u001b[0m\u001b[0;34m.\u001b[0m\u001b[0m_iterating\u001b[0m \u001b[0;34m=\u001b[0m \u001b[0;32mFalse\u001b[0m\u001b[0;34m\u001b[0m\u001b[0m\n\u001b[0;32m--> 768\u001b[0;31m             \u001b[0mself\u001b[0m\u001b[0;34m.\u001b[0m\u001b[0mretrieve\u001b[0m\u001b[0;34m(\u001b[0m\u001b[0;34m)\u001b[0m\u001b[0;34m\u001b[0m\u001b[0m\n\u001b[0m\u001b[1;32m    769\u001b[0m             \u001b[0;31m# Make sure that we get a last message telling us we are done\u001b[0m\u001b[0;34m\u001b[0m\u001b[0;34m\u001b[0m\u001b[0m\n\u001b[1;32m    770\u001b[0m             \u001b[0melapsed_time\u001b[0m \u001b[0;34m=\u001b[0m \u001b[0mtime\u001b[0m\u001b[0;34m.\u001b[0m\u001b[0mtime\u001b[0m\u001b[0;34m(\u001b[0m\u001b[0;34m)\u001b[0m \u001b[0;34m-\u001b[0m \u001b[0mself\u001b[0m\u001b[0;34m.\u001b[0m\u001b[0m_start_time\u001b[0m\u001b[0;34m\u001b[0m\u001b[0m\n",
      "\u001b[0;32m/home/farhaan/anaconda3/lib/python3.6/site-packages/sklearn/externals/joblib/parallel.py\u001b[0m in \u001b[0;36mretrieve\u001b[0;34m(self)\u001b[0m\n\u001b[1;32m    716\u001b[0m                     \u001b[0;31m# scheduling.\u001b[0m\u001b[0;34m\u001b[0m\u001b[0;34m\u001b[0m\u001b[0m\n\u001b[1;32m    717\u001b[0m                     \u001b[0mensure_ready\u001b[0m \u001b[0;34m=\u001b[0m \u001b[0mself\u001b[0m\u001b[0;34m.\u001b[0m\u001b[0m_managed_backend\u001b[0m\u001b[0;34m\u001b[0m\u001b[0m\n\u001b[0;32m--> 718\u001b[0;31m                     \u001b[0mbackend\u001b[0m\u001b[0;34m.\u001b[0m\u001b[0mabort_everything\u001b[0m\u001b[0;34m(\u001b[0m\u001b[0mensure_ready\u001b[0m\u001b[0;34m=\u001b[0m\u001b[0mensure_ready\u001b[0m\u001b[0;34m)\u001b[0m\u001b[0;34m\u001b[0m\u001b[0m\n\u001b[0m\u001b[1;32m    719\u001b[0m                 \u001b[0;32mraise\u001b[0m \u001b[0mexception\u001b[0m\u001b[0;34m\u001b[0m\u001b[0m\n\u001b[1;32m    720\u001b[0m \u001b[0;34m\u001b[0m\u001b[0m\n",
      "\u001b[0;32m/home/farhaan/anaconda3/lib/python3.6/site-packages/sklearn/externals/joblib/_parallel_backends.py\u001b[0m in \u001b[0;36mabort_everything\u001b[0;34m(self, ensure_ready)\u001b[0m\n\u001b[1;32m    141\u001b[0m     \u001b[0;32mdef\u001b[0m \u001b[0mabort_everything\u001b[0m\u001b[0;34m(\u001b[0m\u001b[0mself\u001b[0m\u001b[0;34m,\u001b[0m \u001b[0mensure_ready\u001b[0m\u001b[0;34m=\u001b[0m\u001b[0;32mTrue\u001b[0m\u001b[0;34m)\u001b[0m\u001b[0;34m:\u001b[0m\u001b[0;34m\u001b[0m\u001b[0m\n\u001b[1;32m    142\u001b[0m         \u001b[0;34m\"\"\"Shutdown the pool and restart a new one with the same parameters\"\"\"\u001b[0m\u001b[0;34m\u001b[0m\u001b[0m\n\u001b[0;32m--> 143\u001b[0;31m         \u001b[0mself\u001b[0m\u001b[0;34m.\u001b[0m\u001b[0mterminate\u001b[0m\u001b[0;34m(\u001b[0m\u001b[0;34m)\u001b[0m\u001b[0;34m\u001b[0m\u001b[0m\n\u001b[0m\u001b[1;32m    144\u001b[0m         \u001b[0;32mif\u001b[0m \u001b[0mensure_ready\u001b[0m\u001b[0;34m:\u001b[0m\u001b[0;34m\u001b[0m\u001b[0m\n\u001b[1;32m    145\u001b[0m             self.configure(n_jobs=self.parallel.n_jobs, parallel=self.parallel,\n",
      "\u001b[0;32m/home/farhaan/anaconda3/lib/python3.6/site-packages/sklearn/externals/joblib/_parallel_backends.py\u001b[0m in \u001b[0;36mterminate\u001b[0;34m(self)\u001b[0m\n\u001b[1;32m    315\u001b[0m     \u001b[0;32mdef\u001b[0m \u001b[0mterminate\u001b[0m\u001b[0;34m(\u001b[0m\u001b[0mself\u001b[0m\u001b[0;34m)\u001b[0m\u001b[0;34m:\u001b[0m\u001b[0;34m\u001b[0m\u001b[0m\n\u001b[1;32m    316\u001b[0m         \u001b[0;34m\"\"\"Shutdown the process or thread pool\"\"\"\u001b[0m\u001b[0;34m\u001b[0m\u001b[0m\n\u001b[0;32m--> 317\u001b[0;31m         \u001b[0msuper\u001b[0m\u001b[0;34m(\u001b[0m\u001b[0mMultiprocessingBackend\u001b[0m\u001b[0;34m,\u001b[0m \u001b[0mself\u001b[0m\u001b[0;34m)\u001b[0m\u001b[0;34m.\u001b[0m\u001b[0mterminate\u001b[0m\u001b[0;34m(\u001b[0m\u001b[0;34m)\u001b[0m\u001b[0;34m\u001b[0m\u001b[0m\n\u001b[0m\u001b[1;32m    318\u001b[0m         \u001b[0;32mif\u001b[0m \u001b[0mself\u001b[0m\u001b[0;34m.\u001b[0m\u001b[0mJOBLIB_SPAWNED_PROCESS\u001b[0m \u001b[0;32min\u001b[0m \u001b[0mos\u001b[0m\u001b[0;34m.\u001b[0m\u001b[0menviron\u001b[0m\u001b[0;34m:\u001b[0m\u001b[0;34m\u001b[0m\u001b[0m\n\u001b[1;32m    319\u001b[0m             \u001b[0;32mdel\u001b[0m \u001b[0mos\u001b[0m\u001b[0;34m.\u001b[0m\u001b[0menviron\u001b[0m\u001b[0;34m[\u001b[0m\u001b[0mself\u001b[0m\u001b[0;34m.\u001b[0m\u001b[0mJOBLIB_SPAWNED_PROCESS\u001b[0m\u001b[0;34m]\u001b[0m\u001b[0;34m\u001b[0m\u001b[0m\n",
      "\u001b[0;32m/home/farhaan/anaconda3/lib/python3.6/site-packages/sklearn/externals/joblib/_parallel_backends.py\u001b[0m in \u001b[0;36mterminate\u001b[0;34m(self)\u001b[0m\n\u001b[1;32m    132\u001b[0m         \u001b[0;32mif\u001b[0m \u001b[0mself\u001b[0m\u001b[0;34m.\u001b[0m\u001b[0m_pool\u001b[0m \u001b[0;32mis\u001b[0m \u001b[0;32mnot\u001b[0m \u001b[0;32mNone\u001b[0m\u001b[0;34m:\u001b[0m\u001b[0;34m\u001b[0m\u001b[0m\n\u001b[1;32m    133\u001b[0m             \u001b[0mself\u001b[0m\u001b[0;34m.\u001b[0m\u001b[0m_pool\u001b[0m\u001b[0;34m.\u001b[0m\u001b[0mclose\u001b[0m\u001b[0;34m(\u001b[0m\u001b[0;34m)\u001b[0m\u001b[0;34m\u001b[0m\u001b[0m\n\u001b[0;32m--> 134\u001b[0;31m             \u001b[0mself\u001b[0m\u001b[0;34m.\u001b[0m\u001b[0m_pool\u001b[0m\u001b[0;34m.\u001b[0m\u001b[0mterminate\u001b[0m\u001b[0;34m(\u001b[0m\u001b[0;34m)\u001b[0m  \u001b[0;31m# terminate does a join()\u001b[0m\u001b[0;34m\u001b[0m\u001b[0m\n\u001b[0m\u001b[1;32m    135\u001b[0m             \u001b[0mself\u001b[0m\u001b[0;34m.\u001b[0m\u001b[0m_pool\u001b[0m \u001b[0;34m=\u001b[0m \u001b[0;32mNone\u001b[0m\u001b[0;34m\u001b[0m\u001b[0m\n\u001b[1;32m    136\u001b[0m \u001b[0;34m\u001b[0m\u001b[0m\n",
      "\u001b[0;32m/home/farhaan/anaconda3/lib/python3.6/site-packages/sklearn/externals/joblib/pool.py\u001b[0m in \u001b[0;36mterminate\u001b[0;34m(self)\u001b[0m\n\u001b[1;32m    606\u001b[0m                 \u001b[0msuper\u001b[0m\u001b[0;34m(\u001b[0m\u001b[0mMemmapingPool\u001b[0m\u001b[0;34m,\u001b[0m \u001b[0mself\u001b[0m\u001b[0;34m)\u001b[0m\u001b[0;34m.\u001b[0m\u001b[0mterminate\u001b[0m\u001b[0;34m(\u001b[0m\u001b[0;34m)\u001b[0m\u001b[0;34m\u001b[0m\u001b[0m\n\u001b[1;32m    607\u001b[0m                 \u001b[0;32mbreak\u001b[0m\u001b[0;34m\u001b[0m\u001b[0m\n\u001b[0;32m--> 608\u001b[0;31m             \u001b[0;32mexcept\u001b[0m \u001b[0mWindowsError\u001b[0m \u001b[0;32mas\u001b[0m \u001b[0me\u001b[0m\u001b[0;34m:\u001b[0m\u001b[0;34m\u001b[0m\u001b[0m\n\u001b[0m\u001b[1;32m    609\u001b[0m                 \u001b[0;31m# Workaround  occasional \"[Error 5] Access is denied\" issue\u001b[0m\u001b[0;34m\u001b[0m\u001b[0;34m\u001b[0m\u001b[0m\n\u001b[1;32m    610\u001b[0m                 \u001b[0;31m# when trying to terminate a process under windows.\u001b[0m\u001b[0;34m\u001b[0m\u001b[0;34m\u001b[0m\u001b[0m\n",
      "\u001b[0;31mTypeError\u001b[0m: catching classes that do not inherit from BaseException is not allowed"
     ]
    },
    {
     "name": "stderr",
     "output_type": "stream",
     "text": [
      "Process ForkPoolWorker-594:\n",
      "Process ForkPoolWorker-597:\n",
      "Process ForkPoolWorker-593:\n",
      "Process ForkPoolWorker-595:\n",
      "Process ForkPoolWorker-596:\n",
      "Traceback (most recent call last):\n",
      "Traceback (most recent call last):\n",
      "Traceback (most recent call last):\n",
      "Traceback (most recent call last):\n",
      "Traceback (most recent call last):\n",
      "  File \"/home/farhaan/anaconda3/lib/python3.6/multiprocessing/process.py\", line 249, in _bootstrap\n",
      "    self.run()\n",
      "  File \"/home/farhaan/anaconda3/lib/python3.6/multiprocessing/process.py\", line 249, in _bootstrap\n",
      "    self.run()\n",
      "  File \"/home/farhaan/anaconda3/lib/python3.6/multiprocessing/process.py\", line 249, in _bootstrap\n",
      "    self.run()\n",
      "  File \"/home/farhaan/anaconda3/lib/python3.6/multiprocessing/process.py\", line 249, in _bootstrap\n",
      "    self.run()\n",
      "  File \"/home/farhaan/anaconda3/lib/python3.6/multiprocessing/process.py\", line 249, in _bootstrap\n",
      "    self.run()\n",
      "  File \"/home/farhaan/anaconda3/lib/python3.6/multiprocessing/process.py\", line 93, in run\n",
      "    self._target(*self._args, **self._kwargs)\n",
      "  File \"/home/farhaan/anaconda3/lib/python3.6/multiprocessing/process.py\", line 93, in run\n",
      "    self._target(*self._args, **self._kwargs)\n",
      "  File \"/home/farhaan/anaconda3/lib/python3.6/multiprocessing/process.py\", line 93, in run\n",
      "    self._target(*self._args, **self._kwargs)\n",
      "  File \"/home/farhaan/anaconda3/lib/python3.6/multiprocessing/process.py\", line 93, in run\n",
      "    self._target(*self._args, **self._kwargs)\n",
      "  File \"/home/farhaan/anaconda3/lib/python3.6/multiprocessing/pool.py\", line 108, in worker\n",
      "    task = get()\n",
      "  File \"/home/farhaan/anaconda3/lib/python3.6/multiprocessing/process.py\", line 93, in run\n",
      "    self._target(*self._args, **self._kwargs)\n",
      "  File \"/home/farhaan/anaconda3/lib/python3.6/multiprocessing/pool.py\", line 108, in worker\n",
      "    task = get()\n",
      "  File \"/home/farhaan/anaconda3/lib/python3.6/multiprocessing/pool.py\", line 108, in worker\n",
      "    task = get()\n",
      "  File \"/home/farhaan/anaconda3/lib/python3.6/multiprocessing/pool.py\", line 108, in worker\n",
      "    task = get()\n",
      "  File \"/home/farhaan/anaconda3/lib/python3.6/multiprocessing/pool.py\", line 108, in worker\n",
      "    task = get()\n",
      "  File \"/home/farhaan/anaconda3/lib/python3.6/site-packages/sklearn/externals/joblib/pool.py\", line 360, in get\n",
      "    racquire()\n",
      "  File \"/home/farhaan/anaconda3/lib/python3.6/site-packages/sklearn/externals/joblib/pool.py\", line 360, in get\n",
      "    racquire()\n",
      "  File \"/home/farhaan/anaconda3/lib/python3.6/site-packages/sklearn/externals/joblib/pool.py\", line 360, in get\n",
      "    racquire()\n",
      "  File \"/home/farhaan/anaconda3/lib/python3.6/site-packages/sklearn/externals/joblib/pool.py\", line 360, in get\n",
      "    racquire()\n",
      "KeyboardInterrupt\n",
      "  File \"/home/farhaan/anaconda3/lib/python3.6/site-packages/sklearn/externals/joblib/pool.py\", line 360, in get\n",
      "    racquire()\n",
      "KeyboardInterrupt\n",
      "KeyboardInterrupt\n",
      "KeyboardInterrupt\n",
      "KeyboardInterrupt\n"
     ]
    }
   ],
   "source": [
    "knn = KNeighborsClassifier(n_jobs=-1)\n",
    "scores = cross_val_score(knn,X,y,cv=cross_validator,scoring=\"f1\",n_jobs=-1)\n",
    "print(\"F1\",scores)\n",
    "scores = cross_val_score(knn,X,y,cv=cross_validator,scoring=\"recall\",n_jobs=-1)\n",
    "print(\"Recall\",scores)\n",
    "scores = cross_val_score(knn,X,y,cv=cross_validator,scoring=\"precision\",n_jobs=-1)\n",
    "print(\"Precision\",scores)"
   ]
  },
  {
   "cell_type": "code",
   "execution_count": null,
   "metadata": {
    "collapsed": true
   },
   "outputs": [],
   "source": []
  }
 ],
 "metadata": {
  "kernelspec": {
   "display_name": "Python 3",
   "language": "python",
   "name": "python3"
  },
  "language_info": {
   "codemirror_mode": {
    "name": "ipython",
    "version": 3
   },
   "file_extension": ".py",
   "mimetype": "text/x-python",
   "name": "python",
   "nbconvert_exporter": "python",
   "pygments_lexer": "ipython3",
   "version": "3.6.1"
  }
 },
 "nbformat": 4,
 "nbformat_minor": 2
}
